{
 "cells": [
  {
   "cell_type": "code",
   "execution_count": 1,
   "metadata": {},
   "outputs": [],
   "source": [
    "#Write a python program to display IMDB’s Top rated 100 movies’ data (i.e. Name, IMDB rating, Year ofrelease) \n",
    "#and save it in form of a CSV file. "
   ]
  },
  {
   "cell_type": "code",
   "execution_count": 2,
   "metadata": {},
   "outputs": [],
   "source": [
    "from urllib.request import urlopen\n",
    "import requests\n",
    "from bs4 import BeautifulSoup\n",
    "import re"
   ]
  },
  {
   "cell_type": "code",
   "execution_count": 3,
   "metadata": {},
   "outputs": [],
   "source": [
    "page=requests.get('https://www.imdb.com/list/ls009997493/')\n",
    "bs = BeautifulSoup(page.content,\"html.parser\")"
   ]
  },
  {
   "cell_type": "code",
   "execution_count": 4,
   "metadata": {},
   "outputs": [],
   "source": [
    "list_of_titles = []\n",
    "list_of_years = []\n",
    "user_ratings = []"
   ]
  },
  {
   "cell_type": "code",
   "execution_count": 5,
   "metadata": {},
   "outputs": [],
   "source": [
    "name=bs.find_all('h3',class_='lister-item-header')"
   ]
  },
  {
   "cell_type": "code",
   "execution_count": 6,
   "metadata": {},
   "outputs": [
    {
     "name": "stdout",
     "output_type": "stream",
     "text": [
      " Rang De Basanti\n",
      " 3 Idiots\n",
      " Taare Zameen Par\n",
      " Dil Chahta Hai\n",
      " Swades: We, the People\n",
      " Lagaan: Once Upon a Time in India\n",
      " Gangs of Wasseypur\n",
      " Barfi!\n",
      " Anand\n",
      " Munna Bhai M.B.B.S.\n",
      " A Wednesday\n",
      " Andaz Apna Apna\n",
      " Sholay\n",
      " Bhaag Milkha Bhaag\n",
      " Hera Pheri\n",
      " Udaan\n",
      " Kahaani\n",
      " Black\n",
      " Chak De! India\n",
      " Khosla Ka Ghosla!\n",
      " Jo Jeeta Wohi Sikandar\n",
      " Zindagi Na Milegi Dobara\n",
      " Paan Singh Tomar\n",
      " Dilwale Dulhania Le Jayenge\n",
      " Omkara\n",
      " Lage Raho Munna Bhai\n",
      " Iqbal\n",
      " The Lunchbox\n",
      " Black Friday\n",
      " Company\n",
      " Gol Maal\n",
      " Dev.D\n",
      " Jaane Bhi Do Yaaro\n",
      " OMG: Oh My God!\n",
      " Mughal-E-Azam\n",
      " Gulaal\n",
      " Dor\n",
      " Jab We Met\n",
      " Pyaasa\n",
      " The Legend of Bhagat Singh\n",
      " Masoom\n",
      " Salaam Bombay!\n",
      " Satya\n",
      " Vicky Donor\n",
      " Lakshya\n",
      " Vaastav: The Reality\n",
      " Kal Ho Naa Ho\n",
      " Oye Lucky! Lucky Oye!\n",
      " Sarfarosh\n",
      " Gangaajal\n",
      " Angoor\n",
      " Madras Cafe\n",
      " English Vinglish\n",
      " Chupke Chupke\n",
      " Johnny Gaddaar\n",
      " Maqbool\n",
      " Hazaaron Khwaishein Aisi\n",
      " Rock On!!\n",
      " Don\n",
      " Chhoti Si Baat\n",
      " Guide\n",
      " Raanjhanaa\n",
      " Deewaar\n",
      " Special Chabbis\n",
      " Padosan\n",
      " Mumbai Meri Jaan\n",
      " Ab Tak Chhappan\n",
      " Kai po che!\n",
      " Awaara\n",
      " Shree 420\n",
      " Earth\n",
      " Gunda\n",
      " Parinda\n",
      " Dasvidaniya\n",
      " Hey Ram\n",
      " Pinjar: Beyond Boundaries...\n",
      " Socha Na Tha\n",
      " Guru\n",
      " Bawarchi\n",
      " Manorama: Six Feet Under\n",
      " Mr. India\n",
      " Aamir\n",
      " Zakhm\n",
      " Water\n",
      " Stanley Ka Dabba\n",
      " Agneepath\n",
      " My Name Is Khan\n",
      " Qayamat Se Qayamat Tak\n",
      " 3 Deewarein\n",
      " Abhimaan\n",
      " Sarkar\n",
      " Bheja Fry\n",
      " Mother India\n",
      " Jaane Tu... Ya Jaane Na\n",
      " Delhi Belly\n",
      " Wake Up Sid\n",
      " Rangeela\n",
      " Shatranj Ke Khilari\n",
      " Pyaar Ka Punchnama\n",
      " Ek Hasina Thi\n"
     ]
    }
   ],
   "source": [
    "for i in name:\n",
    "    title=\"\"\n",
    "    for j in i.find_all('a'):\n",
    "        title=title+\" \"+j.get_text()\n",
    "        print(title)\n",
    "        list_of_titles.append(title)"
   ]
  },
  {
   "cell_type": "code",
   "execution_count": 7,
   "metadata": {},
   "outputs": [],
   "source": [
    "ratings=bs.find_all('span',class_='ipl-rating-star__rating')"
   ]
  },
  {
   "cell_type": "code",
   "execution_count": 8,
   "metadata": {},
   "outputs": [],
   "source": [
    "for i in ratings: #22\n",
    "    user_ratings.append(i.text)"
   ]
  },
  {
   "cell_type": "code",
   "execution_count": 9,
   "metadata": {},
   "outputs": [
    {
     "name": "stdout",
     "output_type": "stream",
     "text": [
      "['8.2', '8.4', '8.4', '8.1', '8.2', '8.1', '8.2', '8.1', '8.4', '8.1', '8.1', '8.2', '8.2', '8.2', '8.2', '8.2', '8.1', '8.2', '8.2', '8.3', '8.2', '8.1', '8.2', '8.1', '8.1', '8', '8.1', '7.8', '8.5', '8', '8.6', '8', '8.4', '8.1', '8.2', '8.1', '7.9', '7.9', '8.5', '8.1', '8.4', '8', '8.2', '7.8', '7.9', '8', '7.9', '7.7', '8.1', '7.8', '8.3', '7.7', '7.8', '8.3', '7.8', '8.1', '7.9', '7.7', '7.8', '8.3', '8.4', '7.6', '8.1', '8', '8.1', '7.7', '7.8', '7.7', '7.9', '8', '7.7', '7.3', '7.9', '7.8', '7.9', '8', '7.4', '7.7', '8', '7.6', '7.8', '7.7', '7.9', '7.7', '7.8', '7.7', '8', '7.5', '7.8', '7.9', '7.6', '7.6', '8.1', '7.5', '7.6', '7.6', '7.5', '7.7', '7.7', '7.5']\n"
     ]
    }
   ],
   "source": [
    "lst=[]\n",
    "for i in user_ratings[0:2300:23]:\n",
    "    lst.append(i)\n",
    "    \n",
    "print(lst)"
   ]
  },
  {
   "cell_type": "code",
   "execution_count": 10,
   "metadata": {},
   "outputs": [],
   "source": [
    "year=bs.find_all('span',class_='lister-item-year text-muted unbold')"
   ]
  },
  {
   "cell_type": "code",
   "execution_count": 11,
   "metadata": {},
   "outputs": [],
   "source": [
    "for i in year: #22\n",
    "    list_of_years.append(i.text)"
   ]
  },
  {
   "cell_type": "code",
   "execution_count": 12,
   "metadata": {},
   "outputs": [
    {
     "name": "stdout",
     "output_type": "stream",
     "text": [
      "['(2006)', '(2009)', '(2007)', '(2001)', '(2004)', '(2001)', '(2012)', '(2012)', '(1971)', '(2003)', '(2008)', '(1994)', '(1975)', '(2013)', '(2000)', '(2010)', '(2012)', '(2005)', '(2007)', '(2006)', '(1992)', '(2011)', '(2012)', '(1995)', '(2006)', '(2006)', '(2005)', '(2013)', '(2004)', '(2002)', '(1979)', '(2009)', '(1983)', '(2012)', '(1960)', '(2009)', '(2006)', '(2007)', '(1957)', '(2002)', '(1983)', '(1988)', '(1998)', '(2012)', '(2004)', '(1999)', '(2003)', '(2008)', '(1999)', '(2003)', '(1982)', '(2013)', '(2012)', '(1975)', '(2007)', '(2003)', '(2003)', '(2008)', '(1978)', '(1976)', '(1965)', '(2013)', '(1975)', '(2013)', '(1968)', '(2008)', '(2004)', '(2013)', '(1951)', '(1955)', '(1998)', '(1998)', '(1989)', '(2008)', '(2000)', '(2003)', '(2005)', '(2007)', '(1972)', '(2007)', '(1987)', '(2008)', '(1998)', '(I) (2005)', '(2011)', '(1990)', '(2010)', '(1988)', '(2003)', '(1973)', '(2005)', '(2007)', '(1957)', '(2008)', '(2011)', '(2009)', '(1995)', '(1977)', '(2011)', '(2004)']\n"
     ]
    }
   ],
   "source": [
    "print(list_of_years)"
   ]
  },
  {
   "cell_type": "code",
   "execution_count": 13,
   "metadata": {},
   "outputs": [
    {
     "data": {
      "text/html": [
       "<div>\n",
       "<style scoped>\n",
       "    .dataframe tbody tr th:only-of-type {\n",
       "        vertical-align: middle;\n",
       "    }\n",
       "\n",
       "    .dataframe tbody tr th {\n",
       "        vertical-align: top;\n",
       "    }\n",
       "\n",
       "    .dataframe thead th {\n",
       "        text-align: right;\n",
       "    }\n",
       "</style>\n",
       "<table border=\"1\" class=\"dataframe\">\n",
       "  <thead>\n",
       "    <tr style=\"text-align: right;\">\n",
       "      <th></th>\n",
       "      <th>Title</th>\n",
       "      <th>Raiting</th>\n",
       "      <th>Year</th>\n",
       "    </tr>\n",
       "  </thead>\n",
       "  <tbody>\n",
       "    <tr>\n",
       "      <th>0</th>\n",
       "      <td>Rang De Basanti</td>\n",
       "      <td>8.2</td>\n",
       "      <td>(2006)</td>\n",
       "    </tr>\n",
       "    <tr>\n",
       "      <th>1</th>\n",
       "      <td>3 Idiots</td>\n",
       "      <td>8.4</td>\n",
       "      <td>(2009)</td>\n",
       "    </tr>\n",
       "    <tr>\n",
       "      <th>2</th>\n",
       "      <td>Taare Zameen Par</td>\n",
       "      <td>8.4</td>\n",
       "      <td>(2007)</td>\n",
       "    </tr>\n",
       "    <tr>\n",
       "      <th>3</th>\n",
       "      <td>Dil Chahta Hai</td>\n",
       "      <td>8.1</td>\n",
       "      <td>(2001)</td>\n",
       "    </tr>\n",
       "    <tr>\n",
       "      <th>4</th>\n",
       "      <td>Swades: We, the People</td>\n",
       "      <td>8.2</td>\n",
       "      <td>(2004)</td>\n",
       "    </tr>\n",
       "    <tr>\n",
       "      <th>...</th>\n",
       "      <td>...</td>\n",
       "      <td>...</td>\n",
       "      <td>...</td>\n",
       "    </tr>\n",
       "    <tr>\n",
       "      <th>95</th>\n",
       "      <td>Wake Up Sid</td>\n",
       "      <td>7.6</td>\n",
       "      <td>(2009)</td>\n",
       "    </tr>\n",
       "    <tr>\n",
       "      <th>96</th>\n",
       "      <td>Rangeela</td>\n",
       "      <td>7.5</td>\n",
       "      <td>(1995)</td>\n",
       "    </tr>\n",
       "    <tr>\n",
       "      <th>97</th>\n",
       "      <td>Shatranj Ke Khilari</td>\n",
       "      <td>7.7</td>\n",
       "      <td>(1977)</td>\n",
       "    </tr>\n",
       "    <tr>\n",
       "      <th>98</th>\n",
       "      <td>Pyaar Ka Punchnama</td>\n",
       "      <td>7.7</td>\n",
       "      <td>(2011)</td>\n",
       "    </tr>\n",
       "    <tr>\n",
       "      <th>99</th>\n",
       "      <td>Ek Hasina Thi</td>\n",
       "      <td>7.5</td>\n",
       "      <td>(2004)</td>\n",
       "    </tr>\n",
       "  </tbody>\n",
       "</table>\n",
       "<p>100 rows × 3 columns</p>\n",
       "</div>"
      ],
      "text/plain": [
       "                      Title Raiting    Year\n",
       "0           Rang De Basanti     8.2  (2006)\n",
       "1                  3 Idiots     8.4  (2009)\n",
       "2          Taare Zameen Par     8.4  (2007)\n",
       "3            Dil Chahta Hai     8.1  (2001)\n",
       "4    Swades: We, the People     8.2  (2004)\n",
       "..                      ...     ...     ...\n",
       "95              Wake Up Sid     7.6  (2009)\n",
       "96                 Rangeela     7.5  (1995)\n",
       "97      Shatranj Ke Khilari     7.7  (1977)\n",
       "98       Pyaar Ka Punchnama     7.7  (2011)\n",
       "99            Ek Hasina Thi     7.5  (2004)\n",
       "\n",
       "[100 rows x 3 columns]"
      ]
     },
     "execution_count": 13,
     "metadata": {},
     "output_type": "execute_result"
    }
   ],
   "source": [
    "import pandas as pd\n",
    "top=pd.DataFrame({})\n",
    "top['Title']=list_of_titles[:100]\n",
    "top['Raiting']=lst[:100]\n",
    "top['Year']=list_of_years[:100]\n",
    "top"
   ]
  },
  {
   "cell_type": "code",
   "execution_count": 14,
   "metadata": {},
   "outputs": [],
   "source": [
    "top.to_csv(\"TopIndianMovies.csv\")"
   ]
  },
  {
   "cell_type": "code",
   "execution_count": null,
   "metadata": {},
   "outputs": [],
   "source": []
  }
 ],
 "metadata": {
  "kernelspec": {
   "display_name": "Python 3",
   "language": "python",
   "name": "python3"
  },
  "language_info": {
   "codemirror_mode": {
    "name": "ipython",
    "version": 3
   },
   "file_extension": ".py",
   "mimetype": "text/x-python",
   "name": "python",
   "nbconvert_exporter": "python",
   "pygments_lexer": "ipython3",
   "version": "3.7.6"
  }
 },
 "nbformat": 4,
 "nbformat_minor": 4
}
