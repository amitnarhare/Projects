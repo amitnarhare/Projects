{
 "cells": [
  {
   "cell_type": "code",
   "execution_count": 1,
   "metadata": {},
   "outputs": [],
   "source": [
    "from urllib.request import urlopen\n",
    "import requests\n",
    "from bs4 import BeautifulSoup\n",
    "import re\n",
    "import numpy as np\n",
    "import pandas as pd"
   ]
  },
  {
   "cell_type": "code",
   "execution_count": 2,
   "metadata": {},
   "outputs": [],
   "source": [
    "page=requests.get('https://www.icc-cricket.com/rankings/mens/player-rankings/odi')\n",
    "bs = BeautifulSoup(page.content,\"html.parser\")"
   ]
  },
  {
   "cell_type": "code",
   "execution_count": 3,
   "metadata": {},
   "outputs": [],
   "source": [
    "Name=[]\n",
    "Team=[]\n",
    "Rank=[]\n",
    "Rating=[]"
   ]
  },
  {
   "cell_type": "code",
   "execution_count": 4,
   "metadata": {},
   "outputs": [],
   "source": [
    "rank=bs.find_all('td',class_='table-body__cell table-body__cell--position u-text-right')\n",
    "for j in rank:\n",
    "    Rank.append(j.text)\n",
    "Ranking=pd.DataFrame({})\n",
    "Ranking['Rank']=np.arange(1,11)"
   ]
  },
  {
   "cell_type": "code",
   "execution_count": 5,
   "metadata": {},
   "outputs": [
    {
     "name": "stdout",
     "output_type": "stream",
     "text": [
      " Rohit Sharma\n",
      " Babar Azam\n",
      " Ross Taylor\n",
      " Aaron Finch\n",
      " Francois du Plessis\n",
      " David Warner\n",
      " Kane Williamson\n",
      " Quinton de Kock\n",
      " Jonny Bairstow\n",
      " Mujeeb Ur Rahman\n",
      " Jasprit Bumrah\n",
      " Mehedi Hasan\n",
      " Chris Woakes\n",
      " Kagiso Rabada\n",
      " Josh Hazlewood\n",
      " Mustafizur Rahman\n",
      " Mohammad Amir\n",
      " Pat Cummins\n",
      " Mohammad Nabi\n",
      " Chris Woakes\n",
      " Ben Stokes\n",
      " Imad Wasim\n",
      " Rashid Khan\n",
      " Colin de Grandhomme\n",
      " Ravindra Jadeja\n",
      " Mitchell Santner\n",
      " Sean Williams\n",
      " Rohit Sharma\n",
      " Babar Azam\n",
      " Ross Taylor\n",
      " Aaron Finch\n",
      " Francois du Plessis\n",
      " David Warner\n",
      " Kane Williamson\n",
      " Quinton de Kock\n",
      " Jonny Bairstow\n",
      " Mujeeb Ur Rahman\n",
      " Jasprit Bumrah\n",
      " Mehedi Hasan\n",
      " Chris Woakes\n",
      " Kagiso Rabada\n",
      " Josh Hazlewood\n",
      " Mustafizur Rahman\n",
      " Mohammad Amir\n",
      " Pat Cummins\n",
      " Mohammad Nabi\n",
      " Chris Woakes\n",
      " Ben Stokes\n",
      " Imad Wasim\n",
      " Rashid Khan\n",
      " Colin de Grandhomme\n",
      " Ravindra Jadeja\n",
      " Mitchell Santner\n",
      " Sean Williams\n"
     ]
    }
   ],
   "source": [
    "lst=[]\n",
    "top=bs.find_all('div',class_='rankings-block__banner--name')\n",
    "for j in top:\n",
    "    lst.append(j.text)\n",
    "    \n",
    "name=bs.find_all('td',class_='table-body__cell name')\n",
    "for i in name:\n",
    "    title=\"\"\n",
    "    for j in i.find_all('a'):\n",
    "        title=title+\" \"+j.get_text()\n",
    "        print(title)\n",
    "        Name.append(title)   "
   ]
  },
  {
   "cell_type": "code",
   "execution_count": 6,
   "metadata": {},
   "outputs": [
    {
     "name": "stdout",
     "output_type": "stream",
     "text": [
      "['IND', 'IND', 'PAK', 'NZ', 'AUS', 'SA', 'AUS', 'NZ', 'SA', 'ENG', 'AFG', 'IND', 'BAN', 'ENG', 'SA', 'AUS', 'BAN', 'PAK', 'AUS', 'AFG', 'ENG', 'ENG', 'PAK', 'AFG', 'NZ', 'IND', 'NZ', 'ZIM', 'IND', 'PAK', 'NZ', 'AUS', 'SA', 'AUS', 'NZ', 'SA', 'ENG', 'AFG', 'IND', 'BAN', 'ENG', 'SA', 'AUS', 'BAN', 'PAK', 'AUS', 'AFG', 'ENG', 'ENG', 'PAK', 'AFG', 'NZ', 'IND', 'NZ', 'ZIM']\n"
     ]
    }
   ],
   "source": [
    "team=bs.find_all('span',class_='table-body__logo-text')\n",
    "for i in team:\n",
    "    Team.append(i.get_text())   \n",
    "Team.insert(0,'IND')\n",
    "print(Team)"
   ]
  },
  {
   "cell_type": "code",
   "execution_count": 7,
   "metadata": {},
   "outputs": [
    {
     "name": "stdout",
     "output_type": "stream",
     "text": [
      "['870', '842', '837', '818', '791', '790', '773', '765', '755', '754', '708', '700', '694', '675', '665', '660', '658', '647', '646', '294', '281', '276', '271', '270', '265', '253', '251', '238', '842', '837', '818', '791', '790', '773', '765', '755', '754', '708', '700', '694', '675', '665', '660', '658', '647', '646', '294', '281', '276', '271', '270', '265', '253', '251', '238']\n"
     ]
    }
   ],
   "source": [
    "rate=bs.find_all('td',class_='table-body__cell u-text-right rating')\n",
    "for i in rate:\n",
    "    Rating.append(i.get_text())   \n",
    "Rating.insert(0,'870')\n",
    "print(Rating)\n",
    "Name.insert(0,'Virat Kohli')"
   ]
  },
  {
   "cell_type": "code",
   "execution_count": 8,
   "metadata": {},
   "outputs": [
    {
     "data": {
      "text/html": [
       "<div>\n",
       "<style scoped>\n",
       "    .dataframe tbody tr th:only-of-type {\n",
       "        vertical-align: middle;\n",
       "    }\n",
       "\n",
       "    .dataframe tbody tr th {\n",
       "        vertical-align: top;\n",
       "    }\n",
       "\n",
       "    .dataframe thead th {\n",
       "        text-align: right;\n",
       "    }\n",
       "</style>\n",
       "<table border=\"1\" class=\"dataframe\">\n",
       "  <thead>\n",
       "    <tr style=\"text-align: right;\">\n",
       "      <th></th>\n",
       "      <th>Rank</th>\n",
       "      <th>Name</th>\n",
       "      <th>Team</th>\n",
       "      <th>Rating</th>\n",
       "    </tr>\n",
       "  </thead>\n",
       "  <tbody>\n",
       "    <tr>\n",
       "      <th>0</th>\n",
       "      <td>1</td>\n",
       "      <td>Virat Kohli</td>\n",
       "      <td>IND</td>\n",
       "      <td>870</td>\n",
       "    </tr>\n",
       "    <tr>\n",
       "      <th>1</th>\n",
       "      <td>2</td>\n",
       "      <td>Rohit Sharma</td>\n",
       "      <td>IND</td>\n",
       "      <td>842</td>\n",
       "    </tr>\n",
       "    <tr>\n",
       "      <th>2</th>\n",
       "      <td>3</td>\n",
       "      <td>Babar Azam</td>\n",
       "      <td>PAK</td>\n",
       "      <td>837</td>\n",
       "    </tr>\n",
       "    <tr>\n",
       "      <th>3</th>\n",
       "      <td>4</td>\n",
       "      <td>Ross Taylor</td>\n",
       "      <td>NZ</td>\n",
       "      <td>818</td>\n",
       "    </tr>\n",
       "    <tr>\n",
       "      <th>4</th>\n",
       "      <td>5</td>\n",
       "      <td>Aaron Finch</td>\n",
       "      <td>AUS</td>\n",
       "      <td>791</td>\n",
       "    </tr>\n",
       "    <tr>\n",
       "      <th>5</th>\n",
       "      <td>6</td>\n",
       "      <td>Francois du Plessis</td>\n",
       "      <td>SA</td>\n",
       "      <td>790</td>\n",
       "    </tr>\n",
       "    <tr>\n",
       "      <th>6</th>\n",
       "      <td>7</td>\n",
       "      <td>David Warner</td>\n",
       "      <td>AUS</td>\n",
       "      <td>773</td>\n",
       "    </tr>\n",
       "    <tr>\n",
       "      <th>7</th>\n",
       "      <td>8</td>\n",
       "      <td>Kane Williamson</td>\n",
       "      <td>NZ</td>\n",
       "      <td>765</td>\n",
       "    </tr>\n",
       "    <tr>\n",
       "      <th>8</th>\n",
       "      <td>9</td>\n",
       "      <td>Quinton de Kock</td>\n",
       "      <td>SA</td>\n",
       "      <td>755</td>\n",
       "    </tr>\n",
       "    <tr>\n",
       "      <th>9</th>\n",
       "      <td>10</td>\n",
       "      <td>Jonny Bairstow</td>\n",
       "      <td>ENG</td>\n",
       "      <td>754</td>\n",
       "    </tr>\n",
       "  </tbody>\n",
       "</table>\n",
       "</div>"
      ],
      "text/plain": [
       "   Rank                  Name Team Rating\n",
       "0     1           Virat Kohli  IND    870\n",
       "1     2          Rohit Sharma  IND    842\n",
       "2     3            Babar Azam  PAK    837\n",
       "3     4           Ross Taylor   NZ    818\n",
       "4     5           Aaron Finch  AUS    791\n",
       "5     6   Francois du Plessis   SA    790\n",
       "6     7          David Warner  AUS    773\n",
       "7     8       Kane Williamson   NZ    765\n",
       "8     9       Quinton de Kock   SA    755\n",
       "9    10        Jonny Bairstow  ENG    754"
      ]
     },
     "execution_count": 8,
     "metadata": {},
     "output_type": "execute_result"
    }
   ],
   "source": [
    "Ranking['Name']=Name[:10]\n",
    "Ranking['Team']=Team[:10]\n",
    "Ranking['Rating']=Rating[:10]\n",
    "Ranking\n"
   ]
  },
  {
   "cell_type": "code",
   "execution_count": null,
   "metadata": {},
   "outputs": [],
   "source": []
  }
 ],
 "metadata": {
  "kernelspec": {
   "display_name": "Python 3",
   "language": "python",
   "name": "python3"
  },
  "language_info": {
   "codemirror_mode": {
    "name": "ipython",
    "version": 3
   },
   "file_extension": ".py",
   "mimetype": "text/x-python",
   "name": "python",
   "nbconvert_exporter": "python",
   "pygments_lexer": "ipython3",
   "version": "3.7.6"
  }
 },
 "nbformat": 4,
 "nbformat_minor": 4
}
