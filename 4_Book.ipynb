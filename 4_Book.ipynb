{
 "cells": [
  {
   "cell_type": "code",
   "execution_count": 1,
   "metadata": {},
   "outputs": [],
   "source": [
    "from urllib.request import urlopen\n",
    "import requests\n",
    "from bs4 import BeautifulSoup\n",
    "import re"
   ]
  },
  {
   "cell_type": "code",
   "execution_count": 15,
   "metadata": {},
   "outputs": [],
   "source": [
    "page=requests.get('https://bookpage.com/features')\n",
    "bs = BeautifulSoup(page.content,\"html.parser\")"
   ]
  },
  {
   "cell_type": "code",
   "execution_count": 16,
   "metadata": {},
   "outputs": [],
   "source": [
    "book_name=[]\n",
    "author_name=[]\n",
    "genre=[] \n",
    "Review=[]"
   ]
  },
  {
   "cell_type": "code",
   "execution_count": 17,
   "metadata": {},
   "outputs": [],
   "source": [
    "name=bs.find_all('h4',class_='italic')"
   ]
  },
  {
   "cell_type": "code",
   "execution_count": 18,
   "metadata": {},
   "outputs": [
    {
     "name": "stdout",
     "output_type": "stream",
     "text": [
      " 8 Things You Never Knew About the Mob\n",
      " Six books reveal the dreams of America’s Black forefathers and foremothers\n",
      " Black history now\n",
      " 2021 preview: Most anticipated children's books\n",
      " 2021 preview: Most anticipated romance\n",
      " 2021 preview: Most anticipated mysteries & thrillers\n",
      " 2021 preview: Most anticipated fiction\n",
      " 2021 preview: Most anticipated nonfiction\n",
      " Our most anticipated books of 2021\n",
      " 2021 preview: Most anticipated sci-fi & fantasy\n"
     ]
    }
   ],
   "source": [
    "for i in name:\n",
    "    title=\"\"\n",
    "    for j in i.find_all('a'):\n",
    "        title=title+\" \"+j.get_text()\n",
    "        print(title)\n",
    "        book_name.append(title)"
   ]
  },
  {
   "cell_type": "code",
   "execution_count": 26,
   "metadata": {},
   "outputs": [],
   "source": [
    "author=bs.find_all('p',class_='sans bold')"
   ]
  },
  {
   "cell_type": "code",
   "execution_count": 27,
   "metadata": {},
   "outputs": [
    {
     "data": {
      "text/plain": [
       "[' Behind the Book by Russell Shorto',\n",
       " 'Feature by Matt Gifford',\n",
       " 'Feature by Alice Cary',\n",
       " 'Feature by Stephanie, Associate Editor']"
      ]
     },
     "execution_count": 27,
     "metadata": {},
     "output_type": "execute_result"
    }
   ],
   "source": [
    "for i in author:\n",
    "    author_name.append(i.get_text().replace('\\n',''))\n",
    "author_name[:4]    "
   ]
  },
  {
   "cell_type": "code",
   "execution_count": 31,
   "metadata": {},
   "outputs": [],
   "source": [
    "gen=bs.find_all('p',class_='genre-links hidden-phone')"
   ]
  },
  {
   "cell_type": "code",
   "execution_count": 39,
   "metadata": {},
   "outputs": [
    {
     "name": "stdout",
     "output_type": "stream",
     "text": [
      " Nonfiction\n",
      " Nonfiction History\n",
      " Nonfiction History Family & Relationships\n",
      " Nonfiction\n",
      " Nonfiction History\n",
      " Nonfiction History African American History\n",
      " Children's\n",
      " Children's Children's Picture Book\n",
      " Children's Children's Picture Book Middle Grade\n"
     ]
    }
   ],
   "source": [
    "for i in gen:\n",
    "    title=\"\"\n",
    "    for j in i.find_all('a'):\n",
    "        title=title+\" \"+j.get_text()\n",
    "        print(title) \n",
    "        genre.append(title)"
   ]
  },
  {
   "cell_type": "code",
   "execution_count": 43,
   "metadata": {},
   "outputs": [],
   "source": [
    "import pandas as pd"
   ]
  },
  {
   "cell_type": "code",
   "execution_count": 44,
   "metadata": {},
   "outputs": [
    {
     "data": {
      "text/html": [
       "<div>\n",
       "<style scoped>\n",
       "    .dataframe tbody tr th:only-of-type {\n",
       "        vertical-align: middle;\n",
       "    }\n",
       "\n",
       "    .dataframe tbody tr th {\n",
       "        vertical-align: top;\n",
       "    }\n",
       "\n",
       "    .dataframe thead th {\n",
       "        text-align: right;\n",
       "    }\n",
       "</style>\n",
       "<table border=\"1\" class=\"dataframe\">\n",
       "  <thead>\n",
       "    <tr style=\"text-align: right;\">\n",
       "      <th></th>\n",
       "      <th>Title</th>\n",
       "      <th>Author</th>\n",
       "      <th>Genre</th>\n",
       "    </tr>\n",
       "  </thead>\n",
       "  <tbody>\n",
       "    <tr>\n",
       "      <th>0</th>\n",
       "      <td>8 Things You Never Knew About the Mob</td>\n",
       "      <td>Behind the Book by Russell Shorto</td>\n",
       "      <td>[\\n, [Nonfiction], \\n / \\n, [History], \\n / \\n...</td>\n",
       "    </tr>\n",
       "    <tr>\n",
       "      <th>1</th>\n",
       "      <td>Six books reveal the dreams of America’s Blac...</td>\n",
       "      <td>Feature by Matt Gifford</td>\n",
       "      <td>[\\n, [Nonfiction], \\n / \\n, [History], \\n / \\n...</td>\n",
       "    </tr>\n",
       "    <tr>\n",
       "      <th>2</th>\n",
       "      <td>Black history now</td>\n",
       "      <td>Feature by Alice Cary</td>\n",
       "      <td>[\\n, [Children's], \\n / \\n, [Children's Pictur...</td>\n",
       "    </tr>\n",
       "    <tr>\n",
       "      <th>3</th>\n",
       "      <td>2021 preview: Most anticipated children's books</td>\n",
       "      <td>Feature by Stephanie, Associate Editor</td>\n",
       "      <td>Nonfiction</td>\n",
       "    </tr>\n",
       "    <tr>\n",
       "      <th>4</th>\n",
       "      <td>2021 preview: Most anticipated romance</td>\n",
       "      <td>Feature by Savanna, Associate Editor</td>\n",
       "      <td>Nonfiction History</td>\n",
       "    </tr>\n",
       "  </tbody>\n",
       "</table>\n",
       "</div>"
      ],
      "text/plain": [
       "                                               Title  \\\n",
       "0              8 Things You Never Knew About the Mob   \n",
       "1   Six books reveal the dreams of America’s Blac...   \n",
       "2                                  Black history now   \n",
       "3    2021 preview: Most anticipated children's books   \n",
       "4             2021 preview: Most anticipated romance   \n",
       "\n",
       "                                   Author  \\\n",
       "0       Behind the Book by Russell Shorto   \n",
       "1                 Feature by Matt Gifford   \n",
       "2                   Feature by Alice Cary   \n",
       "3  Feature by Stephanie, Associate Editor   \n",
       "4    Feature by Savanna, Associate Editor   \n",
       "\n",
       "                                               Genre  \n",
       "0  [\\n, [Nonfiction], \\n / \\n, [History], \\n / \\n...  \n",
       "1  [\\n, [Nonfiction], \\n / \\n, [History], \\n / \\n...  \n",
       "2  [\\n, [Children's], \\n / \\n, [Children's Pictur...  \n",
       "3                                         Nonfiction  \n",
       "4                                 Nonfiction History  "
      ]
     },
     "execution_count": 44,
     "metadata": {},
     "output_type": "execute_result"
    }
   ],
   "source": [
    "books=pd.DataFrame({})\n",
    "books['Title']=book_name[:5]\n",
    "books['Author']=author_name[:5]\n",
    "books['Genre']=genre[:5]\n",
    "books"
   ]
  },
  {
   "cell_type": "code",
   "execution_count": null,
   "metadata": {},
   "outputs": [],
   "source": []
  }
 ],
 "metadata": {
  "kernelspec": {
   "display_name": "Python 3",
   "language": "python",
   "name": "python3"
  },
  "language_info": {
   "codemirror_mode": {
    "name": "ipython",
    "version": 3
   },
   "file_extension": ".py",
   "mimetype": "text/x-python",
   "name": "python",
   "nbconvert_exporter": "python",
   "pygments_lexer": "ipython3",
   "version": "3.7.6"
  }
 },
 "nbformat": 4,
 "nbformat_minor": 4
}
