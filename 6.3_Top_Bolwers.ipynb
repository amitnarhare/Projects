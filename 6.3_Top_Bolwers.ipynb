{
 "cells": [
  {
   "cell_type": "code",
   "execution_count": 1,
   "metadata": {},
   "outputs": [],
   "source": [
    "from urllib.request import urlopen\n",
    "import requests\n",
    "from bs4 import BeautifulSoup\n",
    "import re\n",
    "import numpy as np\n",
    "import pandas as pd"
   ]
  },
  {
   "cell_type": "code",
   "execution_count": 2,
   "metadata": {},
   "outputs": [],
   "source": [
    "page=requests.get('https://www.icc-cricket.com/rankings/womens/player-rankings/odi')\n",
    "bs = BeautifulSoup(page.content,\"html.parser\")"
   ]
  },
  {
   "cell_type": "code",
   "execution_count": 3,
   "metadata": {},
   "outputs": [],
   "source": [
    "Rank=[]\n",
    "Name=[]\n",
    "Team=[]\n",
    "Rating=[]"
   ]
  },
  {
   "cell_type": "code",
   "execution_count": 4,
   "metadata": {},
   "outputs": [],
   "source": [
    "rank=bs.find_all('td',class_='table-body__cell table-body__cell--position u-text-right')\n",
    "for j in rank:\n",
    "    Rank.append(j.text)\n",
    "Ranking=pd.DataFrame({})\n",
    "Ranking['Rank']=np.arange(1,11)"
   ]
  },
  {
   "cell_type": "code",
   "execution_count": 5,
   "metadata": {},
   "outputs": [
    {
     "name": "stdout",
     "output_type": "stream",
     "text": [
      " Stafanie Taylor\n",
      " Alyssa Healy\n",
      " Smriti Mandhana\n",
      " Amy Satterthwaite\n",
      " Tammy Beaumont\n",
      " Laura Wolvaardt\n",
      " Ellyse Perry\n",
      " Mithali Raj\n",
      " Lizelle Lee\n",
      " Megan Schutt\n",
      " Marizanne Kapp\n",
      " Shabnim Ismail\n",
      " Jhulan Goswami\n",
      " Poonam Yadav\n",
      " Shikha Pandey\n",
      " Ellyse Perry\n",
      " Anya Shrubsole\n",
      " Deepti Sharma\n",
      " Stafanie Taylor\n",
      " Marizanne Kapp\n",
      " Deepti Sharma\n",
      " Jess Jonassen\n",
      " Dane van Niekerk\n",
      " Sophie Devine\n",
      " Natalie Sciver\n",
      " Shikha Pandey\n",
      " Katherine Brunt\n"
     ]
    }
   ],
   "source": [
    "lst=[]\n",
    "top=bs.find_all('div',class_='rankings-block__banner--name')\n",
    "for j in top:\n",
    "    lst.append(j.text)\n",
    "    \n",
    "name=bs.find_all('td',class_='table-body__cell name')\n",
    "for i in name:\n",
    "    title=\"\"\n",
    "    for j in i.find_all('a'):\n",
    "        title=title+\" \"+j.get_text()\n",
    "        print(title)\n",
    "        Name.append(title)   "
   ]
  },
  {
   "cell_type": "code",
   "execution_count": 6,
   "metadata": {},
   "outputs": [
    {
     "name": "stdout",
     "output_type": "stream",
     "text": [
      "['WI', 'AUS', 'IND', 'NZ', 'ENG', 'SA', 'AUS', 'IND', 'SA', 'AUS', 'AUS', 'SA', 'SA', 'IND', 'IND', 'IND', 'AUS', 'ENG', 'IND', 'WI', 'SA', 'IND', 'AUS', 'SA', 'NZ', 'ENG', 'IND', 'ENG']\n"
     ]
    }
   ],
   "source": [
    "team=bs.find_all('span',class_='table-body__logo-text')\n",
    "for i in team:\n",
    "    Team.append(i.get_text())   \n",
    "Team.insert(9,'AUS')\n",
    "print(Team)"
   ]
  },
  {
   "cell_type": "code",
   "execution_count": 7,
   "metadata": {},
   "outputs": [
    {
     "name": "stdout",
     "output_type": "stream",
     "text": [
      "['746', '741', '732', '723', '716', '691', '691', '687', '681', '804', '735', '711', '708', '691', '679', '675', '666', '645', '639', '410', '396', '359', '301', '297', '289', '273', '250', '232']\n"
     ]
    }
   ],
   "source": [
    "rate=bs.find_all('td',class_='table-body__cell u-text-right rating')\n",
    "for i in rate:\n",
    "    Rating.append(i.get_text())   \n",
    "Rating.insert(9,'804')\n",
    "print(Rating)\n",
    "Name.insert(9,'Jess Jonassen')"
   ]
  },
  {
   "cell_type": "code",
   "execution_count": 8,
   "metadata": {},
   "outputs": [
    {
     "data": {
      "text/html": [
       "<div>\n",
       "<style scoped>\n",
       "    .dataframe tbody tr th:only-of-type {\n",
       "        vertical-align: middle;\n",
       "    }\n",
       "\n",
       "    .dataframe tbody tr th {\n",
       "        vertical-align: top;\n",
       "    }\n",
       "\n",
       "    .dataframe thead th {\n",
       "        text-align: right;\n",
       "    }\n",
       "</style>\n",
       "<table border=\"1\" class=\"dataframe\">\n",
       "  <thead>\n",
       "    <tr style=\"text-align: right;\">\n",
       "      <th></th>\n",
       "      <th>Rank</th>\n",
       "      <th>Name</th>\n",
       "      <th>Team</th>\n",
       "      <th>Rating</th>\n",
       "    </tr>\n",
       "  </thead>\n",
       "  <tbody>\n",
       "    <tr>\n",
       "      <th>0</th>\n",
       "      <td>1</td>\n",
       "      <td>Jess Jonassen</td>\n",
       "      <td>AUS</td>\n",
       "      <td>804</td>\n",
       "    </tr>\n",
       "    <tr>\n",
       "      <th>1</th>\n",
       "      <td>2</td>\n",
       "      <td>Megan Schutt</td>\n",
       "      <td>AUS</td>\n",
       "      <td>735</td>\n",
       "    </tr>\n",
       "    <tr>\n",
       "      <th>2</th>\n",
       "      <td>3</td>\n",
       "      <td>Marizanne Kapp</td>\n",
       "      <td>SA</td>\n",
       "      <td>711</td>\n",
       "    </tr>\n",
       "    <tr>\n",
       "      <th>3</th>\n",
       "      <td>4</td>\n",
       "      <td>Shabnim Ismail</td>\n",
       "      <td>SA</td>\n",
       "      <td>708</td>\n",
       "    </tr>\n",
       "    <tr>\n",
       "      <th>4</th>\n",
       "      <td>5</td>\n",
       "      <td>Jhulan Goswami</td>\n",
       "      <td>IND</td>\n",
       "      <td>691</td>\n",
       "    </tr>\n",
       "    <tr>\n",
       "      <th>5</th>\n",
       "      <td>6</td>\n",
       "      <td>Poonam Yadav</td>\n",
       "      <td>IND</td>\n",
       "      <td>679</td>\n",
       "    </tr>\n",
       "    <tr>\n",
       "      <th>6</th>\n",
       "      <td>7</td>\n",
       "      <td>Shikha Pandey</td>\n",
       "      <td>IND</td>\n",
       "      <td>675</td>\n",
       "    </tr>\n",
       "    <tr>\n",
       "      <th>7</th>\n",
       "      <td>8</td>\n",
       "      <td>Ellyse Perry</td>\n",
       "      <td>AUS</td>\n",
       "      <td>666</td>\n",
       "    </tr>\n",
       "    <tr>\n",
       "      <th>8</th>\n",
       "      <td>9</td>\n",
       "      <td>Anya Shrubsole</td>\n",
       "      <td>ENG</td>\n",
       "      <td>645</td>\n",
       "    </tr>\n",
       "    <tr>\n",
       "      <th>9</th>\n",
       "      <td>10</td>\n",
       "      <td>Deepti Sharma</td>\n",
       "      <td>IND</td>\n",
       "      <td>639</td>\n",
       "    </tr>\n",
       "  </tbody>\n",
       "</table>\n",
       "</div>"
      ],
      "text/plain": [
       "   Rank             Name Team Rating\n",
       "0     1    Jess Jonassen  AUS    804\n",
       "1     2     Megan Schutt  AUS    735\n",
       "2     3   Marizanne Kapp   SA    711\n",
       "3     4   Shabnim Ismail   SA    708\n",
       "4     5   Jhulan Goswami  IND    691\n",
       "5     6     Poonam Yadav  IND    679\n",
       "6     7    Shikha Pandey  IND    675\n",
       "7     8     Ellyse Perry  AUS    666\n",
       "8     9   Anya Shrubsole  ENG    645\n",
       "9    10    Deepti Sharma  IND    639"
      ]
     },
     "execution_count": 8,
     "metadata": {},
     "output_type": "execute_result"
    }
   ],
   "source": [
    "Ranking['Name']=Name[9:19]\n",
    "Ranking['Team']=Team[9:19]\n",
    "Ranking['Rating']=Rating[9:19]\n",
    "Ranking"
   ]
  },
  {
   "cell_type": "code",
   "execution_count": null,
   "metadata": {},
   "outputs": [],
   "source": []
  }
 ],
 "metadata": {
  "kernelspec": {
   "display_name": "Python 3",
   "language": "python",
   "name": "python3"
  },
  "language_info": {
   "codemirror_mode": {
    "name": "ipython",
    "version": 3
   },
   "file_extension": ".py",
   "mimetype": "text/x-python",
   "name": "python",
   "nbconvert_exporter": "python",
   "pygments_lexer": "ipython3",
   "version": "3.7.6"
  }
 },
 "nbformat": 4,
 "nbformat_minor": 4
}
