{
 "cells": [
  {
   "cell_type": "code",
   "execution_count": 1,
   "metadata": {},
   "outputs": [],
   "source": [
    "from urllib.request import urlopen\n",
    "import requests\n",
    "from bs4 import BeautifulSoup\n",
    "import re"
   ]
  },
  {
   "cell_type": "code",
   "execution_count": 2,
   "metadata": {},
   "outputs": [],
   "source": [
    "page=requests.get('https://forecast.weather.gov/MapClick.php?x=204&y=171&site=mtr&zmx=&zmy=&map_x=203&map_y=171#.YB1dVWgzY2w')\n",
    "bs = BeautifulSoup(page.content,\"html.parser\")"
   ]
  },
  {
   "cell_type": "code",
   "execution_count": 3,
   "metadata": {},
   "outputs": [],
   "source": [
    "Period=[]\n",
    "Short_description=[]\n",
    "Temprature=[]\n",
    "Description=[]"
   ]
  },
  {
   "cell_type": "code",
   "execution_count": 4,
   "metadata": {},
   "outputs": [
    {
     "name": "stdout",
     "output_type": "stream",
     "text": [
      "['Today', 'Tonight', 'Saturday', 'SaturdayNight', 'Sunday', 'SundayNight', 'Monday', 'MondayNight', 'Tuesday']\n"
     ]
    }
   ],
   "source": [
    "name=bs.find_all('p',class_='period-name')\n",
    "for i in name:\n",
    "    Period.append(i.text)\n",
    "print(Period)    "
   ]
  },
  {
   "cell_type": "code",
   "execution_count": 5,
   "metadata": {},
   "outputs": [
    {
     "name": "stdout",
     "output_type": "stream",
     "text": [
      "['Sunny', 'Clear', 'Sunny', 'Mostly Clear', 'Sunny', 'Partly Cloudy', 'Mostly Cloudy', 'Mostly Cloudy', 'Partly Sunny']\n"
     ]
    }
   ],
   "source": [
    "sd=bs.find_all('p',class_='short-desc')\n",
    "for i in sd:\n",
    "    Short_description.append(i.text)\n",
    "print(Short_description) "
   ]
  },
  {
   "cell_type": "code",
   "execution_count": 6,
   "metadata": {},
   "outputs": [],
   "source": [
    "temp=bs.find_all('p',class_='temp temp-high')\n",
    "temp_2=bs.find_all('p',class_='temp temp-low')\n"
   ]
  },
  {
   "cell_type": "code",
   "execution_count": 7,
   "metadata": {},
   "outputs": [
    {
     "name": "stdout",
     "output_type": "stream",
     "text": [
      "['High: 61 °F', 'High: 61 °F', 'High: 61 °F', 'High: 59 °F', 'High: 58 °F']\n",
      "['Low: 44 °F', 'Low: 45 °F', 'Low: 46 °F', 'Low: 47 °F']\n"
     ]
    }
   ],
   "source": [
    "lst=[]\n",
    "lst_2=[]\n",
    "for i in temp:\n",
    "    lst.append(i.text)\n",
    "print(lst)\n",
    "for i in temp_2:\n",
    "    lst_2.append(i.text)\n",
    "print(lst_2)"
   ]
  },
  {
   "cell_type": "code",
   "execution_count": 8,
   "metadata": {},
   "outputs": [
    {
     "name": "stdout",
     "output_type": "stream",
     "text": [
      "['High: 61 °F', 'Low: 44 °F', 'High: 61 °F', 'Low: 45 °F', 'High: 61 °F', 'Low: 46 °F', 'High: 59 °F', 'Low: 47 °F', 'High: 58 °F']\n"
     ]
    }
   ],
   "source": [
    "Temprature.append(lst[0])\n",
    "Temprature.append(lst_2[0])\n",
    "Temprature.append(lst[1])\n",
    "Temprature.append(lst_2[1])\n",
    "Temprature.append(lst[2])\n",
    "Temprature.append(lst_2[2])\n",
    "Temprature.append(lst[3])\n",
    "Temprature.append(lst_2[3])\n",
    "Temprature.append(lst[4]) \n",
    "print(Temprature)"
   ]
  },
  {
   "cell_type": "code",
   "execution_count": 9,
   "metadata": {},
   "outputs": [
    {
     "name": "stdout",
     "output_type": "stream",
     "text": [
      "['Sunny, with a high near 61. Northeast wind 8 to 13 mph. ', 'Clear, with a low around 44. Northeast wind 8 to 13 mph increasing to 15 to 20 mph in the evening. Winds could gust as high as 25 mph. ', 'Sunny, with a high near 61. Northeast wind 7 to 17 mph, with gusts as high as 22 mph. ', 'Mostly clear, with a low around 45. Calm wind becoming northeast around 5 mph after midnight. ', 'Sunny, with a high near 61. Northeast wind around 8 mph. ', 'Partly cloudy, with a low around 46.', 'Mostly cloudy, with a high near 59.', 'Mostly cloudy, with a low around 47.', 'Partly sunny, with a high near 58.', 'Mostly cloudy, with a low around 46.', 'Mostly sunny, with a high near 59.', 'Mostly clear, with a low around 45.', 'Sunny, with a high near 59.']\n"
     ]
    }
   ],
   "source": [
    "desc=bs.find_all('div',class_='col-sm-10 forecast-text')\n",
    "for i in desc:\n",
    "    Description.append(i.text)\n",
    "print(Description) "
   ]
  },
  {
   "cell_type": "code",
   "execution_count": 12,
   "metadata": {},
   "outputs": [
    {
     "data": {
      "text/html": [
       "<div>\n",
       "<style scoped>\n",
       "    .dataframe tbody tr th:only-of-type {\n",
       "        vertical-align: middle;\n",
       "    }\n",
       "\n",
       "    .dataframe tbody tr th {\n",
       "        vertical-align: top;\n",
       "    }\n",
       "\n",
       "    .dataframe thead th {\n",
       "        text-align: right;\n",
       "    }\n",
       "</style>\n",
       "<table border=\"1\" class=\"dataframe\">\n",
       "  <thead>\n",
       "    <tr style=\"text-align: right;\">\n",
       "      <th></th>\n",
       "      <th>Period</th>\n",
       "      <th>Short_description</th>\n",
       "      <th>Temprature</th>\n",
       "      <th>Description</th>\n",
       "    </tr>\n",
       "  </thead>\n",
       "  <tbody>\n",
       "    <tr>\n",
       "      <th>0</th>\n",
       "      <td>Today</td>\n",
       "      <td>Sunny</td>\n",
       "      <td>High: 61 °F</td>\n",
       "      <td>Sunny, with a high near 61. Northeast wind 8 t...</td>\n",
       "    </tr>\n",
       "    <tr>\n",
       "      <th>1</th>\n",
       "      <td>Tonight</td>\n",
       "      <td>Clear</td>\n",
       "      <td>Low: 44 °F</td>\n",
       "      <td>Clear, with a low around 44. Northeast wind 8 ...</td>\n",
       "    </tr>\n",
       "    <tr>\n",
       "      <th>2</th>\n",
       "      <td>Saturday</td>\n",
       "      <td>Sunny</td>\n",
       "      <td>High: 61 °F</td>\n",
       "      <td>Sunny, with a high near 61. Northeast wind 7 t...</td>\n",
       "    </tr>\n",
       "    <tr>\n",
       "      <th>3</th>\n",
       "      <td>SaturdayNight</td>\n",
       "      <td>Mostly Clear</td>\n",
       "      <td>Low: 45 °F</td>\n",
       "      <td>Mostly clear, with a low around 45. Calm wind ...</td>\n",
       "    </tr>\n",
       "    <tr>\n",
       "      <th>4</th>\n",
       "      <td>Sunday</td>\n",
       "      <td>Sunny</td>\n",
       "      <td>High: 61 °F</td>\n",
       "      <td>Sunny, with a high near 61. Northeast wind aro...</td>\n",
       "    </tr>\n",
       "    <tr>\n",
       "      <th>5</th>\n",
       "      <td>SundayNight</td>\n",
       "      <td>Partly Cloudy</td>\n",
       "      <td>Low: 46 °F</td>\n",
       "      <td>Partly cloudy, with a low around 46.</td>\n",
       "    </tr>\n",
       "    <tr>\n",
       "      <th>6</th>\n",
       "      <td>Monday</td>\n",
       "      <td>Mostly Cloudy</td>\n",
       "      <td>High: 59 °F</td>\n",
       "      <td>Mostly cloudy, with a high near 59.</td>\n",
       "    </tr>\n",
       "    <tr>\n",
       "      <th>7</th>\n",
       "      <td>MondayNight</td>\n",
       "      <td>Mostly Cloudy</td>\n",
       "      <td>Low: 47 °F</td>\n",
       "      <td>Mostly cloudy, with a low around 47.</td>\n",
       "    </tr>\n",
       "    <tr>\n",
       "      <th>8</th>\n",
       "      <td>Tuesday</td>\n",
       "      <td>Partly Sunny</td>\n",
       "      <td>High: 58 °F</td>\n",
       "      <td>Partly sunny, with a high near 58.</td>\n",
       "    </tr>\n",
       "  </tbody>\n",
       "</table>\n",
       "</div>"
      ],
      "text/plain": [
       "          Period Short_description   Temprature  \\\n",
       "0          Today             Sunny  High: 61 °F   \n",
       "1        Tonight             Clear   Low: 44 °F   \n",
       "2       Saturday             Sunny  High: 61 °F   \n",
       "3  SaturdayNight      Mostly Clear   Low: 45 °F   \n",
       "4         Sunday             Sunny  High: 61 °F   \n",
       "5    SundayNight     Partly Cloudy   Low: 46 °F   \n",
       "6         Monday     Mostly Cloudy  High: 59 °F   \n",
       "7    MondayNight     Mostly Cloudy   Low: 47 °F   \n",
       "8        Tuesday      Partly Sunny  High: 58 °F   \n",
       "\n",
       "                                         Description  \n",
       "0  Sunny, with a high near 61. Northeast wind 8 t...  \n",
       "1  Clear, with a low around 44. Northeast wind 8 ...  \n",
       "2  Sunny, with a high near 61. Northeast wind 7 t...  \n",
       "3  Mostly clear, with a low around 45. Calm wind ...  \n",
       "4  Sunny, with a high near 61. Northeast wind aro...  \n",
       "5               Partly cloudy, with a low around 46.  \n",
       "6                Mostly cloudy, with a high near 59.  \n",
       "7               Mostly cloudy, with a low around 47.  \n",
       "8                 Partly sunny, with a high near 58.  "
      ]
     },
     "execution_count": 12,
     "metadata": {},
     "output_type": "execute_result"
    }
   ],
   "source": [
    "import pandas as pd\n",
    "Weather=pd.DataFrame({})\n",
    "Weather['Period']=Period[:9]\n",
    "Weather['Short_description']=Short_description[:9]\n",
    "Weather['Temprature']=Temprature[:9]\n",
    "Weather['Description']=Description[:9]\n",
    "Weather"
   ]
  },
  {
   "cell_type": "code",
   "execution_count": null,
   "metadata": {},
   "outputs": [],
   "source": []
  }
 ],
 "metadata": {
  "kernelspec": {
   "display_name": "Python 3",
   "language": "python",
   "name": "python3"
  },
  "language_info": {
   "codemirror_mode": {
    "name": "ipython",
    "version": 3
   },
   "file_extension": ".py",
   "mimetype": "text/x-python",
   "name": "python",
   "nbconvert_exporter": "python",
   "pygments_lexer": "ipython3",
   "version": "3.7.6"
  }
 },
 "nbformat": 4,
 "nbformat_minor": 4
}
