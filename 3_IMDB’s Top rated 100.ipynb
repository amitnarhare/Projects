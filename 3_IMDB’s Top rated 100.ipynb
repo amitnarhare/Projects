{
 "cells": [
  {
   "cell_type": "code",
   "execution_count": 1,
   "metadata": {},
   "outputs": [],
   "source": [
    "#Write a python program to display IMDB’s Top rated 100 movies’ data (i.e. Name, IMDB rating, Year ofrelease) \n",
    "#and save it in form of a CSV file. "
   ]
  },
  {
   "cell_type": "code",
   "execution_count": 2,
   "metadata": {},
   "outputs": [],
   "source": [
    "from urllib.request import urlopen\n",
    "import requests\n",
    "from bs4 import BeautifulSoup\n",
    "import re"
   ]
  },
  {
   "cell_type": "code",
   "execution_count": 3,
   "metadata": {},
   "outputs": [],
   "source": [
    "page=requests.get('https://www.imdb.com/list/ls091520106/')\n",
    "bs = BeautifulSoup(page.content,\"html.parser\")"
   ]
  },
  {
   "cell_type": "code",
   "execution_count": 4,
   "metadata": {},
   "outputs": [],
   "source": [
    "list_of_titles = []\n",
    "list_of_years = []\n",
    "user_ratings = []"
   ]
  },
  {
   "cell_type": "code",
   "execution_count": 5,
   "metadata": {},
   "outputs": [],
   "source": [
    "name=bs.find_all('h3',class_='lister-item-header')"
   ]
  },
  {
   "cell_type": "code",
   "execution_count": 6,
   "metadata": {},
   "outputs": [
    {
     "name": "stdout",
     "output_type": "stream",
     "text": [
      " The Shawshank Redemption\n",
      " The Godfather\n",
      " The Godfather: Part II\n",
      " The Dark Knight\n",
      " 12 Angry Men\n",
      " Schindler's List\n",
      " The Lord of the Rings: The Return of the King\n",
      " Pulp Fiction\n",
      " Il buono, il brutto, il cattivo\n",
      " Fight Club\n",
      " Joker\n",
      " The Lord of the Rings: The Fellowship of the Ring\n",
      " Forrest Gump\n",
      " Inception\n",
      " Star Wars: Episode V - The Empire Strikes Back\n",
      " The Lord of the Rings: The Two Towers\n",
      " The Matrix\n",
      " One Flew Over the Cuckoo's Nest\n",
      " Goodfellas\n",
      " Shichinin no samurai\n",
      " Se7en\n",
      " Cidade de Deus\n",
      " La vita è bella\n",
      " The Silence of the Lambs\n",
      " Star Wars\n",
      " It's a Wonderful Life\n",
      " Saving Private Ryan\n",
      " Sen to Chihiro no kamikakushi\n",
      " The Green Mile\n",
      " Léon\n",
      " Seppuku\n",
      " Interstellar\n",
      " The Usual Suspects\n",
      " The Lion King\n",
      " American History X\n",
      " Back to the Future\n",
      " The Pianist\n",
      " Modern Times\n",
      " Terminator 2: Judgment Day\n",
      " The Intouchables\n",
      " Psycho\n",
      " Gladiator\n",
      " City Lights\n",
      " The Departed\n",
      " Whiplash\n",
      " Once Upon a Time in the West\n",
      " The Prestige\n",
      " Avengers: Endgame\n",
      " Casablanca\n",
      " Hotaru no haka\n",
      " Rear Window\n",
      " Nuovo Cinema Paradiso\n",
      " Alien\n",
      " Raiders of the Lost Ark\n",
      " Memento\n",
      " Apocalypse Now\n",
      " The Great Dictator\n",
      " The Lives of Others\n",
      " Avengers: Infinity War\n",
      " Django Unchained\n",
      " Spider-Man: Into the Spider-Verse\n",
      " The Shining\n",
      " Paths of Glory\n",
      " WALL·E\n",
      " Sunset Blvd.\n",
      " Dr. Strangelove or: How I Learned to Stop Worrying and Love the Bomb\n",
      " Mononoke-hime\n",
      " Oldeuboi\n",
      " Witness for the Prosecution\n",
      " The Dark Knight Rises\n",
      " Once Upon a Time in America\n",
      " Gisaengchung\n",
      " Aliens\n",
      " American Beauty\n",
      " Coco\n",
      " Kimi no na wa.\n",
      " Braveheart\n",
      " Das Boot\n",
      " 3 Idiots\n",
      " Taare Zameen Par\n",
      " Star Wars: Episode VI - Return of the Jedi\n",
      " Toy Story\n",
      " Reservoir Dogs\n",
      " Amadeus\n",
      " Dangal\n",
      " Good Will Hunting\n",
      " Inglourious Basterds\n",
      " M - Eine Stadt sucht einen Mörder\n",
      " Requiem for a Dream\n",
      " 2001: A Space Odyssey\n",
      " Vertigo\n",
      " Eternal Sunshine of the Spotless Mind\n",
      " Citizen Kane\n",
      " Full Metal Jacket\n",
      " Jagten\n",
      " North by Northwest\n",
      " A Clockwork Orange\n",
      " Snatch\n",
      " Amélie\n",
      " The Kid\n"
     ]
    }
   ],
   "source": [
    "for i in name:\n",
    "    title=\"\"\n",
    "    for j in i.find_all('a'):\n",
    "        title=title+\" \"+j.get_text()\n",
    "        print(title) \n",
    "        list_of_titles.append(title)"
   ]
  },
  {
   "cell_type": "code",
   "execution_count": 7,
   "metadata": {},
   "outputs": [],
   "source": [
    "ratings=bs.find_all('span',class_='ipl-rating-star__rating')"
   ]
  },
  {
   "cell_type": "code",
   "execution_count": 8,
   "metadata": {},
   "outputs": [],
   "source": [
    "for i in ratings: #22\n",
    "    user_ratings.append(i.text)"
   ]
  },
  {
   "cell_type": "code",
   "execution_count": 13,
   "metadata": {},
   "outputs": [
    {
     "name": "stdout",
     "output_type": "stream",
     "text": [
      "['9.3', '9.2', '9', '9', '9', '8.9', '8.9', '8.9', '8.8', '8.8', '8.5', '8.8', '8.8', '8.8', '8.7', '8.7', '8.7', '8.7', '8.7', '8.6', '8.6', '8.6', '8.6', '8.6', '8.6', '8.6', '8.6', '8.6', '8.6', '8.5', '8.6', '8.6', '8.5', '8.5', '8.5', '8.5', '8.5', '8.5', '8.5', '8.5', '8.5', '8.5', '8.5', '8.5', '8.5', '8.5', '8.5', '8.4', '8.5', '8.5', '8.4', '8.5', '8.4', '8.4', '8.4', '8.4', '8.4', '8.4', '8.4', '8.4', '8.4', '8.4', '8.4', '8.4', '8.4', '8.4', '8.4', '8.4', '8.4', '8.4', '8.4', '8.6', '8.3', '8.3', '8.4', '8.4', '8.3', '8.3', '8.4', '8.4', '8.3', '8.3', '8.3', '8.3', '8.4', '8.3', '8.3', '8.3', '8.3', '8.3', '8.3', '8.3', '8.3', '8.3', '8.3', '8.3', '8.3', '8.3', '8.3', '8.3']\n"
     ]
    },
    {
     "data": {
      "text/plain": [
       "100"
      ]
     },
     "execution_count": 13,
     "metadata": {},
     "output_type": "execute_result"
    }
   ],
   "source": [
    "lst=[]\n",
    "for i in user_ratings[0:2300:23]:\n",
    "    lst.append(i)\n",
    "    \n",
    "print(lst)"
   ]
  },
  {
   "cell_type": "code",
   "execution_count": 14,
   "metadata": {},
   "outputs": [],
   "source": [
    "year=bs.find_all('span',class_='lister-item-year text-muted unbold')"
   ]
  },
  {
   "cell_type": "code",
   "execution_count": 15,
   "metadata": {},
   "outputs": [],
   "source": [
    "for i in year: #22\n",
    "    list_of_years.append(i.text)"
   ]
  },
  {
   "cell_type": "code",
   "execution_count": 16,
   "metadata": {},
   "outputs": [
    {
     "data": {
      "text/html": [
       "<div>\n",
       "<style scoped>\n",
       "    .dataframe tbody tr th:only-of-type {\n",
       "        vertical-align: middle;\n",
       "    }\n",
       "\n",
       "    .dataframe tbody tr th {\n",
       "        vertical-align: top;\n",
       "    }\n",
       "\n",
       "    .dataframe thead th {\n",
       "        text-align: right;\n",
       "    }\n",
       "</style>\n",
       "<table border=\"1\" class=\"dataframe\">\n",
       "  <thead>\n",
       "    <tr style=\"text-align: right;\">\n",
       "      <th></th>\n",
       "      <th>Title</th>\n",
       "      <th>Raiting</th>\n",
       "      <th>Year</th>\n",
       "    </tr>\n",
       "  </thead>\n",
       "  <tbody>\n",
       "    <tr>\n",
       "      <th>0</th>\n",
       "      <td>The Shawshank Redemption</td>\n",
       "      <td>9.3</td>\n",
       "      <td>(1994)</td>\n",
       "    </tr>\n",
       "    <tr>\n",
       "      <th>1</th>\n",
       "      <td>The Godfather</td>\n",
       "      <td>9.2</td>\n",
       "      <td>(1972)</td>\n",
       "    </tr>\n",
       "    <tr>\n",
       "      <th>2</th>\n",
       "      <td>The Godfather: Part II</td>\n",
       "      <td>9</td>\n",
       "      <td>(1974)</td>\n",
       "    </tr>\n",
       "    <tr>\n",
       "      <th>3</th>\n",
       "      <td>The Dark Knight</td>\n",
       "      <td>9</td>\n",
       "      <td>(2008)</td>\n",
       "    </tr>\n",
       "    <tr>\n",
       "      <th>4</th>\n",
       "      <td>12 Angry Men</td>\n",
       "      <td>9</td>\n",
       "      <td>(1957)</td>\n",
       "    </tr>\n",
       "    <tr>\n",
       "      <th>...</th>\n",
       "      <td>...</td>\n",
       "      <td>...</td>\n",
       "      <td>...</td>\n",
       "    </tr>\n",
       "    <tr>\n",
       "      <th>95</th>\n",
       "      <td>North by Northwest</td>\n",
       "      <td>8.3</td>\n",
       "      <td>(1959)</td>\n",
       "    </tr>\n",
       "    <tr>\n",
       "      <th>96</th>\n",
       "      <td>A Clockwork Orange</td>\n",
       "      <td>8.3</td>\n",
       "      <td>(1971)</td>\n",
       "    </tr>\n",
       "    <tr>\n",
       "      <th>97</th>\n",
       "      <td>Snatch</td>\n",
       "      <td>8.3</td>\n",
       "      <td>(2000)</td>\n",
       "    </tr>\n",
       "    <tr>\n",
       "      <th>98</th>\n",
       "      <td>Amélie</td>\n",
       "      <td>8.3</td>\n",
       "      <td>(2001)</td>\n",
       "    </tr>\n",
       "    <tr>\n",
       "      <th>99</th>\n",
       "      <td>The Kid</td>\n",
       "      <td>8.3</td>\n",
       "      <td>(1921)</td>\n",
       "    </tr>\n",
       "  </tbody>\n",
       "</table>\n",
       "<p>100 rows × 3 columns</p>\n",
       "</div>"
      ],
      "text/plain": [
       "                        Title Raiting    Year\n",
       "0    The Shawshank Redemption     9.3  (1994)\n",
       "1               The Godfather     9.2  (1972)\n",
       "2      The Godfather: Part II       9  (1974)\n",
       "3             The Dark Knight       9  (2008)\n",
       "4                12 Angry Men       9  (1957)\n",
       "..                        ...     ...     ...\n",
       "95         North by Northwest     8.3  (1959)\n",
       "96         A Clockwork Orange     8.3  (1971)\n",
       "97                     Snatch     8.3  (2000)\n",
       "98                     Amélie     8.3  (2001)\n",
       "99                    The Kid     8.3  (1921)\n",
       "\n",
       "[100 rows x 3 columns]"
      ]
     },
     "execution_count": 16,
     "metadata": {},
     "output_type": "execute_result"
    }
   ],
   "source": [
    "import pandas as pd\n",
    "top=pd.DataFrame({})\n",
    "top['Title']=list_of_titles\n",
    "top['Raiting']=lst\n",
    "top['Year']=list_of_years\n",
    "top"
   ]
  },
  {
   "cell_type": "code",
   "execution_count": 17,
   "metadata": {},
   "outputs": [],
   "source": [
    "top.to_csv(\"TopWorldMovies.csv\")"
   ]
  }
 ],
 "metadata": {
  "kernelspec": {
   "display_name": "Python 3",
   "language": "python",
   "name": "python3"
  },
  "language_info": {
   "codemirror_mode": {
    "name": "ipython",
    "version": 3
   },
   "file_extension": ".py",
   "mimetype": "text/x-python",
   "name": "python",
   "nbconvert_exporter": "python",
   "pygments_lexer": "ipython3",
   "version": "3.7.6"
  }
 },
 "nbformat": 4,
 "nbformat_minor": 4
}
