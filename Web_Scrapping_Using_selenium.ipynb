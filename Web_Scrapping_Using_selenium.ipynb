{
 "cells": [
  {
   "cell_type": "code",
   "execution_count": 1,
   "metadata": {},
   "outputs": [],
   "source": [
    "#! pip install selenium"
   ]
  },
  {
   "cell_type": "code",
   "execution_count": 2,
   "metadata": {},
   "outputs": [],
   "source": [
    "import selenium\n",
    "import pandas as pd\n",
    "from selenium import webdriver"
   ]
  },
  {
   "cell_type": "markdown",
   "metadata": {},
   "source": [
    "1)Write a python program to scrape data for “Data Analyst” Job position in\n",
    "“Bangalore” location. You have to scrape the job-title, job-location, company_name,\n",
    "experience_required. You have to scrape first 10 jobs data."
   ]
  },
  {
   "cell_type": "code",
   "execution_count": 3,
   "metadata": {},
   "outputs": [],
   "source": [
    "#Path of web driver\n",
    "driver=webdriver.Chrome('D:\\DataTrained\\chromedriver_win32\\chromedriver.exe')"
   ]
  },
  {
   "cell_type": "code",
   "execution_count": 4,
   "metadata": {},
   "outputs": [],
   "source": [
    "#path of naukri.com\n",
    "driver.get('https://www.naukri.com/')"
   ]
  },
  {
   "cell_type": "code",
   "execution_count": 5,
   "metadata": {},
   "outputs": [],
   "source": [
    "#Search criteria as key Data Analyst and location Bangalore\n",
    "search_job=driver.find_element_by_id('qsb-keyword-sugg')\n",
    "search_job.send_keys('Data Analyst')\n",
    "search_loc=driver.find_element_by_xpath(\"//input[@id='qsb-location-sugg']\")\n",
    "search_loc.send_keys('Bangalore')"
   ]
  },
  {
   "cell_type": "code",
   "execution_count": 6,
   "metadata": {},
   "outputs": [],
   "source": [
    "#Click trigger of search button\n",
    "search_btn=driver.find_element_by_xpath(\"//div[@class='search-btn']/button\")\n",
    "search_btn.click()"
   ]
  },
  {
   "cell_type": "code",
   "execution_count": 7,
   "metadata": {},
   "outputs": [],
   "source": [
    "#Creeating the empty list\n",
    "JobTitle=[]\n",
    "Location=[]\n",
    "Company_name=[]\n",
    "Experince_Required=[]"
   ]
  },
  {
   "cell_type": "code",
   "execution_count": 14,
   "metadata": {},
   "outputs": [
    {
     "data": {
      "text/plain": [
       "[<selenium.webdriver.remote.webelement.WebElement (session=\"e8c05bc0c303f46779b52624c96a0053\", element=\"e4eef19c-7037-4635-a0b5-99e01ed7fd41\")>,\n",
       " <selenium.webdriver.remote.webelement.WebElement (session=\"e8c05bc0c303f46779b52624c96a0053\", element=\"bf5b4b40-e42e-488b-a069-f32515a59800\")>,\n",
       " <selenium.webdriver.remote.webelement.WebElement (session=\"e8c05bc0c303f46779b52624c96a0053\", element=\"4639eebc-ecc3-4929-bad6-1b0edd3e7990\")>,\n",
       " <selenium.webdriver.remote.webelement.WebElement (session=\"e8c05bc0c303f46779b52624c96a0053\", element=\"8fdb4e07-5f3b-429b-9b74-8d416d79869f\")>]"
      ]
     },
     "execution_count": 14,
     "metadata": {},
     "output_type": "execute_result"
    }
   ],
   "source": [
    "#Extracting title of job\n",
    "title_tag=driver.find_elements_by_xpath(\"//a[@class='title fw500 ellipsis']\")\n",
    "title_tag[0:4]"
   ]
  },
  {
   "cell_type": "code",
   "execution_count": 15,
   "metadata": {},
   "outputs": [
    {
     "name": "stdout",
     "output_type": "stream",
     "text": [
      "['MIS/ Data Analyst-(SQL,Automation,Excel/PowerBI,Dashboards) - Contract', 'Data Analyst - SAP', 'Hiring Data Analysts on Contract', 'Senior Data Analyst', 'Data Analyst', 'Data Analyst -Azure Data lake, Azure Data factory', 'Business / Data Analyst', 'Data Analyst - O2C - Bangalore', 'Intern Data Analyst', 'NiFi Data Analyst', 'Data Analyst', 'Requirement For Data Analyst(Advance excel candidates)', 'SENIOR DATA ANALYST', 'Data Analyst', 'Senior Data Analyst', 'Data Analyst', 'Data Analyst', 'Looking For Rockstar Data Analyst @ Freshtohome (Series-C funded Comp)', 'Data Analyst', 'Big Data Analyst']\n"
     ]
    }
   ],
   "source": [
    "for i in title_tag:\n",
    "    JobTitle.append(i.text)\n",
    "print(JobTitle)    "
   ]
  },
  {
   "cell_type": "code",
   "execution_count": 16,
   "metadata": {},
   "outputs": [
    {
     "data": {
      "text/plain": [
       "[<selenium.webdriver.remote.webelement.WebElement (session=\"e8c05bc0c303f46779b52624c96a0053\", element=\"105ae4cf-6ad5-4a03-8313-8d0cb4e6f8cd\")>,\n",
       " <selenium.webdriver.remote.webelement.WebElement (session=\"e8c05bc0c303f46779b52624c96a0053\", element=\"41f80404-43f9-4e65-9742-c18433a08869\")>,\n",
       " <selenium.webdriver.remote.webelement.WebElement (session=\"e8c05bc0c303f46779b52624c96a0053\", element=\"9cecbf2a-4d3c-4a93-a6af-32dd39fac55a\")>,\n",
       " <selenium.webdriver.remote.webelement.WebElement (session=\"e8c05bc0c303f46779b52624c96a0053\", element=\"ccf9c750-a60f-40f4-bb03-69c09ca554cb\")>]"
      ]
     },
     "execution_count": 16,
     "metadata": {},
     "output_type": "execute_result"
    }
   ],
   "source": [
    "#extracting company name\n",
    "company_tag=driver.find_elements_by_xpath(\"//a[@class='subTitle ellipsis fleft']\")\n",
    "company_tag[0:4]"
   ]
  },
  {
   "cell_type": "code",
   "execution_count": 17,
   "metadata": {},
   "outputs": [
    {
     "name": "stdout",
     "output_type": "stream",
     "text": [
      "['Flipkart Internet Private Limited', 'Boston Scientific Corporation', 'Flipkart Internet Private Limited', 'Schneider Electric', 'Shell India Markets Private Limited', 'Mindtree Limited', 'IBM India Pvt. Limited', 'RANDSTAD INDIA PVT LTD', 'Outsource Big Data', 'Capgemini Technology Services India Limited', 'Reliance Jio Infocomm Ltd.', 'Emagine People Technologies Private Limited', 'McAfee Software (India) Pvt. Ltd', 'EZEU', 'Career Hotspot & Services', 'NetApp', 'AceNet', 'Freshtohome Foods Private Limited', 'Liventus, Inc.', 'SureEvents']\n"
     ]
    }
   ],
   "source": [
    "for i in company_tag:\n",
    "    Company_name.append(i.text)\n",
    "print(Company_name)   "
   ]
  },
  {
   "cell_type": "code",
   "execution_count": 18,
   "metadata": {},
   "outputs": [
    {
     "data": {
      "text/plain": [
       "[<selenium.webdriver.remote.webelement.WebElement (session=\"e8c05bc0c303f46779b52624c96a0053\", element=\"a4c476c1-d653-4931-a2ca-76c4c65d4d40\")>,\n",
       " <selenium.webdriver.remote.webelement.WebElement (session=\"e8c05bc0c303f46779b52624c96a0053\", element=\"e77b30ee-2a4f-4697-bd50-5b89dbc36e7c\")>,\n",
       " <selenium.webdriver.remote.webelement.WebElement (session=\"e8c05bc0c303f46779b52624c96a0053\", element=\"c51b30f9-53d4-4ed8-af98-c268d378e64d\")>,\n",
       " <selenium.webdriver.remote.webelement.WebElement (session=\"e8c05bc0c303f46779b52624c96a0053\", element=\"5bd075a1-cee1-4773-8b36-5a1f13eaec4c\")>]"
      ]
     },
     "execution_count": 18,
     "metadata": {},
     "output_type": "execute_result"
    }
   ],
   "source": [
    "#extracting job location\n",
    "location=driver.find_elements_by_xpath(\"//li[@class='fleft grey-text br2 placeHolderLi location']/span[1]\")\n",
    "location[0:4]"
   ]
  },
  {
   "cell_type": "code",
   "execution_count": 19,
   "metadata": {},
   "outputs": [
    {
     "name": "stdout",
     "output_type": "stream",
     "text": [
      "['Bengaluru', 'Pune, Delhi, Bengaluru, Gurgaon', 'Bengaluru', 'Bengaluru / Bangalore', 'Bengaluru', 'Chennai, Pune, Bengaluru, Hyderabad', 'Bengaluru', 'Bengaluru', 'Bengaluru', 'Bengaluru', 'Bengaluru', 'Chennai, Bengaluru', 'Bengaluru', 'Bengaluru', 'Bengaluru', 'Bengaluru', 'Chennai, Bengaluru', 'Bengaluru', 'Bengaluru(2nd Phase JP Nagar)', 'Pune, Mumbai, Bengaluru']\n"
     ]
    }
   ],
   "source": [
    "for i in location:\n",
    "    Location.append(i.text)\n",
    "print(Location)  "
   ]
  },
  {
   "cell_type": "code",
   "execution_count": 24,
   "metadata": {},
   "outputs": [
    {
     "data": {
      "text/plain": [
       "[<selenium.webdriver.remote.webelement.WebElement (session=\"e8c05bc0c303f46779b52624c96a0053\", element=\"e277947d-02a7-4b3b-8f04-ca526eef1383\")>,\n",
       " <selenium.webdriver.remote.webelement.WebElement (session=\"e8c05bc0c303f46779b52624c96a0053\", element=\"c7a5aad5-04a3-4d00-9bb3-257d7e200d5e\")>,\n",
       " <selenium.webdriver.remote.webelement.WebElement (session=\"e8c05bc0c303f46779b52624c96a0053\", element=\"2257163e-a5f7-4db7-a8f6-0c0b1634d4a4\")>,\n",
       " <selenium.webdriver.remote.webelement.WebElement (session=\"e8c05bc0c303f46779b52624c96a0053\", element=\"a3220f45-dcec-4e66-8135-e7c1934019d8\")>]"
      ]
     },
     "execution_count": 24,
     "metadata": {},
     "output_type": "execute_result"
    }
   ],
   "source": [
    "#Extracting exterience required\n",
    "exp=driver.find_elements_by_xpath(\"//li[@class='fleft grey-text br2 placeHolderLi experience']/span[1]\")\n",
    "exp[0:4]"
   ]
  },
  {
   "cell_type": "code",
   "execution_count": 26,
   "metadata": {},
   "outputs": [
    {
     "name": "stdout",
     "output_type": "stream",
     "text": [
      "['1-4 Yrs', '3-5 Yrs', '2-5 Yrs', '2-5 Yrs', '5-8 Yrs', '5-9 Yrs', '2-4 Yrs', '2-4 Yrs', '0-1 Yrs', '4-6 Yrs', '8-9 Yrs', '0-2 Yrs', '7-12 Yrs', '2-7 Yrs', '3-5 Yrs', '2-7 Yrs', '6-8 Yrs', '2-5 Yrs', '3-6 Yrs', '5-7 Yrs', '1-4 Yrs', '3-5 Yrs', '2-5 Yrs', '2-5 Yrs', '5-8 Yrs', '5-9 Yrs', '2-4 Yrs', '2-4 Yrs', '0-1 Yrs', '4-6 Yrs', '8-9 Yrs', '0-2 Yrs', '7-12 Yrs', '2-7 Yrs', '3-5 Yrs', '2-7 Yrs', '6-8 Yrs', '2-5 Yrs', '3-6 Yrs', '5-7 Yrs', '1-4 Yrs', '3-5 Yrs', '2-5 Yrs', '2-5 Yrs', '5-8 Yrs', '5-9 Yrs', '2-4 Yrs', '2-4 Yrs', '0-1 Yrs', '4-6 Yrs', '8-9 Yrs', '0-2 Yrs', '7-12 Yrs', '2-7 Yrs', '3-5 Yrs', '2-7 Yrs', '6-8 Yrs', '2-5 Yrs', '3-6 Yrs', '5-7 Yrs']\n"
     ]
    }
   ],
   "source": [
    "for i in exp:\n",
    "    Experince_Required.append(i.text)\n",
    "print(Experince_Required)"
   ]
  },
  {
   "cell_type": "code",
   "execution_count": 27,
   "metadata": {},
   "outputs": [
    {
     "data": {
      "text/html": [
       "<div>\n",
       "<style scoped>\n",
       "    .dataframe tbody tr th:only-of-type {\n",
       "        vertical-align: middle;\n",
       "    }\n",
       "\n",
       "    .dataframe tbody tr th {\n",
       "        vertical-align: top;\n",
       "    }\n",
       "\n",
       "    .dataframe thead th {\n",
       "        text-align: right;\n",
       "    }\n",
       "</style>\n",
       "<table border=\"1\" class=\"dataframe\">\n",
       "  <thead>\n",
       "    <tr style=\"text-align: right;\">\n",
       "      <th></th>\n",
       "      <th>JobTitle</th>\n",
       "      <th>Location</th>\n",
       "      <th>Company_name</th>\n",
       "      <th>Experince_Required</th>\n",
       "    </tr>\n",
       "  </thead>\n",
       "  <tbody>\n",
       "    <tr>\n",
       "      <th>0</th>\n",
       "      <td>MIS/ Data Analyst-(SQL,Automation,Excel/PowerB...</td>\n",
       "      <td>Bengaluru</td>\n",
       "      <td>Flipkart Internet Private Limited</td>\n",
       "      <td>1-4 Yrs</td>\n",
       "    </tr>\n",
       "    <tr>\n",
       "      <th>1</th>\n",
       "      <td>Data Analyst - SAP</td>\n",
       "      <td>Pune, Delhi, Bengaluru, Gurgaon</td>\n",
       "      <td>Boston Scientific Corporation</td>\n",
       "      <td>3-5 Yrs</td>\n",
       "    </tr>\n",
       "    <tr>\n",
       "      <th>2</th>\n",
       "      <td>Hiring Data Analysts on Contract</td>\n",
       "      <td>Bengaluru</td>\n",
       "      <td>Flipkart Internet Private Limited</td>\n",
       "      <td>2-5 Yrs</td>\n",
       "    </tr>\n",
       "    <tr>\n",
       "      <th>3</th>\n",
       "      <td>Senior Data Analyst</td>\n",
       "      <td>Bengaluru / Bangalore</td>\n",
       "      <td>Schneider Electric</td>\n",
       "      <td>2-5 Yrs</td>\n",
       "    </tr>\n",
       "    <tr>\n",
       "      <th>4</th>\n",
       "      <td>Data Analyst</td>\n",
       "      <td>Bengaluru</td>\n",
       "      <td>Shell India Markets Private Limited</td>\n",
       "      <td>5-8 Yrs</td>\n",
       "    </tr>\n",
       "    <tr>\n",
       "      <th>5</th>\n",
       "      <td>Data Analyst -Azure Data lake, Azure Data factory</td>\n",
       "      <td>Chennai, Pune, Bengaluru, Hyderabad</td>\n",
       "      <td>Mindtree Limited</td>\n",
       "      <td>5-9 Yrs</td>\n",
       "    </tr>\n",
       "    <tr>\n",
       "      <th>6</th>\n",
       "      <td>Business / Data Analyst</td>\n",
       "      <td>Bengaluru</td>\n",
       "      <td>IBM India Pvt. Limited</td>\n",
       "      <td>2-4 Yrs</td>\n",
       "    </tr>\n",
       "    <tr>\n",
       "      <th>7</th>\n",
       "      <td>Data Analyst - O2C - Bangalore</td>\n",
       "      <td>Bengaluru</td>\n",
       "      <td>RANDSTAD INDIA PVT LTD</td>\n",
       "      <td>2-4 Yrs</td>\n",
       "    </tr>\n",
       "    <tr>\n",
       "      <th>8</th>\n",
       "      <td>Intern Data Analyst</td>\n",
       "      <td>Bengaluru</td>\n",
       "      <td>Outsource Big Data</td>\n",
       "      <td>0-1 Yrs</td>\n",
       "    </tr>\n",
       "    <tr>\n",
       "      <th>9</th>\n",
       "      <td>NiFi Data Analyst</td>\n",
       "      <td>Bengaluru</td>\n",
       "      <td>Capgemini Technology Services India Limited</td>\n",
       "      <td>4-6 Yrs</td>\n",
       "    </tr>\n",
       "  </tbody>\n",
       "</table>\n",
       "</div>"
      ],
      "text/plain": [
       "                                            JobTitle  \\\n",
       "0  MIS/ Data Analyst-(SQL,Automation,Excel/PowerB...   \n",
       "1                                 Data Analyst - SAP   \n",
       "2                   Hiring Data Analysts on Contract   \n",
       "3                                Senior Data Analyst   \n",
       "4                                       Data Analyst   \n",
       "5  Data Analyst -Azure Data lake, Azure Data factory   \n",
       "6                            Business / Data Analyst   \n",
       "7                     Data Analyst - O2C - Bangalore   \n",
       "8                                Intern Data Analyst   \n",
       "9                                  NiFi Data Analyst   \n",
       "\n",
       "                              Location  \\\n",
       "0                            Bengaluru   \n",
       "1      Pune, Delhi, Bengaluru, Gurgaon   \n",
       "2                            Bengaluru   \n",
       "3                Bengaluru / Bangalore   \n",
       "4                            Bengaluru   \n",
       "5  Chennai, Pune, Bengaluru, Hyderabad   \n",
       "6                            Bengaluru   \n",
       "7                            Bengaluru   \n",
       "8                            Bengaluru   \n",
       "9                            Bengaluru   \n",
       "\n",
       "                                  Company_name Experince_Required  \n",
       "0            Flipkart Internet Private Limited            1-4 Yrs  \n",
       "1                Boston Scientific Corporation            3-5 Yrs  \n",
       "2            Flipkart Internet Private Limited            2-5 Yrs  \n",
       "3                           Schneider Electric            2-5 Yrs  \n",
       "4          Shell India Markets Private Limited            5-8 Yrs  \n",
       "5                             Mindtree Limited            5-9 Yrs  \n",
       "6                       IBM India Pvt. Limited            2-4 Yrs  \n",
       "7                       RANDSTAD INDIA PVT LTD            2-4 Yrs  \n",
       "8                           Outsource Big Data            0-1 Yrs  \n",
       "9  Capgemini Technology Services India Limited            4-6 Yrs  "
      ]
     },
     "execution_count": 27,
     "metadata": {},
     "output_type": "execute_result"
    }
   ],
   "source": [
    "#Creating and printing dataframe\n",
    "import pandas as pd\n",
    "Jobs=pd.DataFrame({})\n",
    "Jobs['JobTitle']=JobTitle[:10]\n",
    "Jobs['Location']=Location[:10]\n",
    "Jobs['Company_name']=Company_name[:10]\n",
    "Jobs['Experince_Required']=Experince_Required[:10]\n",
    "Jobs"
   ]
  },
  {
   "cell_type": "markdown",
   "metadata": {},
   "source": [
    "Q2: Write a python program to scrape data for “Data Scientist” Job position in\n",
    "“Bangalore” location. You have to scrape the job-title, job-location,\n",
    "company_name, full job-description. You have to scrape first 10 jobs data."
   ]
  },
  {
   "cell_type": "code",
   "execution_count": 29,
   "metadata": {},
   "outputs": [],
   "source": [
    "#Path of web driver\n",
    "driver=webdriver.Chrome('D:\\DataTrained\\chromedriver_win32\\chromedriver.exe')\n",
    "#path of naukri.com\n",
    "driver.get('https://www.naukri.com/')"
   ]
  },
  {
   "cell_type": "code",
   "execution_count": 33,
   "metadata": {},
   "outputs": [],
   "source": [
    "#Search criteria as key Data Analyst and location Bangalore\n",
    "search_job=driver.find_element_by_id('qsb-keyword-sugg')\n",
    "search_job.send_keys('Data Scientist')\n",
    "search_loc=driver.find_element_by_xpath(\"//input[@id='qsb-location-sugg']\")\n",
    "search_loc.send_keys('Bangalore')"
   ]
  },
  {
   "cell_type": "code",
   "execution_count": 34,
   "metadata": {},
   "outputs": [],
   "source": [
    "#Click trigger of search button\n",
    "search_btn=driver.find_element_by_xpath(\"//div[@class='search-btn']/button\")\n",
    "search_btn.click()"
   ]
  },
  {
   "cell_type": "code",
   "execution_count": 35,
   "metadata": {},
   "outputs": [],
   "source": [
    "#Creeating the empty list\n",
    "JobTitle=[]\n",
    "Location=[]\n",
    "Company_name=[]\n",
    "Experince_Required=[]"
   ]
  },
  {
   "cell_type": "code",
   "execution_count": 36,
   "metadata": {},
   "outputs": [
    {
     "name": "stdout",
     "output_type": "stream",
     "text": [
      "['Data Scientist - Python/ MATLAB/ Machine Learning Algorithms', 'Lead Data Scientist - Machine Learning/ Data Mining', 'Data Scientist - Machine Learning (Commerce BU)', 'Data Scientist', 'Opening For Sr. Data Scientist @ Tech Mahindra', 'Opening For Sr. Data Scientist @ Tech Mahindra', 'Senior Data Scientist - NLP/ Python/ R', 'Senior Data Scientist | CES IT LTD | CMMI Level 5', 'Data Scientist and Senior Data Scientist Academic Operations', 'Sr. Analyst-Data Scientist', 'Sr . Data Scientist', 'DATA SCIENTIST / MACHINE LEARNING EXPERT', 'Artificial Intelligence Analyst/Data Scientist', 'Tech Mahindra is hiring For Data Scientist- Bangalore', 'Associate Data Scientist - CRM & Loyalty', 'Data Scientist - Advanced Analytics', 'Senior Data Scientist - Growth Markets', 'Data Scientist', 'Jr. Analyst- Data Scientist', 'Data Scientist/Data Analyst-immediate']\n",
      "['Wrackle Technologies Pvt Ltd', 'Wrackle Technologies Pvt Ltd', 'BLUE YONDER INDIA PRIVATE LIMITED', 'Atos Syntel Private Limited', 'Tech Mahindra Ltd.', 'Tech Mahindra Ltd.', 'AVI Consulting LLP', 'CES Ltd.', 'RANDSTAD INDIA PVT LTD', 'Mindtree Limited', 'NetApp', 'Spectrus', 'TalentCo Search Pvt Ltd', 'tech mahindra ltd', 'Shell India Markets Private Limited', 'IBM India Pvt. Limited', 'Twitter', 'Diverse Lynx', 'Mindtree Limited', 'CAIA-Center For Artificial Intelligence & Advanced Analytics']\n",
      "['Bengaluru', 'Bengaluru', 'Bengaluru', 'Chennai, Pune, Mumbai, Bengaluru', 'Pune, Bengaluru', 'Pune, Bengaluru', 'Bengaluru, Hyderabad', 'Chennai, Pune, Delhi NCR, Mumbai, Bengaluru, Hyderabad, Kolkata', 'Bengaluru', 'Bengaluru', 'Bengaluru', 'Bengaluru', 'Mumbai, Bengaluru', 'Bengaluru', 'Bengaluru', 'Bengaluru', 'Bengaluru', 'Bengaluru', 'Bengaluru', 'Chennai, Pune, Bengaluru, Hyderabad']\n",
      "['3-8 Yrs', '6-11 Yrs', '4-6 Yrs', '12-18 Yrs', '12-20 Yrs', '12-20 Yrs', '4-9 Yrs', '2-7 Yrs', '2-5 Yrs', '10-15 Yrs', '10-15 Yrs', '4-9 Yrs', '1-5 Yrs', '5-10 Yrs', '3-5 Yrs', '10-14 Yrs', '2-6 Yrs', '2-7 Yrs', '8-10 Yrs', '0-3 Yrs']\n"
     ]
    }
   ],
   "source": [
    "#Extracting title of job\n",
    "title_tag=driver.find_elements_by_xpath(\"//a[@class='title fw500 ellipsis']\")\n",
    "for i in title_tag:\n",
    "    JobTitle.append(i.text)\n",
    "print(JobTitle) \n",
    "#extracting company name\n",
    "company_tag=driver.find_elements_by_xpath(\"//a[@class='subTitle ellipsis fleft']\")\n",
    "for i in company_tag:\n",
    "    Company_name.append(i.text)\n",
    "print(Company_name)  \n",
    "#extracting job location\n",
    "location=driver.find_elements_by_xpath(\"//li[@class='fleft grey-text br2 placeHolderLi location']/span[1]\")\n",
    "for i in location:\n",
    "    Location.append(i.text)\n",
    "print(Location)  \n",
    "#Extracting exterience required\n",
    "exp=driver.find_elements_by_xpath(\"//li[@class='fleft grey-text br2 placeHolderLi experience']/span[1]\")\n",
    "for i in exp:\n",
    "    Experince_Required.append(i.text)\n",
    "print(Experince_Required)"
   ]
  },
  {
   "cell_type": "code",
   "execution_count": 43,
   "metadata": {},
   "outputs": [
    {
     "data": {
      "text/html": [
       "<div>\n",
       "<style scoped>\n",
       "    .dataframe tbody tr th:only-of-type {\n",
       "        vertical-align: middle;\n",
       "    }\n",
       "\n",
       "    .dataframe tbody tr th {\n",
       "        vertical-align: top;\n",
       "    }\n",
       "\n",
       "    .dataframe thead th {\n",
       "        text-align: right;\n",
       "    }\n",
       "</style>\n",
       "<table border=\"1\" class=\"dataframe\">\n",
       "  <thead>\n",
       "    <tr style=\"text-align: right;\">\n",
       "      <th></th>\n",
       "      <th>JobTitle</th>\n",
       "      <th>Location</th>\n",
       "      <th>Company_name</th>\n",
       "      <th>Experince_Required</th>\n",
       "    </tr>\n",
       "  </thead>\n",
       "  <tbody>\n",
       "    <tr>\n",
       "      <th>0</th>\n",
       "      <td>Data Scientist - Python/ MATLAB/ Machine Learn...</td>\n",
       "      <td>Bengaluru</td>\n",
       "      <td>Wrackle Technologies Pvt Ltd</td>\n",
       "      <td>3-8 Yrs</td>\n",
       "    </tr>\n",
       "    <tr>\n",
       "      <th>1</th>\n",
       "      <td>Lead Data Scientist - Machine Learning/ Data M...</td>\n",
       "      <td>Bengaluru</td>\n",
       "      <td>Wrackle Technologies Pvt Ltd</td>\n",
       "      <td>6-11 Yrs</td>\n",
       "    </tr>\n",
       "    <tr>\n",
       "      <th>2</th>\n",
       "      <td>Data Scientist - Machine Learning (Commerce BU)</td>\n",
       "      <td>Bengaluru</td>\n",
       "      <td>BLUE YONDER INDIA PRIVATE LIMITED</td>\n",
       "      <td>4-6 Yrs</td>\n",
       "    </tr>\n",
       "    <tr>\n",
       "      <th>3</th>\n",
       "      <td>Data Scientist</td>\n",
       "      <td>Chennai, Pune, Mumbai, Bengaluru</td>\n",
       "      <td>Atos Syntel Private Limited</td>\n",
       "      <td>12-18 Yrs</td>\n",
       "    </tr>\n",
       "    <tr>\n",
       "      <th>4</th>\n",
       "      <td>Opening For Sr. Data Scientist @ Tech Mahindra</td>\n",
       "      <td>Pune, Bengaluru</td>\n",
       "      <td>Tech Mahindra Ltd.</td>\n",
       "      <td>12-20 Yrs</td>\n",
       "    </tr>\n",
       "    <tr>\n",
       "      <th>5</th>\n",
       "      <td>Opening For Sr. Data Scientist @ Tech Mahindra</td>\n",
       "      <td>Pune, Bengaluru</td>\n",
       "      <td>Tech Mahindra Ltd.</td>\n",
       "      <td>12-20 Yrs</td>\n",
       "    </tr>\n",
       "    <tr>\n",
       "      <th>6</th>\n",
       "      <td>Senior Data Scientist - NLP/ Python/ R</td>\n",
       "      <td>Bengaluru, Hyderabad</td>\n",
       "      <td>AVI Consulting LLP</td>\n",
       "      <td>4-9 Yrs</td>\n",
       "    </tr>\n",
       "    <tr>\n",
       "      <th>7</th>\n",
       "      <td>Senior Data Scientist | CES IT LTD | CMMI Level 5</td>\n",
       "      <td>Chennai, Pune, Delhi NCR, Mumbai, Bengaluru, H...</td>\n",
       "      <td>CES Ltd.</td>\n",
       "      <td>2-7 Yrs</td>\n",
       "    </tr>\n",
       "    <tr>\n",
       "      <th>8</th>\n",
       "      <td>Data Scientist and Senior Data Scientist Acade...</td>\n",
       "      <td>Bengaluru</td>\n",
       "      <td>RANDSTAD INDIA PVT LTD</td>\n",
       "      <td>2-5 Yrs</td>\n",
       "    </tr>\n",
       "    <tr>\n",
       "      <th>9</th>\n",
       "      <td>Sr. Analyst-Data Scientist</td>\n",
       "      <td>Bengaluru</td>\n",
       "      <td>Mindtree Limited</td>\n",
       "      <td>10-15 Yrs</td>\n",
       "    </tr>\n",
       "  </tbody>\n",
       "</table>\n",
       "</div>"
      ],
      "text/plain": [
       "                                            JobTitle  \\\n",
       "0  Data Scientist - Python/ MATLAB/ Machine Learn...   \n",
       "1  Lead Data Scientist - Machine Learning/ Data M...   \n",
       "2    Data Scientist - Machine Learning (Commerce BU)   \n",
       "3                                     Data Scientist   \n",
       "4     Opening For Sr. Data Scientist @ Tech Mahindra   \n",
       "5     Opening For Sr. Data Scientist @ Tech Mahindra   \n",
       "6             Senior Data Scientist - NLP/ Python/ R   \n",
       "7  Senior Data Scientist | CES IT LTD | CMMI Level 5   \n",
       "8  Data Scientist and Senior Data Scientist Acade...   \n",
       "9                         Sr. Analyst-Data Scientist   \n",
       "\n",
       "                                            Location  \\\n",
       "0                                          Bengaluru   \n",
       "1                                          Bengaluru   \n",
       "2                                          Bengaluru   \n",
       "3                   Chennai, Pune, Mumbai, Bengaluru   \n",
       "4                                    Pune, Bengaluru   \n",
       "5                                    Pune, Bengaluru   \n",
       "6                               Bengaluru, Hyderabad   \n",
       "7  Chennai, Pune, Delhi NCR, Mumbai, Bengaluru, H...   \n",
       "8                                          Bengaluru   \n",
       "9                                          Bengaluru   \n",
       "\n",
       "                        Company_name Experince_Required  \n",
       "0       Wrackle Technologies Pvt Ltd            3-8 Yrs  \n",
       "1       Wrackle Technologies Pvt Ltd           6-11 Yrs  \n",
       "2  BLUE YONDER INDIA PRIVATE LIMITED            4-6 Yrs  \n",
       "3        Atos Syntel Private Limited          12-18 Yrs  \n",
       "4                 Tech Mahindra Ltd.          12-20 Yrs  \n",
       "5                 Tech Mahindra Ltd.          12-20 Yrs  \n",
       "6                 AVI Consulting LLP            4-9 Yrs  \n",
       "7                           CES Ltd.            2-7 Yrs  \n",
       "8             RANDSTAD INDIA PVT LTD            2-5 Yrs  \n",
       "9                   Mindtree Limited          10-15 Yrs  "
      ]
     },
     "execution_count": 43,
     "metadata": {},
     "output_type": "execute_result"
    }
   ],
   "source": [
    "#Creating and printing dataframe\n",
    "import pandas as pd\n",
    "Jobs=pd.DataFrame({})\n",
    "Jobs['JobTitle']=JobTitle[:10]\n",
    "Jobs['Location']=Location[:10]\n",
    "Jobs['Company_name']=Company_name[:10]\n",
    "Jobs['Experince_Required']=Experince_Required[:10]\n",
    "Jobs"
   ]
  },
  {
   "cell_type": "markdown",
   "metadata": {},
   "source": [
    "Q3:In this question you have to scrape data using the filters available on the\n",
    "webpage as shown below:"
   ]
  },
  {
   "cell_type": "code",
   "execution_count": 5,
   "metadata": {},
   "outputs": [],
   "source": [
    "#Search criteria as key Data Analyst and location Bangalore\n",
    "search_job=driver.find_element_by_id('qsb-keyword-sugg')\n",
    "search_job.send_keys('Data Scientist')"
   ]
  },
  {
   "cell_type": "code",
   "execution_count": 6,
   "metadata": {},
   "outputs": [],
   "source": [
    "#Click trigger of search button\n",
    "search_btn=driver.find_element_by_xpath(\"//div[@class='search-btn']/button\")\n",
    "search_btn.click()"
   ]
  },
  {
   "cell_type": "code",
   "execution_count": 7,
   "metadata": {},
   "outputs": [],
   "source": [
    "#Creeating the empty list\n",
    "JobTitle=[]\n",
    "Location=[]\n",
    "Company_name=[]\n",
    "Experince_Required=[]"
   ]
  },
  {
   "cell_type": "code",
   "execution_count": 10,
   "metadata": {},
   "outputs": [],
   "source": [
    "#Click trigger of search filter for city\n",
    "search_btn=driver.find_element_by_xpath(\"//span[@title='Delhi/NCR']\")\n",
    "search_btn.click()"
   ]
  },
  {
   "cell_type": "code",
   "execution_count": 11,
   "metadata": {},
   "outputs": [],
   "source": [
    "#Click trigger of search filter for salary button\n",
    "salary_filter=driver.find_element_by_xpath(\"//span[@title='3-6 Lakhs']\")\n",
    "salary_filter.click()"
   ]
  },
  {
   "cell_type": "code",
   "execution_count": 12,
   "metadata": {},
   "outputs": [
    {
     "name": "stdout",
     "output_type": "stream",
     "text": [
      "['Data Scientist', 'Data Scientist', 'Senior Data Scientist - NLP', 'Only Fresher / Data Scientist / Data Analyst / Analytics - MNC', 'Data Scientist', 'Data Scientist - Python/Machine Learning', 'Data Scientist Machine Learning', 'Tech Mahindra hiring For Data Scientist- Noida', 'Data Scientist - Commercial Planning and Analysis', 'Business Analyst - Data Scientist', 'Analyst - Data Scientist', 'Data Scientist', 'Senior Data Scientist/Python Engineer', 'Data Scientist', 'Senior Data Scientist', 'Data Scientist', 'Data Scientist', 'Data Scientist - Machine Learning/ NLP', 'Data Scientist', 'Data Scientist']\n",
      "['Country Veggie', 'IBM India Pvt. Limited', 'IRIS SOFTWARE Inc', 'GABA Consultancy services', 'Ciena', 'Jubna', 'Delhivery', 'tech mahindra ltd', 'Air Asia India Limited', 'HyreFox Consultants Pvt Ltd', 'HyreFox Consultants Pvt Ltd', 'Amity University', 'WillowAI', 'BlackBuck', 'iNICU', 'Mahajan Imaging', 'Mahajan Imaging', 'TalPro', 'PEOPLE STAFFING SOLUTIONS', 'T & A Solutions']\n",
      "['Ghaziabad, Bhopal, Lucknow, Kanpur, Rajkot, Bengaluru, Gurgaon, Agra, Bharuch, Jaunpur, Nagpur, Delhi, Mumbai, Jaipur, Jhansi', 'Gurgaon Gurugram', 'Delhi NCR', 'Delhi NCR, Noida, Gurgaon', 'Gurgaon Gurugram', 'Noida', 'Gurgaon', 'Noida', 'Delhi NCR, Gurgaon', 'Gurgaon', 'Gurgaon', 'Faridabad, Delhi NCR, Ghaziabad', 'Delhi NCR', 'Bengaluru, Gurgaon', 'Delhi', 'Delhi', 'Delhi', 'Gurgaon Gurugram', 'Pune, Bengaluru, Hyderabad, Gurgaon', 'Gurgaon']\n",
      "['1-3 Yrs', '4-8 Yrs', '4-9 Yrs', '0-0 Yrs', '5-6 Yrs', '5-8 Yrs', '1-3 Yrs', '5-10 Yrs', '1-6 Yrs', '3-5 Yrs', '1-3 Yrs', '6-8 Yrs', '5-7 Yrs', '3-7 Yrs', '1-5 Yrs', '2-6 Yrs', '2-6 Yrs', '2-6 Yrs', '3-6 Yrs', '1-6 Yrs']\n"
     ]
    }
   ],
   "source": [
    "#Extracting title of job\n",
    "title_tag=driver.find_elements_by_xpath(\"//a[@class='title fw500 ellipsis']\")\n",
    "for i in title_tag:\n",
    "    JobTitle.append(i.text)\n",
    "print(JobTitle) \n",
    "#extracting company name\n",
    "company_tag=driver.find_elements_by_xpath(\"//a[@class='subTitle ellipsis fleft']\")\n",
    "for i in company_tag:\n",
    "    Company_name.append(i.text)\n",
    "print(Company_name)  \n",
    "#extracting job location\n",
    "location=driver.find_elements_by_xpath(\"//li[@class='fleft grey-text br2 placeHolderLi location']/span[1]\")\n",
    "for i in location:\n",
    "    Location.append(i.text)\n",
    "print(Location)  \n",
    "#Extracting exterience required\n",
    "exp=driver.find_elements_by_xpath(\"//li[@class='fleft grey-text br2 placeHolderLi experience']/span[1]\")\n",
    "for i in exp:\n",
    "    Experince_Required.append(i.text)\n",
    "print(Experince_Required)"
   ]
  },
  {
   "cell_type": "code",
   "execution_count": 13,
   "metadata": {},
   "outputs": [
    {
     "data": {
      "text/html": [
       "<div>\n",
       "<style scoped>\n",
       "    .dataframe tbody tr th:only-of-type {\n",
       "        vertical-align: middle;\n",
       "    }\n",
       "\n",
       "    .dataframe tbody tr th {\n",
       "        vertical-align: top;\n",
       "    }\n",
       "\n",
       "    .dataframe thead th {\n",
       "        text-align: right;\n",
       "    }\n",
       "</style>\n",
       "<table border=\"1\" class=\"dataframe\">\n",
       "  <thead>\n",
       "    <tr style=\"text-align: right;\">\n",
       "      <th></th>\n",
       "      <th>JobTitle</th>\n",
       "      <th>Location</th>\n",
       "      <th>Company_name</th>\n",
       "      <th>Experince_Required</th>\n",
       "    </tr>\n",
       "  </thead>\n",
       "  <tbody>\n",
       "    <tr>\n",
       "      <th>0</th>\n",
       "      <td>Data Scientist</td>\n",
       "      <td>Ghaziabad, Bhopal, Lucknow, Kanpur, Rajkot, Be...</td>\n",
       "      <td>Country Veggie</td>\n",
       "      <td>1-3 Yrs</td>\n",
       "    </tr>\n",
       "    <tr>\n",
       "      <th>1</th>\n",
       "      <td>Data Scientist</td>\n",
       "      <td>Gurgaon Gurugram</td>\n",
       "      <td>IBM India Pvt. Limited</td>\n",
       "      <td>4-8 Yrs</td>\n",
       "    </tr>\n",
       "    <tr>\n",
       "      <th>2</th>\n",
       "      <td>Senior Data Scientist - NLP</td>\n",
       "      <td>Delhi NCR</td>\n",
       "      <td>IRIS SOFTWARE Inc</td>\n",
       "      <td>4-9 Yrs</td>\n",
       "    </tr>\n",
       "    <tr>\n",
       "      <th>3</th>\n",
       "      <td>Only Fresher / Data Scientist / Data Analyst /...</td>\n",
       "      <td>Delhi NCR, Noida, Gurgaon</td>\n",
       "      <td>GABA Consultancy services</td>\n",
       "      <td>0-0 Yrs</td>\n",
       "    </tr>\n",
       "    <tr>\n",
       "      <th>4</th>\n",
       "      <td>Data Scientist</td>\n",
       "      <td>Gurgaon Gurugram</td>\n",
       "      <td>Ciena</td>\n",
       "      <td>5-6 Yrs</td>\n",
       "    </tr>\n",
       "    <tr>\n",
       "      <th>5</th>\n",
       "      <td>Data Scientist - Python/Machine Learning</td>\n",
       "      <td>Noida</td>\n",
       "      <td>Jubna</td>\n",
       "      <td>5-8 Yrs</td>\n",
       "    </tr>\n",
       "    <tr>\n",
       "      <th>6</th>\n",
       "      <td>Data Scientist Machine Learning</td>\n",
       "      <td>Gurgaon</td>\n",
       "      <td>Delhivery</td>\n",
       "      <td>1-3 Yrs</td>\n",
       "    </tr>\n",
       "    <tr>\n",
       "      <th>7</th>\n",
       "      <td>Tech Mahindra hiring For Data Scientist- Noida</td>\n",
       "      <td>Noida</td>\n",
       "      <td>tech mahindra ltd</td>\n",
       "      <td>5-10 Yrs</td>\n",
       "    </tr>\n",
       "    <tr>\n",
       "      <th>8</th>\n",
       "      <td>Data Scientist - Commercial Planning and Analysis</td>\n",
       "      <td>Delhi NCR, Gurgaon</td>\n",
       "      <td>Air Asia India Limited</td>\n",
       "      <td>1-6 Yrs</td>\n",
       "    </tr>\n",
       "    <tr>\n",
       "      <th>9</th>\n",
       "      <td>Business Analyst - Data Scientist</td>\n",
       "      <td>Gurgaon</td>\n",
       "      <td>HyreFox Consultants Pvt Ltd</td>\n",
       "      <td>3-5 Yrs</td>\n",
       "    </tr>\n",
       "  </tbody>\n",
       "</table>\n",
       "</div>"
      ],
      "text/plain": [
       "                                            JobTitle  \\\n",
       "0                                     Data Scientist   \n",
       "1                                     Data Scientist   \n",
       "2                        Senior Data Scientist - NLP   \n",
       "3  Only Fresher / Data Scientist / Data Analyst /...   \n",
       "4                                     Data Scientist   \n",
       "5           Data Scientist - Python/Machine Learning   \n",
       "6                    Data Scientist Machine Learning   \n",
       "7     Tech Mahindra hiring For Data Scientist- Noida   \n",
       "8  Data Scientist - Commercial Planning and Analysis   \n",
       "9                  Business Analyst - Data Scientist   \n",
       "\n",
       "                                            Location  \\\n",
       "0  Ghaziabad, Bhopal, Lucknow, Kanpur, Rajkot, Be...   \n",
       "1                                   Gurgaon Gurugram   \n",
       "2                                          Delhi NCR   \n",
       "3                          Delhi NCR, Noida, Gurgaon   \n",
       "4                                   Gurgaon Gurugram   \n",
       "5                                              Noida   \n",
       "6                                            Gurgaon   \n",
       "7                                              Noida   \n",
       "8                                 Delhi NCR, Gurgaon   \n",
       "9                                            Gurgaon   \n",
       "\n",
       "                  Company_name Experince_Required  \n",
       "0               Country Veggie            1-3 Yrs  \n",
       "1       IBM India Pvt. Limited            4-8 Yrs  \n",
       "2            IRIS SOFTWARE Inc            4-9 Yrs  \n",
       "3    GABA Consultancy services            0-0 Yrs  \n",
       "4                        Ciena            5-6 Yrs  \n",
       "5                        Jubna            5-8 Yrs  \n",
       "6                    Delhivery            1-3 Yrs  \n",
       "7            tech mahindra ltd           5-10 Yrs  \n",
       "8       Air Asia India Limited            1-6 Yrs  \n",
       "9  HyreFox Consultants Pvt Ltd            3-5 Yrs  "
      ]
     },
     "execution_count": 13,
     "metadata": {},
     "output_type": "execute_result"
    }
   ],
   "source": [
    "#Creating and printing dataframe\n",
    "import pandas as pd\n",
    "Jobs=pd.DataFrame({})\n",
    "Jobs['JobTitle']=JobTitle[:10]\n",
    "Jobs['Location']=Location[:10]\n",
    "Jobs['Company_name']=Company_name[:10]\n",
    "Jobs['Experince_Required']=Experince_Required[:10]\n",
    "Jobs"
   ]
  },
  {
   "cell_type": "markdown",
   "metadata": {},
   "source": [
    "4.Write a python program to scrape data for first 10 job results for Data scientist\n",
    "Designation in Noida location. You have to scrape company_name, No. of days\n",
    "ago when job was posted, Rating of the company."
   ]
  },
  {
   "cell_type": "code",
   "execution_count": 124,
   "metadata": {},
   "outputs": [],
   "source": [
    "#Path of web driver\n",
    "driver=webdriver.Chrome('D:\\DataTrained\\chromedriver_win32\\chromedriver.exe')"
   ]
  },
  {
   "cell_type": "code",
   "execution_count": 61,
   "metadata": {},
   "outputs": [],
   "source": [
    "#path of glassdoor website\n",
    "driver.get('https://www.glassdoor.co.in/index.htm')"
   ]
  },
  {
   "cell_type": "code",
   "execution_count": 62,
   "metadata": {},
   "outputs": [],
   "source": [
    "#Search criteria as key Data Analyst and location Bangalore\n",
    "search_job=driver.find_element_by_id('scKeyword')\n",
    "search_job.send_keys('Data Scientist')"
   ]
  },
  {
   "cell_type": "code",
   "execution_count": 68,
   "metadata": {},
   "outputs": [],
   "source": [
    "search_loc=driver.find_element_by_xpath(\"//input[@id='scLocation']\")\n",
    "search_loc.send_keys('Noida')"
   ]
  },
  {
   "cell_type": "code",
   "execution_count": 69,
   "metadata": {},
   "outputs": [],
   "source": [
    "#Click trigger of search button\n",
    "search_btn=driver.find_element_by_xpath(\"//button[@class='pl-0 pr-xsm SearchStyles__searchKeywordSubmit']\")\n",
    "search_btn.click()"
   ]
  },
  {
   "cell_type": "code",
   "execution_count": 70,
   "metadata": {},
   "outputs": [],
   "source": [
    "Company_name=[]\n",
    "Age=[]\n",
    "Rating=[]"
   ]
  },
  {
   "cell_type": "code",
   "execution_count": 76,
   "metadata": {},
   "outputs": [
    {
     "name": "stdout",
     "output_type": "stream",
     "text": [
      "['BlackRock', 'BlackRock', 'abc consultants', 'Adobe', 'Brickred', 'Terra Economics & Analytics Lab (TEAL)', 'Biz2Credit Inc', 'Priority Vendor', 'Gauge Data Solutions', 'Healtheoz India', 'WishFin', 'SearchUrCollege', 'Ank Aha', 'Jubna', 'Techlive', 'xtLytics', 'Lumiq', 'Analytics Vidhya', 'Salasar New Age Technologies', 'ESRI, Inc.', 'Emerging India Group', 'Srijan Technologies Pvt Ltd', 'Microsoft', 'American Express Global Business Travel', 'THSTI', 'Mahajan Imaging', 'Fitfyles', 'IMMO', 'Great Learning', 'Windows Consultants Pvt. Ltd.', 'Ciena', 'Axslogic']\n"
     ]
    }
   ],
   "source": [
    "#Extracting Company name\n",
    "title_tag=driver.find_elements_by_xpath(\"//div[@class='d-flex justify-content-between align-items-start']/a/span\")\n",
    "for i in title_tag:\n",
    "    Company_name.append(i.text)\n",
    "print(Company_name) "
   ]
  },
  {
   "cell_type": "code",
   "execution_count": 77,
   "metadata": {},
   "outputs": [
    {
     "name": "stdout",
     "output_type": "stream",
     "text": [
      "['24h', '24h', '5d', '7d', '24d', '6d', '14d', '5d', '5d', '5d', '16d', '5d', '5d', '19d', '11d', '19d', '24d', '5d', '17d', '21d', '17d', '10d', '24d', '11d', '13d', '5d', '5d', '10d', '5d', '6d', '11d', '3d', '24h', '24h', '5d', '7d', '24d', '6d', '14d', '5d', '5d', '5d', '16d', '5d', '5d', '19d', '11d', '19d', '24d', '5d', '17d', '21d', '17d', '10d', '24d', '11d', '13d', '5d', '5d', '10d', '5d', '6d', '11d', '3d']\n"
     ]
    }
   ],
   "source": [
    "#Extracting Age from posted date\n",
    "age=driver.find_elements_by_xpath(\"//div[@class='d-flex align-items-end pl-std css-mi55ob']\")\n",
    "for i in age:\n",
    "    Age.append(i.text)\n",
    "print(Age) "
   ]
  },
  {
   "cell_type": "code",
   "execution_count": 78,
   "metadata": {},
   "outputs": [
    {
     "name": "stdout",
     "output_type": "stream",
     "text": [
      "['4.1', '4.1', '4.1', '4.4', '3.9', '4.9', '3.7', '3.7', '3.1', '4.8', '4.0', '4.1', '5.0', '3.0', '3.6', '4.1', '3.9', '3.9', '4.4', '3.8', '3.9', '4.0', '4.1', '4.3', '4.3', '4.1', '4.1', '4.1', '4.4', '3.9', '4.9', '3.7', '3.7', '3.1', '4.8', '4.0', '4.1', '5.0', '3.0', '3.6', '4.1', '3.9', '3.9', '4.4', '3.8', '3.9', '4.0', '4.1', '4.3', '4.3']\n"
     ]
    }
   ],
   "source": [
    "#Extracting title of job\n",
    "rate=driver.find_elements_by_xpath(\"//span[@class='css-19pjha7 e1cjmv6j1']\")\n",
    "for i in rate:\n",
    "    Rating.append(i.text)\n",
    "print(Rating) "
   ]
  },
  {
   "cell_type": "code",
   "execution_count": 79,
   "metadata": {},
   "outputs": [
    {
     "data": {
      "text/html": [
       "<div>\n",
       "<style scoped>\n",
       "    .dataframe tbody tr th:only-of-type {\n",
       "        vertical-align: middle;\n",
       "    }\n",
       "\n",
       "    .dataframe tbody tr th {\n",
       "        vertical-align: top;\n",
       "    }\n",
       "\n",
       "    .dataframe thead th {\n",
       "        text-align: right;\n",
       "    }\n",
       "</style>\n",
       "<table border=\"1\" class=\"dataframe\">\n",
       "  <thead>\n",
       "    <tr style=\"text-align: right;\">\n",
       "      <th></th>\n",
       "      <th>Company_name</th>\n",
       "      <th>Age_From_Posted</th>\n",
       "      <th>Rating</th>\n",
       "    </tr>\n",
       "  </thead>\n",
       "  <tbody>\n",
       "    <tr>\n",
       "      <th>0</th>\n",
       "      <td>BlackRock</td>\n",
       "      <td>24h</td>\n",
       "      <td>4.1</td>\n",
       "    </tr>\n",
       "    <tr>\n",
       "      <th>1</th>\n",
       "      <td>BlackRock</td>\n",
       "      <td>24h</td>\n",
       "      <td>4.1</td>\n",
       "    </tr>\n",
       "    <tr>\n",
       "      <th>2</th>\n",
       "      <td>abc consultants</td>\n",
       "      <td>5d</td>\n",
       "      <td>4.1</td>\n",
       "    </tr>\n",
       "    <tr>\n",
       "      <th>3</th>\n",
       "      <td>Adobe</td>\n",
       "      <td>7d</td>\n",
       "      <td>4.4</td>\n",
       "    </tr>\n",
       "    <tr>\n",
       "      <th>4</th>\n",
       "      <td>Brickred</td>\n",
       "      <td>24d</td>\n",
       "      <td>3.9</td>\n",
       "    </tr>\n",
       "    <tr>\n",
       "      <th>5</th>\n",
       "      <td>Terra Economics &amp; Analytics Lab (TEAL)</td>\n",
       "      <td>6d</td>\n",
       "      <td>4.9</td>\n",
       "    </tr>\n",
       "    <tr>\n",
       "      <th>6</th>\n",
       "      <td>Biz2Credit Inc</td>\n",
       "      <td>14d</td>\n",
       "      <td>3.7</td>\n",
       "    </tr>\n",
       "    <tr>\n",
       "      <th>7</th>\n",
       "      <td>Priority Vendor</td>\n",
       "      <td>5d</td>\n",
       "      <td>3.7</td>\n",
       "    </tr>\n",
       "    <tr>\n",
       "      <th>8</th>\n",
       "      <td>Gauge Data Solutions</td>\n",
       "      <td>5d</td>\n",
       "      <td>3.1</td>\n",
       "    </tr>\n",
       "    <tr>\n",
       "      <th>9</th>\n",
       "      <td>Healtheoz India</td>\n",
       "      <td>5d</td>\n",
       "      <td>4.8</td>\n",
       "    </tr>\n",
       "  </tbody>\n",
       "</table>\n",
       "</div>"
      ],
      "text/plain": [
       "                             Company_name Age_From_Posted Rating\n",
       "0                               BlackRock             24h    4.1\n",
       "1                               BlackRock             24h    4.1\n",
       "2                         abc consultants              5d    4.1\n",
       "3                                   Adobe              7d    4.4\n",
       "4                                Brickred             24d    3.9\n",
       "5  Terra Economics & Analytics Lab (TEAL)              6d    4.9\n",
       "6                          Biz2Credit Inc             14d    3.7\n",
       "7                         Priority Vendor              5d    3.7\n",
       "8                    Gauge Data Solutions              5d    3.1\n",
       "9                         Healtheoz India              5d    4.8"
      ]
     },
     "execution_count": 79,
     "metadata": {},
     "output_type": "execute_result"
    }
   ],
   "source": [
    "#Creating and printing dataframe\n",
    "import pandas as pd\n",
    "Jobs=pd.DataFrame({})\n",
    "Jobs['Company_name']=Company_name[:10]\n",
    "Jobs['Age_From_Posted']=Age[:10]\n",
    "Jobs['Rating']=Rating[:10]\n",
    "Jobs"
   ]
  },
  {
   "cell_type": "markdown",
   "metadata": {},
   "source": [
    "5.Write a python program to scrape the salary data for Data Scientist designation\n",
    "in Noida location."
   ]
  },
  {
   "cell_type": "code",
   "execution_count": 125,
   "metadata": {},
   "outputs": [],
   "source": [
    "#path of glassdoor website\n",
    "driver.get('https://www.glassdoor.co.in/Salaries/index.htm')"
   ]
  },
  {
   "cell_type": "code",
   "execution_count": 131,
   "metadata": {},
   "outputs": [],
   "source": [
    "#Search criteria as key Data Analyst and location Bangalore\n",
    "search_job=driver.find_element_by_id('sc.keyword')\n",
    "search_job.send_keys('Data Scientist')"
   ]
  },
  {
   "cell_type": "code",
   "execution_count": 132,
   "metadata": {},
   "outputs": [],
   "source": [
    "search_loc=driver.find_element_by_xpath(\"//input[@id='sc.location']\")\n",
    "search_loc.send_keys('Noida')"
   ]
  },
  {
   "cell_type": "code",
   "execution_count": 133,
   "metadata": {},
   "outputs": [],
   "source": [
    "#Click trigger of search button\n",
    "search_btn=driver.find_element_by_xpath(\"//button[@class='gd-btn-mkt']\")\n",
    "search_btn.click()"
   ]
  },
  {
   "cell_type": "code",
   "execution_count": 134,
   "metadata": {},
   "outputs": [],
   "source": [
    "Company_name=[]\n",
    "Number_Of_Salries=[]\n",
    "Average_salary=[]\n",
    "Min_sal=[]\n",
    "Max_sal=[]"
   ]
  },
  {
   "cell_type": "code",
   "execution_count": 149,
   "metadata": {},
   "outputs": [
    {
     "name": "stdout",
     "output_type": "stream",
     "text": [
      "['Delhivery', 'Ericsson-Worldwide', 'Tata Consultancy Services', 'Accenture', 'IBM', 'UnitedHealth Group', 'Valiance Solutions', 'Innovaccer', 'Cognizant Technology Solutions', 'EXL Service', 'ZS Associates', 'OYO', 'Tech Mahindra', 'Nagarro', 'Optum', 'Sprinklr', 'dunnhumby', 'Algo8.ai', 'Publicis Sapient', 'WNS']\n"
     ]
    }
   ],
   "source": [
    "#Extracting Company name\n",
    "title_tag=driver.find_elements_by_xpath(\"//p[@class='m-0 ']\")\n",
    "for i in title_tag:\n",
    "    Company_name.append(i.text)\n",
    "print(Company_name)    "
   ]
  },
  {
   "cell_type": "code",
   "execution_count": 150,
   "metadata": {},
   "outputs": [
    {
     "name": "stdout",
     "output_type": "stream",
     "text": [
      "['₹ 12,64,182/yr', '₹ 7,30,968/yr', '₹ 6,00,000/yr', '₹ 9,94,055/yr', '₹ 7,39,040/yr', '₹ 13,37,114/yr', '₹ 7,80,374/yr', '₹ 11,98,792/yr', '₹ 10,08,143/yr', '₹ 11,34,989/yr', '₹ 10,00,000/yr', '₹ 14,14,106/yr', '₹ 13,55,753/yr', '₹ 9,81,176/yr', '₹ 12,50,079/yr', '₹ 15,33,073/yr', '₹ 12,91,651/yr', '₹ 5,88,751/yr', '₹ 17,00,000/yr', '₹ 11,14,262/yr', '', '', '', '', '', '', '', '', '', '', '', '', '', '', '', '', '', '', '', '']\n"
     ]
    }
   ],
   "source": [
    "#Extracting Average salary\n",
    "salary=driver.find_elements_by_xpath(\"//p[@class='d-block d-md-none m-0']\")\n",
    "for i in salary:\n",
    "    Average_salary.append(i.text)\n",
    "print(Average_salary)    "
   ]
  },
  {
   "cell_type": "code",
   "execution_count": 151,
   "metadata": {},
   "outputs": [
    {
     "name": "stdout",
     "output_type": "stream",
     "text": [
      "['13 salaries', '12 salaries', '11 salaries', '10 salaries', '10 salaries', '9 salaries', '8 salaries', '7 salaries', '6 salaries', '6 salaries', '5 salaries', '5 salaries', '4 salaries', '4 salaries', '4 salaries', '4 salaries', '4 salaries', '4 salaries', '3 salaries', '3 salaries', '13 salaries', '12 salaries', '11 salaries', '10 salaries', '10 salaries', '9 salaries', '8 salaries', '7 salaries', '6 salaries', '6 salaries', '5 salaries', '5 salaries', '4 salaries', '4 salaries', '4 salaries', '4 salaries', '4 salaries', '4 salaries', '3 salaries', '3 salaries']\n"
     ]
    }
   ],
   "source": [
    "#Extracting number of salary\n",
    "salaries=driver.find_elements_by_xpath(\"//p[@class='css-1uyte9r css-1kuy7z7 m-0 ']\")\n",
    "for i in salaries:\n",
    "    Number_Of_Salries.append(i.text)\n",
    "print(Number_Of_Salries)   "
   ]
  },
  {
   "cell_type": "code",
   "execution_count": 152,
   "metadata": {},
   "outputs": [
    {
     "name": "stdout",
     "output_type": "stream",
     "text": [
      "['₹450K', '₹11,630K', '₹350K', '₹1,614K', '₹336K', '₹1,010K', '₹577K', '₹2,215K', '₹587K', '₹2,732K', '₹717K', '₹1,575K', '₹502K', '₹1,152K', '₹621K', '₹1,696K', '₹793K', '₹1,264K', '₹576K', '₹1,500K', '₹202K', '₹1,811K', '₹972K', '₹1,885K', '₹471K', '₹1,680K', '₹632K', '₹1,125K', '₹808K', '₹1,571K', '₹1,533K', '₹3,239K', '₹818K', '₹2,008K', '₹86K', '₹1,359K', '₹923K', '₹1,783K', '₹792K', '₹1,896K']\n"
     ]
    }
   ],
   "source": [
    "#Extracting minimum and maximum salary\n",
    "lst=[]\n",
    "minmax=driver.find_elements_by_xpath(\"//div[@class='common__RangeBarStyle__values common__flex__justifySpaceBetween common__flex__container ']/span\")\n",
    "for i in minmax:\n",
    "    lst.append(i.text)\n",
    "print(lst) "
   ]
  },
  {
   "cell_type": "code",
   "execution_count": 153,
   "metadata": {},
   "outputs": [
    {
     "name": "stdout",
     "output_type": "stream",
     "text": [
      "['₹11,630K', '₹1,614K', '₹1,010K', '₹2,215K', '₹2,732K', '₹1,575K', '₹1,152K', '₹1,696K', '₹1,264K', '₹1,500K', '₹1,811K', '₹1,885K', '₹1,680K', '₹1,125K', '₹1,571K', '₹3,239K', '₹2,008K', '₹1,359K', '₹1,783K', '₹1,896K']\n"
     ]
    }
   ],
   "source": [
    "Max_sal=lst[1::2]\n",
    "print(Max_sal)"
   ]
  },
  {
   "cell_type": "code",
   "execution_count": 154,
   "metadata": {},
   "outputs": [
    {
     "name": "stdout",
     "output_type": "stream",
     "text": [
      "['₹450K', '₹350K', '₹336K', '₹577K', '₹587K', '₹717K', '₹502K', '₹621K', '₹793K', '₹576K', '₹202K', '₹972K', '₹471K', '₹632K', '₹808K', '₹1,533K', '₹818K', '₹86K', '₹923K', '₹792K']\n"
     ]
    }
   ],
   "source": [
    "Min_sal=lst[::2]\n",
    "print(Min_sal)"
   ]
  },
  {
   "cell_type": "code",
   "execution_count": 156,
   "metadata": {},
   "outputs": [
    {
     "data": {
      "text/html": [
       "<div>\n",
       "<style scoped>\n",
       "    .dataframe tbody tr th:only-of-type {\n",
       "        vertical-align: middle;\n",
       "    }\n",
       "\n",
       "    .dataframe tbody tr th {\n",
       "        vertical-align: top;\n",
       "    }\n",
       "\n",
       "    .dataframe thead th {\n",
       "        text-align: right;\n",
       "    }\n",
       "</style>\n",
       "<table border=\"1\" class=\"dataframe\">\n",
       "  <thead>\n",
       "    <tr style=\"text-align: right;\">\n",
       "      <th></th>\n",
       "      <th>Company_name</th>\n",
       "      <th>Average_salary</th>\n",
       "      <th>Number_Of_Salries</th>\n",
       "      <th>Min_sal</th>\n",
       "      <th>Max_sal</th>\n",
       "    </tr>\n",
       "  </thead>\n",
       "  <tbody>\n",
       "    <tr>\n",
       "      <th>0</th>\n",
       "      <td>Delhivery</td>\n",
       "      <td>₹ 12,64,182/yr</td>\n",
       "      <td>13 salaries</td>\n",
       "      <td>₹450K</td>\n",
       "      <td>₹11,630K</td>\n",
       "    </tr>\n",
       "    <tr>\n",
       "      <th>1</th>\n",
       "      <td>Ericsson-Worldwide</td>\n",
       "      <td>₹ 7,30,968/yr</td>\n",
       "      <td>12 salaries</td>\n",
       "      <td>₹350K</td>\n",
       "      <td>₹1,614K</td>\n",
       "    </tr>\n",
       "    <tr>\n",
       "      <th>2</th>\n",
       "      <td>Tata Consultancy Services</td>\n",
       "      <td>₹ 6,00,000/yr</td>\n",
       "      <td>11 salaries</td>\n",
       "      <td>₹336K</td>\n",
       "      <td>₹1,010K</td>\n",
       "    </tr>\n",
       "    <tr>\n",
       "      <th>3</th>\n",
       "      <td>Accenture</td>\n",
       "      <td>₹ 9,94,055/yr</td>\n",
       "      <td>10 salaries</td>\n",
       "      <td>₹577K</td>\n",
       "      <td>₹2,215K</td>\n",
       "    </tr>\n",
       "    <tr>\n",
       "      <th>4</th>\n",
       "      <td>IBM</td>\n",
       "      <td>₹ 7,39,040/yr</td>\n",
       "      <td>10 salaries</td>\n",
       "      <td>₹587K</td>\n",
       "      <td>₹2,732K</td>\n",
       "    </tr>\n",
       "    <tr>\n",
       "      <th>5</th>\n",
       "      <td>UnitedHealth Group</td>\n",
       "      <td>₹ 13,37,114/yr</td>\n",
       "      <td>9 salaries</td>\n",
       "      <td>₹717K</td>\n",
       "      <td>₹1,575K</td>\n",
       "    </tr>\n",
       "    <tr>\n",
       "      <th>6</th>\n",
       "      <td>Valiance Solutions</td>\n",
       "      <td>₹ 7,80,374/yr</td>\n",
       "      <td>8 salaries</td>\n",
       "      <td>₹502K</td>\n",
       "      <td>₹1,152K</td>\n",
       "    </tr>\n",
       "    <tr>\n",
       "      <th>7</th>\n",
       "      <td>Innovaccer</td>\n",
       "      <td>₹ 11,98,792/yr</td>\n",
       "      <td>7 salaries</td>\n",
       "      <td>₹621K</td>\n",
       "      <td>₹1,696K</td>\n",
       "    </tr>\n",
       "    <tr>\n",
       "      <th>8</th>\n",
       "      <td>Cognizant Technology Solutions</td>\n",
       "      <td>₹ 10,08,143/yr</td>\n",
       "      <td>6 salaries</td>\n",
       "      <td>₹793K</td>\n",
       "      <td>₹1,264K</td>\n",
       "    </tr>\n",
       "    <tr>\n",
       "      <th>9</th>\n",
       "      <td>EXL Service</td>\n",
       "      <td>₹ 11,34,989/yr</td>\n",
       "      <td>6 salaries</td>\n",
       "      <td>₹576K</td>\n",
       "      <td>₹1,500K</td>\n",
       "    </tr>\n",
       "  </tbody>\n",
       "</table>\n",
       "</div>"
      ],
      "text/plain": [
       "                     Company_name  Average_salary Number_Of_Salries Min_sal  \\\n",
       "0                       Delhivery  ₹ 12,64,182/yr       13 salaries   ₹450K   \n",
       "1              Ericsson-Worldwide   ₹ 7,30,968/yr       12 salaries   ₹350K   \n",
       "2       Tata Consultancy Services   ₹ 6,00,000/yr       11 salaries   ₹336K   \n",
       "3                       Accenture   ₹ 9,94,055/yr       10 salaries   ₹577K   \n",
       "4                             IBM   ₹ 7,39,040/yr       10 salaries   ₹587K   \n",
       "5              UnitedHealth Group  ₹ 13,37,114/yr        9 salaries   ₹717K   \n",
       "6              Valiance Solutions   ₹ 7,80,374/yr        8 salaries   ₹502K   \n",
       "7                      Innovaccer  ₹ 11,98,792/yr        7 salaries   ₹621K   \n",
       "8  Cognizant Technology Solutions  ₹ 10,08,143/yr        6 salaries   ₹793K   \n",
       "9                     EXL Service  ₹ 11,34,989/yr        6 salaries   ₹576K   \n",
       "\n",
       "    Max_sal  \n",
       "0  ₹11,630K  \n",
       "1   ₹1,614K  \n",
       "2   ₹1,010K  \n",
       "3   ₹2,215K  \n",
       "4   ₹2,732K  \n",
       "5   ₹1,575K  \n",
       "6   ₹1,152K  \n",
       "7   ₹1,696K  \n",
       "8   ₹1,264K  \n",
       "9   ₹1,500K  "
      ]
     },
     "execution_count": 156,
     "metadata": {},
     "output_type": "execute_result"
    }
   ],
   "source": [
    "#Creating and printing dataframe\n",
    "import pandas as pd\n",
    "Jobs=pd.DataFrame({})\n",
    "Jobs['Company_name']=Company_name[:10]\n",
    "Jobs['Average_salary']=Average_salary[:10]\n",
    "Jobs['Number_Of_Salries']=Number_Of_Salries[:10]\n",
    "Jobs['Min_sal']=Min_sal[:10]\n",
    "Jobs['Max_sal']=Max_sal[:10]\n",
    "Jobs"
   ]
  },
  {
   "cell_type": "markdown",
   "metadata": {},
   "source": [
    "Q6 : Scrape data of first 100 sunglasses listings on flipkart.com. You have to\n",
    "scrape four attributes:\n",
    "1. Brand\n",
    "2. Product Description\n",
    "3. Price\n",
    "4. Discount %"
   ]
  },
  {
   "cell_type": "code",
   "execution_count": 169,
   "metadata": {},
   "outputs": [],
   "source": [
    "#Path of web driver\n",
    "driver=webdriver.Chrome('D:\\DataTrained\\chromedriver_win32\\chromedriver.exe')"
   ]
  },
  {
   "cell_type": "code",
   "execution_count": 158,
   "metadata": {},
   "outputs": [],
   "source": [
    "driver.get('https://www.flipkart.com/')"
   ]
  },
  {
   "cell_type": "code",
   "execution_count": 159,
   "metadata": {},
   "outputs": [],
   "source": [
    "#Search criteria as key sunglasses\n",
    "search_loc=driver.find_element_by_xpath(\"//input[@class='_3704LK']\")\n",
    "search_loc.send_keys('sunglasses')"
   ]
  },
  {
   "cell_type": "code",
   "execution_count": 161,
   "metadata": {},
   "outputs": [],
   "source": [
    "#Click trigger of search button\n",
    "search_btn=driver.find_element_by_xpath(\"//button[@class='L0Z3Pu']\")\n",
    "search_btn.click()"
   ]
  },
  {
   "cell_type": "code",
   "execution_count": 162,
   "metadata": {},
   "outputs": [],
   "source": [
    "Brand=[]\n",
    "Product_Description=[]\n",
    "Price=[]\n",
    "Discount=[]"
   ]
  },
  {
   "cell_type": "code",
   "execution_count": 163,
   "metadata": {},
   "outputs": [
    {
     "name": "stdout",
     "output_type": "stream",
     "text": [
      "['Fastrack', 'ROZZETTA CRAFT', 'Fastrack', 'Fastrack', 'Rozzetta Craft', 'ROZZETTA CRAFT', 'Fastrack', 'Elligator', 'Phenomenal', 'Fastrack', 'Fastrack', 'PIRASO', 'Phenomenal', 'shah collections', 'Fastrack', 'Fastrack', 'Fastrack', 'Gansta', 'shah collections', 'Deixels', 'funglasses', 'PIRASO', 'Royal Son', 'Online Mantra', 'ROZZETTA CRAFT', 'NuVew', 'LOPO', 'Fastrack', 'kingsunglasses', 'Fastrack', 'PIRASO', 'Rozzetta Craft', 'Fastrack', 'Fastrack', 'Riffko', 'EYELLUSION', 'PIRASO', 'ROZZETTA CRAFT', 'Silver Kartz', 'like future']\n"
     ]
    }
   ],
   "source": [
    "#Extracting Brand name\n",
    "bnd=driver.find_elements_by_xpath(\"//div[@class='_2WkVRV']\")\n",
    "for i in bnd:\n",
    "    Brand.append(i.text)\n",
    "print(Brand) "
   ]
  },
  {
   "cell_type": "code",
   "execution_count": 164,
   "metadata": {},
   "outputs": [
    {
     "name": "stdout",
     "output_type": "stream",
     "text": [
      "['UV Protection Aviator Sunglasses (Free Size)', 'UV Protection Retro Square Sunglasses (Free Size)', 'Gradient, UV Protection Wayfarer Sunglasses (Free Size)', 'Gradient, UV Protection Wayfarer Sunglasses (Free Size)', 'UV Protection Rectangular Sunglasses (Free Size)', 'UV Protection, Gradient Rectangular Sunglasses (Free Si...', 'UV Protection Wayfarer Sunglasses (Free Size)', 'UV Protection Round Sunglasses (54)', 'UV Protection Retro Square Sunglasses (Free Size)', 'UV Protection Wayfarer Sunglasses (Free Size)', 'UV Protection Wayfarer Sunglasses (56)', 'UV Protection Aviator Sunglasses (Free Size)', 'UV Protection, Mirrored Retro Square Sunglasses (53)', 'UV Protection Round Sunglasses (Free Size)', 'UV Protection Aviator Sunglasses (58)', 'Gradient, UV Protection Wayfarer Sunglasses (Free Size)', 'Mirrored, UV Protection Wayfarer Sunglasses (Free Size)', 'UV Protection Aviator Sunglasses (57)', 'UV Protection, Polarized, Mirrored Rectangular Sunglass...', 'UV Protection Wayfarer Sunglasses (Free Size)', 'UV Protection Aviator Sunglasses (54)', 'UV Protection Wayfarer Sunglasses (55)', 'UV Protection Retro Square Sunglasses (Free Size)', 'UV Protection Aviator Sunglasses (58)', 'Polarized, Mirrored, UV Protection Retro Square, Over-s...', 'UV Protection Rectangular Sunglasses (Free Size)', 'Mirrored, UV Protection Wayfarer, Wayfarer, Wayfarer, W...', 'Gradient, UV Protection Wayfarer Sunglasses (Free Size)', 'UV Protection Aviator Sunglasses (54)', 'UV Protection Shield Sunglasses (54)', 'UV Protection Shield Sunglasses (Free Size)', 'UV Protection Wrap-around Sunglasses (Free Size)', 'Night Vision, Polarized, UV Protection, Riding Glasses ...', 'UV Protection Aviator Sunglasses (58)', 'Mirrored, UV Protection Round Sunglasses (Free Size)', 'UV Protection Oval Sunglasses (56)']\n"
     ]
    }
   ],
   "source": [
    "#Extracting Description\n",
    "desc=driver.find_elements_by_xpath(\"//a[@class='IRpwTa']\")\n",
    "for i in desc:\n",
    "    Product_Description.append(i.text)\n",
    "print(Product_Description) "
   ]
  },
  {
   "cell_type": "code",
   "execution_count": 166,
   "metadata": {},
   "outputs": [
    {
     "name": "stdout",
     "output_type": "stream",
     "text": [
      "['₹537', '₹499', '₹659', '₹700', '₹398', '₹404', '₹761', '₹295', '₹399', '₹674', '₹783', '₹314', '₹399', '₹331', '₹1,123', '₹646', '₹873', '₹284', '₹227', '₹189', '₹161', '₹225', '₹279', '₹150', '₹499', '₹195', '₹179', '₹695', '₹284', '₹850', '₹225', '₹499', '₹763', '₹830', '₹210', '₹344', '₹349', '₹399', '₹265', '₹171']\n"
     ]
    }
   ],
   "source": [
    "#Extracting price of product\n",
    "pri=driver.find_elements_by_xpath(\"//div[@class='_30jeq3']\")\n",
    "for i in pri:\n",
    "    Price.append(i.text)\n",
    "print(Price) "
   ]
  },
  {
   "cell_type": "code",
   "execution_count": 167,
   "metadata": {},
   "outputs": [
    {
     "name": "stdout",
     "output_type": "stream",
     "text": [
      "['40% off', '77% off', '17% off', '12% off', '73% off', '79% off', '15% off', '88% off', '80% off', '15% off', '12% off', '80% off', '80% off', '80% off', '13% off', '19% off', '12% off', '85% off', '77% off', '89% off', '83% off', '85% off', '78% off', '70% off', '77% off', '75% off', '74% off', '13% off', '81% off', '14% off', '85% off', '80% off', '15% off', '7% off', '82% off', '85% off', '86% off', '72% off', '77% off', '84% off']\n"
     ]
    }
   ],
   "source": [
    "#Extracting discount on product\n",
    "dis=driver.find_elements_by_xpath(\"//div[@class='_3Ay6Sb']/span\")\n",
    "for i in dis:\n",
    "    Discount.append(i.text)\n",
    "print(Discount) "
   ]
  },
  {
   "cell_type": "code",
   "execution_count": 168,
   "metadata": {},
   "outputs": [
    {
     "data": {
      "text/html": [
       "<div>\n",
       "<style scoped>\n",
       "    .dataframe tbody tr th:only-of-type {\n",
       "        vertical-align: middle;\n",
       "    }\n",
       "\n",
       "    .dataframe tbody tr th {\n",
       "        vertical-align: top;\n",
       "    }\n",
       "\n",
       "    .dataframe thead th {\n",
       "        text-align: right;\n",
       "    }\n",
       "</style>\n",
       "<table border=\"1\" class=\"dataframe\">\n",
       "  <thead>\n",
       "    <tr style=\"text-align: right;\">\n",
       "      <th></th>\n",
       "      <th>Brand</th>\n",
       "      <th>Description</th>\n",
       "      <th>Price</th>\n",
       "      <th>Offer</th>\n",
       "    </tr>\n",
       "  </thead>\n",
       "  <tbody>\n",
       "    <tr>\n",
       "      <th>0</th>\n",
       "      <td>Fastrack</td>\n",
       "      <td>UV Protection Aviator Sunglasses (Free Size)</td>\n",
       "      <td>₹537</td>\n",
       "      <td>40% off</td>\n",
       "    </tr>\n",
       "    <tr>\n",
       "      <th>1</th>\n",
       "      <td>ROZZETTA CRAFT</td>\n",
       "      <td>UV Protection Retro Square Sunglasses (Free Size)</td>\n",
       "      <td>₹499</td>\n",
       "      <td>77% off</td>\n",
       "    </tr>\n",
       "    <tr>\n",
       "      <th>2</th>\n",
       "      <td>Fastrack</td>\n",
       "      <td>Gradient, UV Protection Wayfarer Sunglasses (F...</td>\n",
       "      <td>₹659</td>\n",
       "      <td>17% off</td>\n",
       "    </tr>\n",
       "    <tr>\n",
       "      <th>3</th>\n",
       "      <td>Fastrack</td>\n",
       "      <td>Gradient, UV Protection Wayfarer Sunglasses (F...</td>\n",
       "      <td>₹700</td>\n",
       "      <td>12% off</td>\n",
       "    </tr>\n",
       "    <tr>\n",
       "      <th>4</th>\n",
       "      <td>Rozzetta Craft</td>\n",
       "      <td>UV Protection Rectangular Sunglasses (Free Size)</td>\n",
       "      <td>₹398</td>\n",
       "      <td>73% off</td>\n",
       "    </tr>\n",
       "    <tr>\n",
       "      <th>5</th>\n",
       "      <td>ROZZETTA CRAFT</td>\n",
       "      <td>UV Protection, Gradient Rectangular Sunglasses...</td>\n",
       "      <td>₹404</td>\n",
       "      <td>79% off</td>\n",
       "    </tr>\n",
       "    <tr>\n",
       "      <th>6</th>\n",
       "      <td>Fastrack</td>\n",
       "      <td>UV Protection Wayfarer Sunglasses (Free Size)</td>\n",
       "      <td>₹761</td>\n",
       "      <td>15% off</td>\n",
       "    </tr>\n",
       "    <tr>\n",
       "      <th>7</th>\n",
       "      <td>Elligator</td>\n",
       "      <td>UV Protection Round Sunglasses (54)</td>\n",
       "      <td>₹295</td>\n",
       "      <td>88% off</td>\n",
       "    </tr>\n",
       "    <tr>\n",
       "      <th>8</th>\n",
       "      <td>Phenomenal</td>\n",
       "      <td>UV Protection Retro Square Sunglasses (Free Size)</td>\n",
       "      <td>₹399</td>\n",
       "      <td>80% off</td>\n",
       "    </tr>\n",
       "    <tr>\n",
       "      <th>9</th>\n",
       "      <td>Fastrack</td>\n",
       "      <td>UV Protection Wayfarer Sunglasses (Free Size)</td>\n",
       "      <td>₹674</td>\n",
       "      <td>15% off</td>\n",
       "    </tr>\n",
       "  </tbody>\n",
       "</table>\n",
       "</div>"
      ],
      "text/plain": [
       "            Brand                                        Description Price  \\\n",
       "0        Fastrack       UV Protection Aviator Sunglasses (Free Size)  ₹537   \n",
       "1  ROZZETTA CRAFT  UV Protection Retro Square Sunglasses (Free Size)  ₹499   \n",
       "2        Fastrack  Gradient, UV Protection Wayfarer Sunglasses (F...  ₹659   \n",
       "3        Fastrack  Gradient, UV Protection Wayfarer Sunglasses (F...  ₹700   \n",
       "4  Rozzetta Craft   UV Protection Rectangular Sunglasses (Free Size)  ₹398   \n",
       "5  ROZZETTA CRAFT  UV Protection, Gradient Rectangular Sunglasses...  ₹404   \n",
       "6        Fastrack      UV Protection Wayfarer Sunglasses (Free Size)  ₹761   \n",
       "7       Elligator                UV Protection Round Sunglasses (54)  ₹295   \n",
       "8      Phenomenal  UV Protection Retro Square Sunglasses (Free Size)  ₹399   \n",
       "9        Fastrack      UV Protection Wayfarer Sunglasses (Free Size)  ₹674   \n",
       "\n",
       "     Offer  \n",
       "0  40% off  \n",
       "1  77% off  \n",
       "2  17% off  \n",
       "3  12% off  \n",
       "4  73% off  \n",
       "5  79% off  \n",
       "6  15% off  \n",
       "7  88% off  \n",
       "8  80% off  \n",
       "9  15% off  "
      ]
     },
     "execution_count": 168,
     "metadata": {},
     "output_type": "execute_result"
    }
   ],
   "source": [
    "#Creating and printing dataframe\n",
    "import pandas as pd\n",
    "Flipkart_Data=pd.DataFrame({})\n",
    "Flipkart_Data['Brand']=Brand[:10]\n",
    "Flipkart_Data['Description']=Product_Description[:10]\n",
    "Flipkart_Data['Price']=Price[:10]\n",
    "Flipkart_Data['Offer']=Discount[:10]\n",
    "Flipkart_Data"
   ]
  },
  {
   "cell_type": "markdown",
   "metadata": {},
   "source": [
    "Q7:Scrape 100 reviews data from flipkart.com for iphone11 phone. You have to\n",
    "go the link: https://www.flipkart.com/apple-iphone-11-black-64-gb-includesearpods-poweradapter/p/itm0f37c2240b217?pid=MOBFKCTSVZAXUHGR&lid=LSTMOBFKC\n",
    "TSVZAXUHGREPBFGI&marketplace.\n",
    "When you will open the above link you will reach to the below shown webpage."
   ]
  },
  {
   "cell_type": "code",
   "execution_count": 170,
   "metadata": {},
   "outputs": [],
   "source": [
    "#Path of web driver\n",
    "driver=webdriver.Chrome('D:\\DataTrained\\chromedriver_win32\\chromedriver.exe')"
   ]
  },
  {
   "cell_type": "code",
   "execution_count": 171,
   "metadata": {},
   "outputs": [],
   "source": [
    "driver.get(' https://www.flipkart.com/apple-iphone-11-black-64-gb-includesearpods-poweradapter/p/itm0f37c2240b217?pid=MOBFKCTSVZAXUHGR&lid=LSTMOBFKCTSVZAXUHGREPBFGI&marketplace.')"
   ]
  },
  {
   "cell_type": "code",
   "execution_count": 212,
   "metadata": {},
   "outputs": [],
   "source": [
    "Rating=[]\n",
    "Summary=[]\n",
    "Review=[]"
   ]
  },
  {
   "cell_type": "code",
   "execution_count": 225,
   "metadata": {},
   "outputs": [
    {
     "name": "stdout",
     "output_type": "stream",
     "text": [
      "['5', '5', '5', '5', '5', '5', '5', '5', '5', '4', '5', '5', '5', '5', '5', '5', '5', '5', '5', '4', '5', '5', '5', '5', '5', '5', '5', '5', '5', '4', '5', '5', '5', '5', '5', '5', '5', '5', '5', '4', '5', '5', '5', '5', '5', '5', '5', '5', '5', '4', '5', '5', '5', '5', '5', '5', '5', '5', '5', '4', '5', '5', '5', '5', '5', '5', '5', '5', '5', '4', '5', '5', '5', '5', '5', '5', '5', '5', '5', '4', '5', '5', '5', '5', '5', '5', '5', '5', '5', '4', '5', '5', '5', '5', '5', '5', '5', '5', '5', '4', '5', '5', '5', '5', '5', '5', '5', '5', '5', '4', '5', '5', '5', '5', '5', '5', '5', '5', '5', '4', '5', '5', '5', '5', '5', '5', '5', '5', '5', '4', '5', '5', '5', '5', '5', '5', '5', '5', '5', '4', '5', '5', '5', '5', '5', '5', '5', '5', '5', '4', '5', '5', '5', '5', '5', '5', '5', '5', '5', '4', '5', '5', '5', '5', '5', '5', '5', '5', '5', '4', '5', '5', '5', '5', '5', '5', '5', '5', '5', '4', '5', '5', '5', '5', '5', '5', '5', '5', '5', '4', '5', '5', '5', '5', '5', '5', '5', '5', '5', '4', '5', '5', '5', '5', '5', '5', '5', '5', '5', '4', '5', '5', '5', '5', '5', '5', '5', '5', '5', '4', '5', '5', '5', '5', '5', '5', '5', '5', '5', '4', '5', '5', '5', '5', '5', '5', '5', '5', '5', '4', '5', '5', '5', '5', '5', '5', '5', '5', '5', '4', '5', '5', '5', '5', '5', '5', '5', '5', '5', '4', '5', '5', '5', '5', '5', '5', '5', '5', '5', '4', '5', '5', '5', '5', '5', '5', '5', '5', '5', '4', '5', '5', '5', '5', '5', '5', '5', '5', '5', '4', '5', '5', '5', '5', '5', '5', '5', '5', '5', '4', '5', '5', '5', '5', '5', '5', '5', '5', '5', '4', '5', '5', '5', '5', '5', '5', '5', '5', '5', '4', '5', '5', '5', '5', '5', '5', '5', '5', '5', '4', '5', '5', '5', '5', '5', '5', '5', '5', '5', '4', '5', '5', '5', '5', '5', '5', '5', '5', '5', '4', '5', '5', '5', '5', '5', '5', '5', '5', '5', '4', '5', '5', '5', '5', '5', '5', '5', '5', '5', '4', '5', '5', '5', '5', '5', '5', '5', '5', '5', '4', '5', '5', '5', '5', '5', '5', '5', '5', '5', '4', '5', '5', '5', '5', '5', '5', '5', '5', '5', '4']\n"
     ]
    }
   ],
   "source": [
    "for pages in range(0,20):\n",
    "    \n",
    "    tags=driver.find_elements_by_xpath(\"//div[@class='_3LWZlK _1BLPMq']\")\n",
    "    \n",
    "    \n",
    "    for i in tags:\n",
    "        Rat=i.text\n",
    "        Rating.append(Rat)\n",
    "        \n",
    "    driver.find_elements_by_xpath(\"//a[@class='ge-49M']\")\n",
    "        \n",
    "    \n",
    "    \n",
    "print(Rating)"
   ]
  },
  {
   "cell_type": "code",
   "execution_count": 226,
   "metadata": {},
   "outputs": [
    {
     "name": "stdout",
     "output_type": "stream",
     "text": [
      "['Perfect product!', 'Great product', 'Highly recommended', 'Perfect product!', 'Brilliant', 'Perfect product!', 'Worth every penny', 'Worth every penny', 'Wonderful', 'Nice product', 'Perfect product!', 'Great product', 'Highly recommended', 'Perfect product!', 'Brilliant', 'Perfect product!', 'Worth every penny', 'Worth every penny', 'Wonderful', 'Nice product', 'Perfect product!', 'Great product', 'Highly recommended', 'Perfect product!', 'Brilliant', 'Perfect product!', 'Worth every penny', 'Worth every penny', 'Wonderful', 'Nice product', 'Perfect product!', 'Great product', 'Highly recommended', 'Perfect product!', 'Brilliant', 'Perfect product!', 'Worth every penny', 'Worth every penny', 'Wonderful', 'Nice product', 'Perfect product!', 'Great product', 'Highly recommended', 'Perfect product!', 'Brilliant', 'Perfect product!', 'Worth every penny', 'Worth every penny', 'Wonderful', 'Nice product', 'Perfect product!', 'Great product', 'Highly recommended', 'Perfect product!', 'Brilliant', 'Perfect product!', 'Worth every penny', 'Worth every penny', 'Wonderful', 'Nice product', 'Perfect product!', 'Great product', 'Highly recommended', 'Perfect product!', 'Brilliant', 'Perfect product!', 'Worth every penny', 'Worth every penny', 'Wonderful', 'Nice product', 'Perfect product!', 'Great product', 'Highly recommended', 'Perfect product!', 'Brilliant', 'Perfect product!', 'Worth every penny', 'Worth every penny', 'Wonderful', 'Nice product', 'Perfect product!', 'Great product', 'Highly recommended', 'Perfect product!', 'Brilliant', 'Perfect product!', 'Worth every penny', 'Worth every penny', 'Wonderful', 'Nice product', 'Perfect product!', 'Great product', 'Highly recommended', 'Perfect product!', 'Brilliant', 'Perfect product!', 'Worth every penny', 'Worth every penny', 'Wonderful', 'Nice product', 'Perfect product!', 'Great product', 'Highly recommended', 'Perfect product!', 'Brilliant', 'Perfect product!', 'Worth every penny', 'Worth every penny', 'Wonderful', 'Nice product', 'Perfect product!', 'Great product', 'Highly recommended', 'Perfect product!', 'Brilliant', 'Perfect product!', 'Worth every penny', 'Worth every penny', 'Wonderful', 'Nice product', 'Perfect product!', 'Great product', 'Highly recommended', 'Perfect product!', 'Brilliant', 'Perfect product!', 'Worth every penny', 'Worth every penny', 'Wonderful', 'Nice product', 'Perfect product!', 'Great product', 'Highly recommended', 'Perfect product!', 'Brilliant', 'Perfect product!', 'Worth every penny', 'Worth every penny', 'Wonderful', 'Nice product', 'Perfect product!', 'Great product', 'Highly recommended', 'Perfect product!', 'Brilliant', 'Perfect product!', 'Worth every penny', 'Worth every penny', 'Wonderful', 'Nice product', 'Perfect product!', 'Great product', 'Highly recommended', 'Perfect product!', 'Brilliant', 'Perfect product!', 'Worth every penny', 'Worth every penny', 'Wonderful', 'Nice product', 'Perfect product!', 'Great product', 'Highly recommended', 'Perfect product!', 'Brilliant', 'Perfect product!', 'Worth every penny', 'Worth every penny', 'Wonderful', 'Nice product', 'Perfect product!', 'Great product', 'Highly recommended', 'Perfect product!', 'Brilliant', 'Perfect product!', 'Worth every penny', 'Worth every penny', 'Wonderful', 'Nice product', 'Perfect product!', 'Great product', 'Highly recommended', 'Perfect product!', 'Brilliant', 'Perfect product!', 'Worth every penny', 'Worth every penny', 'Wonderful', 'Nice product', 'Perfect product!', 'Great product', 'Highly recommended', 'Perfect product!', 'Brilliant', 'Perfect product!', 'Worth every penny', 'Worth every penny', 'Wonderful', 'Nice product']\n"
     ]
    }
   ],
   "source": [
    "for pages in range(0,20):\n",
    "    tags=driver.find_elements_by_xpath(\"//p[@class='_2-N8zT']\")\n",
    "    \n",
    "    for i in tags:\n",
    "        summ=i.text\n",
    "        Summary.append(summ)\n",
    "        \n",
    "    \n",
    "    driver.find_elements_by_xpath(\"//a[@class='ge-49M']\")\n",
    "        \n",
    "    \n",
    "    \n",
    "print(Summary)"
   ]
  },
  {
   "cell_type": "code",
   "execution_count": 227,
   "metadata": {},
   "outputs": [
    {
     "name": "stdout",
     "output_type": "stream",
     "text": [
      "['Amazing phone with great cameras and better battery which gives you the best performance. I just love the camera .', 'Amazing Powerful and Durable Gadget.\\n\\nI’m am very happy with the camera picture quality, Amazing face id unlocked in dark room, Strong battery with perfect screen size as you can carry easily in pocket. This is my third iPhone.\\n\\nI shifted from android Samsung Note series to iPhone because of the strong build quality and peace of mind for next 3-4 years.\\n\\nDon’t think to much just go for it and I suggest you to go for minimum 128gb variant or more 256gb.\\n\\nI’ve attached my puppy pics and no fi...\\nREAD MORE', 'iphone 11 is a very good phone to buy only if you can compromise for the display. The display on this is device is pretty good but you can get other options with better displays in this price segment.\\nIf you can survive with an HD+ LCD panel with thicker bezels and a notch up top then this is a very good phone for you.\\nCameras are awesome, battery backup excellent, great performance and a decent premium look. Good job Apple !', 'It’s a must buy who is looking for an upgrade from previous generation of iPhones. If you are using XR then still you can hold on for sometime and upgrade to 2020 model else this phone is a must buy . Camera quality is amazing and wide angle is something to count upon. Performance wise it’s amazing and feels premium while holding in hand. So a big YES for this device. Go for 128 GB variant as the 4K videos will occupy lots of space and the storage can get over very quickly. Try to buy it with...\\nREAD MORE', 'The Best Phone for the Money\\n\\nThe iPhone 11 offers superb cameras, a more durable design and excellent battery life for an affordable price.\\n\\nCompelling ultra-wide camera\\nNew Night mode is excellent\\nLong battery life', 'Value for money❤️❤️\\nIts awesome mobile phone in the world ...\\nDisplay was very good and bright ..\\nTrust me freinds you r never regret after Buying..\\nJust go for it....\\nI love this phone and i switch to iphone x to 11', 'Best budget Iphone till date ❤️ go for it guys without second thought. Let me explain you guys about Camera, Display, battery, and performance.\\n\\nCamera: at this price range there is no comparison of camera, you’ll love the picture quality as well as video quality. I am a Vlogger I wanted an iPhone with 4k video by front camera and I got this phone and I am more than happy 😃\\n\\nBattery: I use this phone roughly as I am active social media person and I have a youtube channel. so the battery ba...\\nREAD MORE', 'It’s been almost a month since I have been using this phone. I upgraded from an iPhone 8. The main issue with my 8 was battery and this phone is just awesome when it comes to battery. It lasts a day and a half for me with my regular use , internet connected always with 4g\\nCan’t move forward without saying this. Battery of this phone is a life saver when I am traveling or at work when I don’t get the option to charge\\nCamera is superb. Front cam selfies and back cam photos are just awesome.\\n...\\nREAD MORE', '*Review after 10 months of usage*\\nDoesn\\'t seem bulky with decent touch and camera. The \"standard maintained\" quality of IPhone. Go for it, if your budget is not more enough for pro models. It\\'s a value for money among the 11 series Stereo speakers are so good, you will love the stereo sound. Battery backup is not decent but still better than Iphone 7 and 8.Processor is fast, the phone doesn\\'t lag at all even with heavy games, waterproof, faster face id and with no fingerprint scanners. The ca...\\nREAD MORE', 'Awesome Phone. Slightly high price but worth. Better than iPhone XR.\\nCamera is superb and wide angle camera is very clear.\\n12MP selfie camera is also very good.\\nA13 Chip gives a very good and smooth performance.', 'Amazing phone with great cameras and better battery which gives you the best performance. I just love the camera .', 'Amazing Powerful and Durable Gadget.\\n\\nI’m am very happy with the camera picture quality, Amazing face id unlocked in dark room, Strong battery with perfect screen size as you can carry easily in pocket. This is my third iPhone.\\n\\nI shifted from android Samsung Note series to iPhone because of the strong build quality and peace of mind for next 3-4 years.\\n\\nDon’t think to much just go for it and I suggest you to go for minimum 128gb variant or more 256gb.\\n\\nI’ve attached my puppy pics and no fi...\\nREAD MORE', 'iphone 11 is a very good phone to buy only if you can compromise for the display. The display on this is device is pretty good but you can get other options with better displays in this price segment.\\nIf you can survive with an HD+ LCD panel with thicker bezels and a notch up top then this is a very good phone for you.\\nCameras are awesome, battery backup excellent, great performance and a decent premium look. Good job Apple !', 'It’s a must buy who is looking for an upgrade from previous generation of iPhones. If you are using XR then still you can hold on for sometime and upgrade to 2020 model else this phone is a must buy . Camera quality is amazing and wide angle is something to count upon. Performance wise it’s amazing and feels premium while holding in hand. So a big YES for this device. Go for 128 GB variant as the 4K videos will occupy lots of space and the storage can get over very quickly. Try to buy it with...\\nREAD MORE', 'The Best Phone for the Money\\n\\nThe iPhone 11 offers superb cameras, a more durable design and excellent battery life for an affordable price.\\n\\nCompelling ultra-wide camera\\nNew Night mode is excellent\\nLong battery life', 'Value for money❤️❤️\\nIts awesome mobile phone in the world ...\\nDisplay was very good and bright ..\\nTrust me freinds you r never regret after Buying..\\nJust go for it....\\nI love this phone and i switch to iphone x to 11', 'Best budget Iphone till date ❤️ go for it guys without second thought. Let me explain you guys about Camera, Display, battery, and performance.\\n\\nCamera: at this price range there is no comparison of camera, you’ll love the picture quality as well as video quality. I am a Vlogger I wanted an iPhone with 4k video by front camera and I got this phone and I am more than happy 😃\\n\\nBattery: I use this phone roughly as I am active social media person and I have a youtube channel. so the battery ba...\\nREAD MORE', 'It’s been almost a month since I have been using this phone. I upgraded from an iPhone 8. The main issue with my 8 was battery and this phone is just awesome when it comes to battery. It lasts a day and a half for me with my regular use , internet connected always with 4g\\nCan’t move forward without saying this. Battery of this phone is a life saver when I am traveling or at work when I don’t get the option to charge\\nCamera is superb. Front cam selfies and back cam photos are just awesome.\\n...\\nREAD MORE', '*Review after 10 months of usage*\\nDoesn\\'t seem bulky with decent touch and camera. The \"standard maintained\" quality of IPhone. Go for it, if your budget is not more enough for pro models. It\\'s a value for money among the 11 series Stereo speakers are so good, you will love the stereo sound. Battery backup is not decent but still better than Iphone 7 and 8.Processor is fast, the phone doesn\\'t lag at all even with heavy games, waterproof, faster face id and with no fingerprint scanners. The ca...\\nREAD MORE', 'Awesome Phone. Slightly high price but worth. Better than iPhone XR.\\nCamera is superb and wide angle camera is very clear.\\n12MP selfie camera is also very good.\\nA13 Chip gives a very good and smooth performance.', 'Amazing phone with great cameras and better battery which gives you the best performance. I just love the camera .', 'Amazing Powerful and Durable Gadget.\\n\\nI’m am very happy with the camera picture quality, Amazing face id unlocked in dark room, Strong battery with perfect screen size as you can carry easily in pocket. This is my third iPhone.\\n\\nI shifted from android Samsung Note series to iPhone because of the strong build quality and peace of mind for next 3-4 years.\\n\\nDon’t think to much just go for it and I suggest you to go for minimum 128gb variant or more 256gb.\\n\\nI’ve attached my puppy pics and no fi...\\nREAD MORE', 'iphone 11 is a very good phone to buy only if you can compromise for the display. The display on this is device is pretty good but you can get other options with better displays in this price segment.\\nIf you can survive with an HD+ LCD panel with thicker bezels and a notch up top then this is a very good phone for you.\\nCameras are awesome, battery backup excellent, great performance and a decent premium look. Good job Apple !', 'It’s a must buy who is looking for an upgrade from previous generation of iPhones. If you are using XR then still you can hold on for sometime and upgrade to 2020 model else this phone is a must buy . Camera quality is amazing and wide angle is something to count upon. Performance wise it’s amazing and feels premium while holding in hand. So a big YES for this device. Go for 128 GB variant as the 4K videos will occupy lots of space and the storage can get over very quickly. Try to buy it with...\\nREAD MORE', 'The Best Phone for the Money\\n\\nThe iPhone 11 offers superb cameras, a more durable design and excellent battery life for an affordable price.\\n\\nCompelling ultra-wide camera\\nNew Night mode is excellent\\nLong battery life', 'Value for money❤️❤️\\nIts awesome mobile phone in the world ...\\nDisplay was very good and bright ..\\nTrust me freinds you r never regret after Buying..\\nJust go for it....\\nI love this phone and i switch to iphone x to 11', 'Best budget Iphone till date ❤️ go for it guys without second thought. Let me explain you guys about Camera, Display, battery, and performance.\\n\\nCamera: at this price range there is no comparison of camera, you’ll love the picture quality as well as video quality. I am a Vlogger I wanted an iPhone with 4k video by front camera and I got this phone and I am more than happy 😃\\n\\nBattery: I use this phone roughly as I am active social media person and I have a youtube channel. so the battery ba...\\nREAD MORE', 'It’s been almost a month since I have been using this phone. I upgraded from an iPhone 8. The main issue with my 8 was battery and this phone is just awesome when it comes to battery. It lasts a day and a half for me with my regular use , internet connected always with 4g\\nCan’t move forward without saying this. Battery of this phone is a life saver when I am traveling or at work when I don’t get the option to charge\\nCamera is superb. Front cam selfies and back cam photos are just awesome.\\n...\\nREAD MORE', '*Review after 10 months of usage*\\nDoesn\\'t seem bulky with decent touch and camera. The \"standard maintained\" quality of IPhone. Go for it, if your budget is not more enough for pro models. It\\'s a value for money among the 11 series Stereo speakers are so good, you will love the stereo sound. Battery backup is not decent but still better than Iphone 7 and 8.Processor is fast, the phone doesn\\'t lag at all even with heavy games, waterproof, faster face id and with no fingerprint scanners. The ca...\\nREAD MORE', 'Awesome Phone. Slightly high price but worth. Better than iPhone XR.\\nCamera is superb and wide angle camera is very clear.\\n12MP selfie camera is also very good.\\nA13 Chip gives a very good and smooth performance.', 'Amazing phone with great cameras and better battery which gives you the best performance. I just love the camera .', 'Amazing Powerful and Durable Gadget.\\n\\nI’m am very happy with the camera picture quality, Amazing face id unlocked in dark room, Strong battery with perfect screen size as you can carry easily in pocket. This is my third iPhone.\\n\\nI shifted from android Samsung Note series to iPhone because of the strong build quality and peace of mind for next 3-4 years.\\n\\nDon’t think to much just go for it and I suggest you to go for minimum 128gb variant or more 256gb.\\n\\nI’ve attached my puppy pics and no fi...\\nREAD MORE', 'iphone 11 is a very good phone to buy only if you can compromise for the display. The display on this is device is pretty good but you can get other options with better displays in this price segment.\\nIf you can survive with an HD+ LCD panel with thicker bezels and a notch up top then this is a very good phone for you.\\nCameras are awesome, battery backup excellent, great performance and a decent premium look. Good job Apple !', 'It’s a must buy who is looking for an upgrade from previous generation of iPhones. If you are using XR then still you can hold on for sometime and upgrade to 2020 model else this phone is a must buy . Camera quality is amazing and wide angle is something to count upon. Performance wise it’s amazing and feels premium while holding in hand. So a big YES for this device. Go for 128 GB variant as the 4K videos will occupy lots of space and the storage can get over very quickly. Try to buy it with...\\nREAD MORE', 'The Best Phone for the Money\\n\\nThe iPhone 11 offers superb cameras, a more durable design and excellent battery life for an affordable price.\\n\\nCompelling ultra-wide camera\\nNew Night mode is excellent\\nLong battery life', 'Value for money❤️❤️\\nIts awesome mobile phone in the world ...\\nDisplay was very good and bright ..\\nTrust me freinds you r never regret after Buying..\\nJust go for it....\\nI love this phone and i switch to iphone x to 11', 'Best budget Iphone till date ❤️ go for it guys without second thought. Let me explain you guys about Camera, Display, battery, and performance.\\n\\nCamera: at this price range there is no comparison of camera, you’ll love the picture quality as well as video quality. I am a Vlogger I wanted an iPhone with 4k video by front camera and I got this phone and I am more than happy 😃\\n\\nBattery: I use this phone roughly as I am active social media person and I have a youtube channel. so the battery ba...\\nREAD MORE', 'It’s been almost a month since I have been using this phone. I upgraded from an iPhone 8. The main issue with my 8 was battery and this phone is just awesome when it comes to battery. It lasts a day and a half for me with my regular use , internet connected always with 4g\\nCan’t move forward without saying this. Battery of this phone is a life saver when I am traveling or at work when I don’t get the option to charge\\nCamera is superb. Front cam selfies and back cam photos are just awesome.\\n...\\nREAD MORE', '*Review after 10 months of usage*\\nDoesn\\'t seem bulky with decent touch and camera. The \"standard maintained\" quality of IPhone. Go for it, if your budget is not more enough for pro models. It\\'s a value for money among the 11 series Stereo speakers are so good, you will love the stereo sound. Battery backup is not decent but still better than Iphone 7 and 8.Processor is fast, the phone doesn\\'t lag at all even with heavy games, waterproof, faster face id and with no fingerprint scanners. The ca...\\nREAD MORE', 'Awesome Phone. Slightly high price but worth. Better than iPhone XR.\\nCamera is superb and wide angle camera is very clear.\\n12MP selfie camera is also very good.\\nA13 Chip gives a very good and smooth performance.', 'Amazing phone with great cameras and better battery which gives you the best performance. I just love the camera .', 'Amazing Powerful and Durable Gadget.\\n\\nI’m am very happy with the camera picture quality, Amazing face id unlocked in dark room, Strong battery with perfect screen size as you can carry easily in pocket. This is my third iPhone.\\n\\nI shifted from android Samsung Note series to iPhone because of the strong build quality and peace of mind for next 3-4 years.\\n\\nDon’t think to much just go for it and I suggest you to go for minimum 128gb variant or more 256gb.\\n\\nI’ve attached my puppy pics and no fi...\\nREAD MORE', 'iphone 11 is a very good phone to buy only if you can compromise for the display. The display on this is device is pretty good but you can get other options with better displays in this price segment.\\nIf you can survive with an HD+ LCD panel with thicker bezels and a notch up top then this is a very good phone for you.\\nCameras are awesome, battery backup excellent, great performance and a decent premium look. Good job Apple !', 'It’s a must buy who is looking for an upgrade from previous generation of iPhones. If you are using XR then still you can hold on for sometime and upgrade to 2020 model else this phone is a must buy . Camera quality is amazing and wide angle is something to count upon. Performance wise it’s amazing and feels premium while holding in hand. So a big YES for this device. Go for 128 GB variant as the 4K videos will occupy lots of space and the storage can get over very quickly. Try to buy it with...\\nREAD MORE', 'The Best Phone for the Money\\n\\nThe iPhone 11 offers superb cameras, a more durable design and excellent battery life for an affordable price.\\n\\nCompelling ultra-wide camera\\nNew Night mode is excellent\\nLong battery life', 'Value for money❤️❤️\\nIts awesome mobile phone in the world ...\\nDisplay was very good and bright ..\\nTrust me freinds you r never regret after Buying..\\nJust go for it....\\nI love this phone and i switch to iphone x to 11', 'Best budget Iphone till date ❤️ go for it guys without second thought. Let me explain you guys about Camera, Display, battery, and performance.\\n\\nCamera: at this price range there is no comparison of camera, you’ll love the picture quality as well as video quality. I am a Vlogger I wanted an iPhone with 4k video by front camera and I got this phone and I am more than happy 😃\\n\\nBattery: I use this phone roughly as I am active social media person and I have a youtube channel. so the battery ba...\\nREAD MORE', 'It’s been almost a month since I have been using this phone. I upgraded from an iPhone 8. The main issue with my 8 was battery and this phone is just awesome when it comes to battery. It lasts a day and a half for me with my regular use , internet connected always with 4g\\nCan’t move forward without saying this. Battery of this phone is a life saver when I am traveling or at work when I don’t get the option to charge\\nCamera is superb. Front cam selfies and back cam photos are just awesome.\\n...\\nREAD MORE', '*Review after 10 months of usage*\\nDoesn\\'t seem bulky with decent touch and camera. The \"standard maintained\" quality of IPhone. Go for it, if your budget is not more enough for pro models. It\\'s a value for money among the 11 series Stereo speakers are so good, you will love the stereo sound. Battery backup is not decent but still better than Iphone 7 and 8.Processor is fast, the phone doesn\\'t lag at all even with heavy games, waterproof, faster face id and with no fingerprint scanners. The ca...\\nREAD MORE', 'Awesome Phone. Slightly high price but worth. Better than iPhone XR.\\nCamera is superb and wide angle camera is very clear.\\n12MP selfie camera is also very good.\\nA13 Chip gives a very good and smooth performance.', 'Amazing phone with great cameras and better battery which gives you the best performance. I just love the camera .', 'Amazing Powerful and Durable Gadget.\\n\\nI’m am very happy with the camera picture quality, Amazing face id unlocked in dark room, Strong battery with perfect screen size as you can carry easily in pocket. This is my third iPhone.\\n\\nI shifted from android Samsung Note series to iPhone because of the strong build quality and peace of mind for next 3-4 years.\\n\\nDon’t think to much just go for it and I suggest you to go for minimum 128gb variant or more 256gb.\\n\\nI’ve attached my puppy pics and no fi...\\nREAD MORE', 'iphone 11 is a very good phone to buy only if you can compromise for the display. The display on this is device is pretty good but you can get other options with better displays in this price segment.\\nIf you can survive with an HD+ LCD panel with thicker bezels and a notch up top then this is a very good phone for you.\\nCameras are awesome, battery backup excellent, great performance and a decent premium look. Good job Apple !', 'It’s a must buy who is looking for an upgrade from previous generation of iPhones. If you are using XR then still you can hold on for sometime and upgrade to 2020 model else this phone is a must buy . Camera quality is amazing and wide angle is something to count upon. Performance wise it’s amazing and feels premium while holding in hand. So a big YES for this device. Go for 128 GB variant as the 4K videos will occupy lots of space and the storage can get over very quickly. Try to buy it with...\\nREAD MORE', 'The Best Phone for the Money\\n\\nThe iPhone 11 offers superb cameras, a more durable design and excellent battery life for an affordable price.\\n\\nCompelling ultra-wide camera\\nNew Night mode is excellent\\nLong battery life', 'Value for money❤️❤️\\nIts awesome mobile phone in the world ...\\nDisplay was very good and bright ..\\nTrust me freinds you r never regret after Buying..\\nJust go for it....\\nI love this phone and i switch to iphone x to 11', 'Best budget Iphone till date ❤️ go for it guys without second thought. Let me explain you guys about Camera, Display, battery, and performance.\\n\\nCamera: at this price range there is no comparison of camera, you’ll love the picture quality as well as video quality. I am a Vlogger I wanted an iPhone with 4k video by front camera and I got this phone and I am more than happy 😃\\n\\nBattery: I use this phone roughly as I am active social media person and I have a youtube channel. so the battery ba...\\nREAD MORE', 'It’s been almost a month since I have been using this phone. I upgraded from an iPhone 8. The main issue with my 8 was battery and this phone is just awesome when it comes to battery. It lasts a day and a half for me with my regular use , internet connected always with 4g\\nCan’t move forward without saying this. Battery of this phone is a life saver when I am traveling or at work when I don’t get the option to charge\\nCamera is superb. Front cam selfies and back cam photos are just awesome.\\n...\\nREAD MORE', '*Review after 10 months of usage*\\nDoesn\\'t seem bulky with decent touch and camera. The \"standard maintained\" quality of IPhone. Go for it, if your budget is not more enough for pro models. It\\'s a value for money among the 11 series Stereo speakers are so good, you will love the stereo sound. Battery backup is not decent but still better than Iphone 7 and 8.Processor is fast, the phone doesn\\'t lag at all even with heavy games, waterproof, faster face id and with no fingerprint scanners. The ca...\\nREAD MORE', 'Awesome Phone. Slightly high price but worth. Better than iPhone XR.\\nCamera is superb and wide angle camera is very clear.\\n12MP selfie camera is also very good.\\nA13 Chip gives a very good and smooth performance.', 'Amazing phone with great cameras and better battery which gives you the best performance. I just love the camera .', 'Amazing Powerful and Durable Gadget.\\n\\nI’m am very happy with the camera picture quality, Amazing face id unlocked in dark room, Strong battery with perfect screen size as you can carry easily in pocket. This is my third iPhone.\\n\\nI shifted from android Samsung Note series to iPhone because of the strong build quality and peace of mind for next 3-4 years.\\n\\nDon’t think to much just go for it and I suggest you to go for minimum 128gb variant or more 256gb.\\n\\nI’ve attached my puppy pics and no fi...\\nREAD MORE', 'iphone 11 is a very good phone to buy only if you can compromise for the display. The display on this is device is pretty good but you can get other options with better displays in this price segment.\\nIf you can survive with an HD+ LCD panel with thicker bezels and a notch up top then this is a very good phone for you.\\nCameras are awesome, battery backup excellent, great performance and a decent premium look. Good job Apple !', 'It’s a must buy who is looking for an upgrade from previous generation of iPhones. If you are using XR then still you can hold on for sometime and upgrade to 2020 model else this phone is a must buy . Camera quality is amazing and wide angle is something to count upon. Performance wise it’s amazing and feels premium while holding in hand. So a big YES for this device. Go for 128 GB variant as the 4K videos will occupy lots of space and the storage can get over very quickly. Try to buy it with...\\nREAD MORE', 'The Best Phone for the Money\\n\\nThe iPhone 11 offers superb cameras, a more durable design and excellent battery life for an affordable price.\\n\\nCompelling ultra-wide camera\\nNew Night mode is excellent\\nLong battery life', 'Value for money❤️❤️\\nIts awesome mobile phone in the world ...\\nDisplay was very good and bright ..\\nTrust me freinds you r never regret after Buying..\\nJust go for it....\\nI love this phone and i switch to iphone x to 11', 'Best budget Iphone till date ❤️ go for it guys without second thought. Let me explain you guys about Camera, Display, battery, and performance.\\n\\nCamera: at this price range there is no comparison of camera, you’ll love the picture quality as well as video quality. I am a Vlogger I wanted an iPhone with 4k video by front camera and I got this phone and I am more than happy 😃\\n\\nBattery: I use this phone roughly as I am active social media person and I have a youtube channel. so the battery ba...\\nREAD MORE', 'It’s been almost a month since I have been using this phone. I upgraded from an iPhone 8. The main issue with my 8 was battery and this phone is just awesome when it comes to battery. It lasts a day and a half for me with my regular use , internet connected always with 4g\\nCan’t move forward without saying this. Battery of this phone is a life saver when I am traveling or at work when I don’t get the option to charge\\nCamera is superb. Front cam selfies and back cam photos are just awesome.\\n...\\nREAD MORE', '*Review after 10 months of usage*\\nDoesn\\'t seem bulky with decent touch and camera. The \"standard maintained\" quality of IPhone. Go for it, if your budget is not more enough for pro models. It\\'s a value for money among the 11 series Stereo speakers are so good, you will love the stereo sound. Battery backup is not decent but still better than Iphone 7 and 8.Processor is fast, the phone doesn\\'t lag at all even with heavy games, waterproof, faster face id and with no fingerprint scanners. The ca...\\nREAD MORE', 'Awesome Phone. Slightly high price but worth. Better than iPhone XR.\\nCamera is superb and wide angle camera is very clear.\\n12MP selfie camera is also very good.\\nA13 Chip gives a very good and smooth performance.', 'Amazing phone with great cameras and better battery which gives you the best performance. I just love the camera .', 'Amazing Powerful and Durable Gadget.\\n\\nI’m am very happy with the camera picture quality, Amazing face id unlocked in dark room, Strong battery with perfect screen size as you can carry easily in pocket. This is my third iPhone.\\n\\nI shifted from android Samsung Note series to iPhone because of the strong build quality and peace of mind for next 3-4 years.\\n\\nDon’t think to much just go for it and I suggest you to go for minimum 128gb variant or more 256gb.\\n\\nI’ve attached my puppy pics and no fi...\\nREAD MORE', 'iphone 11 is a very good phone to buy only if you can compromise for the display. The display on this is device is pretty good but you can get other options with better displays in this price segment.\\nIf you can survive with an HD+ LCD panel with thicker bezels and a notch up top then this is a very good phone for you.\\nCameras are awesome, battery backup excellent, great performance and a decent premium look. Good job Apple !', 'It’s a must buy who is looking for an upgrade from previous generation of iPhones. If you are using XR then still you can hold on for sometime and upgrade to 2020 model else this phone is a must buy . Camera quality is amazing and wide angle is something to count upon. Performance wise it’s amazing and feels premium while holding in hand. So a big YES for this device. Go for 128 GB variant as the 4K videos will occupy lots of space and the storage can get over very quickly. Try to buy it with...\\nREAD MORE', 'The Best Phone for the Money\\n\\nThe iPhone 11 offers superb cameras, a more durable design and excellent battery life for an affordable price.\\n\\nCompelling ultra-wide camera\\nNew Night mode is excellent\\nLong battery life', 'Value for money❤️❤️\\nIts awesome mobile phone in the world ...\\nDisplay was very good and bright ..\\nTrust me freinds you r never regret after Buying..\\nJust go for it....\\nI love this phone and i switch to iphone x to 11', 'Best budget Iphone till date ❤️ go for it guys without second thought. Let me explain you guys about Camera, Display, battery, and performance.\\n\\nCamera: at this price range there is no comparison of camera, you’ll love the picture quality as well as video quality. I am a Vlogger I wanted an iPhone with 4k video by front camera and I got this phone and I am more than happy 😃\\n\\nBattery: I use this phone roughly as I am active social media person and I have a youtube channel. so the battery ba...\\nREAD MORE', 'It’s been almost a month since I have been using this phone. I upgraded from an iPhone 8. The main issue with my 8 was battery and this phone is just awesome when it comes to battery. It lasts a day and a half for me with my regular use , internet connected always with 4g\\nCan’t move forward without saying this. Battery of this phone is a life saver when I am traveling or at work when I don’t get the option to charge\\nCamera is superb. Front cam selfies and back cam photos are just awesome.\\n...\\nREAD MORE', '*Review after 10 months of usage*\\nDoesn\\'t seem bulky with decent touch and camera. The \"standard maintained\" quality of IPhone. Go for it, if your budget is not more enough for pro models. It\\'s a value for money among the 11 series Stereo speakers are so good, you will love the stereo sound. Battery backup is not decent but still better than Iphone 7 and 8.Processor is fast, the phone doesn\\'t lag at all even with heavy games, waterproof, faster face id and with no fingerprint scanners. The ca...\\nREAD MORE', 'Awesome Phone. Slightly high price but worth. Better than iPhone XR.\\nCamera is superb and wide angle camera is very clear.\\n12MP selfie camera is also very good.\\nA13 Chip gives a very good and smooth performance.', 'Amazing phone with great cameras and better battery which gives you the best performance. I just love the camera .', 'Amazing Powerful and Durable Gadget.\\n\\nI’m am very happy with the camera picture quality, Amazing face id unlocked in dark room, Strong battery with perfect screen size as you can carry easily in pocket. This is my third iPhone.\\n\\nI shifted from android Samsung Note series to iPhone because of the strong build quality and peace of mind for next 3-4 years.\\n\\nDon’t think to much just go for it and I suggest you to go for minimum 128gb variant or more 256gb.\\n\\nI’ve attached my puppy pics and no fi...\\nREAD MORE', 'iphone 11 is a very good phone to buy only if you can compromise for the display. The display on this is device is pretty good but you can get other options with better displays in this price segment.\\nIf you can survive with an HD+ LCD panel with thicker bezels and a notch up top then this is a very good phone for you.\\nCameras are awesome, battery backup excellent, great performance and a decent premium look. Good job Apple !', 'It’s a must buy who is looking for an upgrade from previous generation of iPhones. If you are using XR then still you can hold on for sometime and upgrade to 2020 model else this phone is a must buy . Camera quality is amazing and wide angle is something to count upon. Performance wise it’s amazing and feels premium while holding in hand. So a big YES for this device. Go for 128 GB variant as the 4K videos will occupy lots of space and the storage can get over very quickly. Try to buy it with...\\nREAD MORE', 'The Best Phone for the Money\\n\\nThe iPhone 11 offers superb cameras, a more durable design and excellent battery life for an affordable price.\\n\\nCompelling ultra-wide camera\\nNew Night mode is excellent\\nLong battery life', 'Value for money❤️❤️\\nIts awesome mobile phone in the world ...\\nDisplay was very good and bright ..\\nTrust me freinds you r never regret after Buying..\\nJust go for it....\\nI love this phone and i switch to iphone x to 11', 'Best budget Iphone till date ❤️ go for it guys without second thought. Let me explain you guys about Camera, Display, battery, and performance.\\n\\nCamera: at this price range there is no comparison of camera, you’ll love the picture quality as well as video quality. I am a Vlogger I wanted an iPhone with 4k video by front camera and I got this phone and I am more than happy 😃\\n\\nBattery: I use this phone roughly as I am active social media person and I have a youtube channel. so the battery ba...\\nREAD MORE', 'It’s been almost a month since I have been using this phone. I upgraded from an iPhone 8. The main issue with my 8 was battery and this phone is just awesome when it comes to battery. It lasts a day and a half for me with my regular use , internet connected always with 4g\\nCan’t move forward without saying this. Battery of this phone is a life saver when I am traveling or at work when I don’t get the option to charge\\nCamera is superb. Front cam selfies and back cam photos are just awesome.\\n...\\nREAD MORE', '*Review after 10 months of usage*\\nDoesn\\'t seem bulky with decent touch and camera. The \"standard maintained\" quality of IPhone. Go for it, if your budget is not more enough for pro models. It\\'s a value for money among the 11 series Stereo speakers are so good, you will love the stereo sound. Battery backup is not decent but still better than Iphone 7 and 8.Processor is fast, the phone doesn\\'t lag at all even with heavy games, waterproof, faster face id and with no fingerprint scanners. The ca...\\nREAD MORE', 'Awesome Phone. Slightly high price but worth. Better than iPhone XR.\\nCamera is superb and wide angle camera is very clear.\\n12MP selfie camera is also very good.\\nA13 Chip gives a very good and smooth performance.', 'Amazing phone with great cameras and better battery which gives you the best performance. I just love the camera .', 'Amazing Powerful and Durable Gadget.\\n\\nI’m am very happy with the camera picture quality, Amazing face id unlocked in dark room, Strong battery with perfect screen size as you can carry easily in pocket. This is my third iPhone.\\n\\nI shifted from android Samsung Note series to iPhone because of the strong build quality and peace of mind for next 3-4 years.\\n\\nDon’t think to much just go for it and I suggest you to go for minimum 128gb variant or more 256gb.\\n\\nI’ve attached my puppy pics and no fi...\\nREAD MORE', 'iphone 11 is a very good phone to buy only if you can compromise for the display. The display on this is device is pretty good but you can get other options with better displays in this price segment.\\nIf you can survive with an HD+ LCD panel with thicker bezels and a notch up top then this is a very good phone for you.\\nCameras are awesome, battery backup excellent, great performance and a decent premium look. Good job Apple !', 'It’s a must buy who is looking for an upgrade from previous generation of iPhones. If you are using XR then still you can hold on for sometime and upgrade to 2020 model else this phone is a must buy . Camera quality is amazing and wide angle is something to count upon. Performance wise it’s amazing and feels premium while holding in hand. So a big YES for this device. Go for 128 GB variant as the 4K videos will occupy lots of space and the storage can get over very quickly. Try to buy it with...\\nREAD MORE', 'The Best Phone for the Money\\n\\nThe iPhone 11 offers superb cameras, a more durable design and excellent battery life for an affordable price.\\n\\nCompelling ultra-wide camera\\nNew Night mode is excellent\\nLong battery life', 'Value for money❤️❤️\\nIts awesome mobile phone in the world ...\\nDisplay was very good and bright ..\\nTrust me freinds you r never regret after Buying..\\nJust go for it....\\nI love this phone and i switch to iphone x to 11', 'Best budget Iphone till date ❤️ go for it guys without second thought. Let me explain you guys about Camera, Display, battery, and performance.\\n\\nCamera: at this price range there is no comparison of camera, you’ll love the picture quality as well as video quality. I am a Vlogger I wanted an iPhone with 4k video by front camera and I got this phone and I am more than happy 😃\\n\\nBattery: I use this phone roughly as I am active social media person and I have a youtube channel. so the battery ba...\\nREAD MORE', 'It’s been almost a month since I have been using this phone. I upgraded from an iPhone 8. The main issue with my 8 was battery and this phone is just awesome when it comes to battery. It lasts a day and a half for me with my regular use , internet connected always with 4g\\nCan’t move forward without saying this. Battery of this phone is a life saver when I am traveling or at work when I don’t get the option to charge\\nCamera is superb. Front cam selfies and back cam photos are just awesome.\\n...\\nREAD MORE', '*Review after 10 months of usage*\\nDoesn\\'t seem bulky with decent touch and camera. The \"standard maintained\" quality of IPhone. Go for it, if your budget is not more enough for pro models. It\\'s a value for money among the 11 series Stereo speakers are so good, you will love the stereo sound. Battery backup is not decent but still better than Iphone 7 and 8.Processor is fast, the phone doesn\\'t lag at all even with heavy games, waterproof, faster face id and with no fingerprint scanners. The ca...\\nREAD MORE', 'Awesome Phone. Slightly high price but worth. Better than iPhone XR.\\nCamera is superb and wide angle camera is very clear.\\n12MP selfie camera is also very good.\\nA13 Chip gives a very good and smooth performance.', 'Amazing phone with great cameras and better battery which gives you the best performance. I just love the camera .', 'Amazing Powerful and Durable Gadget.\\n\\nI’m am very happy with the camera picture quality, Amazing face id unlocked in dark room, Strong battery with perfect screen size as you can carry easily in pocket. This is my third iPhone.\\n\\nI shifted from android Samsung Note series to iPhone because of the strong build quality and peace of mind for next 3-4 years.\\n\\nDon’t think to much just go for it and I suggest you to go for minimum 128gb variant or more 256gb.\\n\\nI’ve attached my puppy pics and no fi...\\nREAD MORE', 'iphone 11 is a very good phone to buy only if you can compromise for the display. The display on this is device is pretty good but you can get other options with better displays in this price segment.\\nIf you can survive with an HD+ LCD panel with thicker bezels and a notch up top then this is a very good phone for you.\\nCameras are awesome, battery backup excellent, great performance and a decent premium look. Good job Apple !', 'It’s a must buy who is looking for an upgrade from previous generation of iPhones. If you are using XR then still you can hold on for sometime and upgrade to 2020 model else this phone is a must buy . Camera quality is amazing and wide angle is something to count upon. Performance wise it’s amazing and feels premium while holding in hand. So a big YES for this device. Go for 128 GB variant as the 4K videos will occupy lots of space and the storage can get over very quickly. Try to buy it with...\\nREAD MORE', 'The Best Phone for the Money\\n\\nThe iPhone 11 offers superb cameras, a more durable design and excellent battery life for an affordable price.\\n\\nCompelling ultra-wide camera\\nNew Night mode is excellent\\nLong battery life', 'Value for money❤️❤️\\nIts awesome mobile phone in the world ...\\nDisplay was very good and bright ..\\nTrust me freinds you r never regret after Buying..\\nJust go for it....\\nI love this phone and i switch to iphone x to 11', 'Best budget Iphone till date ❤️ go for it guys without second thought. Let me explain you guys about Camera, Display, battery, and performance.\\n\\nCamera: at this price range there is no comparison of camera, you’ll love the picture quality as well as video quality. I am a Vlogger I wanted an iPhone with 4k video by front camera and I got this phone and I am more than happy 😃\\n\\nBattery: I use this phone roughly as I am active social media person and I have a youtube channel. so the battery ba...\\nREAD MORE', 'It’s been almost a month since I have been using this phone. I upgraded from an iPhone 8. The main issue with my 8 was battery and this phone is just awesome when it comes to battery. It lasts a day and a half for me with my regular use , internet connected always with 4g\\nCan’t move forward without saying this. Battery of this phone is a life saver when I am traveling or at work when I don’t get the option to charge\\nCamera is superb. Front cam selfies and back cam photos are just awesome.\\n...\\nREAD MORE', '*Review after 10 months of usage*\\nDoesn\\'t seem bulky with decent touch and camera. The \"standard maintained\" quality of IPhone. Go for it, if your budget is not more enough for pro models. It\\'s a value for money among the 11 series Stereo speakers are so good, you will love the stereo sound. Battery backup is not decent but still better than Iphone 7 and 8.Processor is fast, the phone doesn\\'t lag at all even with heavy games, waterproof, faster face id and with no fingerprint scanners. The ca...\\nREAD MORE', 'Awesome Phone. Slightly high price but worth. Better than iPhone XR.\\nCamera is superb and wide angle camera is very clear.\\n12MP selfie camera is also very good.\\nA13 Chip gives a very good and smooth performance.', 'Amazing phone with great cameras and better battery which gives you the best performance. I just love the camera .', 'Amazing Powerful and Durable Gadget.\\n\\nI’m am very happy with the camera picture quality, Amazing face id unlocked in dark room, Strong battery with perfect screen size as you can carry easily in pocket. This is my third iPhone.\\n\\nI shifted from android Samsung Note series to iPhone because of the strong build quality and peace of mind for next 3-4 years.\\n\\nDon’t think to much just go for it and I suggest you to go for minimum 128gb variant or more 256gb.\\n\\nI’ve attached my puppy pics and no fi...\\nREAD MORE', 'iphone 11 is a very good phone to buy only if you can compromise for the display. The display on this is device is pretty good but you can get other options with better displays in this price segment.\\nIf you can survive with an HD+ LCD panel with thicker bezels and a notch up top then this is a very good phone for you.\\nCameras are awesome, battery backup excellent, great performance and a decent premium look. Good job Apple !', 'It’s a must buy who is looking for an upgrade from previous generation of iPhones. If you are using XR then still you can hold on for sometime and upgrade to 2020 model else this phone is a must buy . Camera quality is amazing and wide angle is something to count upon. Performance wise it’s amazing and feels premium while holding in hand. So a big YES for this device. Go for 128 GB variant as the 4K videos will occupy lots of space and the storage can get over very quickly. Try to buy it with...\\nREAD MORE', 'The Best Phone for the Money\\n\\nThe iPhone 11 offers superb cameras, a more durable design and excellent battery life for an affordable price.\\n\\nCompelling ultra-wide camera\\nNew Night mode is excellent\\nLong battery life', 'Value for money❤️❤️\\nIts awesome mobile phone in the world ...\\nDisplay was very good and bright ..\\nTrust me freinds you r never regret after Buying..\\nJust go for it....\\nI love this phone and i switch to iphone x to 11', 'Best budget Iphone till date ❤️ go for it guys without second thought. Let me explain you guys about Camera, Display, battery, and performance.\\n\\nCamera: at this price range there is no comparison of camera, you’ll love the picture quality as well as video quality. I am a Vlogger I wanted an iPhone with 4k video by front camera and I got this phone and I am more than happy 😃\\n\\nBattery: I use this phone roughly as I am active social media person and I have a youtube channel. so the battery ba...\\nREAD MORE', 'It’s been almost a month since I have been using this phone. I upgraded from an iPhone 8. The main issue with my 8 was battery and this phone is just awesome when it comes to battery. It lasts a day and a half for me with my regular use , internet connected always with 4g\\nCan’t move forward without saying this. Battery of this phone is a life saver when I am traveling or at work when I don’t get the option to charge\\nCamera is superb. Front cam selfies and back cam photos are just awesome.\\n...\\nREAD MORE', '*Review after 10 months of usage*\\nDoesn\\'t seem bulky with decent touch and camera. The \"standard maintained\" quality of IPhone. Go for it, if your budget is not more enough for pro models. It\\'s a value for money among the 11 series Stereo speakers are so good, you will love the stereo sound. Battery backup is not decent but still better than Iphone 7 and 8.Processor is fast, the phone doesn\\'t lag at all even with heavy games, waterproof, faster face id and with no fingerprint scanners. The ca...\\nREAD MORE', 'Awesome Phone. Slightly high price but worth. Better than iPhone XR.\\nCamera is superb and wide angle camera is very clear.\\n12MP selfie camera is also very good.\\nA13 Chip gives a very good and smooth performance.', 'Amazing phone with great cameras and better battery which gives you the best performance. I just love the camera .', 'Amazing Powerful and Durable Gadget.\\n\\nI’m am very happy with the camera picture quality, Amazing face id unlocked in dark room, Strong battery with perfect screen size as you can carry easily in pocket. This is my third iPhone.\\n\\nI shifted from android Samsung Note series to iPhone because of the strong build quality and peace of mind for next 3-4 years.\\n\\nDon’t think to much just go for it and I suggest you to go for minimum 128gb variant or more 256gb.\\n\\nI’ve attached my puppy pics and no fi...\\nREAD MORE', 'iphone 11 is a very good phone to buy only if you can compromise for the display. The display on this is device is pretty good but you can get other options with better displays in this price segment.\\nIf you can survive with an HD+ LCD panel with thicker bezels and a notch up top then this is a very good phone for you.\\nCameras are awesome, battery backup excellent, great performance and a decent premium look. Good job Apple !', 'It’s a must buy who is looking for an upgrade from previous generation of iPhones. If you are using XR then still you can hold on for sometime and upgrade to 2020 model else this phone is a must buy . Camera quality is amazing and wide angle is something to count upon. Performance wise it’s amazing and feels premium while holding in hand. So a big YES for this device. Go for 128 GB variant as the 4K videos will occupy lots of space and the storage can get over very quickly. Try to buy it with...\\nREAD MORE', 'The Best Phone for the Money\\n\\nThe iPhone 11 offers superb cameras, a more durable design and excellent battery life for an affordable price.\\n\\nCompelling ultra-wide camera\\nNew Night mode is excellent\\nLong battery life', 'Value for money❤️❤️\\nIts awesome mobile phone in the world ...\\nDisplay was very good and bright ..\\nTrust me freinds you r never regret after Buying..\\nJust go for it....\\nI love this phone and i switch to iphone x to 11', 'Best budget Iphone till date ❤️ go for it guys without second thought. Let me explain you guys about Camera, Display, battery, and performance.\\n\\nCamera: at this price range there is no comparison of camera, you’ll love the picture quality as well as video quality. I am a Vlogger I wanted an iPhone with 4k video by front camera and I got this phone and I am more than happy 😃\\n\\nBattery: I use this phone roughly as I am active social media person and I have a youtube channel. so the battery ba...\\nREAD MORE', 'It’s been almost a month since I have been using this phone. I upgraded from an iPhone 8. The main issue with my 8 was battery and this phone is just awesome when it comes to battery. It lasts a day and a half for me with my regular use , internet connected always with 4g\\nCan’t move forward without saying this. Battery of this phone is a life saver when I am traveling or at work when I don’t get the option to charge\\nCamera is superb. Front cam selfies and back cam photos are just awesome.\\n...\\nREAD MORE', '*Review after 10 months of usage*\\nDoesn\\'t seem bulky with decent touch and camera. The \"standard maintained\" quality of IPhone. Go for it, if your budget is not more enough for pro models. It\\'s a value for money among the 11 series Stereo speakers are so good, you will love the stereo sound. Battery backup is not decent but still better than Iphone 7 and 8.Processor is fast, the phone doesn\\'t lag at all even with heavy games, waterproof, faster face id and with no fingerprint scanners. The ca...\\nREAD MORE', 'Awesome Phone. Slightly high price but worth. Better than iPhone XR.\\nCamera is superb and wide angle camera is very clear.\\n12MP selfie camera is also very good.\\nA13 Chip gives a very good and smooth performance.', 'Amazing phone with great cameras and better battery which gives you the best performance. I just love the camera .', 'Amazing Powerful and Durable Gadget.\\n\\nI’m am very happy with the camera picture quality, Amazing face id unlocked in dark room, Strong battery with perfect screen size as you can carry easily in pocket. This is my third iPhone.\\n\\nI shifted from android Samsung Note series to iPhone because of the strong build quality and peace of mind for next 3-4 years.\\n\\nDon’t think to much just go for it and I suggest you to go for minimum 128gb variant or more 256gb.\\n\\nI’ve attached my puppy pics and no fi...\\nREAD MORE', 'iphone 11 is a very good phone to buy only if you can compromise for the display. The display on this is device is pretty good but you can get other options with better displays in this price segment.\\nIf you can survive with an HD+ LCD panel with thicker bezels and a notch up top then this is a very good phone for you.\\nCameras are awesome, battery backup excellent, great performance and a decent premium look. Good job Apple !', 'It’s a must buy who is looking for an upgrade from previous generation of iPhones. If you are using XR then still you can hold on for sometime and upgrade to 2020 model else this phone is a must buy . Camera quality is amazing and wide angle is something to count upon. Performance wise it’s amazing and feels premium while holding in hand. So a big YES for this device. Go for 128 GB variant as the 4K videos will occupy lots of space and the storage can get over very quickly. Try to buy it with...\\nREAD MORE', 'The Best Phone for the Money\\n\\nThe iPhone 11 offers superb cameras, a more durable design and excellent battery life for an affordable price.\\n\\nCompelling ultra-wide camera\\nNew Night mode is excellent\\nLong battery life', 'Value for money❤️❤️\\nIts awesome mobile phone in the world ...\\nDisplay was very good and bright ..\\nTrust me freinds you r never regret after Buying..\\nJust go for it....\\nI love this phone and i switch to iphone x to 11', 'Best budget Iphone till date ❤️ go for it guys without second thought. Let me explain you guys about Camera, Display, battery, and performance.\\n\\nCamera: at this price range there is no comparison of camera, you’ll love the picture quality as well as video quality. I am a Vlogger I wanted an iPhone with 4k video by front camera and I got this phone and I am more than happy 😃\\n\\nBattery: I use this phone roughly as I am active social media person and I have a youtube channel. so the battery ba...\\nREAD MORE', 'It’s been almost a month since I have been using this phone. I upgraded from an iPhone 8. The main issue with my 8 was battery and this phone is just awesome when it comes to battery. It lasts a day and a half for me with my regular use , internet connected always with 4g\\nCan’t move forward without saying this. Battery of this phone is a life saver when I am traveling or at work when I don’t get the option to charge\\nCamera is superb. Front cam selfies and back cam photos are just awesome.\\n...\\nREAD MORE', '*Review after 10 months of usage*\\nDoesn\\'t seem bulky with decent touch and camera. The \"standard maintained\" quality of IPhone. Go for it, if your budget is not more enough for pro models. It\\'s a value for money among the 11 series Stereo speakers are so good, you will love the stereo sound. Battery backup is not decent but still better than Iphone 7 and 8.Processor is fast, the phone doesn\\'t lag at all even with heavy games, waterproof, faster face id and with no fingerprint scanners. The ca...\\nREAD MORE', 'Awesome Phone. Slightly high price but worth. Better than iPhone XR.\\nCamera is superb and wide angle camera is very clear.\\n12MP selfie camera is also very good.\\nA13 Chip gives a very good and smooth performance.', 'Amazing phone with great cameras and better battery which gives you the best performance. I just love the camera .', 'Amazing Powerful and Durable Gadget.\\n\\nI’m am very happy with the camera picture quality, Amazing face id unlocked in dark room, Strong battery with perfect screen size as you can carry easily in pocket. This is my third iPhone.\\n\\nI shifted from android Samsung Note series to iPhone because of the strong build quality and peace of mind for next 3-4 years.\\n\\nDon’t think to much just go for it and I suggest you to go for minimum 128gb variant or more 256gb.\\n\\nI’ve attached my puppy pics and no fi...\\nREAD MORE', 'iphone 11 is a very good phone to buy only if you can compromise for the display. The display on this is device is pretty good but you can get other options with better displays in this price segment.\\nIf you can survive with an HD+ LCD panel with thicker bezels and a notch up top then this is a very good phone for you.\\nCameras are awesome, battery backup excellent, great performance and a decent premium look. Good job Apple !', 'It’s a must buy who is looking for an upgrade from previous generation of iPhones. If you are using XR then still you can hold on for sometime and upgrade to 2020 model else this phone is a must buy . Camera quality is amazing and wide angle is something to count upon. Performance wise it’s amazing and feels premium while holding in hand. So a big YES for this device. Go for 128 GB variant as the 4K videos will occupy lots of space and the storage can get over very quickly. Try to buy it with...\\nREAD MORE', 'The Best Phone for the Money\\n\\nThe iPhone 11 offers superb cameras, a more durable design and excellent battery life for an affordable price.\\n\\nCompelling ultra-wide camera\\nNew Night mode is excellent\\nLong battery life', 'Value for money❤️❤️\\nIts awesome mobile phone in the world ...\\nDisplay was very good and bright ..\\nTrust me freinds you r never regret after Buying..\\nJust go for it....\\nI love this phone and i switch to iphone x to 11', 'Best budget Iphone till date ❤️ go for it guys without second thought. Let me explain you guys about Camera, Display, battery, and performance.\\n\\nCamera: at this price range there is no comparison of camera, you’ll love the picture quality as well as video quality. I am a Vlogger I wanted an iPhone with 4k video by front camera and I got this phone and I am more than happy 😃\\n\\nBattery: I use this phone roughly as I am active social media person and I have a youtube channel. so the battery ba...\\nREAD MORE', 'It’s been almost a month since I have been using this phone. I upgraded from an iPhone 8. The main issue with my 8 was battery and this phone is just awesome when it comes to battery. It lasts a day and a half for me with my regular use , internet connected always with 4g\\nCan’t move forward without saying this. Battery of this phone is a life saver when I am traveling or at work when I don’t get the option to charge\\nCamera is superb. Front cam selfies and back cam photos are just awesome.\\n...\\nREAD MORE', '*Review after 10 months of usage*\\nDoesn\\'t seem bulky with decent touch and camera. The \"standard maintained\" quality of IPhone. Go for it, if your budget is not more enough for pro models. It\\'s a value for money among the 11 series Stereo speakers are so good, you will love the stereo sound. Battery backup is not decent but still better than Iphone 7 and 8.Processor is fast, the phone doesn\\'t lag at all even with heavy games, waterproof, faster face id and with no fingerprint scanners. The ca...\\nREAD MORE', 'Awesome Phone. Slightly high price but worth. Better than iPhone XR.\\nCamera is superb and wide angle camera is very clear.\\n12MP selfie camera is also very good.\\nA13 Chip gives a very good and smooth performance.', 'Amazing phone with great cameras and better battery which gives you the best performance. I just love the camera .', 'Amazing Powerful and Durable Gadget.\\n\\nI’m am very happy with the camera picture quality, Amazing face id unlocked in dark room, Strong battery with perfect screen size as you can carry easily in pocket. This is my third iPhone.\\n\\nI shifted from android Samsung Note series to iPhone because of the strong build quality and peace of mind for next 3-4 years.\\n\\nDon’t think to much just go for it and I suggest you to go for minimum 128gb variant or more 256gb.\\n\\nI’ve attached my puppy pics and no fi...\\nREAD MORE', 'iphone 11 is a very good phone to buy only if you can compromise for the display. The display on this is device is pretty good but you can get other options with better displays in this price segment.\\nIf you can survive with an HD+ LCD panel with thicker bezels and a notch up top then this is a very good phone for you.\\nCameras are awesome, battery backup excellent, great performance and a decent premium look. Good job Apple !', 'It’s a must buy who is looking for an upgrade from previous generation of iPhones. If you are using XR then still you can hold on for sometime and upgrade to 2020 model else this phone is a must buy . Camera quality is amazing and wide angle is something to count upon. Performance wise it’s amazing and feels premium while holding in hand. So a big YES for this device. Go for 128 GB variant as the 4K videos will occupy lots of space and the storage can get over very quickly. Try to buy it with...\\nREAD MORE', 'The Best Phone for the Money\\n\\nThe iPhone 11 offers superb cameras, a more durable design and excellent battery life for an affordable price.\\n\\nCompelling ultra-wide camera\\nNew Night mode is excellent\\nLong battery life', 'Value for money❤️❤️\\nIts awesome mobile phone in the world ...\\nDisplay was very good and bright ..\\nTrust me freinds you r never regret after Buying..\\nJust go for it....\\nI love this phone and i switch to iphone x to 11', 'Best budget Iphone till date ❤️ go for it guys without second thought. Let me explain you guys about Camera, Display, battery, and performance.\\n\\nCamera: at this price range there is no comparison of camera, you’ll love the picture quality as well as video quality. I am a Vlogger I wanted an iPhone with 4k video by front camera and I got this phone and I am more than happy 😃\\n\\nBattery: I use this phone roughly as I am active social media person and I have a youtube channel. so the battery ba...\\nREAD MORE', 'It’s been almost a month since I have been using this phone. I upgraded from an iPhone 8. The main issue with my 8 was battery and this phone is just awesome when it comes to battery. It lasts a day and a half for me with my regular use , internet connected always with 4g\\nCan’t move forward without saying this. Battery of this phone is a life saver when I am traveling or at work when I don’t get the option to charge\\nCamera is superb. Front cam selfies and back cam photos are just awesome.\\n...\\nREAD MORE', '*Review after 10 months of usage*\\nDoesn\\'t seem bulky with decent touch and camera. The \"standard maintained\" quality of IPhone. Go for it, if your budget is not more enough for pro models. It\\'s a value for money among the 11 series Stereo speakers are so good, you will love the stereo sound. Battery backup is not decent but still better than Iphone 7 and 8.Processor is fast, the phone doesn\\'t lag at all even with heavy games, waterproof, faster face id and with no fingerprint scanners. The ca...\\nREAD MORE', 'Awesome Phone. Slightly high price but worth. Better than iPhone XR.\\nCamera is superb and wide angle camera is very clear.\\n12MP selfie camera is also very good.\\nA13 Chip gives a very good and smooth performance.', 'Amazing phone with great cameras and better battery which gives you the best performance. I just love the camera .', 'Amazing Powerful and Durable Gadget.\\n\\nI’m am very happy with the camera picture quality, Amazing face id unlocked in dark room, Strong battery with perfect screen size as you can carry easily in pocket. This is my third iPhone.\\n\\nI shifted from android Samsung Note series to iPhone because of the strong build quality and peace of mind for next 3-4 years.\\n\\nDon’t think to much just go for it and I suggest you to go for minimum 128gb variant or more 256gb.\\n\\nI’ve attached my puppy pics and no fi...\\nREAD MORE', 'iphone 11 is a very good phone to buy only if you can compromise for the display. The display on this is device is pretty good but you can get other options with better displays in this price segment.\\nIf you can survive with an HD+ LCD panel with thicker bezels and a notch up top then this is a very good phone for you.\\nCameras are awesome, battery backup excellent, great performance and a decent premium look. Good job Apple !', 'It’s a must buy who is looking for an upgrade from previous generation of iPhones. If you are using XR then still you can hold on for sometime and upgrade to 2020 model else this phone is a must buy . Camera quality is amazing and wide angle is something to count upon. Performance wise it’s amazing and feels premium while holding in hand. So a big YES for this device. Go for 128 GB variant as the 4K videos will occupy lots of space and the storage can get over very quickly. Try to buy it with...\\nREAD MORE', 'The Best Phone for the Money\\n\\nThe iPhone 11 offers superb cameras, a more durable design and excellent battery life for an affordable price.\\n\\nCompelling ultra-wide camera\\nNew Night mode is excellent\\nLong battery life', 'Value for money❤️❤️\\nIts awesome mobile phone in the world ...\\nDisplay was very good and bright ..\\nTrust me freinds you r never regret after Buying..\\nJust go for it....\\nI love this phone and i switch to iphone x to 11', 'Best budget Iphone till date ❤️ go for it guys without second thought. Let me explain you guys about Camera, Display, battery, and performance.\\n\\nCamera: at this price range there is no comparison of camera, you’ll love the picture quality as well as video quality. I am a Vlogger I wanted an iPhone with 4k video by front camera and I got this phone and I am more than happy 😃\\n\\nBattery: I use this phone roughly as I am active social media person and I have a youtube channel. so the battery ba...\\nREAD MORE', 'It’s been almost a month since I have been using this phone. I upgraded from an iPhone 8. The main issue with my 8 was battery and this phone is just awesome when it comes to battery. It lasts a day and a half for me with my regular use , internet connected always with 4g\\nCan’t move forward without saying this. Battery of this phone is a life saver when I am traveling or at work when I don’t get the option to charge\\nCamera is superb. Front cam selfies and back cam photos are just awesome.\\n...\\nREAD MORE', '*Review after 10 months of usage*\\nDoesn\\'t seem bulky with decent touch and camera. The \"standard maintained\" quality of IPhone. Go for it, if your budget is not more enough for pro models. It\\'s a value for money among the 11 series Stereo speakers are so good, you will love the stereo sound. Battery backup is not decent but still better than Iphone 7 and 8.Processor is fast, the phone doesn\\'t lag at all even with heavy games, waterproof, faster face id and with no fingerprint scanners. The ca...\\nREAD MORE', 'Awesome Phone. Slightly high price but worth. Better than iPhone XR.\\nCamera is superb and wide angle camera is very clear.\\n12MP selfie camera is also very good.\\nA13 Chip gives a very good and smooth performance.', 'Amazing phone with great cameras and better battery which gives you the best performance. I just love the camera .', 'Amazing Powerful and Durable Gadget.\\n\\nI’m am very happy with the camera picture quality, Amazing face id unlocked in dark room, Strong battery with perfect screen size as you can carry easily in pocket. This is my third iPhone.\\n\\nI shifted from android Samsung Note series to iPhone because of the strong build quality and peace of mind for next 3-4 years.\\n\\nDon’t think to much just go for it and I suggest you to go for minimum 128gb variant or more 256gb.\\n\\nI’ve attached my puppy pics and no fi...\\nREAD MORE', 'iphone 11 is a very good phone to buy only if you can compromise for the display. The display on this is device is pretty good but you can get other options with better displays in this price segment.\\nIf you can survive with an HD+ LCD panel with thicker bezels and a notch up top then this is a very good phone for you.\\nCameras are awesome, battery backup excellent, great performance and a decent premium look. Good job Apple !', 'It’s a must buy who is looking for an upgrade from previous generation of iPhones. If you are using XR then still you can hold on for sometime and upgrade to 2020 model else this phone is a must buy . Camera quality is amazing and wide angle is something to count upon. Performance wise it’s amazing and feels premium while holding in hand. So a big YES for this device. Go for 128 GB variant as the 4K videos will occupy lots of space and the storage can get over very quickly. Try to buy it with...\\nREAD MORE', 'The Best Phone for the Money\\n\\nThe iPhone 11 offers superb cameras, a more durable design and excellent battery life for an affordable price.\\n\\nCompelling ultra-wide camera\\nNew Night mode is excellent\\nLong battery life', 'Value for money❤️❤️\\nIts awesome mobile phone in the world ...\\nDisplay was very good and bright ..\\nTrust me freinds you r never regret after Buying..\\nJust go for it....\\nI love this phone and i switch to iphone x to 11', 'Best budget Iphone till date ❤️ go for it guys without second thought. Let me explain you guys about Camera, Display, battery, and performance.\\n\\nCamera: at this price range there is no comparison of camera, you’ll love the picture quality as well as video quality. I am a Vlogger I wanted an iPhone with 4k video by front camera and I got this phone and I am more than happy 😃\\n\\nBattery: I use this phone roughly as I am active social media person and I have a youtube channel. so the battery ba...\\nREAD MORE', 'It’s been almost a month since I have been using this phone. I upgraded from an iPhone 8. The main issue with my 8 was battery and this phone is just awesome when it comes to battery. It lasts a day and a half for me with my regular use , internet connected always with 4g\\nCan’t move forward without saying this. Battery of this phone is a life saver when I am traveling or at work when I don’t get the option to charge\\nCamera is superb. Front cam selfies and back cam photos are just awesome.\\n...\\nREAD MORE', '*Review after 10 months of usage*\\nDoesn\\'t seem bulky with decent touch and camera. The \"standard maintained\" quality of IPhone. Go for it, if your budget is not more enough for pro models. It\\'s a value for money among the 11 series Stereo speakers are so good, you will love the stereo sound. Battery backup is not decent but still better than Iphone 7 and 8.Processor is fast, the phone doesn\\'t lag at all even with heavy games, waterproof, faster face id and with no fingerprint scanners. The ca...\\nREAD MORE', 'Awesome Phone. Slightly high price but worth. Better than iPhone XR.\\nCamera is superb and wide angle camera is very clear.\\n12MP selfie camera is also very good.\\nA13 Chip gives a very good and smooth performance.', 'Amazing phone with great cameras and better battery which gives you the best performance. I just love the camera .', 'Amazing Powerful and Durable Gadget.\\n\\nI’m am very happy with the camera picture quality, Amazing face id unlocked in dark room, Strong battery with perfect screen size as you can carry easily in pocket. This is my third iPhone.\\n\\nI shifted from android Samsung Note series to iPhone because of the strong build quality and peace of mind for next 3-4 years.\\n\\nDon’t think to much just go for it and I suggest you to go for minimum 128gb variant or more 256gb.\\n\\nI’ve attached my puppy pics and no fi...\\nREAD MORE', 'iphone 11 is a very good phone to buy only if you can compromise for the display. The display on this is device is pretty good but you can get other options with better displays in this price segment.\\nIf you can survive with an HD+ LCD panel with thicker bezels and a notch up top then this is a very good phone for you.\\nCameras are awesome, battery backup excellent, great performance and a decent premium look. Good job Apple !', 'It’s a must buy who is looking for an upgrade from previous generation of iPhones. If you are using XR then still you can hold on for sometime and upgrade to 2020 model else this phone is a must buy . Camera quality is amazing and wide angle is something to count upon. Performance wise it’s amazing and feels premium while holding in hand. So a big YES for this device. Go for 128 GB variant as the 4K videos will occupy lots of space and the storage can get over very quickly. Try to buy it with...\\nREAD MORE', 'The Best Phone for the Money\\n\\nThe iPhone 11 offers superb cameras, a more durable design and excellent battery life for an affordable price.\\n\\nCompelling ultra-wide camera\\nNew Night mode is excellent\\nLong battery life', 'Value for money❤️❤️\\nIts awesome mobile phone in the world ...\\nDisplay was very good and bright ..\\nTrust me freinds you r never regret after Buying..\\nJust go for it....\\nI love this phone and i switch to iphone x to 11', 'Best budget Iphone till date ❤️ go for it guys without second thought. Let me explain you guys about Camera, Display, battery, and performance.\\n\\nCamera: at this price range there is no comparison of camera, you’ll love the picture quality as well as video quality. I am a Vlogger I wanted an iPhone with 4k video by front camera and I got this phone and I am more than happy 😃\\n\\nBattery: I use this phone roughly as I am active social media person and I have a youtube channel. so the battery ba...\\nREAD MORE', 'It’s been almost a month since I have been using this phone. I upgraded from an iPhone 8. The main issue with my 8 was battery and this phone is just awesome when it comes to battery. It lasts a day and a half for me with my regular use , internet connected always with 4g\\nCan’t move forward without saying this. Battery of this phone is a life saver when I am traveling or at work when I don’t get the option to charge\\nCamera is superb. Front cam selfies and back cam photos are just awesome.\\n...\\nREAD MORE', '*Review after 10 months of usage*\\nDoesn\\'t seem bulky with decent touch and camera. The \"standard maintained\" quality of IPhone. Go for it, if your budget is not more enough for pro models. It\\'s a value for money among the 11 series Stereo speakers are so good, you will love the stereo sound. Battery backup is not decent but still better than Iphone 7 and 8.Processor is fast, the phone doesn\\'t lag at all even with heavy games, waterproof, faster face id and with no fingerprint scanners. The ca...\\nREAD MORE', 'Awesome Phone. Slightly high price but worth. Better than iPhone XR.\\nCamera is superb and wide angle camera is very clear.\\n12MP selfie camera is also very good.\\nA13 Chip gives a very good and smooth performance.', 'Amazing phone with great cameras and better battery which gives you the best performance. I just love the camera .', 'Amazing Powerful and Durable Gadget.\\n\\nI’m am very happy with the camera picture quality, Amazing face id unlocked in dark room, Strong battery with perfect screen size as you can carry easily in pocket. This is my third iPhone.\\n\\nI shifted from android Samsung Note series to iPhone because of the strong build quality and peace of mind for next 3-4 years.\\n\\nDon’t think to much just go for it and I suggest you to go for minimum 128gb variant or more 256gb.\\n\\nI’ve attached my puppy pics and no fi...\\nREAD MORE', 'iphone 11 is a very good phone to buy only if you can compromise for the display. The display on this is device is pretty good but you can get other options with better displays in this price segment.\\nIf you can survive with an HD+ LCD panel with thicker bezels and a notch up top then this is a very good phone for you.\\nCameras are awesome, battery backup excellent, great performance and a decent premium look. Good job Apple !', 'It’s a must buy who is looking for an upgrade from previous generation of iPhones. If you are using XR then still you can hold on for sometime and upgrade to 2020 model else this phone is a must buy . Camera quality is amazing and wide angle is something to count upon. Performance wise it’s amazing and feels premium while holding in hand. So a big YES for this device. Go for 128 GB variant as the 4K videos will occupy lots of space and the storage can get over very quickly. Try to buy it with...\\nREAD MORE', 'The Best Phone for the Money\\n\\nThe iPhone 11 offers superb cameras, a more durable design and excellent battery life for an affordable price.\\n\\nCompelling ultra-wide camera\\nNew Night mode is excellent\\nLong battery life', 'Value for money❤️❤️\\nIts awesome mobile phone in the world ...\\nDisplay was very good and bright ..\\nTrust me freinds you r never regret after Buying..\\nJust go for it....\\nI love this phone and i switch to iphone x to 11', 'Best budget Iphone till date ❤️ go for it guys without second thought. Let me explain you guys about Camera, Display, battery, and performance.\\n\\nCamera: at this price range there is no comparison of camera, you’ll love the picture quality as well as video quality. I am a Vlogger I wanted an iPhone with 4k video by front camera and I got this phone and I am more than happy 😃\\n\\nBattery: I use this phone roughly as I am active social media person and I have a youtube channel. so the battery ba...\\nREAD MORE', 'It’s been almost a month since I have been using this phone. I upgraded from an iPhone 8. The main issue with my 8 was battery and this phone is just awesome when it comes to battery. It lasts a day and a half for me with my regular use , internet connected always with 4g\\nCan’t move forward without saying this. Battery of this phone is a life saver when I am traveling or at work when I don’t get the option to charge\\nCamera is superb. Front cam selfies and back cam photos are just awesome.\\n...\\nREAD MORE', '*Review after 10 months of usage*\\nDoesn\\'t seem bulky with decent touch and camera. The \"standard maintained\" quality of IPhone. Go for it, if your budget is not more enough for pro models. It\\'s a value for money among the 11 series Stereo speakers are so good, you will love the stereo sound. Battery backup is not decent but still better than Iphone 7 and 8.Processor is fast, the phone doesn\\'t lag at all even with heavy games, waterproof, faster face id and with no fingerprint scanners. The ca...\\nREAD MORE', 'Awesome Phone. Slightly high price but worth. Better than iPhone XR.\\nCamera is superb and wide angle camera is very clear.\\n12MP selfie camera is also very good.\\nA13 Chip gives a very good and smooth performance.', 'Amazing phone with great cameras and better battery which gives you the best performance. I just love the camera .', 'Amazing Powerful and Durable Gadget.\\n\\nI’m am very happy with the camera picture quality, Amazing face id unlocked in dark room, Strong battery with perfect screen size as you can carry easily in pocket. This is my third iPhone.\\n\\nI shifted from android Samsung Note series to iPhone because of the strong build quality and peace of mind for next 3-4 years.\\n\\nDon’t think to much just go for it and I suggest you to go for minimum 128gb variant or more 256gb.\\n\\nI’ve attached my puppy pics and no fi...\\nREAD MORE', 'iphone 11 is a very good phone to buy only if you can compromise for the display. The display on this is device is pretty good but you can get other options with better displays in this price segment.\\nIf you can survive with an HD+ LCD panel with thicker bezels and a notch up top then this is a very good phone for you.\\nCameras are awesome, battery backup excellent, great performance and a decent premium look. Good job Apple !', 'It’s a must buy who is looking for an upgrade from previous generation of iPhones. If you are using XR then still you can hold on for sometime and upgrade to 2020 model else this phone is a must buy . Camera quality is amazing and wide angle is something to count upon. Performance wise it’s amazing and feels premium while holding in hand. So a big YES for this device. Go for 128 GB variant as the 4K videos will occupy lots of space and the storage can get over very quickly. Try to buy it with...\\nREAD MORE', 'The Best Phone for the Money\\n\\nThe iPhone 11 offers superb cameras, a more durable design and excellent battery life for an affordable price.\\n\\nCompelling ultra-wide camera\\nNew Night mode is excellent\\nLong battery life', 'Value for money❤️❤️\\nIts awesome mobile phone in the world ...\\nDisplay was very good and bright ..\\nTrust me freinds you r never regret after Buying..\\nJust go for it....\\nI love this phone and i switch to iphone x to 11', 'Best budget Iphone till date ❤️ go for it guys without second thought. Let me explain you guys about Camera, Display, battery, and performance.\\n\\nCamera: at this price range there is no comparison of camera, you’ll love the picture quality as well as video quality. I am a Vlogger I wanted an iPhone with 4k video by front camera and I got this phone and I am more than happy 😃\\n\\nBattery: I use this phone roughly as I am active social media person and I have a youtube channel. so the battery ba...\\nREAD MORE', 'It’s been almost a month since I have been using this phone. I upgraded from an iPhone 8. The main issue with my 8 was battery and this phone is just awesome when it comes to battery. It lasts a day and a half for me with my regular use , internet connected always with 4g\\nCan’t move forward without saying this. Battery of this phone is a life saver when I am traveling or at work when I don’t get the option to charge\\nCamera is superb. Front cam selfies and back cam photos are just awesome.\\n...\\nREAD MORE', '*Review after 10 months of usage*\\nDoesn\\'t seem bulky with decent touch and camera. The \"standard maintained\" quality of IPhone. Go for it, if your budget is not more enough for pro models. It\\'s a value for money among the 11 series Stereo speakers are so good, you will love the stereo sound. Battery backup is not decent but still better than Iphone 7 and 8.Processor is fast, the phone doesn\\'t lag at all even with heavy games, waterproof, faster face id and with no fingerprint scanners. The ca...\\nREAD MORE', 'Awesome Phone. Slightly high price but worth. Better than iPhone XR.\\nCamera is superb and wide angle camera is very clear.\\n12MP selfie camera is also very good.\\nA13 Chip gives a very good and smooth performance.', 'Amazing phone with great cameras and better battery which gives you the best performance. I just love the camera .', 'Amazing Powerful and Durable Gadget.\\n\\nI’m am very happy with the camera picture quality, Amazing face id unlocked in dark room, Strong battery with perfect screen size as you can carry easily in pocket. This is my third iPhone.\\n\\nI shifted from android Samsung Note series to iPhone because of the strong build quality and peace of mind for next 3-4 years.\\n\\nDon’t think to much just go for it and I suggest you to go for minimum 128gb variant or more 256gb.\\n\\nI’ve attached my puppy pics and no fi...\\nREAD MORE', 'iphone 11 is a very good phone to buy only if you can compromise for the display. The display on this is device is pretty good but you can get other options with better displays in this price segment.\\nIf you can survive with an HD+ LCD panel with thicker bezels and a notch up top then this is a very good phone for you.\\nCameras are awesome, battery backup excellent, great performance and a decent premium look. Good job Apple !', 'It’s a must buy who is looking for an upgrade from previous generation of iPhones. If you are using XR then still you can hold on for sometime and upgrade to 2020 model else this phone is a must buy . Camera quality is amazing and wide angle is something to count upon. Performance wise it’s amazing and feels premium while holding in hand. So a big YES for this device. Go for 128 GB variant as the 4K videos will occupy lots of space and the storage can get over very quickly. Try to buy it with...\\nREAD MORE', 'The Best Phone for the Money\\n\\nThe iPhone 11 offers superb cameras, a more durable design and excellent battery life for an affordable price.\\n\\nCompelling ultra-wide camera\\nNew Night mode is excellent\\nLong battery life', 'Value for money❤️❤️\\nIts awesome mobile phone in the world ...\\nDisplay was very good and bright ..\\nTrust me freinds you r never regret after Buying..\\nJust go for it....\\nI love this phone and i switch to iphone x to 11', 'Best budget Iphone till date ❤️ go for it guys without second thought. Let me explain you guys about Camera, Display, battery, and performance.\\n\\nCamera: at this price range there is no comparison of camera, you’ll love the picture quality as well as video quality. I am a Vlogger I wanted an iPhone with 4k video by front camera and I got this phone and I am more than happy 😃\\n\\nBattery: I use this phone roughly as I am active social media person and I have a youtube channel. so the battery ba...\\nREAD MORE', 'It’s been almost a month since I have been using this phone. I upgraded from an iPhone 8. The main issue with my 8 was battery and this phone is just awesome when it comes to battery. It lasts a day and a half for me with my regular use , internet connected always with 4g\\nCan’t move forward without saying this. Battery of this phone is a life saver when I am traveling or at work when I don’t get the option to charge\\nCamera is superb. Front cam selfies and back cam photos are just awesome.\\n...\\nREAD MORE', '*Review after 10 months of usage*\\nDoesn\\'t seem bulky with decent touch and camera. The \"standard maintained\" quality of IPhone. Go for it, if your budget is not more enough for pro models. It\\'s a value for money among the 11 series Stereo speakers are so good, you will love the stereo sound. Battery backup is not decent but still better than Iphone 7 and 8.Processor is fast, the phone doesn\\'t lag at all even with heavy games, waterproof, faster face id and with no fingerprint scanners. The ca...\\nREAD MORE', 'Awesome Phone. Slightly high price but worth. Better than iPhone XR.\\nCamera is superb and wide angle camera is very clear.\\n12MP selfie camera is also very good.\\nA13 Chip gives a very good and smooth performance.', 'Amazing phone with great cameras and better battery which gives you the best performance. I just love the camera .', 'Amazing Powerful and Durable Gadget.\\n\\nI’m am very happy with the camera picture quality, Amazing face id unlocked in dark room, Strong battery with perfect screen size as you can carry easily in pocket. This is my third iPhone.\\n\\nI shifted from android Samsung Note series to iPhone because of the strong build quality and peace of mind for next 3-4 years.\\n\\nDon’t think to much just go for it and I suggest you to go for minimum 128gb variant or more 256gb.\\n\\nI’ve attached my puppy pics and no fi...\\nREAD MORE', 'iphone 11 is a very good phone to buy only if you can compromise for the display. The display on this is device is pretty good but you can get other options with better displays in this price segment.\\nIf you can survive with an HD+ LCD panel with thicker bezels and a notch up top then this is a very good phone for you.\\nCameras are awesome, battery backup excellent, great performance and a decent premium look. Good job Apple !', 'It’s a must buy who is looking for an upgrade from previous generation of iPhones. If you are using XR then still you can hold on for sometime and upgrade to 2020 model else this phone is a must buy . Camera quality is amazing and wide angle is something to count upon. Performance wise it’s amazing and feels premium while holding in hand. So a big YES for this device. Go for 128 GB variant as the 4K videos will occupy lots of space and the storage can get over very quickly. Try to buy it with...\\nREAD MORE', 'The Best Phone for the Money\\n\\nThe iPhone 11 offers superb cameras, a more durable design and excellent battery life for an affordable price.\\n\\nCompelling ultra-wide camera\\nNew Night mode is excellent\\nLong battery life', 'Value for money❤️❤️\\nIts awesome mobile phone in the world ...\\nDisplay was very good and bright ..\\nTrust me freinds you r never regret after Buying..\\nJust go for it....\\nI love this phone and i switch to iphone x to 11', 'Best budget Iphone till date ❤️ go for it guys without second thought. Let me explain you guys about Camera, Display, battery, and performance.\\n\\nCamera: at this price range there is no comparison of camera, you’ll love the picture quality as well as video quality. I am a Vlogger I wanted an iPhone with 4k video by front camera and I got this phone and I am more than happy 😃\\n\\nBattery: I use this phone roughly as I am active social media person and I have a youtube channel. so the battery ba...\\nREAD MORE', 'It’s been almost a month since I have been using this phone. I upgraded from an iPhone 8. The main issue with my 8 was battery and this phone is just awesome when it comes to battery. It lasts a day and a half for me with my regular use , internet connected always with 4g\\nCan’t move forward without saying this. Battery of this phone is a life saver when I am traveling or at work when I don’t get the option to charge\\nCamera is superb. Front cam selfies and back cam photos are just awesome.\\n...\\nREAD MORE', '*Review after 10 months of usage*\\nDoesn\\'t seem bulky with decent touch and camera. The \"standard maintained\" quality of IPhone. Go for it, if your budget is not more enough for pro models. It\\'s a value for money among the 11 series Stereo speakers are so good, you will love the stereo sound. Battery backup is not decent but still better than Iphone 7 and 8.Processor is fast, the phone doesn\\'t lag at all even with heavy games, waterproof, faster face id and with no fingerprint scanners. The ca...\\nREAD MORE', 'Awesome Phone. Slightly high price but worth. Better than iPhone XR.\\nCamera is superb and wide angle camera is very clear.\\n12MP selfie camera is also very good.\\nA13 Chip gives a very good and smooth performance.', 'Amazing phone with great cameras and better battery which gives you the best performance. I just love the camera .', 'Amazing Powerful and Durable Gadget.\\n\\nI’m am very happy with the camera picture quality, Amazing face id unlocked in dark room, Strong battery with perfect screen size as you can carry easily in pocket. This is my third iPhone.\\n\\nI shifted from android Samsung Note series to iPhone because of the strong build quality and peace of mind for next 3-4 years.\\n\\nDon’t think to much just go for it and I suggest you to go for minimum 128gb variant or more 256gb.\\n\\nI’ve attached my puppy pics and no fi...\\nREAD MORE', 'iphone 11 is a very good phone to buy only if you can compromise for the display. The display on this is device is pretty good but you can get other options with better displays in this price segment.\\nIf you can survive with an HD+ LCD panel with thicker bezels and a notch up top then this is a very good phone for you.\\nCameras are awesome, battery backup excellent, great performance and a decent premium look. Good job Apple !', 'It’s a must buy who is looking for an upgrade from previous generation of iPhones. If you are using XR then still you can hold on for sometime and upgrade to 2020 model else this phone is a must buy . Camera quality is amazing and wide angle is something to count upon. Performance wise it’s amazing and feels premium while holding in hand. So a big YES for this device. Go for 128 GB variant as the 4K videos will occupy lots of space and the storage can get over very quickly. Try to buy it with...\\nREAD MORE', 'The Best Phone for the Money\\n\\nThe iPhone 11 offers superb cameras, a more durable design and excellent battery life for an affordable price.\\n\\nCompelling ultra-wide camera\\nNew Night mode is excellent\\nLong battery life', 'Value for money❤️❤️\\nIts awesome mobile phone in the world ...\\nDisplay was very good and bright ..\\nTrust me freinds you r never regret after Buying..\\nJust go for it....\\nI love this phone and i switch to iphone x to 11', 'Best budget Iphone till date ❤️ go for it guys without second thought. Let me explain you guys about Camera, Display, battery, and performance.\\n\\nCamera: at this price range there is no comparison of camera, you’ll love the picture quality as well as video quality. I am a Vlogger I wanted an iPhone with 4k video by front camera and I got this phone and I am more than happy 😃\\n\\nBattery: I use this phone roughly as I am active social media person and I have a youtube channel. so the battery ba...\\nREAD MORE', 'It’s been almost a month since I have been using this phone. I upgraded from an iPhone 8. The main issue with my 8 was battery and this phone is just awesome when it comes to battery. It lasts a day and a half for me with my regular use , internet connected always with 4g\\nCan’t move forward without saying this. Battery of this phone is a life saver when I am traveling or at work when I don’t get the option to charge\\nCamera is superb. Front cam selfies and back cam photos are just awesome.\\n...\\nREAD MORE', '*Review after 10 months of usage*\\nDoesn\\'t seem bulky with decent touch and camera. The \"standard maintained\" quality of IPhone. Go for it, if your budget is not more enough for pro models. It\\'s a value for money among the 11 series Stereo speakers are so good, you will love the stereo sound. Battery backup is not decent but still better than Iphone 7 and 8.Processor is fast, the phone doesn\\'t lag at all even with heavy games, waterproof, faster face id and with no fingerprint scanners. The ca...\\nREAD MORE', 'Awesome Phone. Slightly high price but worth. Better than iPhone XR.\\nCamera is superb and wide angle camera is very clear.\\n12MP selfie camera is also very good.\\nA13 Chip gives a very good and smooth performance.', 'Amazing phone with great cameras and better battery which gives you the best performance. I just love the camera .', 'Amazing Powerful and Durable Gadget.\\n\\nI’m am very happy with the camera picture quality, Amazing face id unlocked in dark room, Strong battery with perfect screen size as you can carry easily in pocket. This is my third iPhone.\\n\\nI shifted from android Samsung Note series to iPhone because of the strong build quality and peace of mind for next 3-4 years.\\n\\nDon’t think to much just go for it and I suggest you to go for minimum 128gb variant or more 256gb.\\n\\nI’ve attached my puppy pics and no fi...\\nREAD MORE', 'iphone 11 is a very good phone to buy only if you can compromise for the display. The display on this is device is pretty good but you can get other options with better displays in this price segment.\\nIf you can survive with an HD+ LCD panel with thicker bezels and a notch up top then this is a very good phone for you.\\nCameras are awesome, battery backup excellent, great performance and a decent premium look. Good job Apple !', 'It’s a must buy who is looking for an upgrade from previous generation of iPhones. If you are using XR then still you can hold on for sometime and upgrade to 2020 model else this phone is a must buy . Camera quality is amazing and wide angle is something to count upon. Performance wise it’s amazing and feels premium while holding in hand. So a big YES for this device. Go for 128 GB variant as the 4K videos will occupy lots of space and the storage can get over very quickly. Try to buy it with...\\nREAD MORE', 'The Best Phone for the Money\\n\\nThe iPhone 11 offers superb cameras, a more durable design and excellent battery life for an affordable price.\\n\\nCompelling ultra-wide camera\\nNew Night mode is excellent\\nLong battery life', 'Value for money❤️❤️\\nIts awesome mobile phone in the world ...\\nDisplay was very good and bright ..\\nTrust me freinds you r never regret after Buying..\\nJust go for it....\\nI love this phone and i switch to iphone x to 11', 'Best budget Iphone till date ❤️ go for it guys without second thought. Let me explain you guys about Camera, Display, battery, and performance.\\n\\nCamera: at this price range there is no comparison of camera, you’ll love the picture quality as well as video quality. I am a Vlogger I wanted an iPhone with 4k video by front camera and I got this phone and I am more than happy 😃\\n\\nBattery: I use this phone roughly as I am active social media person and I have a youtube channel. so the battery ba...\\nREAD MORE', 'It’s been almost a month since I have been using this phone. I upgraded from an iPhone 8. The main issue with my 8 was battery and this phone is just awesome when it comes to battery. It lasts a day and a half for me with my regular use , internet connected always with 4g\\nCan’t move forward without saying this. Battery of this phone is a life saver when I am traveling or at work when I don’t get the option to charge\\nCamera is superb. Front cam selfies and back cam photos are just awesome.\\n...\\nREAD MORE', '*Review after 10 months of usage*\\nDoesn\\'t seem bulky with decent touch and camera. The \"standard maintained\" quality of IPhone. Go for it, if your budget is not more enough for pro models. It\\'s a value for money among the 11 series Stereo speakers are so good, you will love the stereo sound. Battery backup is not decent but still better than Iphone 7 and 8.Processor is fast, the phone doesn\\'t lag at all even with heavy games, waterproof, faster face id and with no fingerprint scanners. The ca...\\nREAD MORE', 'Awesome Phone. Slightly high price but worth. Better than iPhone XR.\\nCamera is superb and wide angle camera is very clear.\\n12MP selfie camera is also very good.\\nA13 Chip gives a very good and smooth performance.', 'Amazing phone with great cameras and better battery which gives you the best performance. I just love the camera .', 'Amazing Powerful and Durable Gadget.\\n\\nI’m am very happy with the camera picture quality, Amazing face id unlocked in dark room, Strong battery with perfect screen size as you can carry easily in pocket. This is my third iPhone.\\n\\nI shifted from android Samsung Note series to iPhone because of the strong build quality and peace of mind for next 3-4 years.\\n\\nDon’t think to much just go for it and I suggest you to go for minimum 128gb variant or more 256gb.\\n\\nI’ve attached my puppy pics and no fi...\\nREAD MORE', 'iphone 11 is a very good phone to buy only if you can compromise for the display. The display on this is device is pretty good but you can get other options with better displays in this price segment.\\nIf you can survive with an HD+ LCD panel with thicker bezels and a notch up top then this is a very good phone for you.\\nCameras are awesome, battery backup excellent, great performance and a decent premium look. Good job Apple !', 'It’s a must buy who is looking for an upgrade from previous generation of iPhones. If you are using XR then still you can hold on for sometime and upgrade to 2020 model else this phone is a must buy . Camera quality is amazing and wide angle is something to count upon. Performance wise it’s amazing and feels premium while holding in hand. So a big YES for this device. Go for 128 GB variant as the 4K videos will occupy lots of space and the storage can get over very quickly. Try to buy it with...\\nREAD MORE', 'The Best Phone for the Money\\n\\nThe iPhone 11 offers superb cameras, a more durable design and excellent battery life for an affordable price.\\n\\nCompelling ultra-wide camera\\nNew Night mode is excellent\\nLong battery life', 'Value for money❤️❤️\\nIts awesome mobile phone in the world ...\\nDisplay was very good and bright ..\\nTrust me freinds you r never regret after Buying..\\nJust go for it....\\nI love this phone and i switch to iphone x to 11', 'Best budget Iphone till date ❤️ go for it guys without second thought. Let me explain you guys about Camera, Display, battery, and performance.\\n\\nCamera: at this price range there is no comparison of camera, you’ll love the picture quality as well as video quality. I am a Vlogger I wanted an iPhone with 4k video by front camera and I got this phone and I am more than happy 😃\\n\\nBattery: I use this phone roughly as I am active social media person and I have a youtube channel. so the battery ba...\\nREAD MORE', 'It’s been almost a month since I have been using this phone. I upgraded from an iPhone 8. The main issue with my 8 was battery and this phone is just awesome when it comes to battery. It lasts a day and a half for me with my regular use , internet connected always with 4g\\nCan’t move forward without saying this. Battery of this phone is a life saver when I am traveling or at work when I don’t get the option to charge\\nCamera is superb. Front cam selfies and back cam photos are just awesome.\\n...\\nREAD MORE', '*Review after 10 months of usage*\\nDoesn\\'t seem bulky with decent touch and camera. The \"standard maintained\" quality of IPhone. Go for it, if your budget is not more enough for pro models. It\\'s a value for money among the 11 series Stereo speakers are so good, you will love the stereo sound. Battery backup is not decent but still better than Iphone 7 and 8.Processor is fast, the phone doesn\\'t lag at all even with heavy games, waterproof, faster face id and with no fingerprint scanners. The ca...\\nREAD MORE', 'Awesome Phone. Slightly high price but worth. Better than iPhone XR.\\nCamera is superb and wide angle camera is very clear.\\n12MP selfie camera is also very good.\\nA13 Chip gives a very good and smooth performance.', 'Amazing phone with great cameras and better battery which gives you the best performance. I just love the camera .', 'Amazing Powerful and Durable Gadget.\\n\\nI’m am very happy with the camera picture quality, Amazing face id unlocked in dark room, Strong battery with perfect screen size as you can carry easily in pocket. This is my third iPhone.\\n\\nI shifted from android Samsung Note series to iPhone because of the strong build quality and peace of mind for next 3-4 years.\\n\\nDon’t think to much just go for it and I suggest you to go for minimum 128gb variant or more 256gb.\\n\\nI’ve attached my puppy pics and no fi...\\nREAD MORE', 'iphone 11 is a very good phone to buy only if you can compromise for the display. The display on this is device is pretty good but you can get other options with better displays in this price segment.\\nIf you can survive with an HD+ LCD panel with thicker bezels and a notch up top then this is a very good phone for you.\\nCameras are awesome, battery backup excellent, great performance and a decent premium look. Good job Apple !', 'It’s a must buy who is looking for an upgrade from previous generation of iPhones. If you are using XR then still you can hold on for sometime and upgrade to 2020 model else this phone is a must buy . Camera quality is amazing and wide angle is something to count upon. Performance wise it’s amazing and feels premium while holding in hand. So a big YES for this device. Go for 128 GB variant as the 4K videos will occupy lots of space and the storage can get over very quickly. Try to buy it with...\\nREAD MORE', 'The Best Phone for the Money\\n\\nThe iPhone 11 offers superb cameras, a more durable design and excellent battery life for an affordable price.\\n\\nCompelling ultra-wide camera\\nNew Night mode is excellent\\nLong battery life', 'Value for money❤️❤️\\nIts awesome mobile phone in the world ...\\nDisplay was very good and bright ..\\nTrust me freinds you r never regret after Buying..\\nJust go for it....\\nI love this phone and i switch to iphone x to 11', 'Best budget Iphone till date ❤️ go for it guys without second thought. Let me explain you guys about Camera, Display, battery, and performance.\\n\\nCamera: at this price range there is no comparison of camera, you’ll love the picture quality as well as video quality. I am a Vlogger I wanted an iPhone with 4k video by front camera and I got this phone and I am more than happy 😃\\n\\nBattery: I use this phone roughly as I am active social media person and I have a youtube channel. so the battery ba...\\nREAD MORE', 'It’s been almost a month since I have been using this phone. I upgraded from an iPhone 8. The main issue with my 8 was battery and this phone is just awesome when it comes to battery. It lasts a day and a half for me with my regular use , internet connected always with 4g\\nCan’t move forward without saying this. Battery of this phone is a life saver when I am traveling or at work when I don’t get the option to charge\\nCamera is superb. Front cam selfies and back cam photos are just awesome.\\n...\\nREAD MORE', '*Review after 10 months of usage*\\nDoesn\\'t seem bulky with decent touch and camera. The \"standard maintained\" quality of IPhone. Go for it, if your budget is not more enough for pro models. It\\'s a value for money among the 11 series Stereo speakers are so good, you will love the stereo sound. Battery backup is not decent but still better than Iphone 7 and 8.Processor is fast, the phone doesn\\'t lag at all even with heavy games, waterproof, faster face id and with no fingerprint scanners. The ca...\\nREAD MORE', 'Awesome Phone. Slightly high price but worth. Better than iPhone XR.\\nCamera is superb and wide angle camera is very clear.\\n12MP selfie camera is also very good.\\nA13 Chip gives a very good and smooth performance.', 'Amazing phone with great cameras and better battery which gives you the best performance. I just love the camera .', 'Amazing Powerful and Durable Gadget.\\n\\nI’m am very happy with the camera picture quality, Amazing face id unlocked in dark room, Strong battery with perfect screen size as you can carry easily in pocket. This is my third iPhone.\\n\\nI shifted from android Samsung Note series to iPhone because of the strong build quality and peace of mind for next 3-4 years.\\n\\nDon’t think to much just go for it and I suggest you to go for minimum 128gb variant or more 256gb.\\n\\nI’ve attached my puppy pics and no fi...\\nREAD MORE', 'iphone 11 is a very good phone to buy only if you can compromise for the display. The display on this is device is pretty good but you can get other options with better displays in this price segment.\\nIf you can survive with an HD+ LCD panel with thicker bezels and a notch up top then this is a very good phone for you.\\nCameras are awesome, battery backup excellent, great performance and a decent premium look. Good job Apple !', 'It’s a must buy who is looking for an upgrade from previous generation of iPhones. If you are using XR then still you can hold on for sometime and upgrade to 2020 model else this phone is a must buy . Camera quality is amazing and wide angle is something to count upon. Performance wise it’s amazing and feels premium while holding in hand. So a big YES for this device. Go for 128 GB variant as the 4K videos will occupy lots of space and the storage can get over very quickly. Try to buy it with...\\nREAD MORE', 'The Best Phone for the Money\\n\\nThe iPhone 11 offers superb cameras, a more durable design and excellent battery life for an affordable price.\\n\\nCompelling ultra-wide camera\\nNew Night mode is excellent\\nLong battery life', 'Value for money❤️❤️\\nIts awesome mobile phone in the world ...\\nDisplay was very good and bright ..\\nTrust me freinds you r never regret after Buying..\\nJust go for it....\\nI love this phone and i switch to iphone x to 11', 'Best budget Iphone till date ❤️ go for it guys without second thought. Let me explain you guys about Camera, Display, battery, and performance.\\n\\nCamera: at this price range there is no comparison of camera, you’ll love the picture quality as well as video quality. I am a Vlogger I wanted an iPhone with 4k video by front camera and I got this phone and I am more than happy 😃\\n\\nBattery: I use this phone roughly as I am active social media person and I have a youtube channel. so the battery ba...\\nREAD MORE', 'It’s been almost a month since I have been using this phone. I upgraded from an iPhone 8. The main issue with my 8 was battery and this phone is just awesome when it comes to battery. It lasts a day and a half for me with my regular use , internet connected always with 4g\\nCan’t move forward without saying this. Battery of this phone is a life saver when I am traveling or at work when I don’t get the option to charge\\nCamera is superb. Front cam selfies and back cam photos are just awesome.\\n...\\nREAD MORE', '*Review after 10 months of usage*\\nDoesn\\'t seem bulky with decent touch and camera. The \"standard maintained\" quality of IPhone. Go for it, if your budget is not more enough for pro models. It\\'s a value for money among the 11 series Stereo speakers are so good, you will love the stereo sound. Battery backup is not decent but still better than Iphone 7 and 8.Processor is fast, the phone doesn\\'t lag at all even with heavy games, waterproof, faster face id and with no fingerprint scanners. The ca...\\nREAD MORE', 'Awesome Phone. Slightly high price but worth. Better than iPhone XR.\\nCamera is superb and wide angle camera is very clear.\\n12MP selfie camera is also very good.\\nA13 Chip gives a very good and smooth performance.', 'Amazing phone with great cameras and better battery which gives you the best performance. I just love the camera .', 'Amazing Powerful and Durable Gadget.\\n\\nI’m am very happy with the camera picture quality, Amazing face id unlocked in dark room, Strong battery with perfect screen size as you can carry easily in pocket. This is my third iPhone.\\n\\nI shifted from android Samsung Note series to iPhone because of the strong build quality and peace of mind for next 3-4 years.\\n\\nDon’t think to much just go for it and I suggest you to go for minimum 128gb variant or more 256gb.\\n\\nI’ve attached my puppy pics and no fi...\\nREAD MORE', 'iphone 11 is a very good phone to buy only if you can compromise for the display. The display on this is device is pretty good but you can get other options with better displays in this price segment.\\nIf you can survive with an HD+ LCD panel with thicker bezels and a notch up top then this is a very good phone for you.\\nCameras are awesome, battery backup excellent, great performance and a decent premium look. Good job Apple !', 'It’s a must buy who is looking for an upgrade from previous generation of iPhones. If you are using XR then still you can hold on for sometime and upgrade to 2020 model else this phone is a must buy . Camera quality is amazing and wide angle is something to count upon. Performance wise it’s amazing and feels premium while holding in hand. So a big YES for this device. Go for 128 GB variant as the 4K videos will occupy lots of space and the storage can get over very quickly. Try to buy it with...\\nREAD MORE', 'The Best Phone for the Money\\n\\nThe iPhone 11 offers superb cameras, a more durable design and excellent battery life for an affordable price.\\n\\nCompelling ultra-wide camera\\nNew Night mode is excellent\\nLong battery life', 'Value for money❤️❤️\\nIts awesome mobile phone in the world ...\\nDisplay was very good and bright ..\\nTrust me freinds you r never regret after Buying..\\nJust go for it....\\nI love this phone and i switch to iphone x to 11', 'Best budget Iphone till date ❤️ go for it guys without second thought. Let me explain you guys about Camera, Display, battery, and performance.\\n\\nCamera: at this price range there is no comparison of camera, you’ll love the picture quality as well as video quality. I am a Vlogger I wanted an iPhone with 4k video by front camera and I got this phone and I am more than happy 😃\\n\\nBattery: I use this phone roughly as I am active social media person and I have a youtube channel. so the battery ba...\\nREAD MORE', 'It’s been almost a month since I have been using this phone. I upgraded from an iPhone 8. The main issue with my 8 was battery and this phone is just awesome when it comes to battery. It lasts a day and a half for me with my regular use , internet connected always with 4g\\nCan’t move forward without saying this. Battery of this phone is a life saver when I am traveling or at work when I don’t get the option to charge\\nCamera is superb. Front cam selfies and back cam photos are just awesome.\\n...\\nREAD MORE', '*Review after 10 months of usage*\\nDoesn\\'t seem bulky with decent touch and camera. The \"standard maintained\" quality of IPhone. Go for it, if your budget is not more enough for pro models. It\\'s a value for money among the 11 series Stereo speakers are so good, you will love the stereo sound. Battery backup is not decent but still better than Iphone 7 and 8.Processor is fast, the phone doesn\\'t lag at all even with heavy games, waterproof, faster face id and with no fingerprint scanners. The ca...\\nREAD MORE', 'Awesome Phone. Slightly high price but worth. Better than iPhone XR.\\nCamera is superb and wide angle camera is very clear.\\n12MP selfie camera is also very good.\\nA13 Chip gives a very good and smooth performance.', 'Amazing phone with great cameras and better battery which gives you the best performance. I just love the camera .', 'Amazing Powerful and Durable Gadget.\\n\\nI’m am very happy with the camera picture quality, Amazing face id unlocked in dark room, Strong battery with perfect screen size as you can carry easily in pocket. This is my third iPhone.\\n\\nI shifted from android Samsung Note series to iPhone because of the strong build quality and peace of mind for next 3-4 years.\\n\\nDon’t think to much just go for it and I suggest you to go for minimum 128gb variant or more 256gb.\\n\\nI’ve attached my puppy pics and no fi...\\nREAD MORE', 'iphone 11 is a very good phone to buy only if you can compromise for the display. The display on this is device is pretty good but you can get other options with better displays in this price segment.\\nIf you can survive with an HD+ LCD panel with thicker bezels and a notch up top then this is a very good phone for you.\\nCameras are awesome, battery backup excellent, great performance and a decent premium look. Good job Apple !', 'It’s a must buy who is looking for an upgrade from previous generation of iPhones. If you are using XR then still you can hold on for sometime and upgrade to 2020 model else this phone is a must buy . Camera quality is amazing and wide angle is something to count upon. Performance wise it’s amazing and feels premium while holding in hand. So a big YES for this device. Go for 128 GB variant as the 4K videos will occupy lots of space and the storage can get over very quickly. Try to buy it with...\\nREAD MORE', 'The Best Phone for the Money\\n\\nThe iPhone 11 offers superb cameras, a more durable design and excellent battery life for an affordable price.\\n\\nCompelling ultra-wide camera\\nNew Night mode is excellent\\nLong battery life', 'Value for money❤️❤️\\nIts awesome mobile phone in the world ...\\nDisplay was very good and bright ..\\nTrust me freinds you r never regret after Buying..\\nJust go for it....\\nI love this phone and i switch to iphone x to 11', 'Best budget Iphone till date ❤️ go for it guys without second thought. Let me explain you guys about Camera, Display, battery, and performance.\\n\\nCamera: at this price range there is no comparison of camera, you’ll love the picture quality as well as video quality. I am a Vlogger I wanted an iPhone with 4k video by front camera and I got this phone and I am more than happy 😃\\n\\nBattery: I use this phone roughly as I am active social media person and I have a youtube channel. so the battery ba...\\nREAD MORE', 'It’s been almost a month since I have been using this phone. I upgraded from an iPhone 8. The main issue with my 8 was battery and this phone is just awesome when it comes to battery. It lasts a day and a half for me with my regular use , internet connected always with 4g\\nCan’t move forward without saying this. Battery of this phone is a life saver when I am traveling or at work when I don’t get the option to charge\\nCamera is superb. Front cam selfies and back cam photos are just awesome.\\n...\\nREAD MORE', '*Review after 10 months of usage*\\nDoesn\\'t seem bulky with decent touch and camera. The \"standard maintained\" quality of IPhone. Go for it, if your budget is not more enough for pro models. It\\'s a value for money among the 11 series Stereo speakers are so good, you will love the stereo sound. Battery backup is not decent but still better than Iphone 7 and 8.Processor is fast, the phone doesn\\'t lag at all even with heavy games, waterproof, faster face id and with no fingerprint scanners. The ca...\\nREAD MORE', 'Awesome Phone. Slightly high price but worth. Better than iPhone XR.\\nCamera is superb and wide angle camera is very clear.\\n12MP selfie camera is also very good.\\nA13 Chip gives a very good and smooth performance.', 'Amazing phone with great cameras and better battery which gives you the best performance. I just love the camera .', 'Amazing Powerful and Durable Gadget.\\n\\nI’m am very happy with the camera picture quality, Amazing face id unlocked in dark room, Strong battery with perfect screen size as you can carry easily in pocket. This is my third iPhone.\\n\\nI shifted from android Samsung Note series to iPhone because of the strong build quality and peace of mind for next 3-4 years.\\n\\nDon’t think to much just go for it and I suggest you to go for minimum 128gb variant or more 256gb.\\n\\nI’ve attached my puppy pics and no fi...\\nREAD MORE', 'iphone 11 is a very good phone to buy only if you can compromise for the display. The display on this is device is pretty good but you can get other options with better displays in this price segment.\\nIf you can survive with an HD+ LCD panel with thicker bezels and a notch up top then this is a very good phone for you.\\nCameras are awesome, battery backup excellent, great performance and a decent premium look. Good job Apple !', 'It’s a must buy who is looking for an upgrade from previous generation of iPhones. If you are using XR then still you can hold on for sometime and upgrade to 2020 model else this phone is a must buy . Camera quality is amazing and wide angle is something to count upon. Performance wise it’s amazing and feels premium while holding in hand. So a big YES for this device. Go for 128 GB variant as the 4K videos will occupy lots of space and the storage can get over very quickly. Try to buy it with...\\nREAD MORE', 'The Best Phone for the Money\\n\\nThe iPhone 11 offers superb cameras, a more durable design and excellent battery life for an affordable price.\\n\\nCompelling ultra-wide camera\\nNew Night mode is excellent\\nLong battery life', 'Value for money❤️❤️\\nIts awesome mobile phone in the world ...\\nDisplay was very good and bright ..\\nTrust me freinds you r never regret after Buying..\\nJust go for it....\\nI love this phone and i switch to iphone x to 11', 'Best budget Iphone till date ❤️ go for it guys without second thought. Let me explain you guys about Camera, Display, battery, and performance.\\n\\nCamera: at this price range there is no comparison of camera, you’ll love the picture quality as well as video quality. I am a Vlogger I wanted an iPhone with 4k video by front camera and I got this phone and I am more than happy 😃\\n\\nBattery: I use this phone roughly as I am active social media person and I have a youtube channel. so the battery ba...\\nREAD MORE', 'It’s been almost a month since I have been using this phone. I upgraded from an iPhone 8. The main issue with my 8 was battery and this phone is just awesome when it comes to battery. It lasts a day and a half for me with my regular use , internet connected always with 4g\\nCan’t move forward without saying this. Battery of this phone is a life saver when I am traveling or at work when I don’t get the option to charge\\nCamera is superb. Front cam selfies and back cam photos are just awesome.\\n...\\nREAD MORE', '*Review after 10 months of usage*\\nDoesn\\'t seem bulky with decent touch and camera. The \"standard maintained\" quality of IPhone. Go for it, if your budget is not more enough for pro models. It\\'s a value for money among the 11 series Stereo speakers are so good, you will love the stereo sound. Battery backup is not decent but still better than Iphone 7 and 8.Processor is fast, the phone doesn\\'t lag at all even with heavy games, waterproof, faster face id and with no fingerprint scanners. The ca...\\nREAD MORE', 'Awesome Phone. Slightly high price but worth. Better than iPhone XR.\\nCamera is superb and wide angle camera is very clear.\\n12MP selfie camera is also very good.\\nA13 Chip gives a very good and smooth performance.', 'Amazing phone with great cameras and better battery which gives you the best performance. I just love the camera .', 'Amazing Powerful and Durable Gadget.\\n\\nI’m am very happy with the camera picture quality, Amazing face id unlocked in dark room, Strong battery with perfect screen size as you can carry easily in pocket. This is my third iPhone.\\n\\nI shifted from android Samsung Note series to iPhone because of the strong build quality and peace of mind for next 3-4 years.\\n\\nDon’t think to much just go for it and I suggest you to go for minimum 128gb variant or more 256gb.\\n\\nI’ve attached my puppy pics and no fi...\\nREAD MORE', 'iphone 11 is a very good phone to buy only if you can compromise for the display. The display on this is device is pretty good but you can get other options with better displays in this price segment.\\nIf you can survive with an HD+ LCD panel with thicker bezels and a notch up top then this is a very good phone for you.\\nCameras are awesome, battery backup excellent, great performance and a decent premium look. Good job Apple !', 'It’s a must buy who is looking for an upgrade from previous generation of iPhones. If you are using XR then still you can hold on for sometime and upgrade to 2020 model else this phone is a must buy . Camera quality is amazing and wide angle is something to count upon. Performance wise it’s amazing and feels premium while holding in hand. So a big YES for this device. Go for 128 GB variant as the 4K videos will occupy lots of space and the storage can get over very quickly. Try to buy it with...\\nREAD MORE', 'The Best Phone for the Money\\n\\nThe iPhone 11 offers superb cameras, a more durable design and excellent battery life for an affordable price.\\n\\nCompelling ultra-wide camera\\nNew Night mode is excellent\\nLong battery life', 'Value for money❤️❤️\\nIts awesome mobile phone in the world ...\\nDisplay was very good and bright ..\\nTrust me freinds you r never regret after Buying..\\nJust go for it....\\nI love this phone and i switch to iphone x to 11', 'Best budget Iphone till date ❤️ go for it guys without second thought. Let me explain you guys about Camera, Display, battery, and performance.\\n\\nCamera: at this price range there is no comparison of camera, you’ll love the picture quality as well as video quality. I am a Vlogger I wanted an iPhone with 4k video by front camera and I got this phone and I am more than happy 😃\\n\\nBattery: I use this phone roughly as I am active social media person and I have a youtube channel. so the battery ba...\\nREAD MORE', 'It’s been almost a month since I have been using this phone. I upgraded from an iPhone 8. The main issue with my 8 was battery and this phone is just awesome when it comes to battery. It lasts a day and a half for me with my regular use , internet connected always with 4g\\nCan’t move forward without saying this. Battery of this phone is a life saver when I am traveling or at work when I don’t get the option to charge\\nCamera is superb. Front cam selfies and back cam photos are just awesome.\\n...\\nREAD MORE', '*Review after 10 months of usage*\\nDoesn\\'t seem bulky with decent touch and camera. The \"standard maintained\" quality of IPhone. Go for it, if your budget is not more enough for pro models. It\\'s a value for money among the 11 series Stereo speakers are so good, you will love the stereo sound. Battery backup is not decent but still better than Iphone 7 and 8.Processor is fast, the phone doesn\\'t lag at all even with heavy games, waterproof, faster face id and with no fingerprint scanners. The ca...\\nREAD MORE', 'Awesome Phone. Slightly high price but worth. Better than iPhone XR.\\nCamera is superb and wide angle camera is very clear.\\n12MP selfie camera is also very good.\\nA13 Chip gives a very good and smooth performance.', 'Amazing phone with great cameras and better battery which gives you the best performance. I just love the camera .', 'Amazing Powerful and Durable Gadget.\\n\\nI’m am very happy with the camera picture quality, Amazing face id unlocked in dark room, Strong battery with perfect screen size as you can carry easily in pocket. This is my third iPhone.\\n\\nI shifted from android Samsung Note series to iPhone because of the strong build quality and peace of mind for next 3-4 years.\\n\\nDon’t think to much just go for it and I suggest you to go for minimum 128gb variant or more 256gb.\\n\\nI’ve attached my puppy pics and no fi...\\nREAD MORE', 'iphone 11 is a very good phone to buy only if you can compromise for the display. The display on this is device is pretty good but you can get other options with better displays in this price segment.\\nIf you can survive with an HD+ LCD panel with thicker bezels and a notch up top then this is a very good phone for you.\\nCameras are awesome, battery backup excellent, great performance and a decent premium look. Good job Apple !', 'It’s a must buy who is looking for an upgrade from previous generation of iPhones. If you are using XR then still you can hold on for sometime and upgrade to 2020 model else this phone is a must buy . Camera quality is amazing and wide angle is something to count upon. Performance wise it’s amazing and feels premium while holding in hand. So a big YES for this device. Go for 128 GB variant as the 4K videos will occupy lots of space and the storage can get over very quickly. Try to buy it with...\\nREAD MORE', 'The Best Phone for the Money\\n\\nThe iPhone 11 offers superb cameras, a more durable design and excellent battery life for an affordable price.\\n\\nCompelling ultra-wide camera\\nNew Night mode is excellent\\nLong battery life', 'Value for money❤️❤️\\nIts awesome mobile phone in the world ...\\nDisplay was very good and bright ..\\nTrust me freinds you r never regret after Buying..\\nJust go for it....\\nI love this phone and i switch to iphone x to 11', 'Best budget Iphone till date ❤️ go for it guys without second thought. Let me explain you guys about Camera, Display, battery, and performance.\\n\\nCamera: at this price range there is no comparison of camera, you’ll love the picture quality as well as video quality. I am a Vlogger I wanted an iPhone with 4k video by front camera and I got this phone and I am more than happy 😃\\n\\nBattery: I use this phone roughly as I am active social media person and I have a youtube channel. so the battery ba...\\nREAD MORE', 'It’s been almost a month since I have been using this phone. I upgraded from an iPhone 8. The main issue with my 8 was battery and this phone is just awesome when it comes to battery. It lasts a day and a half for me with my regular use , internet connected always with 4g\\nCan’t move forward without saying this. Battery of this phone is a life saver when I am traveling or at work when I don’t get the option to charge\\nCamera is superb. Front cam selfies and back cam photos are just awesome.\\n...\\nREAD MORE', '*Review after 10 months of usage*\\nDoesn\\'t seem bulky with decent touch and camera. The \"standard maintained\" quality of IPhone. Go for it, if your budget is not more enough for pro models. It\\'s a value for money among the 11 series Stereo speakers are so good, you will love the stereo sound. Battery backup is not decent but still better than Iphone 7 and 8.Processor is fast, the phone doesn\\'t lag at all even with heavy games, waterproof, faster face id and with no fingerprint scanners. The ca...\\nREAD MORE', 'Awesome Phone. Slightly high price but worth. Better than iPhone XR.\\nCamera is superb and wide angle camera is very clear.\\n12MP selfie camera is also very good.\\nA13 Chip gives a very good and smooth performance.', 'Amazing phone with great cameras and better battery which gives you the best performance. I just love the camera .', 'Amazing Powerful and Durable Gadget.\\n\\nI’m am very happy with the camera picture quality, Amazing face id unlocked in dark room, Strong battery with perfect screen size as you can carry easily in pocket. This is my third iPhone.\\n\\nI shifted from android Samsung Note series to iPhone because of the strong build quality and peace of mind for next 3-4 years.\\n\\nDon’t think to much just go for it and I suggest you to go for minimum 128gb variant or more 256gb.\\n\\nI’ve attached my puppy pics and no fi...\\nREAD MORE', 'iphone 11 is a very good phone to buy only if you can compromise for the display. The display on this is device is pretty good but you can get other options with better displays in this price segment.\\nIf you can survive with an HD+ LCD panel with thicker bezels and a notch up top then this is a very good phone for you.\\nCameras are awesome, battery backup excellent, great performance and a decent premium look. Good job Apple !', 'It’s a must buy who is looking for an upgrade from previous generation of iPhones. If you are using XR then still you can hold on for sometime and upgrade to 2020 model else this phone is a must buy . Camera quality is amazing and wide angle is something to count upon. Performance wise it’s amazing and feels premium while holding in hand. So a big YES for this device. Go for 128 GB variant as the 4K videos will occupy lots of space and the storage can get over very quickly. Try to buy it with...\\nREAD MORE', 'The Best Phone for the Money\\n\\nThe iPhone 11 offers superb cameras, a more durable design and excellent battery life for an affordable price.\\n\\nCompelling ultra-wide camera\\nNew Night mode is excellent\\nLong battery life', 'Value for money❤️❤️\\nIts awesome mobile phone in the world ...\\nDisplay was very good and bright ..\\nTrust me freinds you r never regret after Buying..\\nJust go for it....\\nI love this phone and i switch to iphone x to 11', 'Best budget Iphone till date ❤️ go for it guys without second thought. Let me explain you guys about Camera, Display, battery, and performance.\\n\\nCamera: at this price range there is no comparison of camera, you’ll love the picture quality as well as video quality. I am a Vlogger I wanted an iPhone with 4k video by front camera and I got this phone and I am more than happy 😃\\n\\nBattery: I use this phone roughly as I am active social media person and I have a youtube channel. so the battery ba...\\nREAD MORE', 'It’s been almost a month since I have been using this phone. I upgraded from an iPhone 8. The main issue with my 8 was battery and this phone is just awesome when it comes to battery. It lasts a day and a half for me with my regular use , internet connected always with 4g\\nCan’t move forward without saying this. Battery of this phone is a life saver when I am traveling or at work when I don’t get the option to charge\\nCamera is superb. Front cam selfies and back cam photos are just awesome.\\n...\\nREAD MORE', '*Review after 10 months of usage*\\nDoesn\\'t seem bulky with decent touch and camera. The \"standard maintained\" quality of IPhone. Go for it, if your budget is not more enough for pro models. It\\'s a value for money among the 11 series Stereo speakers are so good, you will love the stereo sound. Battery backup is not decent but still better than Iphone 7 and 8.Processor is fast, the phone doesn\\'t lag at all even with heavy games, waterproof, faster face id and with no fingerprint scanners. The ca...\\nREAD MORE', 'Awesome Phone. Slightly high price but worth. Better than iPhone XR.\\nCamera is superb and wide angle camera is very clear.\\n12MP selfie camera is also very good.\\nA13 Chip gives a very good and smooth performance.', 'Amazing phone with great cameras and better battery which gives you the best performance. I just love the camera .', 'Amazing Powerful and Durable Gadget.\\n\\nI’m am very happy with the camera picture quality, Amazing face id unlocked in dark room, Strong battery with perfect screen size as you can carry easily in pocket. This is my third iPhone.\\n\\nI shifted from android Samsung Note series to iPhone because of the strong build quality and peace of mind for next 3-4 years.\\n\\nDon’t think to much just go for it and I suggest you to go for minimum 128gb variant or more 256gb.\\n\\nI’ve attached my puppy pics and no fi...\\nREAD MORE', 'iphone 11 is a very good phone to buy only if you can compromise for the display. The display on this is device is pretty good but you can get other options with better displays in this price segment.\\nIf you can survive with an HD+ LCD panel with thicker bezels and a notch up top then this is a very good phone for you.\\nCameras are awesome, battery backup excellent, great performance and a decent premium look. Good job Apple !', 'It’s a must buy who is looking for an upgrade from previous generation of iPhones. If you are using XR then still you can hold on for sometime and upgrade to 2020 model else this phone is a must buy . Camera quality is amazing and wide angle is something to count upon. Performance wise it’s amazing and feels premium while holding in hand. So a big YES for this device. Go for 128 GB variant as the 4K videos will occupy lots of space and the storage can get over very quickly. Try to buy it with...\\nREAD MORE', 'The Best Phone for the Money\\n\\nThe iPhone 11 offers superb cameras, a more durable design and excellent battery life for an affordable price.\\n\\nCompelling ultra-wide camera\\nNew Night mode is excellent\\nLong battery life', 'Value for money❤️❤️\\nIts awesome mobile phone in the world ...\\nDisplay was very good and bright ..\\nTrust me freinds you r never regret after Buying..\\nJust go for it....\\nI love this phone and i switch to iphone x to 11', 'Best budget Iphone till date ❤️ go for it guys without second thought. Let me explain you guys about Camera, Display, battery, and performance.\\n\\nCamera: at this price range there is no comparison of camera, you’ll love the picture quality as well as video quality. I am a Vlogger I wanted an iPhone with 4k video by front camera and I got this phone and I am more than happy 😃\\n\\nBattery: I use this phone roughly as I am active social media person and I have a youtube channel. so the battery ba...\\nREAD MORE', 'It’s been almost a month since I have been using this phone. I upgraded from an iPhone 8. The main issue with my 8 was battery and this phone is just awesome when it comes to battery. It lasts a day and a half for me with my regular use , internet connected always with 4g\\nCan’t move forward without saying this. Battery of this phone is a life saver when I am traveling or at work when I don’t get the option to charge\\nCamera is superb. Front cam selfies and back cam photos are just awesome.\\n...\\nREAD MORE', '*Review after 10 months of usage*\\nDoesn\\'t seem bulky with decent touch and camera. The \"standard maintained\" quality of IPhone. Go for it, if your budget is not more enough for pro models. It\\'s a value for money among the 11 series Stereo speakers are so good, you will love the stereo sound. Battery backup is not decent but still better than Iphone 7 and 8.Processor is fast, the phone doesn\\'t lag at all even with heavy games, waterproof, faster face id and with no fingerprint scanners. The ca...\\nREAD MORE', 'Awesome Phone. Slightly high price but worth. Better than iPhone XR.\\nCamera is superb and wide angle camera is very clear.\\n12MP selfie camera is also very good.\\nA13 Chip gives a very good and smooth performance.', 'Amazing phone with great cameras and better battery which gives you the best performance. I just love the camera .', 'Amazing Powerful and Durable Gadget.\\n\\nI’m am very happy with the camera picture quality, Amazing face id unlocked in dark room, Strong battery with perfect screen size as you can carry easily in pocket. This is my third iPhone.\\n\\nI shifted from android Samsung Note series to iPhone because of the strong build quality and peace of mind for next 3-4 years.\\n\\nDon’t think to much just go for it and I suggest you to go for minimum 128gb variant or more 256gb.\\n\\nI’ve attached my puppy pics and no fi...\\nREAD MORE', 'iphone 11 is a very good phone to buy only if you can compromise for the display. The display on this is device is pretty good but you can get other options with better displays in this price segment.\\nIf you can survive with an HD+ LCD panel with thicker bezels and a notch up top then this is a very good phone for you.\\nCameras are awesome, battery backup excellent, great performance and a decent premium look. Good job Apple !', 'It’s a must buy who is looking for an upgrade from previous generation of iPhones. If you are using XR then still you can hold on for sometime and upgrade to 2020 model else this phone is a must buy . Camera quality is amazing and wide angle is something to count upon. Performance wise it’s amazing and feels premium while holding in hand. So a big YES for this device. Go for 128 GB variant as the 4K videos will occupy lots of space and the storage can get over very quickly. Try to buy it with...\\nREAD MORE', 'The Best Phone for the Money\\n\\nThe iPhone 11 offers superb cameras, a more durable design and excellent battery life for an affordable price.\\n\\nCompelling ultra-wide camera\\nNew Night mode is excellent\\nLong battery life', 'Value for money❤️❤️\\nIts awesome mobile phone in the world ...\\nDisplay was very good and bright ..\\nTrust me freinds you r never regret after Buying..\\nJust go for it....\\nI love this phone and i switch to iphone x to 11', 'Best budget Iphone till date ❤️ go for it guys without second thought. Let me explain you guys about Camera, Display, battery, and performance.\\n\\nCamera: at this price range there is no comparison of camera, you’ll love the picture quality as well as video quality. I am a Vlogger I wanted an iPhone with 4k video by front camera and I got this phone and I am more than happy 😃\\n\\nBattery: I use this phone roughly as I am active social media person and I have a youtube channel. so the battery ba...\\nREAD MORE', 'It’s been almost a month since I have been using this phone. I upgraded from an iPhone 8. The main issue with my 8 was battery and this phone is just awesome when it comes to battery. It lasts a day and a half for me with my regular use , internet connected always with 4g\\nCan’t move forward without saying this. Battery of this phone is a life saver when I am traveling or at work when I don’t get the option to charge\\nCamera is superb. Front cam selfies and back cam photos are just awesome.\\n...\\nREAD MORE', '*Review after 10 months of usage*\\nDoesn\\'t seem bulky with decent touch and camera. The \"standard maintained\" quality of IPhone. Go for it, if your budget is not more enough for pro models. It\\'s a value for money among the 11 series Stereo speakers are so good, you will love the stereo sound. Battery backup is not decent but still better than Iphone 7 and 8.Processor is fast, the phone doesn\\'t lag at all even with heavy games, waterproof, faster face id and with no fingerprint scanners. The ca...\\nREAD MORE', 'Awesome Phone. Slightly high price but worth. Better than iPhone XR.\\nCamera is superb and wide angle camera is very clear.\\n12MP selfie camera is also very good.\\nA13 Chip gives a very good and smooth performance.', 'Amazing phone with great cameras and better battery which gives you the best performance. I just love the camera .', 'Amazing Powerful and Durable Gadget.\\n\\nI’m am very happy with the camera picture quality, Amazing face id unlocked in dark room, Strong battery with perfect screen size as you can carry easily in pocket. This is my third iPhone.\\n\\nI shifted from android Samsung Note series to iPhone because of the strong build quality and peace of mind for next 3-4 years.\\n\\nDon’t think to much just go for it and I suggest you to go for minimum 128gb variant or more 256gb.\\n\\nI’ve attached my puppy pics and no fi...\\nREAD MORE', 'iphone 11 is a very good phone to buy only if you can compromise for the display. The display on this is device is pretty good but you can get other options with better displays in this price segment.\\nIf you can survive with an HD+ LCD panel with thicker bezels and a notch up top then this is a very good phone for you.\\nCameras are awesome, battery backup excellent, great performance and a decent premium look. Good job Apple !', 'It’s a must buy who is looking for an upgrade from previous generation of iPhones. If you are using XR then still you can hold on for sometime and upgrade to 2020 model else this phone is a must buy . Camera quality is amazing and wide angle is something to count upon. Performance wise it’s amazing and feels premium while holding in hand. So a big YES for this device. Go for 128 GB variant as the 4K videos will occupy lots of space and the storage can get over very quickly. Try to buy it with...\\nREAD MORE', 'The Best Phone for the Money\\n\\nThe iPhone 11 offers superb cameras, a more durable design and excellent battery life for an affordable price.\\n\\nCompelling ultra-wide camera\\nNew Night mode is excellent\\nLong battery life', 'Value for money❤️❤️\\nIts awesome mobile phone in the world ...\\nDisplay was very good and bright ..\\nTrust me freinds you r never regret after Buying..\\nJust go for it....\\nI love this phone and i switch to iphone x to 11', 'Best budget Iphone till date ❤️ go for it guys without second thought. Let me explain you guys about Camera, Display, battery, and performance.\\n\\nCamera: at this price range there is no comparison of camera, you’ll love the picture quality as well as video quality. I am a Vlogger I wanted an iPhone with 4k video by front camera and I got this phone and I am more than happy 😃\\n\\nBattery: I use this phone roughly as I am active social media person and I have a youtube channel. so the battery ba...\\nREAD MORE', 'It’s been almost a month since I have been using this phone. I upgraded from an iPhone 8. The main issue with my 8 was battery and this phone is just awesome when it comes to battery. It lasts a day and a half for me with my regular use , internet connected always with 4g\\nCan’t move forward without saying this. Battery of this phone is a life saver when I am traveling or at work when I don’t get the option to charge\\nCamera is superb. Front cam selfies and back cam photos are just awesome.\\n...\\nREAD MORE', '*Review after 10 months of usage*\\nDoesn\\'t seem bulky with decent touch and camera. The \"standard maintained\" quality of IPhone. Go for it, if your budget is not more enough for pro models. It\\'s a value for money among the 11 series Stereo speakers are so good, you will love the stereo sound. Battery backup is not decent but still better than Iphone 7 and 8.Processor is fast, the phone doesn\\'t lag at all even with heavy games, waterproof, faster face id and with no fingerprint scanners. The ca...\\nREAD MORE', 'Awesome Phone. Slightly high price but worth. Better than iPhone XR.\\nCamera is superb and wide angle camera is very clear.\\n12MP selfie camera is also very good.\\nA13 Chip gives a very good and smooth performance.', 'Amazing phone with great cameras and better battery which gives you the best performance. I just love the camera .', 'Amazing Powerful and Durable Gadget.\\n\\nI’m am very happy with the camera picture quality, Amazing face id unlocked in dark room, Strong battery with perfect screen size as you can carry easily in pocket. This is my third iPhone.\\n\\nI shifted from android Samsung Note series to iPhone because of the strong build quality and peace of mind for next 3-4 years.\\n\\nDon’t think to much just go for it and I suggest you to go for minimum 128gb variant or more 256gb.\\n\\nI’ve attached my puppy pics and no fi...\\nREAD MORE', 'iphone 11 is a very good phone to buy only if you can compromise for the display. The display on this is device is pretty good but you can get other options with better displays in this price segment.\\nIf you can survive with an HD+ LCD panel with thicker bezels and a notch up top then this is a very good phone for you.\\nCameras are awesome, battery backup excellent, great performance and a decent premium look. Good job Apple !', 'It’s a must buy who is looking for an upgrade from previous generation of iPhones. If you are using XR then still you can hold on for sometime and upgrade to 2020 model else this phone is a must buy . Camera quality is amazing and wide angle is something to count upon. Performance wise it’s amazing and feels premium while holding in hand. So a big YES for this device. Go for 128 GB variant as the 4K videos will occupy lots of space and the storage can get over very quickly. Try to buy it with...\\nREAD MORE', 'The Best Phone for the Money\\n\\nThe iPhone 11 offers superb cameras, a more durable design and excellent battery life for an affordable price.\\n\\nCompelling ultra-wide camera\\nNew Night mode is excellent\\nLong battery life', 'Value for money❤️❤️\\nIts awesome mobile phone in the world ...\\nDisplay was very good and bright ..\\nTrust me freinds you r never regret after Buying..\\nJust go for it....\\nI love this phone and i switch to iphone x to 11', 'Best budget Iphone till date ❤️ go for it guys without second thought. Let me explain you guys about Camera, Display, battery, and performance.\\n\\nCamera: at this price range there is no comparison of camera, you’ll love the picture quality as well as video quality. I am a Vlogger I wanted an iPhone with 4k video by front camera and I got this phone and I am more than happy 😃\\n\\nBattery: I use this phone roughly as I am active social media person and I have a youtube channel. so the battery ba...\\nREAD MORE', 'It’s been almost a month since I have been using this phone. I upgraded from an iPhone 8. The main issue with my 8 was battery and this phone is just awesome when it comes to battery. It lasts a day and a half for me with my regular use , internet connected always with 4g\\nCan’t move forward without saying this. Battery of this phone is a life saver when I am traveling or at work when I don’t get the option to charge\\nCamera is superb. Front cam selfies and back cam photos are just awesome.\\n...\\nREAD MORE', '*Review after 10 months of usage*\\nDoesn\\'t seem bulky with decent touch and camera. The \"standard maintained\" quality of IPhone. Go for it, if your budget is not more enough for pro models. It\\'s a value for money among the 11 series Stereo speakers are so good, you will love the stereo sound. Battery backup is not decent but still better than Iphone 7 and 8.Processor is fast, the phone doesn\\'t lag at all even with heavy games, waterproof, faster face id and with no fingerprint scanners. The ca...\\nREAD MORE', 'Awesome Phone. Slightly high price but worth. Better than iPhone XR.\\nCamera is superb and wide angle camera is very clear.\\n12MP selfie camera is also very good.\\nA13 Chip gives a very good and smooth performance.', 'Amazing phone with great cameras and better battery which gives you the best performance. I just love the camera .', 'Amazing Powerful and Durable Gadget.\\n\\nI’m am very happy with the camera picture quality, Amazing face id unlocked in dark room, Strong battery with perfect screen size as you can carry easily in pocket. This is my third iPhone.\\n\\nI shifted from android Samsung Note series to iPhone because of the strong build quality and peace of mind for next 3-4 years.\\n\\nDon’t think to much just go for it and I suggest you to go for minimum 128gb variant or more 256gb.\\n\\nI’ve attached my puppy pics and no fi...\\nREAD MORE', 'iphone 11 is a very good phone to buy only if you can compromise for the display. The display on this is device is pretty good but you can get other options with better displays in this price segment.\\nIf you can survive with an HD+ LCD panel with thicker bezels and a notch up top then this is a very good phone for you.\\nCameras are awesome, battery backup excellent, great performance and a decent premium look. Good job Apple !', 'It’s a must buy who is looking for an upgrade from previous generation of iPhones. If you are using XR then still you can hold on for sometime and upgrade to 2020 model else this phone is a must buy . Camera quality is amazing and wide angle is something to count upon. Performance wise it’s amazing and feels premium while holding in hand. So a big YES for this device. Go for 128 GB variant as the 4K videos will occupy lots of space and the storage can get over very quickly. Try to buy it with...\\nREAD MORE', 'The Best Phone for the Money\\n\\nThe iPhone 11 offers superb cameras, a more durable design and excellent battery life for an affordable price.\\n\\nCompelling ultra-wide camera\\nNew Night mode is excellent\\nLong battery life', 'Value for money❤️❤️\\nIts awesome mobile phone in the world ...\\nDisplay was very good and bright ..\\nTrust me freinds you r never regret after Buying..\\nJust go for it....\\nI love this phone and i switch to iphone x to 11', 'Best budget Iphone till date ❤️ go for it guys without second thought. Let me explain you guys about Camera, Display, battery, and performance.\\n\\nCamera: at this price range there is no comparison of camera, you’ll love the picture quality as well as video quality. I am a Vlogger I wanted an iPhone with 4k video by front camera and I got this phone and I am more than happy 😃\\n\\nBattery: I use this phone roughly as I am active social media person and I have a youtube channel. so the battery ba...\\nREAD MORE', 'It’s been almost a month since I have been using this phone. I upgraded from an iPhone 8. The main issue with my 8 was battery and this phone is just awesome when it comes to battery. It lasts a day and a half for me with my regular use , internet connected always with 4g\\nCan’t move forward without saying this. Battery of this phone is a life saver when I am traveling or at work when I don’t get the option to charge\\nCamera is superb. Front cam selfies and back cam photos are just awesome.\\n...\\nREAD MORE', '*Review after 10 months of usage*\\nDoesn\\'t seem bulky with decent touch and camera. The \"standard maintained\" quality of IPhone. Go for it, if your budget is not more enough for pro models. It\\'s a value for money among the 11 series Stereo speakers are so good, you will love the stereo sound. Battery backup is not decent but still better than Iphone 7 and 8.Processor is fast, the phone doesn\\'t lag at all even with heavy games, waterproof, faster face id and with no fingerprint scanners. The ca...\\nREAD MORE', 'Awesome Phone. Slightly high price but worth. Better than iPhone XR.\\nCamera is superb and wide angle camera is very clear.\\n12MP selfie camera is also very good.\\nA13 Chip gives a very good and smooth performance.', 'Amazing phone with great cameras and better battery which gives you the best performance. I just love the camera .', 'Amazing Powerful and Durable Gadget.\\n\\nI’m am very happy with the camera picture quality, Amazing face id unlocked in dark room, Strong battery with perfect screen size as you can carry easily in pocket. This is my third iPhone.\\n\\nI shifted from android Samsung Note series to iPhone because of the strong build quality and peace of mind for next 3-4 years.\\n\\nDon’t think to much just go for it and I suggest you to go for minimum 128gb variant or more 256gb.\\n\\nI’ve attached my puppy pics and no fi...\\nREAD MORE', 'iphone 11 is a very good phone to buy only if you can compromise for the display. The display on this is device is pretty good but you can get other options with better displays in this price segment.\\nIf you can survive with an HD+ LCD panel with thicker bezels and a notch up top then this is a very good phone for you.\\nCameras are awesome, battery backup excellent, great performance and a decent premium look. Good job Apple !', 'It’s a must buy who is looking for an upgrade from previous generation of iPhones. If you are using XR then still you can hold on for sometime and upgrade to 2020 model else this phone is a must buy . Camera quality is amazing and wide angle is something to count upon. Performance wise it’s amazing and feels premium while holding in hand. So a big YES for this device. Go for 128 GB variant as the 4K videos will occupy lots of space and the storage can get over very quickly. Try to buy it with...\\nREAD MORE', 'The Best Phone for the Money\\n\\nThe iPhone 11 offers superb cameras, a more durable design and excellent battery life for an affordable price.\\n\\nCompelling ultra-wide camera\\nNew Night mode is excellent\\nLong battery life', 'Value for money❤️❤️\\nIts awesome mobile phone in the world ...\\nDisplay was very good and bright ..\\nTrust me freinds you r never regret after Buying..\\nJust go for it....\\nI love this phone and i switch to iphone x to 11', 'Best budget Iphone till date ❤️ go for it guys without second thought. Let me explain you guys about Camera, Display, battery, and performance.\\n\\nCamera: at this price range there is no comparison of camera, you’ll love the picture quality as well as video quality. I am a Vlogger I wanted an iPhone with 4k video by front camera and I got this phone and I am more than happy 😃\\n\\nBattery: I use this phone roughly as I am active social media person and I have a youtube channel. so the battery ba...\\nREAD MORE', 'It’s been almost a month since I have been using this phone. I upgraded from an iPhone 8. The main issue with my 8 was battery and this phone is just awesome when it comes to battery. It lasts a day and a half for me with my regular use , internet connected always with 4g\\nCan’t move forward without saying this. Battery of this phone is a life saver when I am traveling or at work when I don’t get the option to charge\\nCamera is superb. Front cam selfies and back cam photos are just awesome.\\n...\\nREAD MORE', '*Review after 10 months of usage*\\nDoesn\\'t seem bulky with decent touch and camera. The \"standard maintained\" quality of IPhone. Go for it, if your budget is not more enough for pro models. It\\'s a value for money among the 11 series Stereo speakers are so good, you will love the stereo sound. Battery backup is not decent but still better than Iphone 7 and 8.Processor is fast, the phone doesn\\'t lag at all even with heavy games, waterproof, faster face id and with no fingerprint scanners. The ca...\\nREAD MORE', 'Awesome Phone. Slightly high price but worth. Better than iPhone XR.\\nCamera is superb and wide angle camera is very clear.\\n12MP selfie camera is also very good.\\nA13 Chip gives a very good and smooth performance.', 'Amazing phone with great cameras and better battery which gives you the best performance. I just love the camera .', 'Amazing Powerful and Durable Gadget.\\n\\nI’m am very happy with the camera picture quality, Amazing face id unlocked in dark room, Strong battery with perfect screen size as you can carry easily in pocket. This is my third iPhone.\\n\\nI shifted from android Samsung Note series to iPhone because of the strong build quality and peace of mind for next 3-4 years.\\n\\nDon’t think to much just go for it and I suggest you to go for minimum 128gb variant or more 256gb.\\n\\nI’ve attached my puppy pics and no fi...\\nREAD MORE', 'iphone 11 is a very good phone to buy only if you can compromise for the display. The display on this is device is pretty good but you can get other options with better displays in this price segment.\\nIf you can survive with an HD+ LCD panel with thicker bezels and a notch up top then this is a very good phone for you.\\nCameras are awesome, battery backup excellent, great performance and a decent premium look. Good job Apple !', 'It’s a must buy who is looking for an upgrade from previous generation of iPhones. If you are using XR then still you can hold on for sometime and upgrade to 2020 model else this phone is a must buy . Camera quality is amazing and wide angle is something to count upon. Performance wise it’s amazing and feels premium while holding in hand. So a big YES for this device. Go for 128 GB variant as the 4K videos will occupy lots of space and the storage can get over very quickly. Try to buy it with...\\nREAD MORE', 'The Best Phone for the Money\\n\\nThe iPhone 11 offers superb cameras, a more durable design and excellent battery life for an affordable price.\\n\\nCompelling ultra-wide camera\\nNew Night mode is excellent\\nLong battery life', 'Value for money❤️❤️\\nIts awesome mobile phone in the world ...\\nDisplay was very good and bright ..\\nTrust me freinds you r never regret after Buying..\\nJust go for it....\\nI love this phone and i switch to iphone x to 11', 'Best budget Iphone till date ❤️ go for it guys without second thought. Let me explain you guys about Camera, Display, battery, and performance.\\n\\nCamera: at this price range there is no comparison of camera, you’ll love the picture quality as well as video quality. I am a Vlogger I wanted an iPhone with 4k video by front camera and I got this phone and I am more than happy 😃\\n\\nBattery: I use this phone roughly as I am active social media person and I have a youtube channel. so the battery ba...\\nREAD MORE', 'It’s been almost a month since I have been using this phone. I upgraded from an iPhone 8. The main issue with my 8 was battery and this phone is just awesome when it comes to battery. It lasts a day and a half for me with my regular use , internet connected always with 4g\\nCan’t move forward without saying this. Battery of this phone is a life saver when I am traveling or at work when I don’t get the option to charge\\nCamera is superb. Front cam selfies and back cam photos are just awesome.\\n...\\nREAD MORE', '*Review after 10 months of usage*\\nDoesn\\'t seem bulky with decent touch and camera. The \"standard maintained\" quality of IPhone. Go for it, if your budget is not more enough for pro models. It\\'s a value for money among the 11 series Stereo speakers are so good, you will love the stereo sound. Battery backup is not decent but still better than Iphone 7 and 8.Processor is fast, the phone doesn\\'t lag at all even with heavy games, waterproof, faster face id and with no fingerprint scanners. The ca...\\nREAD MORE', 'Awesome Phone. Slightly high price but worth. Better than iPhone XR.\\nCamera is superb and wide angle camera is very clear.\\n12MP selfie camera is also very good.\\nA13 Chip gives a very good and smooth performance.', 'Amazing phone with great cameras and better battery which gives you the best performance. I just love the camera .', 'Amazing Powerful and Durable Gadget.\\n\\nI’m am very happy with the camera picture quality, Amazing face id unlocked in dark room, Strong battery with perfect screen size as you can carry easily in pocket. This is my third iPhone.\\n\\nI shifted from android Samsung Note series to iPhone because of the strong build quality and peace of mind for next 3-4 years.\\n\\nDon’t think to much just go for it and I suggest you to go for minimum 128gb variant or more 256gb.\\n\\nI’ve attached my puppy pics and no fi...\\nREAD MORE', 'iphone 11 is a very good phone to buy only if you can compromise for the display. The display on this is device is pretty good but you can get other options with better displays in this price segment.\\nIf you can survive with an HD+ LCD panel with thicker bezels and a notch up top then this is a very good phone for you.\\nCameras are awesome, battery backup excellent, great performance and a decent premium look. Good job Apple !', 'It’s a must buy who is looking for an upgrade from previous generation of iPhones. If you are using XR then still you can hold on for sometime and upgrade to 2020 model else this phone is a must buy . Camera quality is amazing and wide angle is something to count upon. Performance wise it’s amazing and feels premium while holding in hand. So a big YES for this device. Go for 128 GB variant as the 4K videos will occupy lots of space and the storage can get over very quickly. Try to buy it with...\\nREAD MORE', 'The Best Phone for the Money\\n\\nThe iPhone 11 offers superb cameras, a more durable design and excellent battery life for an affordable price.\\n\\nCompelling ultra-wide camera\\nNew Night mode is excellent\\nLong battery life', 'Value for money❤️❤️\\nIts awesome mobile phone in the world ...\\nDisplay was very good and bright ..\\nTrust me freinds you r never regret after Buying..\\nJust go for it....\\nI love this phone and i switch to iphone x to 11', 'Best budget Iphone till date ❤️ go for it guys without second thought. Let me explain you guys about Camera, Display, battery, and performance.\\n\\nCamera: at this price range there is no comparison of camera, you’ll love the picture quality as well as video quality. I am a Vlogger I wanted an iPhone with 4k video by front camera and I got this phone and I am more than happy 😃\\n\\nBattery: I use this phone roughly as I am active social media person and I have a youtube channel. so the battery ba...\\nREAD MORE', 'It’s been almost a month since I have been using this phone. I upgraded from an iPhone 8. The main issue with my 8 was battery and this phone is just awesome when it comes to battery. It lasts a day and a half for me with my regular use , internet connected always with 4g\\nCan’t move forward without saying this. Battery of this phone is a life saver when I am traveling or at work when I don’t get the option to charge\\nCamera is superb. Front cam selfies and back cam photos are just awesome.\\n...\\nREAD MORE', '*Review after 10 months of usage*\\nDoesn\\'t seem bulky with decent touch and camera. The \"standard maintained\" quality of IPhone. Go for it, if your budget is not more enough for pro models. It\\'s a value for money among the 11 series Stereo speakers are so good, you will love the stereo sound. Battery backup is not decent but still better than Iphone 7 and 8.Processor is fast, the phone doesn\\'t lag at all even with heavy games, waterproof, faster face id and with no fingerprint scanners. The ca...\\nREAD MORE', 'Awesome Phone. Slightly high price but worth. Better than iPhone XR.\\nCamera is superb and wide angle camera is very clear.\\n12MP selfie camera is also very good.\\nA13 Chip gives a very good and smooth performance.', 'Amazing phone with great cameras and better battery which gives you the best performance. I just love the camera .', 'Amazing Powerful and Durable Gadget.\\n\\nI’m am very happy with the camera picture quality, Amazing face id unlocked in dark room, Strong battery with perfect screen size as you can carry easily in pocket. This is my third iPhone.\\n\\nI shifted from android Samsung Note series to iPhone because of the strong build quality and peace of mind for next 3-4 years.\\n\\nDon’t think to much just go for it and I suggest you to go for minimum 128gb variant or more 256gb.\\n\\nI’ve attached my puppy pics and no fi...\\nREAD MORE', 'iphone 11 is a very good phone to buy only if you can compromise for the display. The display on this is device is pretty good but you can get other options with better displays in this price segment.\\nIf you can survive with an HD+ LCD panel with thicker bezels and a notch up top then this is a very good phone for you.\\nCameras are awesome, battery backup excellent, great performance and a decent premium look. Good job Apple !', 'It’s a must buy who is looking for an upgrade from previous generation of iPhones. If you are using XR then still you can hold on for sometime and upgrade to 2020 model else this phone is a must buy . Camera quality is amazing and wide angle is something to count upon. Performance wise it’s amazing and feels premium while holding in hand. So a big YES for this device. Go for 128 GB variant as the 4K videos will occupy lots of space and the storage can get over very quickly. Try to buy it with...\\nREAD MORE', 'The Best Phone for the Money\\n\\nThe iPhone 11 offers superb cameras, a more durable design and excellent battery life for an affordable price.\\n\\nCompelling ultra-wide camera\\nNew Night mode is excellent\\nLong battery life', 'Value for money❤️❤️\\nIts awesome mobile phone in the world ...\\nDisplay was very good and bright ..\\nTrust me freinds you r never regret after Buying..\\nJust go for it....\\nI love this phone and i switch to iphone x to 11', 'Best budget Iphone till date ❤️ go for it guys without second thought. Let me explain you guys about Camera, Display, battery, and performance.\\n\\nCamera: at this price range there is no comparison of camera, you’ll love the picture quality as well as video quality. I am a Vlogger I wanted an iPhone with 4k video by front camera and I got this phone and I am more than happy 😃\\n\\nBattery: I use this phone roughly as I am active social media person and I have a youtube channel. so the battery ba...\\nREAD MORE', 'It’s been almost a month since I have been using this phone. I upgraded from an iPhone 8. The main issue with my 8 was battery and this phone is just awesome when it comes to battery. It lasts a day and a half for me with my regular use , internet connected always with 4g\\nCan’t move forward without saying this. Battery of this phone is a life saver when I am traveling or at work when I don’t get the option to charge\\nCamera is superb. Front cam selfies and back cam photos are just awesome.\\n...\\nREAD MORE', '*Review after 10 months of usage*\\nDoesn\\'t seem bulky with decent touch and camera. The \"standard maintained\" quality of IPhone. Go for it, if your budget is not more enough for pro models. It\\'s a value for money among the 11 series Stereo speakers are so good, you will love the stereo sound. Battery backup is not decent but still better than Iphone 7 and 8.Processor is fast, the phone doesn\\'t lag at all even with heavy games, waterproof, faster face id and with no fingerprint scanners. The ca...\\nREAD MORE', 'Awesome Phone. Slightly high price but worth. Better than iPhone XR.\\nCamera is superb and wide angle camera is very clear.\\n12MP selfie camera is also very good.\\nA13 Chip gives a very good and smooth performance.', 'Amazing phone with great cameras and better battery which gives you the best performance. I just love the camera .', 'Amazing Powerful and Durable Gadget.\\n\\nI’m am very happy with the camera picture quality, Amazing face id unlocked in dark room, Strong battery with perfect screen size as you can carry easily in pocket. This is my third iPhone.\\n\\nI shifted from android Samsung Note series to iPhone because of the strong build quality and peace of mind for next 3-4 years.\\n\\nDon’t think to much just go for it and I suggest you to go for minimum 128gb variant or more 256gb.\\n\\nI’ve attached my puppy pics and no fi...\\nREAD MORE', 'iphone 11 is a very good phone to buy only if you can compromise for the display. The display on this is device is pretty good but you can get other options with better displays in this price segment.\\nIf you can survive with an HD+ LCD panel with thicker bezels and a notch up top then this is a very good phone for you.\\nCameras are awesome, battery backup excellent, great performance and a decent premium look. Good job Apple !', 'It’s a must buy who is looking for an upgrade from previous generation of iPhones. If you are using XR then still you can hold on for sometime and upgrade to 2020 model else this phone is a must buy . Camera quality is amazing and wide angle is something to count upon. Performance wise it’s amazing and feels premium while holding in hand. So a big YES for this device. Go for 128 GB variant as the 4K videos will occupy lots of space and the storage can get over very quickly. Try to buy it with...\\nREAD MORE', 'The Best Phone for the Money\\n\\nThe iPhone 11 offers superb cameras, a more durable design and excellent battery life for an affordable price.\\n\\nCompelling ultra-wide camera\\nNew Night mode is excellent\\nLong battery life', 'Value for money❤️❤️\\nIts awesome mobile phone in the world ...\\nDisplay was very good and bright ..\\nTrust me freinds you r never regret after Buying..\\nJust go for it....\\nI love this phone and i switch to iphone x to 11', 'Best budget Iphone till date ❤️ go for it guys without second thought. Let me explain you guys about Camera, Display, battery, and performance.\\n\\nCamera: at this price range there is no comparison of camera, you’ll love the picture quality as well as video quality. I am a Vlogger I wanted an iPhone with 4k video by front camera and I got this phone and I am more than happy 😃\\n\\nBattery: I use this phone roughly as I am active social media person and I have a youtube channel. so the battery ba...\\nREAD MORE', 'It’s been almost a month since I have been using this phone. I upgraded from an iPhone 8. The main issue with my 8 was battery and this phone is just awesome when it comes to battery. It lasts a day and a half for me with my regular use , internet connected always with 4g\\nCan’t move forward without saying this. Battery of this phone is a life saver when I am traveling or at work when I don’t get the option to charge\\nCamera is superb. Front cam selfies and back cam photos are just awesome.\\n...\\nREAD MORE', '*Review after 10 months of usage*\\nDoesn\\'t seem bulky with decent touch and camera. The \"standard maintained\" quality of IPhone. Go for it, if your budget is not more enough for pro models. It\\'s a value for money among the 11 series Stereo speakers are so good, you will love the stereo sound. Battery backup is not decent but still better than Iphone 7 and 8.Processor is fast, the phone doesn\\'t lag at all even with heavy games, waterproof, faster face id and with no fingerprint scanners. The ca...\\nREAD MORE', 'Awesome Phone. Slightly high price but worth. Better than iPhone XR.\\nCamera is superb and wide angle camera is very clear.\\n12MP selfie camera is also very good.\\nA13 Chip gives a very good and smooth performance.', 'Amazing phone with great cameras and better battery which gives you the best performance. I just love the camera .', 'Amazing Powerful and Durable Gadget.\\n\\nI’m am very happy with the camera picture quality, Amazing face id unlocked in dark room, Strong battery with perfect screen size as you can carry easily in pocket. This is my third iPhone.\\n\\nI shifted from android Samsung Note series to iPhone because of the strong build quality and peace of mind for next 3-4 years.\\n\\nDon’t think to much just go for it and I suggest you to go for minimum 128gb variant or more 256gb.\\n\\nI’ve attached my puppy pics and no fi...\\nREAD MORE', 'iphone 11 is a very good phone to buy only if you can compromise for the display. The display on this is device is pretty good but you can get other options with better displays in this price segment.\\nIf you can survive with an HD+ LCD panel with thicker bezels and a notch up top then this is a very good phone for you.\\nCameras are awesome, battery backup excellent, great performance and a decent premium look. Good job Apple !', 'It’s a must buy who is looking for an upgrade from previous generation of iPhones. If you are using XR then still you can hold on for sometime and upgrade to 2020 model else this phone is a must buy . Camera quality is amazing and wide angle is something to count upon. Performance wise it’s amazing and feels premium while holding in hand. So a big YES for this device. Go for 128 GB variant as the 4K videos will occupy lots of space and the storage can get over very quickly. Try to buy it with...\\nREAD MORE', 'The Best Phone for the Money\\n\\nThe iPhone 11 offers superb cameras, a more durable design and excellent battery life for an affordable price.\\n\\nCompelling ultra-wide camera\\nNew Night mode is excellent\\nLong battery life', 'Value for money❤️❤️\\nIts awesome mobile phone in the world ...\\nDisplay was very good and bright ..\\nTrust me freinds you r never regret after Buying..\\nJust go for it....\\nI love this phone and i switch to iphone x to 11', 'Best budget Iphone till date ❤️ go for it guys without second thought. Let me explain you guys about Camera, Display, battery, and performance.\\n\\nCamera: at this price range there is no comparison of camera, you’ll love the picture quality as well as video quality. I am a Vlogger I wanted an iPhone with 4k video by front camera and I got this phone and I am more than happy 😃\\n\\nBattery: I use this phone roughly as I am active social media person and I have a youtube channel. so the battery ba...\\nREAD MORE', 'It’s been almost a month since I have been using this phone. I upgraded from an iPhone 8. The main issue with my 8 was battery and this phone is just awesome when it comes to battery. It lasts a day and a half for me with my regular use , internet connected always with 4g\\nCan’t move forward without saying this. Battery of this phone is a life saver when I am traveling or at work when I don’t get the option to charge\\nCamera is superb. Front cam selfies and back cam photos are just awesome.\\n...\\nREAD MORE', '*Review after 10 months of usage*\\nDoesn\\'t seem bulky with decent touch and camera. The \"standard maintained\" quality of IPhone. Go for it, if your budget is not more enough for pro models. It\\'s a value for money among the 11 series Stereo speakers are so good, you will love the stereo sound. Battery backup is not decent but still better than Iphone 7 and 8.Processor is fast, the phone doesn\\'t lag at all even with heavy games, waterproof, faster face id and with no fingerprint scanners. The ca...\\nREAD MORE', 'Awesome Phone. Slightly high price but worth. Better than iPhone XR.\\nCamera is superb and wide angle camera is very clear.\\n12MP selfie camera is also very good.\\nA13 Chip gives a very good and smooth performance.', 'Amazing phone with great cameras and better battery which gives you the best performance. I just love the camera .', 'Amazing Powerful and Durable Gadget.\\n\\nI’m am very happy with the camera picture quality, Amazing face id unlocked in dark room, Strong battery with perfect screen size as you can carry easily in pocket. This is my third iPhone.\\n\\nI shifted from android Samsung Note series to iPhone because of the strong build quality and peace of mind for next 3-4 years.\\n\\nDon’t think to much just go for it and I suggest you to go for minimum 128gb variant or more 256gb.\\n\\nI’ve attached my puppy pics and no fi...\\nREAD MORE', 'iphone 11 is a very good phone to buy only if you can compromise for the display. The display on this is device is pretty good but you can get other options with better displays in this price segment.\\nIf you can survive with an HD+ LCD panel with thicker bezels and a notch up top then this is a very good phone for you.\\nCameras are awesome, battery backup excellent, great performance and a decent premium look. Good job Apple !', 'It’s a must buy who is looking for an upgrade from previous generation of iPhones. If you are using XR then still you can hold on for sometime and upgrade to 2020 model else this phone is a must buy . Camera quality is amazing and wide angle is something to count upon. Performance wise it’s amazing and feels premium while holding in hand. So a big YES for this device. Go for 128 GB variant as the 4K videos will occupy lots of space and the storage can get over very quickly. Try to buy it with...\\nREAD MORE', 'The Best Phone for the Money\\n\\nThe iPhone 11 offers superb cameras, a more durable design and excellent battery life for an affordable price.\\n\\nCompelling ultra-wide camera\\nNew Night mode is excellent\\nLong battery life', 'Value for money❤️❤️\\nIts awesome mobile phone in the world ...\\nDisplay was very good and bright ..\\nTrust me freinds you r never regret after Buying..\\nJust go for it....\\nI love this phone and i switch to iphone x to 11', 'Best budget Iphone till date ❤️ go for it guys without second thought. Let me explain you guys about Camera, Display, battery, and performance.\\n\\nCamera: at this price range there is no comparison of camera, you’ll love the picture quality as well as video quality. I am a Vlogger I wanted an iPhone with 4k video by front camera and I got this phone and I am more than happy 😃\\n\\nBattery: I use this phone roughly as I am active social media person and I have a youtube channel. so the battery ba...\\nREAD MORE', 'It’s been almost a month since I have been using this phone. I upgraded from an iPhone 8. The main issue with my 8 was battery and this phone is just awesome when it comes to battery. It lasts a day and a half for me with my regular use , internet connected always with 4g\\nCan’t move forward without saying this. Battery of this phone is a life saver when I am traveling or at work when I don’t get the option to charge\\nCamera is superb. Front cam selfies and back cam photos are just awesome.\\n...\\nREAD MORE', '*Review after 10 months of usage*\\nDoesn\\'t seem bulky with decent touch and camera. The \"standard maintained\" quality of IPhone. Go for it, if your budget is not more enough for pro models. It\\'s a value for money among the 11 series Stereo speakers are so good, you will love the stereo sound. Battery backup is not decent but still better than Iphone 7 and 8.Processor is fast, the phone doesn\\'t lag at all even with heavy games, waterproof, faster face id and with no fingerprint scanners. The ca...\\nREAD MORE', 'Awesome Phone. Slightly high price but worth. Better than iPhone XR.\\nCamera is superb and wide angle camera is very clear.\\n12MP selfie camera is also very good.\\nA13 Chip gives a very good and smooth performance.', 'Amazing phone with great cameras and better battery which gives you the best performance. I just love the camera .', 'Amazing Powerful and Durable Gadget.\\n\\nI’m am very happy with the camera picture quality, Amazing face id unlocked in dark room, Strong battery with perfect screen size as you can carry easily in pocket. This is my third iPhone.\\n\\nI shifted from android Samsung Note series to iPhone because of the strong build quality and peace of mind for next 3-4 years.\\n\\nDon’t think to much just go for it and I suggest you to go for minimum 128gb variant or more 256gb.\\n\\nI’ve attached my puppy pics and no fi...\\nREAD MORE', 'iphone 11 is a very good phone to buy only if you can compromise for the display. The display on this is device is pretty good but you can get other options with better displays in this price segment.\\nIf you can survive with an HD+ LCD panel with thicker bezels and a notch up top then this is a very good phone for you.\\nCameras are awesome, battery backup excellent, great performance and a decent premium look. Good job Apple !', 'It’s a must buy who is looking for an upgrade from previous generation of iPhones. If you are using XR then still you can hold on for sometime and upgrade to 2020 model else this phone is a must buy . Camera quality is amazing and wide angle is something to count upon. Performance wise it’s amazing and feels premium while holding in hand. So a big YES for this device. Go for 128 GB variant as the 4K videos will occupy lots of space and the storage can get over very quickly. Try to buy it with...\\nREAD MORE', 'The Best Phone for the Money\\n\\nThe iPhone 11 offers superb cameras, a more durable design and excellent battery life for an affordable price.\\n\\nCompelling ultra-wide camera\\nNew Night mode is excellent\\nLong battery life', 'Value for money❤️❤️\\nIts awesome mobile phone in the world ...\\nDisplay was very good and bright ..\\nTrust me freinds you r never regret after Buying..\\nJust go for it....\\nI love this phone and i switch to iphone x to 11', 'Best budget Iphone till date ❤️ go for it guys without second thought. Let me explain you guys about Camera, Display, battery, and performance.\\n\\nCamera: at this price range there is no comparison of camera, you’ll love the picture quality as well as video quality. I am a Vlogger I wanted an iPhone with 4k video by front camera and I got this phone and I am more than happy 😃\\n\\nBattery: I use this phone roughly as I am active social media person and I have a youtube channel. so the battery ba...\\nREAD MORE', 'It’s been almost a month since I have been using this phone. I upgraded from an iPhone 8. The main issue with my 8 was battery and this phone is just awesome when it comes to battery. It lasts a day and a half for me with my regular use , internet connected always with 4g\\nCan’t move forward without saying this. Battery of this phone is a life saver when I am traveling or at work when I don’t get the option to charge\\nCamera is superb. Front cam selfies and back cam photos are just awesome.\\n...\\nREAD MORE', '*Review after 10 months of usage*\\nDoesn\\'t seem bulky with decent touch and camera. The \"standard maintained\" quality of IPhone. Go for it, if your budget is not more enough for pro models. It\\'s a value for money among the 11 series Stereo speakers are so good, you will love the stereo sound. Battery backup is not decent but still better than Iphone 7 and 8.Processor is fast, the phone doesn\\'t lag at all even with heavy games, waterproof, faster face id and with no fingerprint scanners. The ca...\\nREAD MORE', 'Awesome Phone. Slightly high price but worth. Better than iPhone XR.\\nCamera is superb and wide angle camera is very clear.\\n12MP selfie camera is also very good.\\nA13 Chip gives a very good and smooth performance.', 'Amazing phone with great cameras and better battery which gives you the best performance. I just love the camera .', 'Amazing Powerful and Durable Gadget.\\n\\nI’m am very happy with the camera picture quality, Amazing face id unlocked in dark room, Strong battery with perfect screen size as you can carry easily in pocket. This is my third iPhone.\\n\\nI shifted from android Samsung Note series to iPhone because of the strong build quality and peace of mind for next 3-4 years.\\n\\nDon’t think to much just go for it and I suggest you to go for minimum 128gb variant or more 256gb.\\n\\nI’ve attached my puppy pics and no fi...\\nREAD MORE', 'iphone 11 is a very good phone to buy only if you can compromise for the display. The display on this is device is pretty good but you can get other options with better displays in this price segment.\\nIf you can survive with an HD+ LCD panel with thicker bezels and a notch up top then this is a very good phone for you.\\nCameras are awesome, battery backup excellent, great performance and a decent premium look. Good job Apple !', 'It’s a must buy who is looking for an upgrade from previous generation of iPhones. If you are using XR then still you can hold on for sometime and upgrade to 2020 model else this phone is a must buy . Camera quality is amazing and wide angle is something to count upon. Performance wise it’s amazing and feels premium while holding in hand. So a big YES for this device. Go for 128 GB variant as the 4K videos will occupy lots of space and the storage can get over very quickly. Try to buy it with...\\nREAD MORE', 'The Best Phone for the Money\\n\\nThe iPhone 11 offers superb cameras, a more durable design and excellent battery life for an affordable price.\\n\\nCompelling ultra-wide camera\\nNew Night mode is excellent\\nLong battery life', 'Value for money❤️❤️\\nIts awesome mobile phone in the world ...\\nDisplay was very good and bright ..\\nTrust me freinds you r never regret after Buying..\\nJust go for it....\\nI love this phone and i switch to iphone x to 11', 'Best budget Iphone till date ❤️ go for it guys without second thought. Let me explain you guys about Camera, Display, battery, and performance.\\n\\nCamera: at this price range there is no comparison of camera, you’ll love the picture quality as well as video quality. I am a Vlogger I wanted an iPhone with 4k video by front camera and I got this phone and I am more than happy 😃\\n\\nBattery: I use this phone roughly as I am active social media person and I have a youtube channel. so the battery ba...\\nREAD MORE', 'It’s been almost a month since I have been using this phone. I upgraded from an iPhone 8. The main issue with my 8 was battery and this phone is just awesome when it comes to battery. It lasts a day and a half for me with my regular use , internet connected always with 4g\\nCan’t move forward without saying this. Battery of this phone is a life saver when I am traveling or at work when I don’t get the option to charge\\nCamera is superb. Front cam selfies and back cam photos are just awesome.\\n...\\nREAD MORE', '*Review after 10 months of usage*\\nDoesn\\'t seem bulky with decent touch and camera. The \"standard maintained\" quality of IPhone. Go for it, if your budget is not more enough for pro models. It\\'s a value for money among the 11 series Stereo speakers are so good, you will love the stereo sound. Battery backup is not decent but still better than Iphone 7 and 8.Processor is fast, the phone doesn\\'t lag at all even with heavy games, waterproof, faster face id and with no fingerprint scanners. The ca...\\nREAD MORE', 'Awesome Phone. Slightly high price but worth. Better than iPhone XR.\\nCamera is superb and wide angle camera is very clear.\\n12MP selfie camera is also very good.\\nA13 Chip gives a very good and smooth performance.', 'Amazing phone with great cameras and better battery which gives you the best performance. I just love the camera .', 'Amazing Powerful and Durable Gadget.\\n\\nI’m am very happy with the camera picture quality, Amazing face id unlocked in dark room, Strong battery with perfect screen size as you can carry easily in pocket. This is my third iPhone.\\n\\nI shifted from android Samsung Note series to iPhone because of the strong build quality and peace of mind for next 3-4 years.\\n\\nDon’t think to much just go for it and I suggest you to go for minimum 128gb variant or more 256gb.\\n\\nI’ve attached my puppy pics and no fi...\\nREAD MORE', 'iphone 11 is a very good phone to buy only if you can compromise for the display. The display on this is device is pretty good but you can get other options with better displays in this price segment.\\nIf you can survive with an HD+ LCD panel with thicker bezels and a notch up top then this is a very good phone for you.\\nCameras are awesome, battery backup excellent, great performance and a decent premium look. Good job Apple !', 'It’s a must buy who is looking for an upgrade from previous generation of iPhones. If you are using XR then still you can hold on for sometime and upgrade to 2020 model else this phone is a must buy . Camera quality is amazing and wide angle is something to count upon. Performance wise it’s amazing and feels premium while holding in hand. So a big YES for this device. Go for 128 GB variant as the 4K videos will occupy lots of space and the storage can get over very quickly. Try to buy it with...\\nREAD MORE', 'The Best Phone for the Money\\n\\nThe iPhone 11 offers superb cameras, a more durable design and excellent battery life for an affordable price.\\n\\nCompelling ultra-wide camera\\nNew Night mode is excellent\\nLong battery life', 'Value for money❤️❤️\\nIts awesome mobile phone in the world ...\\nDisplay was very good and bright ..\\nTrust me freinds you r never regret after Buying..\\nJust go for it....\\nI love this phone and i switch to iphone x to 11', 'Best budget Iphone till date ❤️ go for it guys without second thought. Let me explain you guys about Camera, Display, battery, and performance.\\n\\nCamera: at this price range there is no comparison of camera, you’ll love the picture quality as well as video quality. I am a Vlogger I wanted an iPhone with 4k video by front camera and I got this phone and I am more than happy 😃\\n\\nBattery: I use this phone roughly as I am active social media person and I have a youtube channel. so the battery ba...\\nREAD MORE', 'It’s been almost a month since I have been using this phone. I upgraded from an iPhone 8. The main issue with my 8 was battery and this phone is just awesome when it comes to battery. It lasts a day and a half for me with my regular use , internet connected always with 4g\\nCan’t move forward without saying this. Battery of this phone is a life saver when I am traveling or at work when I don’t get the option to charge\\nCamera is superb. Front cam selfies and back cam photos are just awesome.\\n...\\nREAD MORE', '*Review after 10 months of usage*\\nDoesn\\'t seem bulky with decent touch and camera. The \"standard maintained\" quality of IPhone. Go for it, if your budget is not more enough for pro models. It\\'s a value for money among the 11 series Stereo speakers are so good, you will love the stereo sound. Battery backup is not decent but still better than Iphone 7 and 8.Processor is fast, the phone doesn\\'t lag at all even with heavy games, waterproof, faster face id and with no fingerprint scanners. The ca...\\nREAD MORE', 'Awesome Phone. Slightly high price but worth. Better than iPhone XR.\\nCamera is superb and wide angle camera is very clear.\\n12MP selfie camera is also very good.\\nA13 Chip gives a very good and smooth performance.', 'Amazing phone with great cameras and better battery which gives you the best performance. I just love the camera .', 'Amazing Powerful and Durable Gadget.\\n\\nI’m am very happy with the camera picture quality, Amazing face id unlocked in dark room, Strong battery with perfect screen size as you can carry easily in pocket. This is my third iPhone.\\n\\nI shifted from android Samsung Note series to iPhone because of the strong build quality and peace of mind for next 3-4 years.\\n\\nDon’t think to much just go for it and I suggest you to go for minimum 128gb variant or more 256gb.\\n\\nI’ve attached my puppy pics and no fi...\\nREAD MORE', 'iphone 11 is a very good phone to buy only if you can compromise for the display. The display on this is device is pretty good but you can get other options with better displays in this price segment.\\nIf you can survive with an HD+ LCD panel with thicker bezels and a notch up top then this is a very good phone for you.\\nCameras are awesome, battery backup excellent, great performance and a decent premium look. Good job Apple !', 'It’s a must buy who is looking for an upgrade from previous generation of iPhones. If you are using XR then still you can hold on for sometime and upgrade to 2020 model else this phone is a must buy . Camera quality is amazing and wide angle is something to count upon. Performance wise it’s amazing and feels premium while holding in hand. So a big YES for this device. Go for 128 GB variant as the 4K videos will occupy lots of space and the storage can get over very quickly. Try to buy it with...\\nREAD MORE', 'The Best Phone for the Money\\n\\nThe iPhone 11 offers superb cameras, a more durable design and excellent battery life for an affordable price.\\n\\nCompelling ultra-wide camera\\nNew Night mode is excellent\\nLong battery life', 'Value for money❤️❤️\\nIts awesome mobile phone in the world ...\\nDisplay was very good and bright ..\\nTrust me freinds you r never regret after Buying..\\nJust go for it....\\nI love this phone and i switch to iphone x to 11', 'Best budget Iphone till date ❤️ go for it guys without second thought. Let me explain you guys about Camera, Display, battery, and performance.\\n\\nCamera: at this price range there is no comparison of camera, you’ll love the picture quality as well as video quality. I am a Vlogger I wanted an iPhone with 4k video by front camera and I got this phone and I am more than happy 😃\\n\\nBattery: I use this phone roughly as I am active social media person and I have a youtube channel. so the battery ba...\\nREAD MORE', 'It’s been almost a month since I have been using this phone. I upgraded from an iPhone 8. The main issue with my 8 was battery and this phone is just awesome when it comes to battery. It lasts a day and a half for me with my regular use , internet connected always with 4g\\nCan’t move forward without saying this. Battery of this phone is a life saver when I am traveling or at work when I don’t get the option to charge\\nCamera is superb. Front cam selfies and back cam photos are just awesome.\\n...\\nREAD MORE', '*Review after 10 months of usage*\\nDoesn\\'t seem bulky with decent touch and camera. The \"standard maintained\" quality of IPhone. Go for it, if your budget is not more enough for pro models. It\\'s a value for money among the 11 series Stereo speakers are so good, you will love the stereo sound. Battery backup is not decent but still better than Iphone 7 and 8.Processor is fast, the phone doesn\\'t lag at all even with heavy games, waterproof, faster face id and with no fingerprint scanners. The ca...\\nREAD MORE', 'Awesome Phone. Slightly high price but worth. Better than iPhone XR.\\nCamera is superb and wide angle camera is very clear.\\n12MP selfie camera is also very good.\\nA13 Chip gives a very good and smooth performance.', 'Amazing phone with great cameras and better battery which gives you the best performance. I just love the camera .', 'Amazing Powerful and Durable Gadget.\\n\\nI’m am very happy with the camera picture quality, Amazing face id unlocked in dark room, Strong battery with perfect screen size as you can carry easily in pocket. This is my third iPhone.\\n\\nI shifted from android Samsung Note series to iPhone because of the strong build quality and peace of mind for next 3-4 years.\\n\\nDon’t think to much just go for it and I suggest you to go for minimum 128gb variant or more 256gb.\\n\\nI’ve attached my puppy pics and no fi...\\nREAD MORE', 'iphone 11 is a very good phone to buy only if you can compromise for the display. The display on this is device is pretty good but you can get other options with better displays in this price segment.\\nIf you can survive with an HD+ LCD panel with thicker bezels and a notch up top then this is a very good phone for you.\\nCameras are awesome, battery backup excellent, great performance and a decent premium look. Good job Apple !', 'It’s a must buy who is looking for an upgrade from previous generation of iPhones. If you are using XR then still you can hold on for sometime and upgrade to 2020 model else this phone is a must buy . Camera quality is amazing and wide angle is something to count upon. Performance wise it’s amazing and feels premium while holding in hand. So a big YES for this device. Go for 128 GB variant as the 4K videos will occupy lots of space and the storage can get over very quickly. Try to buy it with...\\nREAD MORE', 'The Best Phone for the Money\\n\\nThe iPhone 11 offers superb cameras, a more durable design and excellent battery life for an affordable price.\\n\\nCompelling ultra-wide camera\\nNew Night mode is excellent\\nLong battery life', 'Value for money❤️❤️\\nIts awesome mobile phone in the world ...\\nDisplay was very good and bright ..\\nTrust me freinds you r never regret after Buying..\\nJust go for it....\\nI love this phone and i switch to iphone x to 11', 'Best budget Iphone till date ❤️ go for it guys without second thought. Let me explain you guys about Camera, Display, battery, and performance.\\n\\nCamera: at this price range there is no comparison of camera, you’ll love the picture quality as well as video quality. I am a Vlogger I wanted an iPhone with 4k video by front camera and I got this phone and I am more than happy 😃\\n\\nBattery: I use this phone roughly as I am active social media person and I have a youtube channel. so the battery ba...\\nREAD MORE', 'It’s been almost a month since I have been using this phone. I upgraded from an iPhone 8. The main issue with my 8 was battery and this phone is just awesome when it comes to battery. It lasts a day and a half for me with my regular use , internet connected always with 4g\\nCan’t move forward without saying this. Battery of this phone is a life saver when I am traveling or at work when I don’t get the option to charge\\nCamera is superb. Front cam selfies and back cam photos are just awesome.\\n...\\nREAD MORE', '*Review after 10 months of usage*\\nDoesn\\'t seem bulky with decent touch and camera. The \"standard maintained\" quality of IPhone. Go for it, if your budget is not more enough for pro models. It\\'s a value for money among the 11 series Stereo speakers are so good, you will love the stereo sound. Battery backup is not decent but still better than Iphone 7 and 8.Processor is fast, the phone doesn\\'t lag at all even with heavy games, waterproof, faster face id and with no fingerprint scanners. The ca...\\nREAD MORE', 'Awesome Phone. Slightly high price but worth. Better than iPhone XR.\\nCamera is superb and wide angle camera is very clear.\\n12MP selfie camera is also very good.\\nA13 Chip gives a very good and smooth performance.', 'Amazing phone with great cameras and better battery which gives you the best performance. I just love the camera .', 'Amazing Powerful and Durable Gadget.\\n\\nI’m am very happy with the camera picture quality, Amazing face id unlocked in dark room, Strong battery with perfect screen size as you can carry easily in pocket. This is my third iPhone.\\n\\nI shifted from android Samsung Note series to iPhone because of the strong build quality and peace of mind for next 3-4 years.\\n\\nDon’t think to much just go for it and I suggest you to go for minimum 128gb variant or more 256gb.\\n\\nI’ve attached my puppy pics and no fi...\\nREAD MORE', 'iphone 11 is a very good phone to buy only if you can compromise for the display. The display on this is device is pretty good but you can get other options with better displays in this price segment.\\nIf you can survive with an HD+ LCD panel with thicker bezels and a notch up top then this is a very good phone for you.\\nCameras are awesome, battery backup excellent, great performance and a decent premium look. Good job Apple !', 'It’s a must buy who is looking for an upgrade from previous generation of iPhones. If you are using XR then still you can hold on for sometime and upgrade to 2020 model else this phone is a must buy . Camera quality is amazing and wide angle is something to count upon. Performance wise it’s amazing and feels premium while holding in hand. So a big YES for this device. Go for 128 GB variant as the 4K videos will occupy lots of space and the storage can get over very quickly. Try to buy it with...\\nREAD MORE', 'The Best Phone for the Money\\n\\nThe iPhone 11 offers superb cameras, a more durable design and excellent battery life for an affordable price.\\n\\nCompelling ultra-wide camera\\nNew Night mode is excellent\\nLong battery life', 'Value for money❤️❤️\\nIts awesome mobile phone in the world ...\\nDisplay was very good and bright ..\\nTrust me freinds you r never regret after Buying..\\nJust go for it....\\nI love this phone and i switch to iphone x to 11', 'Best budget Iphone till date ❤️ go for it guys without second thought. Let me explain you guys about Camera, Display, battery, and performance.\\n\\nCamera: at this price range there is no comparison of camera, you’ll love the picture quality as well as video quality. I am a Vlogger I wanted an iPhone with 4k video by front camera and I got this phone and I am more than happy 😃\\n\\nBattery: I use this phone roughly as I am active social media person and I have a youtube channel. so the battery ba...\\nREAD MORE', 'It’s been almost a month since I have been using this phone. I upgraded from an iPhone 8. The main issue with my 8 was battery and this phone is just awesome when it comes to battery. It lasts a day and a half for me with my regular use , internet connected always with 4g\\nCan’t move forward without saying this. Battery of this phone is a life saver when I am traveling or at work when I don’t get the option to charge\\nCamera is superb. Front cam selfies and back cam photos are just awesome.\\n...\\nREAD MORE', '*Review after 10 months of usage*\\nDoesn\\'t seem bulky with decent touch and camera. The \"standard maintained\" quality of IPhone. Go for it, if your budget is not more enough for pro models. It\\'s a value for money among the 11 series Stereo speakers are so good, you will love the stereo sound. Battery backup is not decent but still better than Iphone 7 and 8.Processor is fast, the phone doesn\\'t lag at all even with heavy games, waterproof, faster face id and with no fingerprint scanners. The ca...\\nREAD MORE', 'Awesome Phone. Slightly high price but worth. Better than iPhone XR.\\nCamera is superb and wide angle camera is very clear.\\n12MP selfie camera is also very good.\\nA13 Chip gives a very good and smooth performance.', 'Amazing phone with great cameras and better battery which gives you the best performance. I just love the camera .', 'Amazing Powerful and Durable Gadget.\\n\\nI’m am very happy with the camera picture quality, Amazing face id unlocked in dark room, Strong battery with perfect screen size as you can carry easily in pocket. This is my third iPhone.\\n\\nI shifted from android Samsung Note series to iPhone because of the strong build quality and peace of mind for next 3-4 years.\\n\\nDon’t think to much just go for it and I suggest you to go for minimum 128gb variant or more 256gb.\\n\\nI’ve attached my puppy pics and no fi...\\nREAD MORE', 'iphone 11 is a very good phone to buy only if you can compromise for the display. The display on this is device is pretty good but you can get other options with better displays in this price segment.\\nIf you can survive with an HD+ LCD panel with thicker bezels and a notch up top then this is a very good phone for you.\\nCameras are awesome, battery backup excellent, great performance and a decent premium look. Good job Apple !', 'It’s a must buy who is looking for an upgrade from previous generation of iPhones. If you are using XR then still you can hold on for sometime and upgrade to 2020 model else this phone is a must buy . Camera quality is amazing and wide angle is something to count upon. Performance wise it’s amazing and feels premium while holding in hand. So a big YES for this device. Go for 128 GB variant as the 4K videos will occupy lots of space and the storage can get over very quickly. Try to buy it with...\\nREAD MORE', 'The Best Phone for the Money\\n\\nThe iPhone 11 offers superb cameras, a more durable design and excellent battery life for an affordable price.\\n\\nCompelling ultra-wide camera\\nNew Night mode is excellent\\nLong battery life', 'Value for money❤️❤️\\nIts awesome mobile phone in the world ...\\nDisplay was very good and bright ..\\nTrust me freinds you r never regret after Buying..\\nJust go for it....\\nI love this phone and i switch to iphone x to 11', 'Best budget Iphone till date ❤️ go for it guys without second thought. Let me explain you guys about Camera, Display, battery, and performance.\\n\\nCamera: at this price range there is no comparison of camera, you’ll love the picture quality as well as video quality. I am a Vlogger I wanted an iPhone with 4k video by front camera and I got this phone and I am more than happy 😃\\n\\nBattery: I use this phone roughly as I am active social media person and I have a youtube channel. so the battery ba...\\nREAD MORE', 'It’s been almost a month since I have been using this phone. I upgraded from an iPhone 8. The main issue with my 8 was battery and this phone is just awesome when it comes to battery. It lasts a day and a half for me with my regular use , internet connected always with 4g\\nCan’t move forward without saying this. Battery of this phone is a life saver when I am traveling or at work when I don’t get the option to charge\\nCamera is superb. Front cam selfies and back cam photos are just awesome.\\n...\\nREAD MORE', '*Review after 10 months of usage*\\nDoesn\\'t seem bulky with decent touch and camera. The \"standard maintained\" quality of IPhone. Go for it, if your budget is not more enough for pro models. It\\'s a value for money among the 11 series Stereo speakers are so good, you will love the stereo sound. Battery backup is not decent but still better than Iphone 7 and 8.Processor is fast, the phone doesn\\'t lag at all even with heavy games, waterproof, faster face id and with no fingerprint scanners. The ca...\\nREAD MORE', 'Awesome Phone. Slightly high price but worth. Better than iPhone XR.\\nCamera is superb and wide angle camera is very clear.\\n12MP selfie camera is also very good.\\nA13 Chip gives a very good and smooth performance.', 'Amazing phone with great cameras and better battery which gives you the best performance. I just love the camera .', 'Amazing Powerful and Durable Gadget.\\n\\nI’m am very happy with the camera picture quality, Amazing face id unlocked in dark room, Strong battery with perfect screen size as you can carry easily in pocket. This is my third iPhone.\\n\\nI shifted from android Samsung Note series to iPhone because of the strong build quality and peace of mind for next 3-4 years.\\n\\nDon’t think to much just go for it and I suggest you to go for minimum 128gb variant or more 256gb.\\n\\nI’ve attached my puppy pics and no fi...\\nREAD MORE', 'iphone 11 is a very good phone to buy only if you can compromise for the display. The display on this is device is pretty good but you can get other options with better displays in this price segment.\\nIf you can survive with an HD+ LCD panel with thicker bezels and a notch up top then this is a very good phone for you.\\nCameras are awesome, battery backup excellent, great performance and a decent premium look. Good job Apple !', 'It’s a must buy who is looking for an upgrade from previous generation of iPhones. If you are using XR then still you can hold on for sometime and upgrade to 2020 model else this phone is a must buy . Camera quality is amazing and wide angle is something to count upon. Performance wise it’s amazing and feels premium while holding in hand. So a big YES for this device. Go for 128 GB variant as the 4K videos will occupy lots of space and the storage can get over very quickly. Try to buy it with...\\nREAD MORE', 'The Best Phone for the Money\\n\\nThe iPhone 11 offers superb cameras, a more durable design and excellent battery life for an affordable price.\\n\\nCompelling ultra-wide camera\\nNew Night mode is excellent\\nLong battery life', 'Value for money❤️❤️\\nIts awesome mobile phone in the world ...\\nDisplay was very good and bright ..\\nTrust me freinds you r never regret after Buying..\\nJust go for it....\\nI love this phone and i switch to iphone x to 11', 'Best budget Iphone till date ❤️ go for it guys without second thought. Let me explain you guys about Camera, Display, battery, and performance.\\n\\nCamera: at this price range there is no comparison of camera, you’ll love the picture quality as well as video quality. I am a Vlogger I wanted an iPhone with 4k video by front camera and I got this phone and I am more than happy 😃\\n\\nBattery: I use this phone roughly as I am active social media person and I have a youtube channel. so the battery ba...\\nREAD MORE', 'It’s been almost a month since I have been using this phone. I upgraded from an iPhone 8. The main issue with my 8 was battery and this phone is just awesome when it comes to battery. It lasts a day and a half for me with my regular use , internet connected always with 4g\\nCan’t move forward without saying this. Battery of this phone is a life saver when I am traveling or at work when I don’t get the option to charge\\nCamera is superb. Front cam selfies and back cam photos are just awesome.\\n...\\nREAD MORE', '*Review after 10 months of usage*\\nDoesn\\'t seem bulky with decent touch and camera. The \"standard maintained\" quality of IPhone. Go for it, if your budget is not more enough for pro models. It\\'s a value for money among the 11 series Stereo speakers are so good, you will love the stereo sound. Battery backup is not decent but still better than Iphone 7 and 8.Processor is fast, the phone doesn\\'t lag at all even with heavy games, waterproof, faster face id and with no fingerprint scanners. The ca...\\nREAD MORE', 'Awesome Phone. Slightly high price but worth. Better than iPhone XR.\\nCamera is superb and wide angle camera is very clear.\\n12MP selfie camera is also very good.\\nA13 Chip gives a very good and smooth performance.', 'Amazing phone with great cameras and better battery which gives you the best performance. I just love the camera .', 'Amazing Powerful and Durable Gadget.\\n\\nI’m am very happy with the camera picture quality, Amazing face id unlocked in dark room, Strong battery with perfect screen size as you can carry easily in pocket. This is my third iPhone.\\n\\nI shifted from android Samsung Note series to iPhone because of the strong build quality and peace of mind for next 3-4 years.\\n\\nDon’t think to much just go for it and I suggest you to go for minimum 128gb variant or more 256gb.\\n\\nI’ve attached my puppy pics and no fi...\\nREAD MORE', 'iphone 11 is a very good phone to buy only if you can compromise for the display. The display on this is device is pretty good but you can get other options with better displays in this price segment.\\nIf you can survive with an HD+ LCD panel with thicker bezels and a notch up top then this is a very good phone for you.\\nCameras are awesome, battery backup excellent, great performance and a decent premium look. Good job Apple !', 'It’s a must buy who is looking for an upgrade from previous generation of iPhones. If you are using XR then still you can hold on for sometime and upgrade to 2020 model else this phone is a must buy . Camera quality is amazing and wide angle is something to count upon. Performance wise it’s amazing and feels premium while holding in hand. So a big YES for this device. Go for 128 GB variant as the 4K videos will occupy lots of space and the storage can get over very quickly. Try to buy it with...\\nREAD MORE', 'The Best Phone for the Money\\n\\nThe iPhone 11 offers superb cameras, a more durable design and excellent battery life for an affordable price.\\n\\nCompelling ultra-wide camera\\nNew Night mode is excellent\\nLong battery life', 'Value for money❤️❤️\\nIts awesome mobile phone in the world ...\\nDisplay was very good and bright ..\\nTrust me freinds you r never regret after Buying..\\nJust go for it....\\nI love this phone and i switch to iphone x to 11', 'Best budget Iphone till date ❤️ go for it guys without second thought. Let me explain you guys about Camera, Display, battery, and performance.\\n\\nCamera: at this price range there is no comparison of camera, you’ll love the picture quality as well as video quality. I am a Vlogger I wanted an iPhone with 4k video by front camera and I got this phone and I am more than happy 😃\\n\\nBattery: I use this phone roughly as I am active social media person and I have a youtube channel. so the battery ba...\\nREAD MORE', 'It’s been almost a month since I have been using this phone. I upgraded from an iPhone 8. The main issue with my 8 was battery and this phone is just awesome when it comes to battery. It lasts a day and a half for me with my regular use , internet connected always with 4g\\nCan’t move forward without saying this. Battery of this phone is a life saver when I am traveling or at work when I don’t get the option to charge\\nCamera is superb. Front cam selfies and back cam photos are just awesome.\\n...\\nREAD MORE', '*Review after 10 months of usage*\\nDoesn\\'t seem bulky with decent touch and camera. The \"standard maintained\" quality of IPhone. Go for it, if your budget is not more enough for pro models. It\\'s a value for money among the 11 series Stereo speakers are so good, you will love the stereo sound. Battery backup is not decent but still better than Iphone 7 and 8.Processor is fast, the phone doesn\\'t lag at all even with heavy games, waterproof, faster face id and with no fingerprint scanners. The ca...\\nREAD MORE', 'Awesome Phone. Slightly high price but worth. Better than iPhone XR.\\nCamera is superb and wide angle camera is very clear.\\n12MP selfie camera is also very good.\\nA13 Chip gives a very good and smooth performance.', 'Amazing phone with great cameras and better battery which gives you the best performance. I just love the camera .', 'Amazing Powerful and Durable Gadget.\\n\\nI’m am very happy with the camera picture quality, Amazing face id unlocked in dark room, Strong battery with perfect screen size as you can carry easily in pocket. This is my third iPhone.\\n\\nI shifted from android Samsung Note series to iPhone because of the strong build quality and peace of mind for next 3-4 years.\\n\\nDon’t think to much just go for it and I suggest you to go for minimum 128gb variant or more 256gb.\\n\\nI’ve attached my puppy pics and no fi...\\nREAD MORE', 'iphone 11 is a very good phone to buy only if you can compromise for the display. The display on this is device is pretty good but you can get other options with better displays in this price segment.\\nIf you can survive with an HD+ LCD panel with thicker bezels and a notch up top then this is a very good phone for you.\\nCameras are awesome, battery backup excellent, great performance and a decent premium look. Good job Apple !', 'It’s a must buy who is looking for an upgrade from previous generation of iPhones. If you are using XR then still you can hold on for sometime and upgrade to 2020 model else this phone is a must buy . Camera quality is amazing and wide angle is something to count upon. Performance wise it’s amazing and feels premium while holding in hand. So a big YES for this device. Go for 128 GB variant as the 4K videos will occupy lots of space and the storage can get over very quickly. Try to buy it with...\\nREAD MORE', 'The Best Phone for the Money\\n\\nThe iPhone 11 offers superb cameras, a more durable design and excellent battery life for an affordable price.\\n\\nCompelling ultra-wide camera\\nNew Night mode is excellent\\nLong battery life', 'Value for money❤️❤️\\nIts awesome mobile phone in the world ...\\nDisplay was very good and bright ..\\nTrust me freinds you r never regret after Buying..\\nJust go for it....\\nI love this phone and i switch to iphone x to 11', 'Best budget Iphone till date ❤️ go for it guys without second thought. Let me explain you guys about Camera, Display, battery, and performance.\\n\\nCamera: at this price range there is no comparison of camera, you’ll love the picture quality as well as video quality. I am a Vlogger I wanted an iPhone with 4k video by front camera and I got this phone and I am more than happy 😃\\n\\nBattery: I use this phone roughly as I am active social media person and I have a youtube channel. so the battery ba...\\nREAD MORE', 'It’s been almost a month since I have been using this phone. I upgraded from an iPhone 8. The main issue with my 8 was battery and this phone is just awesome when it comes to battery. It lasts a day and a half for me with my regular use , internet connected always with 4g\\nCan’t move forward without saying this. Battery of this phone is a life saver when I am traveling or at work when I don’t get the option to charge\\nCamera is superb. Front cam selfies and back cam photos are just awesome.\\n...\\nREAD MORE', '*Review after 10 months of usage*\\nDoesn\\'t seem bulky with decent touch and camera. The \"standard maintained\" quality of IPhone. Go for it, if your budget is not more enough for pro models. It\\'s a value for money among the 11 series Stereo speakers are so good, you will love the stereo sound. Battery backup is not decent but still better than Iphone 7 and 8.Processor is fast, the phone doesn\\'t lag at all even with heavy games, waterproof, faster face id and with no fingerprint scanners. The ca...\\nREAD MORE', 'Awesome Phone. Slightly high price but worth. Better than iPhone XR.\\nCamera is superb and wide angle camera is very clear.\\n12MP selfie camera is also very good.\\nA13 Chip gives a very good and smooth performance.', 'Amazing phone with great cameras and better battery which gives you the best performance. I just love the camera .', 'Amazing Powerful and Durable Gadget.\\n\\nI’m am very happy with the camera picture quality, Amazing face id unlocked in dark room, Strong battery with perfect screen size as you can carry easily in pocket. This is my third iPhone.\\n\\nI shifted from android Samsung Note series to iPhone because of the strong build quality and peace of mind for next 3-4 years.\\n\\nDon’t think to much just go for it and I suggest you to go for minimum 128gb variant or more 256gb.\\n\\nI’ve attached my puppy pics and no fi...\\nREAD MORE', 'iphone 11 is a very good phone to buy only if you can compromise for the display. The display on this is device is pretty good but you can get other options with better displays in this price segment.\\nIf you can survive with an HD+ LCD panel with thicker bezels and a notch up top then this is a very good phone for you.\\nCameras are awesome, battery backup excellent, great performance and a decent premium look. Good job Apple !', 'It’s a must buy who is looking for an upgrade from previous generation of iPhones. If you are using XR then still you can hold on for sometime and upgrade to 2020 model else this phone is a must buy . Camera quality is amazing and wide angle is something to count upon. Performance wise it’s amazing and feels premium while holding in hand. So a big YES for this device. Go for 128 GB variant as the 4K videos will occupy lots of space and the storage can get over very quickly. Try to buy it with...\\nREAD MORE', 'The Best Phone for the Money\\n\\nThe iPhone 11 offers superb cameras, a more durable design and excellent battery life for an affordable price.\\n\\nCompelling ultra-wide camera\\nNew Night mode is excellent\\nLong battery life', 'Value for money❤️❤️\\nIts awesome mobile phone in the world ...\\nDisplay was very good and bright ..\\nTrust me freinds you r never regret after Buying..\\nJust go for it....\\nI love this phone and i switch to iphone x to 11', 'Best budget Iphone till date ❤️ go for it guys without second thought. Let me explain you guys about Camera, Display, battery, and performance.\\n\\nCamera: at this price range there is no comparison of camera, you’ll love the picture quality as well as video quality. I am a Vlogger I wanted an iPhone with 4k video by front camera and I got this phone and I am more than happy 😃\\n\\nBattery: I use this phone roughly as I am active social media person and I have a youtube channel. so the battery ba...\\nREAD MORE', 'It’s been almost a month since I have been using this phone. I upgraded from an iPhone 8. The main issue with my 8 was battery and this phone is just awesome when it comes to battery. It lasts a day and a half for me with my regular use , internet connected always with 4g\\nCan’t move forward without saying this. Battery of this phone is a life saver when I am traveling or at work when I don’t get the option to charge\\nCamera is superb. Front cam selfies and back cam photos are just awesome.\\n...\\nREAD MORE', '*Review after 10 months of usage*\\nDoesn\\'t seem bulky with decent touch and camera. The \"standard maintained\" quality of IPhone. Go for it, if your budget is not more enough for pro models. It\\'s a value for money among the 11 series Stereo speakers are so good, you will love the stereo sound. Battery backup is not decent but still better than Iphone 7 and 8.Processor is fast, the phone doesn\\'t lag at all even with heavy games, waterproof, faster face id and with no fingerprint scanners. The ca...\\nREAD MORE', 'Awesome Phone. Slightly high price but worth. Better than iPhone XR.\\nCamera is superb and wide angle camera is very clear.\\n12MP selfie camera is also very good.\\nA13 Chip gives a very good and smooth performance.', 'Amazing phone with great cameras and better battery which gives you the best performance. I just love the camera .', 'Amazing Powerful and Durable Gadget.\\n\\nI’m am very happy with the camera picture quality, Amazing face id unlocked in dark room, Strong battery with perfect screen size as you can carry easily in pocket. This is my third iPhone.\\n\\nI shifted from android Samsung Note series to iPhone because of the strong build quality and peace of mind for next 3-4 years.\\n\\nDon’t think to much just go for it and I suggest you to go for minimum 128gb variant or more 256gb.\\n\\nI’ve attached my puppy pics and no fi...\\nREAD MORE', 'iphone 11 is a very good phone to buy only if you can compromise for the display. The display on this is device is pretty good but you can get other options with better displays in this price segment.\\nIf you can survive with an HD+ LCD panel with thicker bezels and a notch up top then this is a very good phone for you.\\nCameras are awesome, battery backup excellent, great performance and a decent premium look. Good job Apple !', 'It’s a must buy who is looking for an upgrade from previous generation of iPhones. If you are using XR then still you can hold on for sometime and upgrade to 2020 model else this phone is a must buy . Camera quality is amazing and wide angle is something to count upon. Performance wise it’s amazing and feels premium while holding in hand. So a big YES for this device. Go for 128 GB variant as the 4K videos will occupy lots of space and the storage can get over very quickly. Try to buy it with...\\nREAD MORE', 'The Best Phone for the Money\\n\\nThe iPhone 11 offers superb cameras, a more durable design and excellent battery life for an affordable price.\\n\\nCompelling ultra-wide camera\\nNew Night mode is excellent\\nLong battery life', 'Value for money❤️❤️\\nIts awesome mobile phone in the world ...\\nDisplay was very good and bright ..\\nTrust me freinds you r never regret after Buying..\\nJust go for it....\\nI love this phone and i switch to iphone x to 11', 'Best budget Iphone till date ❤️ go for it guys without second thought. Let me explain you guys about Camera, Display, battery, and performance.\\n\\nCamera: at this price range there is no comparison of camera, you’ll love the picture quality as well as video quality. I am a Vlogger I wanted an iPhone with 4k video by front camera and I got this phone and I am more than happy 😃\\n\\nBattery: I use this phone roughly as I am active social media person and I have a youtube channel. so the battery ba...\\nREAD MORE', 'It’s been almost a month since I have been using this phone. I upgraded from an iPhone 8. The main issue with my 8 was battery and this phone is just awesome when it comes to battery. It lasts a day and a half for me with my regular use , internet connected always with 4g\\nCan’t move forward without saying this. Battery of this phone is a life saver when I am traveling or at work when I don’t get the option to charge\\nCamera is superb. Front cam selfies and back cam photos are just awesome.\\n...\\nREAD MORE', '*Review after 10 months of usage*\\nDoesn\\'t seem bulky with decent touch and camera. The \"standard maintained\" quality of IPhone. Go for it, if your budget is not more enough for pro models. It\\'s a value for money among the 11 series Stereo speakers are so good, you will love the stereo sound. Battery backup is not decent but still better than Iphone 7 and 8.Processor is fast, the phone doesn\\'t lag at all even with heavy games, waterproof, faster face id and with no fingerprint scanners. The ca...\\nREAD MORE', 'Awesome Phone. Slightly high price but worth. Better than iPhone XR.\\nCamera is superb and wide angle camera is very clear.\\n12MP selfie camera is also very good.\\nA13 Chip gives a very good and smooth performance.', 'Amazing phone with great cameras and better battery which gives you the best performance. I just love the camera .', 'Amazing Powerful and Durable Gadget.\\n\\nI’m am very happy with the camera picture quality, Amazing face id unlocked in dark room, Strong battery with perfect screen size as you can carry easily in pocket. This is my third iPhone.\\n\\nI shifted from android Samsung Note series to iPhone because of the strong build quality and peace of mind for next 3-4 years.\\n\\nDon’t think to much just go for it and I suggest you to go for minimum 128gb variant or more 256gb.\\n\\nI’ve attached my puppy pics and no fi...\\nREAD MORE', 'iphone 11 is a very good phone to buy only if you can compromise for the display. The display on this is device is pretty good but you can get other options with better displays in this price segment.\\nIf you can survive with an HD+ LCD panel with thicker bezels and a notch up top then this is a very good phone for you.\\nCameras are awesome, battery backup excellent, great performance and a decent premium look. Good job Apple !', 'It’s a must buy who is looking for an upgrade from previous generation of iPhones. If you are using XR then still you can hold on for sometime and upgrade to 2020 model else this phone is a must buy . Camera quality is amazing and wide angle is something to count upon. Performance wise it’s amazing and feels premium while holding in hand. So a big YES for this device. Go for 128 GB variant as the 4K videos will occupy lots of space and the storage can get over very quickly. Try to buy it with...\\nREAD MORE', 'The Best Phone for the Money\\n\\nThe iPhone 11 offers superb cameras, a more durable design and excellent battery life for an affordable price.\\n\\nCompelling ultra-wide camera\\nNew Night mode is excellent\\nLong battery life', 'Value for money❤️❤️\\nIts awesome mobile phone in the world ...\\nDisplay was very good and bright ..\\nTrust me freinds you r never regret after Buying..\\nJust go for it....\\nI love this phone and i switch to iphone x to 11', 'Best budget Iphone till date ❤️ go for it guys without second thought. Let me explain you guys about Camera, Display, battery, and performance.\\n\\nCamera: at this price range there is no comparison of camera, you’ll love the picture quality as well as video quality. I am a Vlogger I wanted an iPhone with 4k video by front camera and I got this phone and I am more than happy 😃\\n\\nBattery: I use this phone roughly as I am active social media person and I have a youtube channel. so the battery ba...\\nREAD MORE', 'It’s been almost a month since I have been using this phone. I upgraded from an iPhone 8. The main issue with my 8 was battery and this phone is just awesome when it comes to battery. It lasts a day and a half for me with my regular use , internet connected always with 4g\\nCan’t move forward without saying this. Battery of this phone is a life saver when I am traveling or at work when I don’t get the option to charge\\nCamera is superb. Front cam selfies and back cam photos are just awesome.\\n...\\nREAD MORE', '*Review after 10 months of usage*\\nDoesn\\'t seem bulky with decent touch and camera. The \"standard maintained\" quality of IPhone. Go for it, if your budget is not more enough for pro models. It\\'s a value for money among the 11 series Stereo speakers are so good, you will love the stereo sound. Battery backup is not decent but still better than Iphone 7 and 8.Processor is fast, the phone doesn\\'t lag at all even with heavy games, waterproof, faster face id and with no fingerprint scanners. The ca...\\nREAD MORE', 'Awesome Phone. Slightly high price but worth. Better than iPhone XR.\\nCamera is superb and wide angle camera is very clear.\\n12MP selfie camera is also very good.\\nA13 Chip gives a very good and smooth performance.', 'Amazing phone with great cameras and better battery which gives you the best performance. I just love the camera .', 'Amazing Powerful and Durable Gadget.\\n\\nI’m am very happy with the camera picture quality, Amazing face id unlocked in dark room, Strong battery with perfect screen size as you can carry easily in pocket. This is my third iPhone.\\n\\nI shifted from android Samsung Note series to iPhone because of the strong build quality and peace of mind for next 3-4 years.\\n\\nDon’t think to much just go for it and I suggest you to go for minimum 128gb variant or more 256gb.\\n\\nI’ve attached my puppy pics and no fi...\\nREAD MORE', 'iphone 11 is a very good phone to buy only if you can compromise for the display. The display on this is device is pretty good but you can get other options with better displays in this price segment.\\nIf you can survive with an HD+ LCD panel with thicker bezels and a notch up top then this is a very good phone for you.\\nCameras are awesome, battery backup excellent, great performance and a decent premium look. Good job Apple !', 'It’s a must buy who is looking for an upgrade from previous generation of iPhones. If you are using XR then still you can hold on for sometime and upgrade to 2020 model else this phone is a must buy . Camera quality is amazing and wide angle is something to count upon. Performance wise it’s amazing and feels premium while holding in hand. So a big YES for this device. Go for 128 GB variant as the 4K videos will occupy lots of space and the storage can get over very quickly. Try to buy it with...\\nREAD MORE', 'The Best Phone for the Money\\n\\nThe iPhone 11 offers superb cameras, a more durable design and excellent battery life for an affordable price.\\n\\nCompelling ultra-wide camera\\nNew Night mode is excellent\\nLong battery life', 'Value for money❤️❤️\\nIts awesome mobile phone in the world ...\\nDisplay was very good and bright ..\\nTrust me freinds you r never regret after Buying..\\nJust go for it....\\nI love this phone and i switch to iphone x to 11', 'Best budget Iphone till date ❤️ go for it guys without second thought. Let me explain you guys about Camera, Display, battery, and performance.\\n\\nCamera: at this price range there is no comparison of camera, you’ll love the picture quality as well as video quality. I am a Vlogger I wanted an iPhone with 4k video by front camera and I got this phone and I am more than happy 😃\\n\\nBattery: I use this phone roughly as I am active social media person and I have a youtube channel. so the battery ba...\\nREAD MORE', 'It’s been almost a month since I have been using this phone. I upgraded from an iPhone 8. The main issue with my 8 was battery and this phone is just awesome when it comes to battery. It lasts a day and a half for me with my regular use , internet connected always with 4g\\nCan’t move forward without saying this. Battery of this phone is a life saver when I am traveling or at work when I don’t get the option to charge\\nCamera is superb. Front cam selfies and back cam photos are just awesome.\\n...\\nREAD MORE', '*Review after 10 months of usage*\\nDoesn\\'t seem bulky with decent touch and camera. The \"standard maintained\" quality of IPhone. Go for it, if your budget is not more enough for pro models. It\\'s a value for money among the 11 series Stereo speakers are so good, you will love the stereo sound. Battery backup is not decent but still better than Iphone 7 and 8.Processor is fast, the phone doesn\\'t lag at all even with heavy games, waterproof, faster face id and with no fingerprint scanners. The ca...\\nREAD MORE', 'Awesome Phone. Slightly high price but worth. Better than iPhone XR.\\nCamera is superb and wide angle camera is very clear.\\n12MP selfie camera is also very good.\\nA13 Chip gives a very good and smooth performance.', 'Amazing phone with great cameras and better battery which gives you the best performance. I just love the camera .', 'Amazing Powerful and Durable Gadget.\\n\\nI’m am very happy with the camera picture quality, Amazing face id unlocked in dark room, Strong battery with perfect screen size as you can carry easily in pocket. This is my third iPhone.\\n\\nI shifted from android Samsung Note series to iPhone because of the strong build quality and peace of mind for next 3-4 years.\\n\\nDon’t think to much just go for it and I suggest you to go for minimum 128gb variant or more 256gb.\\n\\nI’ve attached my puppy pics and no fi...\\nREAD MORE', 'iphone 11 is a very good phone to buy only if you can compromise for the display. The display on this is device is pretty good but you can get other options with better displays in this price segment.\\nIf you can survive with an HD+ LCD panel with thicker bezels and a notch up top then this is a very good phone for you.\\nCameras are awesome, battery backup excellent, great performance and a decent premium look. Good job Apple !', 'It’s a must buy who is looking for an upgrade from previous generation of iPhones. If you are using XR then still you can hold on for sometime and upgrade to 2020 model else this phone is a must buy . Camera quality is amazing and wide angle is something to count upon. Performance wise it’s amazing and feels premium while holding in hand. So a big YES for this device. Go for 128 GB variant as the 4K videos will occupy lots of space and the storage can get over very quickly. Try to buy it with...\\nREAD MORE', 'The Best Phone for the Money\\n\\nThe iPhone 11 offers superb cameras, a more durable design and excellent battery life for an affordable price.\\n\\nCompelling ultra-wide camera\\nNew Night mode is excellent\\nLong battery life', 'Value for money❤️❤️\\nIts awesome mobile phone in the world ...\\nDisplay was very good and bright ..\\nTrust me freinds you r never regret after Buying..\\nJust go for it....\\nI love this phone and i switch to iphone x to 11', 'Best budget Iphone till date ❤️ go for it guys without second thought. Let me explain you guys about Camera, Display, battery, and performance.\\n\\nCamera: at this price range there is no comparison of camera, you’ll love the picture quality as well as video quality. I am a Vlogger I wanted an iPhone with 4k video by front camera and I got this phone and I am more than happy 😃\\n\\nBattery: I use this phone roughly as I am active social media person and I have a youtube channel. so the battery ba...\\nREAD MORE', 'It’s been almost a month since I have been using this phone. I upgraded from an iPhone 8. The main issue with my 8 was battery and this phone is just awesome when it comes to battery. It lasts a day and a half for me with my regular use , internet connected always with 4g\\nCan’t move forward without saying this. Battery of this phone is a life saver when I am traveling or at work when I don’t get the option to charge\\nCamera is superb. Front cam selfies and back cam photos are just awesome.\\n...\\nREAD MORE', '*Review after 10 months of usage*\\nDoesn\\'t seem bulky with decent touch and camera. The \"standard maintained\" quality of IPhone. Go for it, if your budget is not more enough for pro models. It\\'s a value for money among the 11 series Stereo speakers are so good, you will love the stereo sound. Battery backup is not decent but still better than Iphone 7 and 8.Processor is fast, the phone doesn\\'t lag at all even with heavy games, waterproof, faster face id and with no fingerprint scanners. The ca...\\nREAD MORE', 'Awesome Phone. Slightly high price but worth. Better than iPhone XR.\\nCamera is superb and wide angle camera is very clear.\\n12MP selfie camera is also very good.\\nA13 Chip gives a very good and smooth performance.']\n"
     ]
    }
   ],
   "source": [
    "for pages in range(0,20):\n",
    "    tags=driver.find_elements_by_xpath(\"//div[@class='t-ZTKy']\")\n",
    "    \n",
    "    for i in tags:\n",
    "        Review.append(i.text)\n",
    "        \n",
    "    \n",
    "    driver.find_elements_by_xpath(\"//a[@class='ge-49M']\")\n",
    "        \n",
    "   \n",
    "    \n",
    "print(Review)"
   ]
  },
  {
   "cell_type": "code",
   "execution_count": 229,
   "metadata": {},
   "outputs": [
    {
     "data": {
      "text/html": [
       "<div>\n",
       "<style scoped>\n",
       "    .dataframe tbody tr th:only-of-type {\n",
       "        vertical-align: middle;\n",
       "    }\n",
       "\n",
       "    .dataframe tbody tr th {\n",
       "        vertical-align: top;\n",
       "    }\n",
       "\n",
       "    .dataframe thead th {\n",
       "        text-align: right;\n",
       "    }\n",
       "</style>\n",
       "<table border=\"1\" class=\"dataframe\">\n",
       "  <thead>\n",
       "    <tr style=\"text-align: right;\">\n",
       "      <th></th>\n",
       "      <th>Rating</th>\n",
       "      <th>Short Desc</th>\n",
       "      <th>Review</th>\n",
       "    </tr>\n",
       "  </thead>\n",
       "  <tbody>\n",
       "    <tr>\n",
       "      <th>0</th>\n",
       "      <td>5</td>\n",
       "      <td>Perfect product!</td>\n",
       "      <td>Amazing phone with great cameras and better ba...</td>\n",
       "    </tr>\n",
       "    <tr>\n",
       "      <th>1</th>\n",
       "      <td>5</td>\n",
       "      <td>Great product</td>\n",
       "      <td>Amazing Powerful and Durable Gadget.\\n\\nI’m am...</td>\n",
       "    </tr>\n",
       "    <tr>\n",
       "      <th>2</th>\n",
       "      <td>5</td>\n",
       "      <td>Highly recommended</td>\n",
       "      <td>iphone 11 is a very good phone to buy only if ...</td>\n",
       "    </tr>\n",
       "    <tr>\n",
       "      <th>3</th>\n",
       "      <td>5</td>\n",
       "      <td>Perfect product!</td>\n",
       "      <td>It’s a must buy who is looking for an upgrade ...</td>\n",
       "    </tr>\n",
       "    <tr>\n",
       "      <th>4</th>\n",
       "      <td>5</td>\n",
       "      <td>Brilliant</td>\n",
       "      <td>The Best Phone for the Money\\n\\nThe iPhone 11 ...</td>\n",
       "    </tr>\n",
       "    <tr>\n",
       "      <th>...</th>\n",
       "      <td>...</td>\n",
       "      <td>...</td>\n",
       "      <td>...</td>\n",
       "    </tr>\n",
       "    <tr>\n",
       "      <th>95</th>\n",
       "      <td>5</td>\n",
       "      <td>Perfect product!</td>\n",
       "      <td>Value for money❤️❤️\\nIts awesome mobile phone ...</td>\n",
       "    </tr>\n",
       "    <tr>\n",
       "      <th>96</th>\n",
       "      <td>5</td>\n",
       "      <td>Worth every penny</td>\n",
       "      <td>Best budget Iphone till date ❤️ go for it guys...</td>\n",
       "    </tr>\n",
       "    <tr>\n",
       "      <th>97</th>\n",
       "      <td>5</td>\n",
       "      <td>Worth every penny</td>\n",
       "      <td>It’s been almost a month since I have been usi...</td>\n",
       "    </tr>\n",
       "    <tr>\n",
       "      <th>98</th>\n",
       "      <td>5</td>\n",
       "      <td>Wonderful</td>\n",
       "      <td>*Review after 10 months of usage*\\nDoesn't see...</td>\n",
       "    </tr>\n",
       "    <tr>\n",
       "      <th>99</th>\n",
       "      <td>4</td>\n",
       "      <td>Nice product</td>\n",
       "      <td>Awesome Phone. Slightly high price but worth. ...</td>\n",
       "    </tr>\n",
       "  </tbody>\n",
       "</table>\n",
       "<p>100 rows × 3 columns</p>\n",
       "</div>"
      ],
      "text/plain": [
       "   Rating          Short Desc  \\\n",
       "0       5    Perfect product!   \n",
       "1       5       Great product   \n",
       "2       5  Highly recommended   \n",
       "3       5    Perfect product!   \n",
       "4       5           Brilliant   \n",
       "..    ...                 ...   \n",
       "95      5    Perfect product!   \n",
       "96      5   Worth every penny   \n",
       "97      5   Worth every penny   \n",
       "98      5           Wonderful   \n",
       "99      4        Nice product   \n",
       "\n",
       "                                               Review  \n",
       "0   Amazing phone with great cameras and better ba...  \n",
       "1   Amazing Powerful and Durable Gadget.\\n\\nI’m am...  \n",
       "2   iphone 11 is a very good phone to buy only if ...  \n",
       "3   It’s a must buy who is looking for an upgrade ...  \n",
       "4   The Best Phone for the Money\\n\\nThe iPhone 11 ...  \n",
       "..                                                ...  \n",
       "95  Value for money❤️❤️\\nIts awesome mobile phone ...  \n",
       "96  Best budget Iphone till date ❤️ go for it guys...  \n",
       "97  It’s been almost a month since I have been usi...  \n",
       "98  *Review after 10 months of usage*\\nDoesn't see...  \n",
       "99  Awesome Phone. Slightly high price but worth. ...  \n",
       "\n",
       "[100 rows x 3 columns]"
      ]
     },
     "execution_count": 229,
     "metadata": {},
     "output_type": "execute_result"
    }
   ],
   "source": [
    "#Creating and printing dataframe\n",
    "import pandas as pd\n",
    "Flipkart_Data=pd.DataFrame({})\n",
    "Flipkart_Data['Rating']=Rating[:100]\n",
    "Flipkart_Data['Short Desc']=Summary[:100]\n",
    "Flipkart_Data['Review']=Review[:100]\n",
    "Flipkart_Data"
   ]
  },
  {
   "cell_type": "markdown",
   "metadata": {},
   "source": [
    "Q8: Scrape data for first 100 sneakers you find when you visit flipkart.com and\n",
    "search for “sneakers” in the search field.\n",
    "You have to scrape 4 attributes of each sneaker :\n",
    "1. Brand\n",
    "2. Product Description\n",
    "3. Price\n",
    "4. discount %\n",
    "As shown in the below image, you have to scrape the tick marked attributes.\n"
   ]
  },
  {
   "cell_type": "code",
   "execution_count": 3,
   "metadata": {},
   "outputs": [],
   "source": [
    "#Path of web driver\n",
    "driver=webdriver.Chrome('D:\\DataTrained\\chromedriver_win32\\chromedriver.exe')"
   ]
  },
  {
   "cell_type": "code",
   "execution_count": 39,
   "metadata": {},
   "outputs": [],
   "source": [
    "driver.get(\"https://www.flipkart.com/\")"
   ]
  },
  {
   "cell_type": "code",
   "execution_count": 40,
   "metadata": {},
   "outputs": [],
   "source": [
    "Brand=[]\n",
    "Desc=[]\n",
    "Price=[]\n",
    "Discount=[]"
   ]
  },
  {
   "cell_type": "code",
   "execution_count": 42,
   "metadata": {},
   "outputs": [
    {
     "name": "stdout",
     "output_type": "stream",
     "text": [
      "['Birde', 'Red Tape', 'Chevit', 'Robbie jones', 'World Wear Footwear', 'Oricum', 'Shoes Bank', 'Chevit', 'Chevit', 'Stefano Rads', 'Rockfield', 'Magnolia', 'Aura', 'Chevit', 'Chevit', 'Axter', 'LeatherKraft', 'Restinfoot', 'BRUTON', 'RICHERSON', 'World Wear Footwear', 'Chevit', 'D-SNEAKERZ', 'ADIDAS', 'ZOVIM', 'Hotstyle', 'Echor', 'Chevit', 'Believe', 'Stinson', 'Swiggy', 'T-Rock', 'Fzzirok', 'Rockfield', 'Chevit', 'Sparx', 'Sparx', 'Robbie jones', 'Chevit', 'Numenzo', 'Birde', 'Red Tape', 'Chevit', 'Robbie jones', 'World Wear Footwear', 'Oricum', 'Shoes Bank', 'Chevit', 'Chevit', 'Stefano Rads', 'Rockfield', 'Magnolia', 'Aura', 'Chevit', 'Chevit', 'Axter', 'LeatherKraft', 'Restinfoot', 'BRUTON', 'RICHERSON', 'World Wear Footwear', 'Chevit', 'D-SNEAKERZ', 'ADIDAS', 'ZOVIM', 'Hotstyle', 'Echor', 'Chevit', 'Believe', 'Stinson', 'Swiggy', 'T-Rock', 'Fzzirok', 'Rockfield', 'Chevit', 'Sparx', 'Sparx', 'Robbie jones', 'Chevit', 'Numenzo', 'Birde', 'Red Tape', 'Chevit', 'Robbie jones', 'World Wear Footwear', 'Oricum', 'Shoes Bank', 'Chevit', 'Chevit', 'Stefano Rads', 'Rockfield', 'Magnolia', 'Aura', 'Chevit', 'Chevit', 'Axter', 'LeatherKraft', 'Restinfoot', 'BRUTON', 'RICHERSON', 'World Wear Footwear', 'Chevit', 'D-SNEAKERZ', 'ADIDAS', 'ZOVIM', 'Hotstyle', 'Echor', 'Chevit', 'Believe', 'Stinson', 'Swiggy', 'T-Rock', 'Fzzirok', 'Rockfield', 'Chevit', 'Sparx', 'Sparx', 'Robbie jones', 'Chevit', 'Numenzo', 'Birde', 'Red Tape', 'Chevit', 'Robbie jones', 'World Wear Footwear', 'Oricum', 'Shoes Bank', 'Chevit', 'Chevit', 'Stefano Rads', 'Rockfield', 'Magnolia', 'Aura', 'Chevit', 'Chevit', 'Axter', 'LeatherKraft', 'Restinfoot', 'BRUTON', 'RICHERSON', 'World Wear Footwear', 'Chevit', 'D-SNEAKERZ', 'ADIDAS', 'ZOVIM', 'Hotstyle', 'Echor', 'Chevit', 'Believe', 'Stinson', 'Swiggy', 'T-Rock', 'Fzzirok', 'Rockfield', 'Chevit', 'Sparx', 'Sparx', 'Robbie jones', 'Chevit', 'Numenzo', 'Birde', 'Red Tape', 'Chevit', 'Robbie jones', 'World Wear Footwear', 'Oricum', 'Shoes Bank', 'Chevit', 'Chevit', 'Stefano Rads', 'Rockfield', 'Magnolia', 'Aura', 'Chevit', 'Chevit', 'Axter', 'LeatherKraft', 'Restinfoot', 'BRUTON', 'RICHERSON', 'World Wear Footwear', 'Chevit', 'D-SNEAKERZ', 'ADIDAS', 'ZOVIM', 'Hotstyle', 'Echor', 'Chevit', 'Believe', 'Stinson', 'Swiggy', 'T-Rock', 'Fzzirok', 'Rockfield', 'Chevit', 'Sparx', 'Sparx', 'Robbie jones', 'Chevit', 'Numenzo', 'Birde', 'Red Tape', 'Chevit', 'Robbie jones', 'World Wear Footwear', 'Oricum', 'Shoes Bank', 'Chevit', 'Chevit', 'Stefano Rads', 'Rockfield', 'Magnolia', 'Aura', 'Chevit', 'Chevit', 'Axter', 'LeatherKraft', 'Restinfoot', 'BRUTON', 'RICHERSON', 'World Wear Footwear', 'Chevit', 'D-SNEAKERZ', 'ADIDAS', 'ZOVIM', 'Hotstyle', 'Echor', 'Chevit', 'Believe', 'Stinson', 'Swiggy', 'T-Rock', 'Fzzirok', 'Rockfield', 'Chevit', 'Sparx', 'Sparx', 'Robbie jones', 'Chevit', 'Numenzo', 'Birde', 'Red Tape', 'Chevit', 'Robbie jones', 'World Wear Footwear', 'Oricum', 'Shoes Bank', 'Chevit', 'Chevit', 'Stefano Rads', 'Rockfield', 'Magnolia', 'Aura', 'Chevit', 'Chevit', 'Axter', 'LeatherKraft', 'Restinfoot', 'BRUTON', 'RICHERSON', 'World Wear Footwear', 'Chevit', 'D-SNEAKERZ', 'ADIDAS', 'ZOVIM', 'Hotstyle', 'Echor', 'Chevit', 'Believe', 'Stinson', 'Swiggy', 'T-Rock', 'Fzzirok', 'Rockfield', 'Chevit', 'Sparx', 'Sparx', 'Robbie jones', 'Chevit', 'Numenzo', 'Birde', 'Red Tape', 'Chevit', 'Robbie jones', 'World Wear Footwear', 'Oricum', 'Shoes Bank', 'Chevit', 'Chevit', 'Stefano Rads', 'Rockfield', 'Magnolia', 'Aura', 'Chevit', 'Chevit', 'Axter', 'LeatherKraft', 'Restinfoot', 'BRUTON', 'RICHERSON', 'World Wear Footwear', 'Chevit', 'D-SNEAKERZ', 'ADIDAS', 'ZOVIM', 'Hotstyle', 'Echor', 'Chevit', 'Believe', 'Stinson', 'Swiggy', 'T-Rock', 'Fzzirok', 'Rockfield', 'Chevit', 'Sparx', 'Sparx', 'Robbie jones', 'Chevit', 'Numenzo', 'Birde', 'Red Tape', 'Chevit', 'Robbie jones', 'World Wear Footwear', 'Oricum', 'Shoes Bank', 'Chevit', 'Chevit', 'Stefano Rads', 'Rockfield', 'Magnolia', 'Aura', 'Chevit', 'Chevit', 'Axter', 'LeatherKraft', 'Restinfoot', 'BRUTON', 'RICHERSON', 'World Wear Footwear', 'Chevit', 'D-SNEAKERZ', 'ADIDAS', 'ZOVIM', 'Hotstyle', 'Echor', 'Chevit', 'Believe', 'Stinson', 'Swiggy', 'T-Rock', 'Fzzirok', 'Rockfield', 'Chevit', 'Sparx', 'Sparx', 'Robbie jones', 'Chevit', 'Numenzo', 'Birde', 'Red Tape', 'Chevit', 'Robbie jones', 'World Wear Footwear', 'Oricum', 'Shoes Bank', 'Chevit', 'Chevit', 'Stefano Rads', 'Rockfield', 'Magnolia', 'Aura', 'Chevit', 'Chevit', 'Axter', 'LeatherKraft', 'Restinfoot', 'BRUTON', 'RICHERSON', 'World Wear Footwear', 'Chevit', 'D-SNEAKERZ', 'ADIDAS', 'ZOVIM', 'Hotstyle', 'Echor', 'Chevit', 'Believe', 'Stinson', 'Swiggy', 'T-Rock', 'Fzzirok', 'Rockfield', 'Chevit', 'Sparx', 'Sparx', 'Robbie jones', 'Chevit', 'Numenzo', 'Birde', 'Red Tape', 'Chevit', 'Robbie jones', 'World Wear Footwear', 'Oricum', 'Shoes Bank', 'Chevit', 'Chevit', 'Stefano Rads', 'Rockfield', 'Magnolia', 'Aura', 'Chevit', 'Chevit', 'Axter', 'LeatherKraft', 'Restinfoot', 'BRUTON', 'RICHERSON', 'World Wear Footwear', 'Chevit', 'D-SNEAKERZ', 'ADIDAS', 'ZOVIM', 'Hotstyle', 'Echor', 'Chevit', 'Believe', 'Stinson', 'Swiggy', 'T-Rock', 'Fzzirok', 'Rockfield', 'Chevit', 'Sparx', 'Sparx', 'Robbie jones', 'Chevit', 'Numenzo', 'Birde', 'Red Tape', 'Chevit', 'Robbie jones', 'World Wear Footwear', 'Oricum', 'Shoes Bank', 'Chevit', 'Chevit', 'Stefano Rads', 'Rockfield', 'Magnolia', 'Aura', 'Chevit', 'Chevit', 'Axter', 'LeatherKraft', 'Restinfoot', 'BRUTON', 'RICHERSON', 'World Wear Footwear', 'Chevit', 'D-SNEAKERZ', 'ADIDAS', 'ZOVIM', 'Hotstyle', 'Echor', 'Chevit', 'Believe', 'Stinson', 'Swiggy', 'T-Rock', 'Fzzirok', 'Rockfield', 'Chevit', 'Sparx', 'Sparx', 'Robbie jones', 'Chevit', 'Numenzo', 'Birde', 'Red Tape', 'Chevit', 'Robbie jones', 'World Wear Footwear', 'Oricum', 'Shoes Bank', 'Chevit', 'Chevit', 'Stefano Rads', 'Rockfield', 'Magnolia', 'Aura', 'Chevit', 'Chevit', 'Axter', 'LeatherKraft', 'Restinfoot', 'BRUTON', 'RICHERSON', 'World Wear Footwear', 'Chevit', 'D-SNEAKERZ', 'ADIDAS', 'ZOVIM', 'Hotstyle', 'Echor', 'Chevit', 'Believe', 'Stinson', 'Swiggy', 'T-Rock', 'Fzzirok', 'Rockfield', 'Chevit', 'Sparx', 'Sparx', 'Robbie jones', 'Chevit', 'Numenzo', 'Birde', 'Red Tape', 'Chevit', 'Robbie jones', 'World Wear Footwear', 'Oricum', 'Shoes Bank', 'Chevit', 'Chevit', 'Stefano Rads', 'Rockfield', 'Magnolia', 'Aura', 'Chevit', 'Chevit', 'Axter', 'LeatherKraft', 'Restinfoot', 'BRUTON', 'RICHERSON', 'World Wear Footwear', 'Chevit', 'D-SNEAKERZ', 'ADIDAS', 'ZOVIM', 'Hotstyle', 'Echor', 'Chevit', 'Believe', 'Stinson', 'Swiggy', 'T-Rock', 'Fzzirok', 'Rockfield', 'Chevit', 'Sparx', 'Sparx', 'Robbie jones', 'Chevit', 'Numenzo', 'Birde', 'Red Tape', 'Chevit', 'Robbie jones', 'World Wear Footwear', 'Oricum', 'Shoes Bank', 'Chevit', 'Chevit', 'Stefano Rads', 'Rockfield', 'Magnolia', 'Aura', 'Chevit', 'Chevit', 'Axter', 'LeatherKraft', 'Restinfoot', 'BRUTON', 'RICHERSON', 'World Wear Footwear', 'Chevit', 'D-SNEAKERZ', 'ADIDAS', 'ZOVIM', 'Hotstyle', 'Echor', 'Chevit', 'Believe', 'Stinson', 'Swiggy', 'T-Rock', 'Fzzirok', 'Rockfield', 'Chevit', 'Sparx', 'Sparx', 'Robbie jones', 'Chevit', 'Numenzo', 'Birde', 'Red Tape', 'Chevit', 'Robbie jones', 'World Wear Footwear', 'Oricum', 'Shoes Bank', 'Chevit', 'Chevit', 'Stefano Rads', 'Rockfield', 'Magnolia', 'Aura', 'Chevit', 'Chevit', 'Axter', 'LeatherKraft', 'Restinfoot', 'BRUTON', 'RICHERSON', 'World Wear Footwear', 'Chevit', 'D-SNEAKERZ', 'ADIDAS', 'ZOVIM', 'Hotstyle', 'Echor', 'Chevit', 'Believe', 'Stinson', 'Swiggy', 'T-Rock', 'Fzzirok', 'Rockfield', 'Chevit', 'Sparx', 'Sparx', 'Robbie jones', 'Chevit', 'Numenzo', 'Birde', 'Red Tape', 'Chevit', 'Robbie jones', 'World Wear Footwear', 'Oricum', 'Shoes Bank', 'Chevit', 'Chevit', 'Stefano Rads', 'Rockfield', 'Magnolia', 'Aura', 'Chevit', 'Chevit', 'Axter', 'LeatherKraft', 'Restinfoot', 'BRUTON', 'RICHERSON', 'World Wear Footwear', 'Chevit', 'D-SNEAKERZ', 'ADIDAS', 'ZOVIM', 'Hotstyle', 'Echor', 'Chevit', 'Believe', 'Stinson', 'Swiggy', 'T-Rock', 'Fzzirok', 'Rockfield', 'Chevit', 'Sparx', 'Sparx', 'Robbie jones', 'Chevit', 'Numenzo', 'Birde', 'Red Tape', 'Chevit', 'Robbie jones', 'World Wear Footwear', 'Oricum', 'Shoes Bank', 'Chevit', 'Chevit', 'Stefano Rads', 'Rockfield', 'Magnolia', 'Aura', 'Chevit', 'Chevit', 'Axter', 'LeatherKraft', 'Restinfoot', 'BRUTON', 'RICHERSON', 'World Wear Footwear', 'Chevit', 'D-SNEAKERZ', 'ADIDAS', 'ZOVIM', 'Hotstyle', 'Echor', 'Chevit', 'Believe', 'Stinson', 'Swiggy', 'T-Rock', 'Fzzirok', 'Rockfield', 'Chevit', 'Sparx', 'Sparx', 'Robbie jones', 'Chevit', 'Numenzo', 'Birde', 'Red Tape', 'Chevit', 'Robbie jones', 'World Wear Footwear', 'Oricum', 'Shoes Bank', 'Chevit', 'Chevit', 'Stefano Rads', 'Rockfield', 'Magnolia', 'Aura', 'Chevit', 'Chevit', 'Axter', 'LeatherKraft', 'Restinfoot', 'BRUTON', 'RICHERSON', 'World Wear Footwear', 'Chevit', 'D-SNEAKERZ', 'ADIDAS', 'ZOVIM', 'Hotstyle', 'Echor', 'Chevit', 'Believe', 'Stinson', 'Swiggy', 'T-Rock', 'Fzzirok', 'Rockfield', 'Chevit', 'Sparx', 'Sparx', 'Robbie jones', 'Chevit', 'Numenzo', 'Birde', 'Red Tape', 'Chevit', 'Robbie jones', 'World Wear Footwear', 'Oricum', 'Shoes Bank', 'Chevit', 'Chevit', 'Stefano Rads', 'Rockfield', 'Magnolia', 'Aura', 'Chevit', 'Chevit', 'Axter', 'LeatherKraft', 'Restinfoot', 'BRUTON', 'RICHERSON', 'World Wear Footwear', 'Chevit', 'D-SNEAKERZ', 'ADIDAS', 'ZOVIM', 'Hotstyle', 'Echor', 'Chevit', 'Believe', 'Stinson', 'Swiggy', 'T-Rock', 'Fzzirok', 'Rockfield', 'Chevit', 'Sparx', 'Sparx', 'Robbie jones', 'Chevit', 'Numenzo', 'Birde', 'Red Tape', 'Chevit', 'Robbie jones', 'World Wear Footwear', 'Oricum', 'Shoes Bank', 'Chevit', 'Chevit', 'Stefano Rads', 'Rockfield', 'Magnolia', 'Aura', 'Chevit', 'Chevit', 'Axter', 'LeatherKraft', 'Restinfoot', 'BRUTON', 'RICHERSON', 'World Wear Footwear', 'Chevit', 'D-SNEAKERZ', 'ADIDAS', 'ZOVIM', 'Hotstyle', 'Echor', 'Chevit', 'Believe', 'Stinson', 'Swiggy', 'T-Rock', 'Fzzirok', 'Rockfield', 'Chevit', 'Sparx', 'Sparx', 'Robbie jones', 'Chevit', 'Numenzo', 'Birde', 'Red Tape', 'Chevit', 'Robbie jones', 'World Wear Footwear', 'Oricum', 'Shoes Bank', 'Chevit', 'Chevit', 'Stefano Rads', 'Rockfield', 'Magnolia', 'Aura', 'Chevit', 'Chevit', 'Axter', 'LeatherKraft', 'Restinfoot', 'BRUTON', 'RICHERSON', 'World Wear Footwear', 'Chevit', 'D-SNEAKERZ', 'ADIDAS', 'ZOVIM', 'Hotstyle', 'Echor', 'Chevit', 'Believe', 'Stinson', 'Swiggy', 'T-Rock', 'Fzzirok', 'Rockfield', 'Chevit', 'Sparx', 'Sparx', 'Robbie jones', 'Chevit', 'Numenzo', 'Birde', 'Red Tape', 'Chevit', 'Robbie jones', 'World Wear Footwear', 'Oricum', 'Shoes Bank', 'Chevit', 'Chevit', 'Stefano Rads', 'Rockfield', 'Magnolia', 'Aura', 'Chevit', 'Chevit', 'Axter', 'LeatherKraft', 'Restinfoot', 'BRUTON', 'RICHERSON', 'World Wear Footwear', 'Chevit', 'D-SNEAKERZ', 'ADIDAS', 'ZOVIM', 'Hotstyle', 'Echor', 'Chevit', 'Believe', 'Stinson', 'Swiggy', 'T-Rock', 'Fzzirok', 'Rockfield', 'Chevit', 'Sparx', 'Sparx', 'Robbie jones', 'Chevit', 'Numenzo', 'Birde', 'Red Tape', 'Chevit', 'Robbie jones', 'World Wear Footwear', 'Oricum', 'Shoes Bank', 'Chevit', 'Chevit', 'Stefano Rads', 'Rockfield', 'Magnolia', 'Aura', 'Chevit', 'Chevit', 'Axter', 'LeatherKraft', 'Restinfoot', 'BRUTON', 'RICHERSON', 'World Wear Footwear', 'Chevit', 'D-SNEAKERZ', 'ADIDAS', 'ZOVIM', 'Hotstyle', 'Echor', 'Chevit', 'Believe', 'Stinson', 'Swiggy', 'T-Rock', 'Fzzirok', 'Rockfield', 'Chevit', 'Sparx', 'Sparx', 'Robbie jones', 'Chevit', 'Numenzo', 'Birde', 'Red Tape', 'Chevit', 'Robbie jones', 'World Wear Footwear', 'Oricum', 'Shoes Bank', 'Chevit', 'Chevit', 'Stefano Rads', 'Rockfield', 'Magnolia', 'Aura', 'Chevit', 'Chevit', 'Axter', 'LeatherKraft', 'Restinfoot', 'BRUTON', 'RICHERSON', 'World Wear Footwear', 'Chevit', 'D-SNEAKERZ', 'ADIDAS', 'ZOVIM', 'Hotstyle', 'Echor', 'Chevit', 'Believe', 'Stinson', 'Swiggy', 'T-Rock', 'Fzzirok', 'Rockfield', 'Chevit', 'Sparx', 'Sparx', 'Robbie jones', 'Chevit', 'Numenzo', 'Birde', 'Red Tape', 'Chevit', 'Robbie jones', 'World Wear Footwear', 'Oricum', 'Shoes Bank', 'Chevit', 'Chevit', 'Stefano Rads', 'Rockfield', 'Magnolia', 'Aura', 'Chevit', 'Chevit', 'Axter', 'LeatherKraft', 'Restinfoot', 'BRUTON', 'RICHERSON', 'World Wear Footwear', 'Chevit', 'D-SNEAKERZ', 'ADIDAS', 'ZOVIM', 'Hotstyle', 'Echor', 'Chevit', 'Believe', 'Stinson', 'Swiggy', 'T-Rock', 'Fzzirok', 'Rockfield', 'Chevit', 'Sparx', 'Sparx', 'Robbie jones', 'Chevit', 'Numenzo', 'Birde', 'Red Tape', 'Chevit', 'Robbie jones', 'World Wear Footwear', 'Oricum', 'Shoes Bank', 'Chevit', 'Chevit', 'Stefano Rads', 'Rockfield', 'Magnolia', 'Aura', 'Chevit', 'Chevit', 'Axter', 'LeatherKraft', 'Restinfoot', 'BRUTON', 'RICHERSON', 'World Wear Footwear', 'Chevit', 'D-SNEAKERZ', 'ADIDAS', 'ZOVIM', 'Hotstyle', 'Echor', 'Chevit', 'Believe', 'Stinson', 'Swiggy', 'T-Rock', 'Fzzirok', 'Rockfield', 'Chevit', 'Sparx', 'Sparx', 'Robbie jones', 'Chevit', 'Numenzo', 'Birde', 'Red Tape', 'Chevit', 'Robbie jones', 'World Wear Footwear', 'Oricum', 'Shoes Bank', 'Chevit', 'Chevit', 'Stefano Rads', 'Rockfield', 'Magnolia', 'Aura', 'Chevit', 'Chevit', 'Axter', 'LeatherKraft', 'Restinfoot', 'BRUTON', 'RICHERSON', 'World Wear Footwear', 'Chevit', 'D-SNEAKERZ', 'ADIDAS', 'ZOVIM', 'Hotstyle', 'Echor', 'Chevit', 'Believe', 'Stinson', 'Swiggy', 'T-Rock', 'Fzzirok', 'Rockfield', 'Chevit', 'Sparx', 'Sparx', 'Robbie jones', 'Chevit', 'Numenzo', 'Birde', 'Red Tape', 'Chevit', 'Robbie jones', 'World Wear Footwear', 'Oricum', 'Shoes Bank', 'Chevit', 'Chevit', 'Stefano Rads', 'Rockfield', 'Magnolia', 'Aura', 'Chevit', 'Chevit', 'Axter', 'LeatherKraft', 'Restinfoot', 'BRUTON', 'RICHERSON', 'World Wear Footwear', 'Chevit', 'D-SNEAKERZ', 'ADIDAS', 'ZOVIM', 'Hotstyle', 'Echor', 'Chevit', 'Believe', 'Stinson', 'Swiggy', 'T-Rock', 'Fzzirok', 'Rockfield', 'Chevit', 'Sparx', 'Sparx', 'Robbie jones', 'Chevit', 'Numenzo', 'Birde', 'Red Tape', 'Chevit', 'Robbie jones', 'World Wear Footwear', 'Oricum', 'Shoes Bank', 'Chevit', 'Chevit', 'Stefano Rads', 'Rockfield', 'Magnolia', 'Aura', 'Chevit', 'Chevit', 'Axter', 'LeatherKraft', 'Restinfoot', 'BRUTON', 'RICHERSON', 'World Wear Footwear', 'Chevit', 'D-SNEAKERZ', 'ADIDAS', 'ZOVIM', 'Hotstyle', 'Echor', 'Chevit', 'Believe', 'Stinson', 'Swiggy', 'T-Rock', 'Fzzirok', 'Rockfield', 'Chevit', 'Sparx', 'Sparx', 'Robbie jones', 'Chevit', 'Numenzo']\n"
     ]
    }
   ],
   "source": [
    "for pages in range(0,10):\n",
    "    \n",
    "    tags=driver.find_elements_by_xpath(\"//div[@class='_2WkVRV']\")\n",
    "    \n",
    "    \n",
    "    for i in tags:\n",
    "        Rat=i.text\n",
    "        Brand.append(Rat)\n",
    "        \n",
    "    driver.find_elements_by_xpath(\"//a[@class='ge-49M']\")\n",
    "        \n",
    "    \n",
    "    \n",
    "print(Brand)"
   ]
  },
  {
   "cell_type": "code",
   "execution_count": 49,
   "metadata": {},
   "outputs": [
    {
     "name": "stdout",
     "output_type": "stream",
     "text": [
      "['Combo Pack of 2 Casual Shoes Sneakers For Men', 'Combo Pack of 4 Casual Sneakers With Sneakers For Men', 'Combo Pack of 4 Latest Collection Stylish Casual Loafer...', 'Combo pack of 2 casual sneaker shoes for men Sneakers F...', \"White Sneaker For Men's/Boy's Sneakers For Men\", '171 Smart Tan Lace-Ups Casuals for Men Sneakers For Men', 'Chevit Trendy Fashion Sports Combo Pack of 3 Pairs Outd...', 'Sneakers For Men', 'White Sneakers Sneakers For Men', 'Trendy and Stylish Combo Pack of 3 Casual Shoes Sneaker...', 'Lightweight Combo Pack of 02 Trendy Sneakers Casuals Fo...', 'Smart Casuals Canvas Shoes Combo pack of 2 Sneakers For...', 'Combo Pack of 2 Latest Collection Stylish Casual Loafer...', 'Sneakers For Men', \"Casual shoes,Sneakers for men's,shoes for men's Sneaker...\", 'Combo Pack Of 4 Canvas Sneakers For Men', '5011-Latest Collection Stylish Casual Loafer Sneakers S...', 'Speed Set of 5 Pairs Sneakers Outdoors Casuals for Men ...', \"Casual , Partywear Sneakers Shoes For Men's And Boys Wh...\", 'EASY VULC 2.0 Sneakers For Men', \"casual , Partywear Sneakers Shoes For Men's and Boys bl...\", 'shoes for boys | sports shoes for men | Latest Stylish ...', '170 Smart Grey Lace-Ups Casuals for Men Sneakers For Me...', 'Sneakers for men(black_7) Sneakers For Men', 'Combo Pack Of 2 Sneakers For Men', 'Casual Loafers, Sneakers Shoes for Men Pack of 5 Combo(...', 'Synthetic Leather Casual Partywear Wedding Sneakers Sho...', 'Sneakers For Men', 'Smart Casuals Canvas Shoes Combo pack of 2 Sneakers For...', 'SM-322 Sneakers For Men', 'SM-162 Sneakers For Men', '168 Smart Red Lace-Ups Casuals for Men Sneakers For Men', 'White Sneaker for Men Sneakers For Men', 'Combo Pack of 2 Casual Shoes Sneakers For Men', 'Combo Pack of 4 Casual Sneakers With Sneakers For Men', 'Combo Pack of 4 Latest Collection Stylish Casual Loafer...', 'Combo pack of 2 casual sneaker shoes for men Sneakers F...', \"White Sneaker For Men's/Boy's Sneakers For Men\", '171 Smart Tan Lace-Ups Casuals for Men Sneakers For Men', 'Chevit Trendy Fashion Sports Combo Pack of 3 Pairs Outd...', 'Sneakers For Men', 'White Sneakers Sneakers For Men', 'Trendy and Stylish Combo Pack of 3 Casual Shoes Sneaker...', 'Lightweight Combo Pack of 02 Trendy Sneakers Casuals Fo...', 'Smart Casuals Canvas Shoes Combo pack of 2 Sneakers For...', 'Combo Pack of 2 Latest Collection Stylish Casual Loafer...', 'Sneakers For Men', \"Casual shoes,Sneakers for men's,shoes for men's Sneaker...\", 'Combo Pack Of 4 Canvas Sneakers For Men', '5011-Latest Collection Stylish Casual Loafer Sneakers S...', 'Speed Set of 5 Pairs Sneakers Outdoors Casuals for Men ...', \"Casual , Partywear Sneakers Shoes For Men's And Boys Wh...\", 'EASY VULC 2.0 Sneakers For Men', \"casual , Partywear Sneakers Shoes For Men's and Boys bl...\", 'shoes for boys | sports shoes for men | Latest Stylish ...', '170 Smart Grey Lace-Ups Casuals for Men Sneakers For Me...', 'Sneakers for men(black_7) Sneakers For Men', 'Combo Pack Of 2 Sneakers For Men', 'Casual Loafers, Sneakers Shoes for Men Pack of 5 Combo(...', 'Synthetic Leather Casual Partywear Wedding Sneakers Sho...', 'Sneakers For Men', 'Smart Casuals Canvas Shoes Combo pack of 2 Sneakers For...', 'SM-322 Sneakers For Men', 'SM-162 Sneakers For Men', '168 Smart Red Lace-Ups Casuals for Men Sneakers For Men', 'White Sneaker for Men Sneakers For Men', 'Combo Pack of 2 Casual Shoes Sneakers For Men', 'Combo Pack of 4 Casual Sneakers With Sneakers For Men', 'Combo Pack of 4 Latest Collection Stylish Casual Loafer...', 'Combo pack of 2 casual sneaker shoes for men Sneakers F...', \"White Sneaker For Men's/Boy's Sneakers For Men\", '171 Smart Tan Lace-Ups Casuals for Men Sneakers For Men', 'Chevit Trendy Fashion Sports Combo Pack of 3 Pairs Outd...', 'Sneakers For Men', 'White Sneakers Sneakers For Men', 'Trendy and Stylish Combo Pack of 3 Casual Shoes Sneaker...', 'Lightweight Combo Pack of 02 Trendy Sneakers Casuals Fo...', 'Smart Casuals Canvas Shoes Combo pack of 2 Sneakers For...', 'Combo Pack of 2 Latest Collection Stylish Casual Loafer...', 'Sneakers For Men', \"Casual shoes,Sneakers for men's,shoes for men's Sneaker...\", 'Combo Pack Of 4 Canvas Sneakers For Men', '5011-Latest Collection Stylish Casual Loafer Sneakers S...', 'Speed Set of 5 Pairs Sneakers Outdoors Casuals for Men ...', \"Casual , Partywear Sneakers Shoes For Men's And Boys Wh...\", 'EASY VULC 2.0 Sneakers For Men', \"casual , Partywear Sneakers Shoes For Men's and Boys bl...\", 'shoes for boys | sports shoes for men | Latest Stylish ...', '170 Smart Grey Lace-Ups Casuals for Men Sneakers For Me...', 'Sneakers for men(black_7) Sneakers For Men', 'Combo Pack Of 2 Sneakers For Men', 'Casual Loafers, Sneakers Shoes for Men Pack of 5 Combo(...', 'Synthetic Leather Casual Partywear Wedding Sneakers Sho...', 'Sneakers For Men', 'Smart Casuals Canvas Shoes Combo pack of 2 Sneakers For...', 'SM-322 Sneakers For Men', 'SM-162 Sneakers For Men', '168 Smart Red Lace-Ups Casuals for Men Sneakers For Men', 'White Sneaker for Men Sneakers For Men', 'Combo Pack of 2 Casual Shoes Sneakers For Men', 'Combo Pack of 4 Casual Sneakers With Sneakers For Men', 'Combo Pack of 4 Latest Collection Stylish Casual Loafer...', 'Combo pack of 2 casual sneaker shoes for men Sneakers F...', \"White Sneaker For Men's/Boy's Sneakers For Men\", '171 Smart Tan Lace-Ups Casuals for Men Sneakers For Men', 'Chevit Trendy Fashion Sports Combo Pack of 3 Pairs Outd...', 'Sneakers For Men', 'White Sneakers Sneakers For Men', 'Trendy and Stylish Combo Pack of 3 Casual Shoes Sneaker...', 'Lightweight Combo Pack of 02 Trendy Sneakers Casuals Fo...', 'Smart Casuals Canvas Shoes Combo pack of 2 Sneakers For...', 'Combo Pack of 2 Latest Collection Stylish Casual Loafer...', 'Sneakers For Men', \"Casual shoes,Sneakers for men's,shoes for men's Sneaker...\", 'Combo Pack Of 4 Canvas Sneakers For Men', '5011-Latest Collection Stylish Casual Loafer Sneakers S...', 'Speed Set of 5 Pairs Sneakers Outdoors Casuals for Men ...', \"Casual , Partywear Sneakers Shoes For Men's And Boys Wh...\", 'EASY VULC 2.0 Sneakers For Men', \"casual , Partywear Sneakers Shoes For Men's and Boys bl...\", 'shoes for boys | sports shoes for men | Latest Stylish ...', '170 Smart Grey Lace-Ups Casuals for Men Sneakers For Me...', 'Sneakers for men(black_7) Sneakers For Men', 'Combo Pack Of 2 Sneakers For Men', 'Casual Loafers, Sneakers Shoes for Men Pack of 5 Combo(...', 'Synthetic Leather Casual Partywear Wedding Sneakers Sho...', 'Sneakers For Men', 'Smart Casuals Canvas Shoes Combo pack of 2 Sneakers For...', 'SM-322 Sneakers For Men', 'SM-162 Sneakers For Men', '168 Smart Red Lace-Ups Casuals for Men Sneakers For Men', 'White Sneaker for Men Sneakers For Men', 'Combo Pack of 2 Casual Shoes Sneakers For Men', 'Combo Pack of 4 Casual Sneakers With Sneakers For Men', 'Combo Pack of 4 Latest Collection Stylish Casual Loafer...', 'Combo pack of 2 casual sneaker shoes for men Sneakers F...', \"White Sneaker For Men's/Boy's Sneakers For Men\", '171 Smart Tan Lace-Ups Casuals for Men Sneakers For Men', 'Chevit Trendy Fashion Sports Combo Pack of 3 Pairs Outd...', 'Sneakers For Men', 'White Sneakers Sneakers For Men', 'Trendy and Stylish Combo Pack of 3 Casual Shoes Sneaker...', 'Lightweight Combo Pack of 02 Trendy Sneakers Casuals Fo...', 'Smart Casuals Canvas Shoes Combo pack of 2 Sneakers For...', 'Combo Pack of 2 Latest Collection Stylish Casual Loafer...', 'Sneakers For Men', \"Casual shoes,Sneakers for men's,shoes for men's Sneaker...\", 'Combo Pack Of 4 Canvas Sneakers For Men', '5011-Latest Collection Stylish Casual Loafer Sneakers S...', 'Speed Set of 5 Pairs Sneakers Outdoors Casuals for Men ...', \"Casual , Partywear Sneakers Shoes For Men's And Boys Wh...\", 'EASY VULC 2.0 Sneakers For Men', \"casual , Partywear Sneakers Shoes For Men's and Boys bl...\", 'shoes for boys | sports shoes for men | Latest Stylish ...', '170 Smart Grey Lace-Ups Casuals for Men Sneakers For Me...', 'Sneakers for men(black_7) Sneakers For Men', 'Combo Pack Of 2 Sneakers For Men', 'Casual Loafers, Sneakers Shoes for Men Pack of 5 Combo(...', 'Synthetic Leather Casual Partywear Wedding Sneakers Sho...', 'Sneakers For Men', 'Smart Casuals Canvas Shoes Combo pack of 2 Sneakers For...', 'SM-322 Sneakers For Men', 'SM-162 Sneakers For Men', '168 Smart Red Lace-Ups Casuals for Men Sneakers For Men', 'White Sneaker for Men Sneakers For Men', 'Combo Pack of 2 Casual Shoes Sneakers For Men', 'Combo Pack of 4 Casual Sneakers With Sneakers For Men', 'Combo Pack of 4 Latest Collection Stylish Casual Loafer...', 'Combo pack of 2 casual sneaker shoes for men Sneakers F...', \"White Sneaker For Men's/Boy's Sneakers For Men\", '171 Smart Tan Lace-Ups Casuals for Men Sneakers For Men', 'Chevit Trendy Fashion Sports Combo Pack of 3 Pairs Outd...', 'Sneakers For Men', 'White Sneakers Sneakers For Men', 'Trendy and Stylish Combo Pack of 3 Casual Shoes Sneaker...', 'Lightweight Combo Pack of 02 Trendy Sneakers Casuals Fo...', 'Smart Casuals Canvas Shoes Combo pack of 2 Sneakers For...', 'Combo Pack of 2 Latest Collection Stylish Casual Loafer...', 'Sneakers For Men', \"Casual shoes,Sneakers for men's,shoes for men's Sneaker...\", 'Combo Pack Of 4 Canvas Sneakers For Men', '5011-Latest Collection Stylish Casual Loafer Sneakers S...', 'Speed Set of 5 Pairs Sneakers Outdoors Casuals for Men ...', \"Casual , Partywear Sneakers Shoes For Men's And Boys Wh...\", 'EASY VULC 2.0 Sneakers For Men', \"casual , Partywear Sneakers Shoes For Men's and Boys bl...\", 'shoes for boys | sports shoes for men | Latest Stylish ...', '170 Smart Grey Lace-Ups Casuals for Men Sneakers For Me...', 'Sneakers for men(black_7) Sneakers For Men', 'Combo Pack Of 2 Sneakers For Men', 'Casual Loafers, Sneakers Shoes for Men Pack of 5 Combo(...', 'Synthetic Leather Casual Partywear Wedding Sneakers Sho...', 'Sneakers For Men', 'Smart Casuals Canvas Shoes Combo pack of 2 Sneakers For...', 'SM-322 Sneakers For Men', 'SM-162 Sneakers For Men', '168 Smart Red Lace-Ups Casuals for Men Sneakers For Men', 'White Sneaker for Men Sneakers For Men', 'Combo Pack of 2 Casual Shoes Sneakers For Men', 'Combo Pack of 4 Casual Sneakers With Sneakers For Men', 'Combo Pack of 4 Latest Collection Stylish Casual Loafer...', 'Combo pack of 2 casual sneaker shoes for men Sneakers F...', \"White Sneaker For Men's/Boy's Sneakers For Men\", '171 Smart Tan Lace-Ups Casuals for Men Sneakers For Men', 'Chevit Trendy Fashion Sports Combo Pack of 3 Pairs Outd...', 'Sneakers For Men', 'White Sneakers Sneakers For Men', 'Trendy and Stylish Combo Pack of 3 Casual Shoes Sneaker...', 'Lightweight Combo Pack of 02 Trendy Sneakers Casuals Fo...', 'Smart Casuals Canvas Shoes Combo pack of 2 Sneakers For...', 'Combo Pack of 2 Latest Collection Stylish Casual Loafer...', 'Sneakers For Men', \"Casual shoes,Sneakers for men's,shoes for men's Sneaker...\", 'Combo Pack Of 4 Canvas Sneakers For Men', '5011-Latest Collection Stylish Casual Loafer Sneakers S...', 'Speed Set of 5 Pairs Sneakers Outdoors Casuals for Men ...', \"Casual , Partywear Sneakers Shoes For Men's And Boys Wh...\", 'EASY VULC 2.0 Sneakers For Men', \"casual , Partywear Sneakers Shoes For Men's and Boys bl...\", 'shoes for boys | sports shoes for men | Latest Stylish ...', '170 Smart Grey Lace-Ups Casuals for Men Sneakers For Me...', 'Sneakers for men(black_7) Sneakers For Men', 'Combo Pack Of 2 Sneakers For Men', 'Casual Loafers, Sneakers Shoes for Men Pack of 5 Combo(...', 'Synthetic Leather Casual Partywear Wedding Sneakers Sho...', 'Sneakers For Men', 'Smart Casuals Canvas Shoes Combo pack of 2 Sneakers For...', 'SM-322 Sneakers For Men', 'SM-162 Sneakers For Men', '168 Smart Red Lace-Ups Casuals for Men Sneakers For Men', 'White Sneaker for Men Sneakers For Men', 'Combo Pack of 2 Casual Shoes Sneakers For Men', 'Combo Pack of 4 Casual Sneakers With Sneakers For Men', 'Combo Pack of 4 Latest Collection Stylish Casual Loafer...', 'Combo pack of 2 casual sneaker shoes for men Sneakers F...', \"White Sneaker For Men's/Boy's Sneakers For Men\", '171 Smart Tan Lace-Ups Casuals for Men Sneakers For Men', 'Chevit Trendy Fashion Sports Combo Pack of 3 Pairs Outd...', 'Sneakers For Men', 'White Sneakers Sneakers For Men', 'Trendy and Stylish Combo Pack of 3 Casual Shoes Sneaker...', 'Lightweight Combo Pack of 02 Trendy Sneakers Casuals Fo...', 'Smart Casuals Canvas Shoes Combo pack of 2 Sneakers For...', 'Combo Pack of 2 Latest Collection Stylish Casual Loafer...', 'Sneakers For Men', \"Casual shoes,Sneakers for men's,shoes for men's Sneaker...\", 'Combo Pack Of 4 Canvas Sneakers For Men', '5011-Latest Collection Stylish Casual Loafer Sneakers S...', 'Speed Set of 5 Pairs Sneakers Outdoors Casuals for Men ...', \"Casual , Partywear Sneakers Shoes For Men's And Boys Wh...\", 'EASY VULC 2.0 Sneakers For Men', \"casual , Partywear Sneakers Shoes For Men's and Boys bl...\", 'shoes for boys | sports shoes for men | Latest Stylish ...', '170 Smart Grey Lace-Ups Casuals for Men Sneakers For Me...', 'Sneakers for men(black_7) Sneakers For Men', 'Combo Pack Of 2 Sneakers For Men', 'Casual Loafers, Sneakers Shoes for Men Pack of 5 Combo(...', 'Synthetic Leather Casual Partywear Wedding Sneakers Sho...', 'Sneakers For Men', 'Smart Casuals Canvas Shoes Combo pack of 2 Sneakers For...', 'SM-322 Sneakers For Men', 'SM-162 Sneakers For Men', '168 Smart Red Lace-Ups Casuals for Men Sneakers For Men', 'White Sneaker for Men Sneakers For Men', 'Combo Pack of 2 Casual Shoes Sneakers For Men', 'Combo Pack of 4 Casual Sneakers With Sneakers For Men', 'Combo Pack of 4 Latest Collection Stylish Casual Loafer...', 'Combo pack of 2 casual sneaker shoes for men Sneakers F...', \"White Sneaker For Men's/Boy's Sneakers For Men\", '171 Smart Tan Lace-Ups Casuals for Men Sneakers For Men', 'Chevit Trendy Fashion Sports Combo Pack of 3 Pairs Outd...', 'Sneakers For Men', 'White Sneakers Sneakers For Men', 'Trendy and Stylish Combo Pack of 3 Casual Shoes Sneaker...', 'Lightweight Combo Pack of 02 Trendy Sneakers Casuals Fo...', 'Smart Casuals Canvas Shoes Combo pack of 2 Sneakers For...', 'Combo Pack of 2 Latest Collection Stylish Casual Loafer...', 'Sneakers For Men', \"Casual shoes,Sneakers for men's,shoes for men's Sneaker...\", 'Combo Pack Of 4 Canvas Sneakers For Men', '5011-Latest Collection Stylish Casual Loafer Sneakers S...', 'Speed Set of 5 Pairs Sneakers Outdoors Casuals for Men ...', \"Casual , Partywear Sneakers Shoes For Men's And Boys Wh...\", 'EASY VULC 2.0 Sneakers For Men', \"casual , Partywear Sneakers Shoes For Men's and Boys bl...\", 'shoes for boys | sports shoes for men | Latest Stylish ...', '170 Smart Grey Lace-Ups Casuals for Men Sneakers For Me...', 'Sneakers for men(black_7) Sneakers For Men', 'Combo Pack Of 2 Sneakers For Men', 'Casual Loafers, Sneakers Shoes for Men Pack of 5 Combo(...', 'Synthetic Leather Casual Partywear Wedding Sneakers Sho...', 'Sneakers For Men', 'Smart Casuals Canvas Shoes Combo pack of 2 Sneakers For...', 'SM-322 Sneakers For Men', 'SM-162 Sneakers For Men', '168 Smart Red Lace-Ups Casuals for Men Sneakers For Men', 'White Sneaker for Men Sneakers For Men', 'Combo Pack of 2 Casual Shoes Sneakers For Men', 'Combo Pack of 4 Casual Sneakers With Sneakers For Men', 'Combo Pack of 4 Latest Collection Stylish Casual Loafer...', 'Combo pack of 2 casual sneaker shoes for men Sneakers F...', \"White Sneaker For Men's/Boy's Sneakers For Men\", '171 Smart Tan Lace-Ups Casuals for Men Sneakers For Men', 'Chevit Trendy Fashion Sports Combo Pack of 3 Pairs Outd...', 'Sneakers For Men', 'White Sneakers Sneakers For Men', 'Trendy and Stylish Combo Pack of 3 Casual Shoes Sneaker...', 'Lightweight Combo Pack of 02 Trendy Sneakers Casuals Fo...', 'Smart Casuals Canvas Shoes Combo pack of 2 Sneakers For...', 'Combo Pack of 2 Latest Collection Stylish Casual Loafer...', 'Sneakers For Men', \"Casual shoes,Sneakers for men's,shoes for men's Sneaker...\", 'Combo Pack Of 4 Canvas Sneakers For Men', '5011-Latest Collection Stylish Casual Loafer Sneakers S...', 'Speed Set of 5 Pairs Sneakers Outdoors Casuals for Men ...', \"Casual , Partywear Sneakers Shoes For Men's And Boys Wh...\", 'EASY VULC 2.0 Sneakers For Men', \"casual , Partywear Sneakers Shoes For Men's and Boys bl...\", 'shoes for boys | sports shoes for men | Latest Stylish ...', '170 Smart Grey Lace-Ups Casuals for Men Sneakers For Me...', 'Sneakers for men(black_7) Sneakers For Men', 'Combo Pack Of 2 Sneakers For Men', 'Casual Loafers, Sneakers Shoes for Men Pack of 5 Combo(...', 'Synthetic Leather Casual Partywear Wedding Sneakers Sho...', 'Sneakers For Men', 'Smart Casuals Canvas Shoes Combo pack of 2 Sneakers For...', 'SM-322 Sneakers For Men', 'SM-162 Sneakers For Men', '168 Smart Red Lace-Ups Casuals for Men Sneakers For Men', 'White Sneaker for Men Sneakers For Men', '₹498', '₹1,318', '₹474', '₹399', '₹474', '₹398', '₹349', '₹236', '₹630', '₹242', '₹379', '₹348', '₹699', '₹499', '₹299', '₹299', '₹299', '₹369', '₹499', '₹479', '₹228', '₹799', '₹368', '₹1,717', '₹399', '₹199', '₹601', '₹236', '₹446', '₹399', '₹759', '₹379', '₹420', '₹424', '₹299', '₹819', '₹779', '₹499', '₹236', '₹398', '₹498', '₹1,318', '₹474', '₹399', '₹474', '₹398', '₹349', '₹236', '₹630', '₹242', '₹379', '₹348', '₹699', '₹499', '₹299', '₹299', '₹299', '₹369', '₹499', '₹479', '₹228', '₹799', '₹368', '₹1,717', '₹399', '₹199', '₹601', '₹236', '₹446', '₹399', '₹759', '₹379', '₹420', '₹424', '₹299', '₹819', '₹779', '₹499', '₹236', '₹398', '₹498', '₹1,318', '₹474', '₹399', '₹474', '₹398', '₹349', '₹236', '₹630', '₹242', '₹379', '₹348', '₹699', '₹499', '₹299', '₹299', '₹299', '₹369', '₹499', '₹479', '₹228', '₹799', '₹368', '₹1,717', '₹399', '₹199', '₹601', '₹236', '₹446', '₹399', '₹759', '₹379', '₹420', '₹424', '₹299', '₹819', '₹779', '₹499', '₹236', '₹398', '₹498', '₹1,318', '₹474', '₹399', '₹474', '₹398', '₹349', '₹236', '₹630', '₹242', '₹379', '₹348', '₹699', '₹499', '₹299', '₹299', '₹299', '₹369', '₹499', '₹479', '₹228', '₹799', '₹368', '₹1,717', '₹399', '₹199', '₹601', '₹236', '₹446', '₹399', '₹759', '₹379', '₹420', '₹424', '₹299', '₹819', '₹779', '₹499', '₹236', '₹398', '₹498', '₹1,318', '₹474', '₹399', '₹474', '₹398', '₹349', '₹236', '₹630', '₹242', '₹379', '₹348', '₹699', '₹499', '₹299', '₹299', '₹299', '₹369', '₹499', '₹479', '₹228', '₹799', '₹368', '₹1,717', '₹399', '₹199', '₹601', '₹236', '₹446', '₹399', '₹759', '₹379', '₹420', '₹424', '₹299', '₹819', '₹779', '₹499', '₹236', '₹398', '₹498', '₹1,318', '₹474', '₹399', '₹474', '₹398', '₹349', '₹236', '₹630', '₹242', '₹379', '₹348', '₹699', '₹499', '₹299', '₹299', '₹299', '₹369', '₹499', '₹479', '₹228', '₹799', '₹368', '₹1,717', '₹399', '₹199', '₹601', '₹236', '₹446', '₹399', '₹759', '₹379', '₹420', '₹424', '₹299', '₹819', '₹779', '₹499', '₹236', '₹398', '₹498', '₹1,318', '₹474', '₹399', '₹474', '₹398', '₹349', '₹236', '₹630', '₹242', '₹379', '₹348', '₹699', '₹499', '₹299', '₹299', '₹299', '₹369', '₹499', '₹479', '₹228', '₹799', '₹368', '₹1,717', '₹399', '₹199', '₹601', '₹236', '₹446', '₹399', '₹759', '₹379', '₹420', '₹424', '₹299', '₹819', '₹779', '₹499', '₹236', '₹398', '₹498', '₹1,318', '₹474', '₹399', '₹474', '₹398', '₹349', '₹236', '₹630', '₹242', '₹379', '₹348', '₹699', '₹499', '₹299', '₹299', '₹299', '₹369', '₹499', '₹479', '₹228', '₹799', '₹368', '₹1,717', '₹399', '₹199', '₹601', '₹236', '₹446', '₹399', '₹759', '₹379', '₹420', '₹424', '₹299', '₹819', '₹779', '₹499', '₹236', '₹398', '₹498', '₹1,318', '₹474', '₹399', '₹474', '₹398', '₹349', '₹236', '₹630', '₹242', '₹379', '₹348', '₹699', '₹499', '₹299', '₹299', '₹299', '₹369', '₹499', '₹479', '₹228', '₹799', '₹368', '₹1,717', '₹399', '₹199', '₹601', '₹236', '₹446', '₹399', '₹759', '₹379', '₹420', '₹424', '₹299', '₹819', '₹779', '₹499', '₹236', '₹398', '₹498', '₹1,318', '₹474', '₹399', '₹474', '₹398', '₹349', '₹236', '₹630', '₹242', '₹379', '₹348', '₹699', '₹499', '₹299', '₹299', '₹299', '₹369', '₹499', '₹479', '₹228', '₹799', '₹368', '₹1,717', '₹399', '₹199', '₹601', '₹236', '₹446', '₹399', '₹759', '₹379', '₹420', '₹424', '₹299', '₹819', '₹779', '₹499', '₹236', '₹398', 'Combo Pack of 2 Casual Shoes Sneakers For Men', 'Combo Pack of 4 Casual Sneakers With Sneakers For Men', 'Combo Pack of 4 Latest Collection Stylish Casual Loafer...', 'Combo pack of 2 casual sneaker shoes for men Sneakers F...', \"White Sneaker For Men's/Boy's Sneakers For Men\", '171 Smart Tan Lace-Ups Casuals for Men Sneakers For Men', 'Chevit Trendy Fashion Sports Combo Pack of 3 Pairs Outd...', 'Sneakers For Men', 'White Sneakers Sneakers For Men', 'Trendy and Stylish Combo Pack of 3 Casual Shoes Sneaker...', 'Lightweight Combo Pack of 02 Trendy Sneakers Casuals Fo...', 'Smart Casuals Canvas Shoes Combo pack of 2 Sneakers For...', 'Combo Pack of 2 Latest Collection Stylish Casual Loafer...', 'Sneakers For Men', \"Casual shoes,Sneakers for men's,shoes for men's Sneaker...\", 'Combo Pack Of 4 Canvas Sneakers For Men', '5011-Latest Collection Stylish Casual Loafer Sneakers S...', 'Speed Set of 5 Pairs Sneakers Outdoors Casuals for Men ...', \"Casual , Partywear Sneakers Shoes For Men's And Boys Wh...\", 'EASY VULC 2.0 Sneakers For Men', \"casual , Partywear Sneakers Shoes For Men's and Boys bl...\", 'shoes for boys | sports shoes for men | Latest Stylish ...', '170 Smart Grey Lace-Ups Casuals for Men Sneakers For Me...', 'Sneakers for men(black_7) Sneakers For Men', 'Combo Pack Of 2 Sneakers For Men', 'Casual Loafers, Sneakers Shoes for Men Pack of 5 Combo(...', 'Synthetic Leather Casual Partywear Wedding Sneakers Sho...', 'Sneakers For Men', 'Smart Casuals Canvas Shoes Combo pack of 2 Sneakers For...', 'SM-322 Sneakers For Men', 'SM-162 Sneakers For Men', '168 Smart Red Lace-Ups Casuals for Men Sneakers For Men', 'White Sneaker for Men Sneakers For Men', 'Combo Pack of 2 Casual Shoes Sneakers For Men', 'Combo Pack of 4 Casual Sneakers With Sneakers For Men', 'Combo Pack of 4 Latest Collection Stylish Casual Loafer...', 'Combo pack of 2 casual sneaker shoes for men Sneakers F...', \"White Sneaker For Men's/Boy's Sneakers For Men\", '171 Smart Tan Lace-Ups Casuals for Men Sneakers For Men', 'Chevit Trendy Fashion Sports Combo Pack of 3 Pairs Outd...', 'Sneakers For Men', 'White Sneakers Sneakers For Men', 'Trendy and Stylish Combo Pack of 3 Casual Shoes Sneaker...', 'Lightweight Combo Pack of 02 Trendy Sneakers Casuals Fo...', 'Smart Casuals Canvas Shoes Combo pack of 2 Sneakers For...', 'Combo Pack of 2 Latest Collection Stylish Casual Loafer...', 'Sneakers For Men', \"Casual shoes,Sneakers for men's,shoes for men's Sneaker...\", 'Combo Pack Of 4 Canvas Sneakers For Men', '5011-Latest Collection Stylish Casual Loafer Sneakers S...', 'Speed Set of 5 Pairs Sneakers Outdoors Casuals for Men ...', \"Casual , Partywear Sneakers Shoes For Men's And Boys Wh...\", 'EASY VULC 2.0 Sneakers For Men', \"casual , Partywear Sneakers Shoes For Men's and Boys bl...\", 'shoes for boys | sports shoes for men | Latest Stylish ...', '170 Smart Grey Lace-Ups Casuals for Men Sneakers For Me...', 'Sneakers for men(black_7) Sneakers For Men', 'Combo Pack Of 2 Sneakers For Men', 'Casual Loafers, Sneakers Shoes for Men Pack of 5 Combo(...', 'Synthetic Leather Casual Partywear Wedding Sneakers Sho...', 'Sneakers For Men', 'Smart Casuals Canvas Shoes Combo pack of 2 Sneakers For...', 'SM-322 Sneakers For Men', 'SM-162 Sneakers For Men', '168 Smart Red Lace-Ups Casuals for Men Sneakers For Men', 'White Sneaker for Men Sneakers For Men', 'Combo Pack of 2 Casual Shoes Sneakers For Men', 'Combo Pack of 4 Casual Sneakers With Sneakers For Men', 'Combo Pack of 4 Latest Collection Stylish Casual Loafer...', 'Combo pack of 2 casual sneaker shoes for men Sneakers F...', \"White Sneaker For Men's/Boy's Sneakers For Men\", '171 Smart Tan Lace-Ups Casuals for Men Sneakers For Men', 'Chevit Trendy Fashion Sports Combo Pack of 3 Pairs Outd...', 'Sneakers For Men', 'White Sneakers Sneakers For Men', 'Trendy and Stylish Combo Pack of 3 Casual Shoes Sneaker...', 'Lightweight Combo Pack of 02 Trendy Sneakers Casuals Fo...', 'Smart Casuals Canvas Shoes Combo pack of 2 Sneakers For...', 'Combo Pack of 2 Latest Collection Stylish Casual Loafer...', 'Sneakers For Men', \"Casual shoes,Sneakers for men's,shoes for men's Sneaker...\", 'Combo Pack Of 4 Canvas Sneakers For Men', '5011-Latest Collection Stylish Casual Loafer Sneakers S...', 'Speed Set of 5 Pairs Sneakers Outdoors Casuals for Men ...', \"Casual , Partywear Sneakers Shoes For Men's And Boys Wh...\", 'EASY VULC 2.0 Sneakers For Men', \"casual , Partywear Sneakers Shoes For Men's and Boys bl...\", 'shoes for boys | sports shoes for men | Latest Stylish ...', '170 Smart Grey Lace-Ups Casuals for Men Sneakers For Me...', 'Sneakers for men(black_7) Sneakers For Men', 'Combo Pack Of 2 Sneakers For Men', 'Casual Loafers, Sneakers Shoes for Men Pack of 5 Combo(...', 'Synthetic Leather Casual Partywear Wedding Sneakers Sho...', 'Sneakers For Men', 'Smart Casuals Canvas Shoes Combo pack of 2 Sneakers For...', 'SM-322 Sneakers For Men', 'SM-162 Sneakers For Men', '168 Smart Red Lace-Ups Casuals for Men Sneakers For Men', 'White Sneaker for Men Sneakers For Men', 'Combo Pack of 2 Casual Shoes Sneakers For Men', 'Combo Pack of 4 Casual Sneakers With Sneakers For Men', 'Combo Pack of 4 Latest Collection Stylish Casual Loafer...', 'Combo pack of 2 casual sneaker shoes for men Sneakers F...', \"White Sneaker For Men's/Boy's Sneakers For Men\", '171 Smart Tan Lace-Ups Casuals for Men Sneakers For Men', 'Chevit Trendy Fashion Sports Combo Pack of 3 Pairs Outd...', 'Sneakers For Men', 'White Sneakers Sneakers For Men', 'Trendy and Stylish Combo Pack of 3 Casual Shoes Sneaker...', 'Lightweight Combo Pack of 02 Trendy Sneakers Casuals Fo...', 'Smart Casuals Canvas Shoes Combo pack of 2 Sneakers For...', 'Combo Pack of 2 Latest Collection Stylish Casual Loafer...', 'Sneakers For Men', \"Casual shoes,Sneakers for men's,shoes for men's Sneaker...\", 'Combo Pack Of 4 Canvas Sneakers For Men', '5011-Latest Collection Stylish Casual Loafer Sneakers S...', 'Speed Set of 5 Pairs Sneakers Outdoors Casuals for Men ...', \"Casual , Partywear Sneakers Shoes For Men's And Boys Wh...\", 'EASY VULC 2.0 Sneakers For Men', \"casual , Partywear Sneakers Shoes For Men's and Boys bl...\", 'shoes for boys | sports shoes for men | Latest Stylish ...', '170 Smart Grey Lace-Ups Casuals for Men Sneakers For Me...', 'Sneakers for men(black_7) Sneakers For Men', 'Combo Pack Of 2 Sneakers For Men', 'Casual Loafers, Sneakers Shoes for Men Pack of 5 Combo(...', 'Synthetic Leather Casual Partywear Wedding Sneakers Sho...', 'Sneakers For Men', 'Smart Casuals Canvas Shoes Combo pack of 2 Sneakers For...', 'SM-322 Sneakers For Men', 'SM-162 Sneakers For Men', '168 Smart Red Lace-Ups Casuals for Men Sneakers For Men', 'White Sneaker for Men Sneakers For Men', 'Combo Pack of 2 Casual Shoes Sneakers For Men', 'Combo Pack of 4 Casual Sneakers With Sneakers For Men', 'Combo Pack of 4 Latest Collection Stylish Casual Loafer...', 'Combo pack of 2 casual sneaker shoes for men Sneakers F...', \"White Sneaker For Men's/Boy's Sneakers For Men\", '171 Smart Tan Lace-Ups Casuals for Men Sneakers For Men', 'Chevit Trendy Fashion Sports Combo Pack of 3 Pairs Outd...', 'Sneakers For Men', 'White Sneakers Sneakers For Men', 'Trendy and Stylish Combo Pack of 3 Casual Shoes Sneaker...', 'Lightweight Combo Pack of 02 Trendy Sneakers Casuals Fo...', 'Smart Casuals Canvas Shoes Combo pack of 2 Sneakers For...', 'Combo Pack of 2 Latest Collection Stylish Casual Loafer...', 'Sneakers For Men', \"Casual shoes,Sneakers for men's,shoes for men's Sneaker...\", 'Combo Pack Of 4 Canvas Sneakers For Men', '5011-Latest Collection Stylish Casual Loafer Sneakers S...', 'Speed Set of 5 Pairs Sneakers Outdoors Casuals for Men ...', \"Casual , Partywear Sneakers Shoes For Men's And Boys Wh...\", 'EASY VULC 2.0 Sneakers For Men', \"casual , Partywear Sneakers Shoes For Men's and Boys bl...\", 'shoes for boys | sports shoes for men | Latest Stylish ...', '170 Smart Grey Lace-Ups Casuals for Men Sneakers For Me...', 'Sneakers for men(black_7) Sneakers For Men', 'Combo Pack Of 2 Sneakers For Men', 'Casual Loafers, Sneakers Shoes for Men Pack of 5 Combo(...', 'Synthetic Leather Casual Partywear Wedding Sneakers Sho...', 'Sneakers For Men', 'Smart Casuals Canvas Shoes Combo pack of 2 Sneakers For...', 'SM-322 Sneakers For Men', 'SM-162 Sneakers For Men', '168 Smart Red Lace-Ups Casuals for Men Sneakers For Men', 'White Sneaker for Men Sneakers For Men', 'Combo Pack of 2 Casual Shoes Sneakers For Men', 'Combo Pack of 4 Casual Sneakers With Sneakers For Men', 'Combo Pack of 4 Latest Collection Stylish Casual Loafer...', 'Combo pack of 2 casual sneaker shoes for men Sneakers F...', \"White Sneaker For Men's/Boy's Sneakers For Men\", '171 Smart Tan Lace-Ups Casuals for Men Sneakers For Men', 'Chevit Trendy Fashion Sports Combo Pack of 3 Pairs Outd...', 'Sneakers For Men', 'White Sneakers Sneakers For Men', 'Trendy and Stylish Combo Pack of 3 Casual Shoes Sneaker...', 'Lightweight Combo Pack of 02 Trendy Sneakers Casuals Fo...', 'Smart Casuals Canvas Shoes Combo pack of 2 Sneakers For...', 'Combo Pack of 2 Latest Collection Stylish Casual Loafer...', 'Sneakers For Men', \"Casual shoes,Sneakers for men's,shoes for men's Sneaker...\", 'Combo Pack Of 4 Canvas Sneakers For Men', '5011-Latest Collection Stylish Casual Loafer Sneakers S...', 'Speed Set of 5 Pairs Sneakers Outdoors Casuals for Men ...', \"Casual , Partywear Sneakers Shoes For Men's And Boys Wh...\", 'EASY VULC 2.0 Sneakers For Men', \"casual , Partywear Sneakers Shoes For Men's and Boys bl...\", 'shoes for boys | sports shoes for men | Latest Stylish ...', '170 Smart Grey Lace-Ups Casuals for Men Sneakers For Me...', 'Sneakers for men(black_7) Sneakers For Men', 'Combo Pack Of 2 Sneakers For Men', 'Casual Loafers, Sneakers Shoes for Men Pack of 5 Combo(...', 'Synthetic Leather Casual Partywear Wedding Sneakers Sho...', 'Sneakers For Men', 'Smart Casuals Canvas Shoes Combo pack of 2 Sneakers For...', 'SM-322 Sneakers For Men', 'SM-162 Sneakers For Men', '168 Smart Red Lace-Ups Casuals for Men Sneakers For Men', 'White Sneaker for Men Sneakers For Men', 'Combo Pack of 2 Casual Shoes Sneakers For Men', 'Combo Pack of 4 Casual Sneakers With Sneakers For Men', 'Combo Pack of 4 Latest Collection Stylish Casual Loafer...', 'Combo pack of 2 casual sneaker shoes for men Sneakers F...', \"White Sneaker For Men's/Boy's Sneakers For Men\", '171 Smart Tan Lace-Ups Casuals for Men Sneakers For Men', 'Chevit Trendy Fashion Sports Combo Pack of 3 Pairs Outd...', 'Sneakers For Men', 'White Sneakers Sneakers For Men', 'Trendy and Stylish Combo Pack of 3 Casual Shoes Sneaker...', 'Lightweight Combo Pack of 02 Trendy Sneakers Casuals Fo...', 'Smart Casuals Canvas Shoes Combo pack of 2 Sneakers For...', 'Combo Pack of 2 Latest Collection Stylish Casual Loafer...', 'Sneakers For Men', \"Casual shoes,Sneakers for men's,shoes for men's Sneaker...\", 'Combo Pack Of 4 Canvas Sneakers For Men', '5011-Latest Collection Stylish Casual Loafer Sneakers S...', 'Speed Set of 5 Pairs Sneakers Outdoors Casuals for Men ...', \"Casual , Partywear Sneakers Shoes For Men's And Boys Wh...\", 'EASY VULC 2.0 Sneakers For Men', \"casual , Partywear Sneakers Shoes For Men's and Boys bl...\", 'shoes for boys | sports shoes for men | Latest Stylish ...', '170 Smart Grey Lace-Ups Casuals for Men Sneakers For Me...', 'Sneakers for men(black_7) Sneakers For Men', 'Combo Pack Of 2 Sneakers For Men', 'Casual Loafers, Sneakers Shoes for Men Pack of 5 Combo(...', 'Synthetic Leather Casual Partywear Wedding Sneakers Sho...', 'Sneakers For Men', 'Smart Casuals Canvas Shoes Combo pack of 2 Sneakers For...', 'SM-322 Sneakers For Men', 'SM-162 Sneakers For Men', '168 Smart Red Lace-Ups Casuals for Men Sneakers For Men', 'White Sneaker for Men Sneakers For Men', 'Combo Pack of 2 Casual Shoes Sneakers For Men', 'Combo Pack of 4 Casual Sneakers With Sneakers For Men', 'Combo Pack of 4 Latest Collection Stylish Casual Loafer...', 'Combo pack of 2 casual sneaker shoes for men Sneakers F...', \"White Sneaker For Men's/Boy's Sneakers For Men\", '171 Smart Tan Lace-Ups Casuals for Men Sneakers For Men', 'Chevit Trendy Fashion Sports Combo Pack of 3 Pairs Outd...', 'Sneakers For Men', 'White Sneakers Sneakers For Men', 'Trendy and Stylish Combo Pack of 3 Casual Shoes Sneaker...', 'Lightweight Combo Pack of 02 Trendy Sneakers Casuals Fo...', 'Smart Casuals Canvas Shoes Combo pack of 2 Sneakers For...', 'Combo Pack of 2 Latest Collection Stylish Casual Loafer...', 'Sneakers For Men', \"Casual shoes,Sneakers for men's,shoes for men's Sneaker...\", 'Combo Pack Of 4 Canvas Sneakers For Men', '5011-Latest Collection Stylish Casual Loafer Sneakers S...', 'Speed Set of 5 Pairs Sneakers Outdoors Casuals for Men ...', \"Casual , Partywear Sneakers Shoes For Men's And Boys Wh...\", 'EASY VULC 2.0 Sneakers For Men', \"casual , Partywear Sneakers Shoes For Men's and Boys bl...\", 'shoes for boys | sports shoes for men | Latest Stylish ...', '170 Smart Grey Lace-Ups Casuals for Men Sneakers For Me...', 'Sneakers for men(black_7) Sneakers For Men', 'Combo Pack Of 2 Sneakers For Men', 'Casual Loafers, Sneakers Shoes for Men Pack of 5 Combo(...', 'Synthetic Leather Casual Partywear Wedding Sneakers Sho...', 'Sneakers For Men', 'Smart Casuals Canvas Shoes Combo pack of 2 Sneakers For...', 'SM-322 Sneakers For Men', 'SM-162 Sneakers For Men', '168 Smart Red Lace-Ups Casuals for Men Sneakers For Men', 'White Sneaker for Men Sneakers For Men', 'Combo Pack of 2 Casual Shoes Sneakers For Men', 'Combo Pack of 4 Casual Sneakers With Sneakers For Men', 'Combo Pack of 4 Latest Collection Stylish Casual Loafer...', 'Combo pack of 2 casual sneaker shoes for men Sneakers F...', \"White Sneaker For Men's/Boy's Sneakers For Men\", '171 Smart Tan Lace-Ups Casuals for Men Sneakers For Men', 'Chevit Trendy Fashion Sports Combo Pack of 3 Pairs Outd...', 'Sneakers For Men', 'White Sneakers Sneakers For Men', 'Trendy and Stylish Combo Pack of 3 Casual Shoes Sneaker...', 'Lightweight Combo Pack of 02 Trendy Sneakers Casuals Fo...', 'Smart Casuals Canvas Shoes Combo pack of 2 Sneakers For...', 'Combo Pack of 2 Latest Collection Stylish Casual Loafer...', 'Sneakers For Men', \"Casual shoes,Sneakers for men's,shoes for men's Sneaker...\", 'Combo Pack Of 4 Canvas Sneakers For Men', '5011-Latest Collection Stylish Casual Loafer Sneakers S...', 'Speed Set of 5 Pairs Sneakers Outdoors Casuals for Men ...', \"Casual , Partywear Sneakers Shoes For Men's And Boys Wh...\", 'EASY VULC 2.0 Sneakers For Men', \"casual , Partywear Sneakers Shoes For Men's and Boys bl...\", 'shoes for boys | sports shoes for men | Latest Stylish ...', '170 Smart Grey Lace-Ups Casuals for Men Sneakers For Me...', 'Sneakers for men(black_7) Sneakers For Men', 'Combo Pack Of 2 Sneakers For Men', 'Casual Loafers, Sneakers Shoes for Men Pack of 5 Combo(...', 'Synthetic Leather Casual Partywear Wedding Sneakers Sho...', 'Sneakers For Men', 'Smart Casuals Canvas Shoes Combo pack of 2 Sneakers For...', 'SM-322 Sneakers For Men', 'SM-162 Sneakers For Men', '168 Smart Red Lace-Ups Casuals for Men Sneakers For Men', 'White Sneaker for Men Sneakers For Men', 'Combo Pack of 2 Casual Shoes Sneakers For Men', 'Combo Pack of 4 Casual Sneakers With Sneakers For Men', 'Combo Pack of 4 Latest Collection Stylish Casual Loafer...', 'Combo pack of 2 casual sneaker shoes for men Sneakers F...', \"White Sneaker For Men's/Boy's Sneakers For Men\", '171 Smart Tan Lace-Ups Casuals for Men Sneakers For Men', 'Chevit Trendy Fashion Sports Combo Pack of 3 Pairs Outd...', 'Sneakers For Men', 'White Sneakers Sneakers For Men', 'Trendy and Stylish Combo Pack of 3 Casual Shoes Sneaker...', 'Lightweight Combo Pack of 02 Trendy Sneakers Casuals Fo...', 'Smart Casuals Canvas Shoes Combo pack of 2 Sneakers For...', 'Combo Pack of 2 Latest Collection Stylish Casual Loafer...', 'Sneakers For Men', \"Casual shoes,Sneakers for men's,shoes for men's Sneaker...\", 'Combo Pack Of 4 Canvas Sneakers For Men', '5011-Latest Collection Stylish Casual Loafer Sneakers S...', 'Speed Set of 5 Pairs Sneakers Outdoors Casuals for Men ...', \"Casual , Partywear Sneakers Shoes For Men's And Boys Wh...\", 'EASY VULC 2.0 Sneakers For Men', \"casual , Partywear Sneakers Shoes For Men's and Boys bl...\", 'shoes for boys | sports shoes for men | Latest Stylish ...', '170 Smart Grey Lace-Ups Casuals for Men Sneakers For Me...', 'Sneakers for men(black_7) Sneakers For Men', 'Combo Pack Of 2 Sneakers For Men', 'Casual Loafers, Sneakers Shoes for Men Pack of 5 Combo(...', 'Synthetic Leather Casual Partywear Wedding Sneakers Sho...', 'Sneakers For Men', 'Smart Casuals Canvas Shoes Combo pack of 2 Sneakers For...', 'SM-322 Sneakers For Men', 'SM-162 Sneakers For Men', '168 Smart Red Lace-Ups Casuals for Men Sneakers For Men', 'White Sneaker for Men Sneakers For Men', 'Combo Pack of 2 Casual Shoes Sneakers For Men', 'Combo Pack of 4 Casual Sneakers With Sneakers For Men', 'Combo Pack of 4 Latest Collection Stylish Casual Loafer...', 'Combo pack of 2 casual sneaker shoes for men Sneakers F...', \"White Sneaker For Men's/Boy's Sneakers For Men\", '171 Smart Tan Lace-Ups Casuals for Men Sneakers For Men', 'Chevit Trendy Fashion Sports Combo Pack of 3 Pairs Outd...', 'Sneakers For Men', 'White Sneakers Sneakers For Men', 'Trendy and Stylish Combo Pack of 3 Casual Shoes Sneaker...', 'Lightweight Combo Pack of 02 Trendy Sneakers Casuals Fo...', 'Smart Casuals Canvas Shoes Combo pack of 2 Sneakers For...', 'Combo Pack of 2 Latest Collection Stylish Casual Loafer...', 'Sneakers For Men', \"Casual shoes,Sneakers for men's,shoes for men's Sneaker...\", 'Combo Pack Of 4 Canvas Sneakers For Men', '5011-Latest Collection Stylish Casual Loafer Sneakers S...', 'Speed Set of 5 Pairs Sneakers Outdoors Casuals for Men ...', \"Casual , Partywear Sneakers Shoes For Men's And Boys Wh...\", 'EASY VULC 2.0 Sneakers For Men', \"casual , Partywear Sneakers Shoes For Men's and Boys bl...\", 'shoes for boys | sports shoes for men | Latest Stylish ...', '170 Smart Grey Lace-Ups Casuals for Men Sneakers For Me...', 'Sneakers for men(black_7) Sneakers For Men', 'Combo Pack Of 2 Sneakers For Men', 'Casual Loafers, Sneakers Shoes for Men Pack of 5 Combo(...', 'Synthetic Leather Casual Partywear Wedding Sneakers Sho...', 'Sneakers For Men', 'Smart Casuals Canvas Shoes Combo pack of 2 Sneakers For...', 'SM-322 Sneakers For Men', 'SM-162 Sneakers For Men', '168 Smart Red Lace-Ups Casuals for Men Sneakers For Men', 'White Sneaker for Men Sneakers For Men', 'Combo Pack of 2 Casual Shoes Sneakers For Men', 'Combo Pack of 4 Casual Sneakers With Sneakers For Men', 'Combo Pack of 4 Latest Collection Stylish Casual Loafer...', 'Combo pack of 2 casual sneaker shoes for men Sneakers F...', \"White Sneaker For Men's/Boy's Sneakers For Men\", '171 Smart Tan Lace-Ups Casuals for Men Sneakers For Men', 'Chevit Trendy Fashion Sports Combo Pack of 3 Pairs Outd...', 'Sneakers For Men', 'White Sneakers Sneakers For Men', 'Trendy and Stylish Combo Pack of 3 Casual Shoes Sneaker...', 'Lightweight Combo Pack of 02 Trendy Sneakers Casuals Fo...', 'Smart Casuals Canvas Shoes Combo pack of 2 Sneakers For...', 'Combo Pack of 2 Latest Collection Stylish Casual Loafer...', 'Sneakers For Men', \"Casual shoes,Sneakers for men's,shoes for men's Sneaker...\", 'Combo Pack Of 4 Canvas Sneakers For Men', '5011-Latest Collection Stylish Casual Loafer Sneakers S...', 'Speed Set of 5 Pairs Sneakers Outdoors Casuals for Men ...', \"Casual , Partywear Sneakers Shoes For Men's And Boys Wh...\", 'EASY VULC 2.0 Sneakers For Men', \"casual , Partywear Sneakers Shoes For Men's and Boys bl...\", 'shoes for boys | sports shoes for men | Latest Stylish ...', '170 Smart Grey Lace-Ups Casuals for Men Sneakers For Me...', 'Sneakers for men(black_7) Sneakers For Men', 'Combo Pack Of 2 Sneakers For Men', 'Casual Loafers, Sneakers Shoes for Men Pack of 5 Combo(...', 'Synthetic Leather Casual Partywear Wedding Sneakers Sho...', 'Sneakers For Men', 'Smart Casuals Canvas Shoes Combo pack of 2 Sneakers For...', 'SM-322 Sneakers For Men', 'SM-162 Sneakers For Men', '168 Smart Red Lace-Ups Casuals for Men Sneakers For Men', 'White Sneaker for Men Sneakers For Men', 'Combo Pack of 2 Casual Shoes Sneakers For Men', 'Combo Pack of 4 Casual Sneakers With Sneakers For Men', 'Combo Pack of 4 Latest Collection Stylish Casual Loafer...', 'Combo pack of 2 casual sneaker shoes for men Sneakers F...', \"White Sneaker For Men's/Boy's Sneakers For Men\", '171 Smart Tan Lace-Ups Casuals for Men Sneakers For Men', 'Chevit Trendy Fashion Sports Combo Pack of 3 Pairs Outd...', 'Sneakers For Men', 'White Sneakers Sneakers For Men', 'Trendy and Stylish Combo Pack of 3 Casual Shoes Sneaker...', 'Lightweight Combo Pack of 02 Trendy Sneakers Casuals Fo...', 'Smart Casuals Canvas Shoes Combo pack of 2 Sneakers For...', 'Combo Pack of 2 Latest Collection Stylish Casual Loafer...', 'Sneakers For Men', \"Casual shoes,Sneakers for men's,shoes for men's Sneaker...\", 'Combo Pack Of 4 Canvas Sneakers For Men', '5011-Latest Collection Stylish Casual Loafer Sneakers S...', 'Speed Set of 5 Pairs Sneakers Outdoors Casuals for Men ...', \"Casual , Partywear Sneakers Shoes For Men's And Boys Wh...\", 'EASY VULC 2.0 Sneakers For Men', \"casual , Partywear Sneakers Shoes For Men's and Boys bl...\", 'shoes for boys | sports shoes for men | Latest Stylish ...', '170 Smart Grey Lace-Ups Casuals for Men Sneakers For Me...', 'Sneakers for men(black_7) Sneakers For Men', 'Combo Pack Of 2 Sneakers For Men', 'Casual Loafers, Sneakers Shoes for Men Pack of 5 Combo(...', 'Synthetic Leather Casual Partywear Wedding Sneakers Sho...', 'Sneakers For Men', 'Smart Casuals Canvas Shoes Combo pack of 2 Sneakers For...', 'SM-322 Sneakers For Men', 'SM-162 Sneakers For Men', '168 Smart Red Lace-Ups Casuals for Men Sneakers For Men', 'White Sneaker for Men Sneakers For Men', 'Combo Pack of 2 Casual Shoes Sneakers For Men', 'Combo Pack of 4 Casual Sneakers With Sneakers For Men', 'Combo Pack of 4 Latest Collection Stylish Casual Loafer...', 'Combo pack of 2 casual sneaker shoes for men Sneakers F...', \"White Sneaker For Men's/Boy's Sneakers For Men\", '171 Smart Tan Lace-Ups Casuals for Men Sneakers For Men', 'Chevit Trendy Fashion Sports Combo Pack of 3 Pairs Outd...', 'Sneakers For Men', 'White Sneakers Sneakers For Men', 'Trendy and Stylish Combo Pack of 3 Casual Shoes Sneaker...', 'Lightweight Combo Pack of 02 Trendy Sneakers Casuals Fo...', 'Smart Casuals Canvas Shoes Combo pack of 2 Sneakers For...', 'Combo Pack of 2 Latest Collection Stylish Casual Loafer...', 'Sneakers For Men', \"Casual shoes,Sneakers for men's,shoes for men's Sneaker...\", 'Combo Pack Of 4 Canvas Sneakers For Men', '5011-Latest Collection Stylish Casual Loafer Sneakers S...', 'Speed Set of 5 Pairs Sneakers Outdoors Casuals for Men ...', \"Casual , Partywear Sneakers Shoes For Men's And Boys Wh...\", 'EASY VULC 2.0 Sneakers For Men', \"casual , Partywear Sneakers Shoes For Men's and Boys bl...\", 'shoes for boys | sports shoes for men | Latest Stylish ...', '170 Smart Grey Lace-Ups Casuals for Men Sneakers For Me...', 'Sneakers for men(black_7) Sneakers For Men', 'Combo Pack Of 2 Sneakers For Men', 'Casual Loafers, Sneakers Shoes for Men Pack of 5 Combo(...', 'Synthetic Leather Casual Partywear Wedding Sneakers Sho...', 'Sneakers For Men', 'Smart Casuals Canvas Shoes Combo pack of 2 Sneakers For...', 'SM-322 Sneakers For Men', 'SM-162 Sneakers For Men', '168 Smart Red Lace-Ups Casuals for Men Sneakers For Men', 'White Sneaker for Men Sneakers For Men', 'Combo Pack of 2 Casual Shoes Sneakers For Men', 'Combo Pack of 4 Casual Sneakers With Sneakers For Men', 'Combo Pack of 4 Latest Collection Stylish Casual Loafer...', 'Combo pack of 2 casual sneaker shoes for men Sneakers F...', \"White Sneaker For Men's/Boy's Sneakers For Men\", '171 Smart Tan Lace-Ups Casuals for Men Sneakers For Men', 'Chevit Trendy Fashion Sports Combo Pack of 3 Pairs Outd...', 'Sneakers For Men', 'White Sneakers Sneakers For Men', 'Trendy and Stylish Combo Pack of 3 Casual Shoes Sneaker...', 'Lightweight Combo Pack of 02 Trendy Sneakers Casuals Fo...', 'Smart Casuals Canvas Shoes Combo pack of 2 Sneakers For...', 'Combo Pack of 2 Latest Collection Stylish Casual Loafer...', 'Sneakers For Men', \"Casual shoes,Sneakers for men's,shoes for men's Sneaker...\", 'Combo Pack Of 4 Canvas Sneakers For Men', '5011-Latest Collection Stylish Casual Loafer Sneakers S...', 'Speed Set of 5 Pairs Sneakers Outdoors Casuals for Men ...', \"Casual , Partywear Sneakers Shoes For Men's And Boys Wh...\", 'EASY VULC 2.0 Sneakers For Men', \"casual , Partywear Sneakers Shoes For Men's and Boys bl...\", 'shoes for boys | sports shoes for men | Latest Stylish ...', '170 Smart Grey Lace-Ups Casuals for Men Sneakers For Me...', 'Sneakers for men(black_7) Sneakers For Men', 'Combo Pack Of 2 Sneakers For Men', 'Casual Loafers, Sneakers Shoes for Men Pack of 5 Combo(...', 'Synthetic Leather Casual Partywear Wedding Sneakers Sho...', 'Sneakers For Men', 'Smart Casuals Canvas Shoes Combo pack of 2 Sneakers For...', 'SM-322 Sneakers For Men', 'SM-162 Sneakers For Men', '168 Smart Red Lace-Ups Casuals for Men Sneakers For Men', 'White Sneaker for Men Sneakers For Men', 'Combo Pack of 2 Casual Shoes Sneakers For Men', 'Combo Pack of 4 Casual Sneakers With Sneakers For Men', 'Combo Pack of 4 Latest Collection Stylish Casual Loafer...', 'Combo pack of 2 casual sneaker shoes for men Sneakers F...', \"White Sneaker For Men's/Boy's Sneakers For Men\", '171 Smart Tan Lace-Ups Casuals for Men Sneakers For Men', 'Chevit Trendy Fashion Sports Combo Pack of 3 Pairs Outd...', 'Sneakers For Men', 'White Sneakers Sneakers For Men', 'Trendy and Stylish Combo Pack of 3 Casual Shoes Sneaker...', 'Lightweight Combo Pack of 02 Trendy Sneakers Casuals Fo...', 'Smart Casuals Canvas Shoes Combo pack of 2 Sneakers For...', 'Combo Pack of 2 Latest Collection Stylish Casual Loafer...', 'Sneakers For Men', \"Casual shoes,Sneakers for men's,shoes for men's Sneaker...\", 'Combo Pack Of 4 Canvas Sneakers For Men', '5011-Latest Collection Stylish Casual Loafer Sneakers S...', 'Speed Set of 5 Pairs Sneakers Outdoors Casuals for Men ...', \"Casual , Partywear Sneakers Shoes For Men's And Boys Wh...\", 'EASY VULC 2.0 Sneakers For Men', \"casual , Partywear Sneakers Shoes For Men's and Boys bl...\", 'shoes for boys | sports shoes for men | Latest Stylish ...', '170 Smart Grey Lace-Ups Casuals for Men Sneakers For Me...', 'Sneakers for men(black_7) Sneakers For Men', 'Combo Pack Of 2 Sneakers For Men', 'Casual Loafers, Sneakers Shoes for Men Pack of 5 Combo(...', 'Synthetic Leather Casual Partywear Wedding Sneakers Sho...', 'Sneakers For Men', 'Smart Casuals Canvas Shoes Combo pack of 2 Sneakers For...', 'SM-322 Sneakers For Men', 'SM-162 Sneakers For Men', '168 Smart Red Lace-Ups Casuals for Men Sneakers For Men', 'White Sneaker for Men Sneakers For Men', 'Combo Pack of 2 Casual Shoes Sneakers For Men', 'Combo Pack of 4 Casual Sneakers With Sneakers For Men', 'Combo Pack of 4 Latest Collection Stylish Casual Loafer...', 'Combo pack of 2 casual sneaker shoes for men Sneakers F...', \"White Sneaker For Men's/Boy's Sneakers For Men\", '171 Smart Tan Lace-Ups Casuals for Men Sneakers For Men', 'Chevit Trendy Fashion Sports Combo Pack of 3 Pairs Outd...', 'Sneakers For Men', 'White Sneakers Sneakers For Men', 'Trendy and Stylish Combo Pack of 3 Casual Shoes Sneaker...', 'Lightweight Combo Pack of 02 Trendy Sneakers Casuals Fo...', 'Smart Casuals Canvas Shoes Combo pack of 2 Sneakers For...', 'Combo Pack of 2 Latest Collection Stylish Casual Loafer...', 'Sneakers For Men', \"Casual shoes,Sneakers for men's,shoes for men's Sneaker...\", 'Combo Pack Of 4 Canvas Sneakers For Men', '5011-Latest Collection Stylish Casual Loafer Sneakers S...', 'Speed Set of 5 Pairs Sneakers Outdoors Casuals for Men ...', \"Casual , Partywear Sneakers Shoes For Men's And Boys Wh...\", 'EASY VULC 2.0 Sneakers For Men', \"casual , Partywear Sneakers Shoes For Men's and Boys bl...\", 'shoes for boys | sports shoes for men | Latest Stylish ...', '170 Smart Grey Lace-Ups Casuals for Men Sneakers For Me...', 'Sneakers for men(black_7) Sneakers For Men', 'Combo Pack Of 2 Sneakers For Men', 'Casual Loafers, Sneakers Shoes for Men Pack of 5 Combo(...', 'Synthetic Leather Casual Partywear Wedding Sneakers Sho...', 'Sneakers For Men', 'Smart Casuals Canvas Shoes Combo pack of 2 Sneakers For...', 'SM-322 Sneakers For Men', 'SM-162 Sneakers For Men', '168 Smart Red Lace-Ups Casuals for Men Sneakers For Men', 'White Sneaker for Men Sneakers For Men', 'Combo Pack of 2 Casual Shoes Sneakers For Men', 'Combo Pack of 4 Casual Sneakers With Sneakers For Men', 'Combo Pack of 4 Latest Collection Stylish Casual Loafer...', 'Combo pack of 2 casual sneaker shoes for men Sneakers F...', \"White Sneaker For Men's/Boy's Sneakers For Men\", '171 Smart Tan Lace-Ups Casuals for Men Sneakers For Men', 'Chevit Trendy Fashion Sports Combo Pack of 3 Pairs Outd...', 'Sneakers For Men', 'White Sneakers Sneakers For Men', 'Trendy and Stylish Combo Pack of 3 Casual Shoes Sneaker...', 'Lightweight Combo Pack of 02 Trendy Sneakers Casuals Fo...', 'Smart Casuals Canvas Shoes Combo pack of 2 Sneakers For...', 'Combo Pack of 2 Latest Collection Stylish Casual Loafer...', 'Sneakers For Men', \"Casual shoes,Sneakers for men's,shoes for men's Sneaker...\", 'Combo Pack Of 4 Canvas Sneakers For Men', '5011-Latest Collection Stylish Casual Loafer Sneakers S...', 'Speed Set of 5 Pairs Sneakers Outdoors Casuals for Men ...', \"Casual , Partywear Sneakers Shoes For Men's And Boys Wh...\", 'EASY VULC 2.0 Sneakers For Men', \"casual , Partywear Sneakers Shoes For Men's and Boys bl...\", 'shoes for boys | sports shoes for men | Latest Stylish ...', '170 Smart Grey Lace-Ups Casuals for Men Sneakers For Me...', 'Sneakers for men(black_7) Sneakers For Men', 'Combo Pack Of 2 Sneakers For Men', 'Casual Loafers, Sneakers Shoes for Men Pack of 5 Combo(...', 'Synthetic Leather Casual Partywear Wedding Sneakers Sho...', 'Sneakers For Men', 'Smart Casuals Canvas Shoes Combo pack of 2 Sneakers For...', 'SM-322 Sneakers For Men', 'SM-162 Sneakers For Men', '168 Smart Red Lace-Ups Casuals for Men Sneakers For Men', 'White Sneaker for Men Sneakers For Men', 'Combo Pack of 2 Casual Shoes Sneakers For Men', 'Combo Pack of 4 Casual Sneakers With Sneakers For Men', 'Combo Pack of 4 Latest Collection Stylish Casual Loafer...', 'Combo pack of 2 casual sneaker shoes for men Sneakers F...', \"White Sneaker For Men's/Boy's Sneakers For Men\", '171 Smart Tan Lace-Ups Casuals for Men Sneakers For Men', 'Chevit Trendy Fashion Sports Combo Pack of 3 Pairs Outd...', 'Sneakers For Men', 'White Sneakers Sneakers For Men', 'Trendy and Stylish Combo Pack of 3 Casual Shoes Sneaker...', 'Lightweight Combo Pack of 02 Trendy Sneakers Casuals Fo...', 'Smart Casuals Canvas Shoes Combo pack of 2 Sneakers For...', 'Combo Pack of 2 Latest Collection Stylish Casual Loafer...', 'Sneakers For Men', \"Casual shoes,Sneakers for men's,shoes for men's Sneaker...\", 'Combo Pack Of 4 Canvas Sneakers For Men', '5011-Latest Collection Stylish Casual Loafer Sneakers S...', 'Speed Set of 5 Pairs Sneakers Outdoors Casuals for Men ...', \"Casual , Partywear Sneakers Shoes For Men's And Boys Wh...\", 'EASY VULC 2.0 Sneakers For Men', \"casual , Partywear Sneakers Shoes For Men's and Boys bl...\", 'shoes for boys | sports shoes for men | Latest Stylish ...', '170 Smart Grey Lace-Ups Casuals for Men Sneakers For Me...', 'Sneakers for men(black_7) Sneakers For Men', 'Combo Pack Of 2 Sneakers For Men', 'Casual Loafers, Sneakers Shoes for Men Pack of 5 Combo(...', 'Synthetic Leather Casual Partywear Wedding Sneakers Sho...', 'Sneakers For Men', 'Smart Casuals Canvas Shoes Combo pack of 2 Sneakers For...', 'SM-322 Sneakers For Men', 'SM-162 Sneakers For Men', '168 Smart Red Lace-Ups Casuals for Men Sneakers For Men', 'White Sneaker for Men Sneakers For Men', 'Combo Pack of 2 Casual Shoes Sneakers For Men', 'Combo Pack of 4 Casual Sneakers With Sneakers For Men', 'Combo Pack of 4 Latest Collection Stylish Casual Loafer...', 'Combo pack of 2 casual sneaker shoes for men Sneakers F...', \"White Sneaker For Men's/Boy's Sneakers For Men\", '171 Smart Tan Lace-Ups Casuals for Men Sneakers For Men', 'Chevit Trendy Fashion Sports Combo Pack of 3 Pairs Outd...', 'Sneakers For Men', 'White Sneakers Sneakers For Men', 'Trendy and Stylish Combo Pack of 3 Casual Shoes Sneaker...', 'Lightweight Combo Pack of 02 Trendy Sneakers Casuals Fo...', 'Smart Casuals Canvas Shoes Combo pack of 2 Sneakers For...', 'Combo Pack of 2 Latest Collection Stylish Casual Loafer...', 'Sneakers For Men', \"Casual shoes,Sneakers for men's,shoes for men's Sneaker...\", 'Combo Pack Of 4 Canvas Sneakers For Men', '5011-Latest Collection Stylish Casual Loafer Sneakers S...', 'Speed Set of 5 Pairs Sneakers Outdoors Casuals for Men ...', \"Casual , Partywear Sneakers Shoes For Men's And Boys Wh...\", 'EASY VULC 2.0 Sneakers For Men', \"casual , Partywear Sneakers Shoes For Men's and Boys bl...\", 'shoes for boys | sports shoes for men | Latest Stylish ...', '170 Smart Grey Lace-Ups Casuals for Men Sneakers For Me...', 'Sneakers for men(black_7) Sneakers For Men', 'Combo Pack Of 2 Sneakers For Men', 'Casual Loafers, Sneakers Shoes for Men Pack of 5 Combo(...', 'Synthetic Leather Casual Partywear Wedding Sneakers Sho...', 'Sneakers For Men', 'Smart Casuals Canvas Shoes Combo pack of 2 Sneakers For...', 'SM-322 Sneakers For Men', 'SM-162 Sneakers For Men', '168 Smart Red Lace-Ups Casuals for Men Sneakers For Men', 'White Sneaker for Men Sneakers For Men']\n"
     ]
    }
   ],
   "source": [
    "for pages in range(0,10):\n",
    "    \n",
    "    tags=driver.find_elements_by_xpath(\"//a[@class='IRpwTa']\")\n",
    "    \n",
    "    \n",
    "    for i in tags:\n",
    "        Rat=i.text\n",
    "        Desc.append(Rat)\n",
    "        \n",
    "    driver.find_elements_by_xpath(\"//a[@class='ge-49M']\")\n",
    "        \n",
    "    \n",
    "    \n",
    "print(Desc)"
   ]
  },
  {
   "cell_type": "code",
   "execution_count": 56,
   "metadata": {},
   "outputs": [
    {
     "name": "stdout",
     "output_type": "stream",
     "text": [
      "['50% off', '70% off', '76% off', '60% off', '76% off', '60% off', '65% off', '52% off', '64% off', '65% off', '62% off', '65% off', '53% off', '50% off', '70% off', '70% off', '70% off', '63% off', '85% off', '52% off', '54% off', '67% off', '44% off', '54% off', '60% off', '60% off', '39% off', '52% off', '55% off', '60% off', '69% off', '62% off', '57% off', '57% off', '70% off', '18% off', '17% off', '50% off', '52% off', '69% off', '50% off', '70% off', '76% off', '60% off', '76% off', '60% off', '65% off', '52% off', '64% off', '65% off', '62% off', '65% off', '53% off', '50% off', '70% off', '70% off', '70% off', '63% off', '85% off', '52% off', '54% off', '67% off', '44% off', '54% off', '60% off', '60% off', '39% off', '52% off', '55% off', '60% off', '69% off', '62% off', '57% off', '57% off', '70% off', '18% off', '17% off', '50% off', '52% off', '69% off', '50% off', '70% off', '76% off', '60% off', '76% off', '60% off', '65% off', '52% off', '64% off', '65% off', '62% off', '65% off', '53% off', '50% off', '70% off', '70% off', '70% off', '63% off', '85% off', '52% off', '54% off', '67% off', '44% off', '54% off', '60% off', '60% off', '39% off', '52% off', '55% off', '60% off', '69% off', '62% off', '57% off', '57% off', '70% off', '18% off', '17% off', '50% off', '52% off', '69% off', '50% off', '70% off', '76% off', '60% off', '76% off', '60% off', '65% off', '52% off', '64% off', '65% off', '62% off', '65% off', '53% off', '50% off', '70% off', '70% off', '70% off', '63% off', '85% off', '52% off', '54% off', '67% off', '44% off', '54% off', '60% off', '60% off', '39% off', '52% off', '55% off', '60% off', '69% off', '62% off', '57% off', '57% off', '70% off', '18% off', '17% off', '50% off', '52% off', '69% off', '50% off', '70% off', '76% off', '60% off', '76% off', '60% off', '65% off', '52% off', '64% off', '65% off', '62% off', '65% off', '53% off', '50% off', '70% off', '70% off', '70% off', '63% off', '85% off', '52% off', '54% off', '67% off', '44% off', '54% off', '60% off', '60% off', '39% off', '52% off', '55% off', '60% off', '69% off', '62% off', '57% off', '57% off', '70% off', '18% off', '17% off', '50% off', '52% off', '69% off', '50% off', '70% off', '76% off', '60% off', '76% off', '60% off', '65% off', '52% off', '64% off', '65% off', '62% off', '65% off', '53% off', '50% off', '70% off', '70% off', '70% off', '63% off', '85% off', '52% off', '54% off', '67% off', '44% off', '54% off', '60% off', '60% off', '39% off', '52% off', '55% off', '60% off', '69% off', '62% off', '57% off', '57% off', '70% off', '18% off', '17% off', '50% off', '52% off', '69% off', '50% off', '70% off', '76% off', '60% off', '76% off', '60% off', '65% off', '52% off', '64% off', '65% off', '62% off', '65% off', '53% off', '50% off', '70% off', '70% off', '70% off', '63% off', '85% off', '52% off', '54% off', '67% off', '44% off', '54% off', '60% off', '60% off', '39% off', '52% off', '55% off', '60% off', '69% off', '62% off', '57% off', '57% off', '70% off', '18% off', '17% off', '50% off', '52% off', '69% off', '50% off', '70% off', '76% off', '60% off', '76% off', '60% off', '65% off', '52% off', '64% off', '65% off', '62% off', '65% off', '53% off', '50% off', '70% off', '70% off', '70% off', '63% off', '85% off', '52% off', '54% off', '67% off', '44% off', '54% off', '60% off', '60% off', '39% off', '52% off', '55% off', '60% off', '69% off', '62% off', '57% off', '57% off', '70% off', '18% off', '17% off', '50% off', '52% off', '69% off', '50% off', '70% off', '76% off', '60% off', '76% off', '60% off', '65% off', '52% off', '64% off', '65% off', '62% off', '65% off', '53% off', '50% off', '70% off', '70% off', '70% off', '63% off', '85% off', '52% off', '54% off', '67% off', '44% off', '54% off', '60% off', '60% off', '39% off', '52% off', '55% off', '60% off', '69% off', '62% off', '57% off', '57% off', '70% off', '18% off', '17% off', '50% off', '52% off', '69% off', '50% off', '70% off', '76% off', '60% off', '76% off', '60% off', '65% off', '52% off', '64% off', '65% off', '62% off', '65% off', '53% off', '50% off', '70% off', '70% off', '70% off', '63% off', '85% off', '52% off', '54% off', '67% off', '44% off', '54% off', '60% off', '60% off', '39% off', '52% off', '55% off', '60% off', '69% off', '62% off', '57% off', '57% off', '70% off', '18% off', '17% off', '50% off', '52% off', '69% off']\n"
     ]
    }
   ],
   "source": [
    "for pages in range(0,10):\n",
    "    \n",
    "    tags=driver.find_elements_by_xpath(\"//div[@class='_3Ay6Sb']/span\")\n",
    "    \n",
    "    \n",
    "    for i in tags:\n",
    "        Discount.append(i.text)\n",
    "        \n",
    "    driver.find_elements_by_xpath(\"//a[@class='ge-49M']\")\n",
    "        \n",
    "    \n",
    "    \n",
    "print(Discount)"
   ]
  },
  {
   "cell_type": "code",
   "execution_count": 57,
   "metadata": {
    "scrolled": false
   },
   "outputs": [
    {
     "name": "stdout",
     "output_type": "stream",
     "text": [
      "['Combo Pack of 2 Casual Shoes Sneakers For Men', 'Combo Pack of 4 Casual Sneakers With Sneakers For Men', 'Combo Pack of 4 Latest Collection Stylish Casual Loafer...', 'Combo pack of 2 casual sneaker shoes for men Sneakers F...', \"White Sneaker For Men's/Boy's Sneakers For Men\", '171 Smart Tan Lace-Ups Casuals for Men Sneakers For Men', 'Chevit Trendy Fashion Sports Combo Pack of 3 Pairs Outd...', 'Sneakers For Men', 'White Sneakers Sneakers For Men', 'Trendy and Stylish Combo Pack of 3 Casual Shoes Sneaker...', 'Lightweight Combo Pack of 02 Trendy Sneakers Casuals Fo...', 'Smart Casuals Canvas Shoes Combo pack of 2 Sneakers For...', 'Combo Pack of 2 Latest Collection Stylish Casual Loafer...', 'Sneakers For Men', \"Casual shoes,Sneakers for men's,shoes for men's Sneaker...\", 'Combo Pack Of 4 Canvas Sneakers For Men', '5011-Latest Collection Stylish Casual Loafer Sneakers S...', 'Speed Set of 5 Pairs Sneakers Outdoors Casuals for Men ...', \"Casual , Partywear Sneakers Shoes For Men's And Boys Wh...\", 'EASY VULC 2.0 Sneakers For Men', \"casual , Partywear Sneakers Shoes For Men's and Boys bl...\", 'shoes for boys | sports shoes for men | Latest Stylish ...', '170 Smart Grey Lace-Ups Casuals for Men Sneakers For Me...', 'Sneakers for men(black_7) Sneakers For Men', 'Combo Pack Of 2 Sneakers For Men', 'Casual Loafers, Sneakers Shoes for Men Pack of 5 Combo(...', 'Synthetic Leather Casual Partywear Wedding Sneakers Sho...', 'Sneakers For Men', 'Smart Casuals Canvas Shoes Combo pack of 2 Sneakers For...', 'SM-322 Sneakers For Men', 'SM-162 Sneakers For Men', '168 Smart Red Lace-Ups Casuals for Men Sneakers For Men', 'White Sneaker for Men Sneakers For Men', 'Combo Pack of 2 Casual Shoes Sneakers For Men', 'Combo Pack of 4 Casual Sneakers With Sneakers For Men', 'Combo Pack of 4 Latest Collection Stylish Casual Loafer...', 'Combo pack of 2 casual sneaker shoes for men Sneakers F...', \"White Sneaker For Men's/Boy's Sneakers For Men\", '171 Smart Tan Lace-Ups Casuals for Men Sneakers For Men', 'Chevit Trendy Fashion Sports Combo Pack of 3 Pairs Outd...', 'Sneakers For Men', 'White Sneakers Sneakers For Men', 'Trendy and Stylish Combo Pack of 3 Casual Shoes Sneaker...', 'Lightweight Combo Pack of 02 Trendy Sneakers Casuals Fo...', 'Smart Casuals Canvas Shoes Combo pack of 2 Sneakers For...', 'Combo Pack of 2 Latest Collection Stylish Casual Loafer...', 'Sneakers For Men', \"Casual shoes,Sneakers for men's,shoes for men's Sneaker...\", 'Combo Pack Of 4 Canvas Sneakers For Men', '5011-Latest Collection Stylish Casual Loafer Sneakers S...', 'Speed Set of 5 Pairs Sneakers Outdoors Casuals for Men ...', \"Casual , Partywear Sneakers Shoes For Men's And Boys Wh...\", 'EASY VULC 2.0 Sneakers For Men', \"casual , Partywear Sneakers Shoes For Men's and Boys bl...\", 'shoes for boys | sports shoes for men | Latest Stylish ...', '170 Smart Grey Lace-Ups Casuals for Men Sneakers For Me...', 'Sneakers for men(black_7) Sneakers For Men', 'Combo Pack Of 2 Sneakers For Men', 'Casual Loafers, Sneakers Shoes for Men Pack of 5 Combo(...', 'Synthetic Leather Casual Partywear Wedding Sneakers Sho...', 'Sneakers For Men', 'Smart Casuals Canvas Shoes Combo pack of 2 Sneakers For...', 'SM-322 Sneakers For Men', 'SM-162 Sneakers For Men', '168 Smart Red Lace-Ups Casuals for Men Sneakers For Men', 'White Sneaker for Men Sneakers For Men', 'Combo Pack of 2 Casual Shoes Sneakers For Men', 'Combo Pack of 4 Casual Sneakers With Sneakers For Men', 'Combo Pack of 4 Latest Collection Stylish Casual Loafer...', 'Combo pack of 2 casual sneaker shoes for men Sneakers F...', \"White Sneaker For Men's/Boy's Sneakers For Men\", '171 Smart Tan Lace-Ups Casuals for Men Sneakers For Men', 'Chevit Trendy Fashion Sports Combo Pack of 3 Pairs Outd...', 'Sneakers For Men', 'White Sneakers Sneakers For Men', 'Trendy and Stylish Combo Pack of 3 Casual Shoes Sneaker...', 'Lightweight Combo Pack of 02 Trendy Sneakers Casuals Fo...', 'Smart Casuals Canvas Shoes Combo pack of 2 Sneakers For...', 'Combo Pack of 2 Latest Collection Stylish Casual Loafer...', 'Sneakers For Men', \"Casual shoes,Sneakers for men's,shoes for men's Sneaker...\", 'Combo Pack Of 4 Canvas Sneakers For Men', '5011-Latest Collection Stylish Casual Loafer Sneakers S...', 'Speed Set of 5 Pairs Sneakers Outdoors Casuals for Men ...', \"Casual , Partywear Sneakers Shoes For Men's And Boys Wh...\", 'EASY VULC 2.0 Sneakers For Men', \"casual , Partywear Sneakers Shoes For Men's and Boys bl...\", 'shoes for boys | sports shoes for men | Latest Stylish ...', '170 Smart Grey Lace-Ups Casuals for Men Sneakers For Me...', 'Sneakers for men(black_7) Sneakers For Men', 'Combo Pack Of 2 Sneakers For Men', 'Casual Loafers, Sneakers Shoes for Men Pack of 5 Combo(...', 'Synthetic Leather Casual Partywear Wedding Sneakers Sho...', 'Sneakers For Men', 'Smart Casuals Canvas Shoes Combo pack of 2 Sneakers For...', 'SM-322 Sneakers For Men', 'SM-162 Sneakers For Men', '168 Smart Red Lace-Ups Casuals for Men Sneakers For Men', 'White Sneaker for Men Sneakers For Men', 'Combo Pack of 2 Casual Shoes Sneakers For Men', 'Combo Pack of 4 Casual Sneakers With Sneakers For Men', 'Combo Pack of 4 Latest Collection Stylish Casual Loafer...', 'Combo pack of 2 casual sneaker shoes for men Sneakers F...', \"White Sneaker For Men's/Boy's Sneakers For Men\", '171 Smart Tan Lace-Ups Casuals for Men Sneakers For Men', 'Chevit Trendy Fashion Sports Combo Pack of 3 Pairs Outd...', 'Sneakers For Men', 'White Sneakers Sneakers For Men', 'Trendy and Stylish Combo Pack of 3 Casual Shoes Sneaker...', 'Lightweight Combo Pack of 02 Trendy Sneakers Casuals Fo...', 'Smart Casuals Canvas Shoes Combo pack of 2 Sneakers For...', 'Combo Pack of 2 Latest Collection Stylish Casual Loafer...', 'Sneakers For Men', \"Casual shoes,Sneakers for men's,shoes for men's Sneaker...\", 'Combo Pack Of 4 Canvas Sneakers For Men', '5011-Latest Collection Stylish Casual Loafer Sneakers S...', 'Speed Set of 5 Pairs Sneakers Outdoors Casuals for Men ...', \"Casual , Partywear Sneakers Shoes For Men's And Boys Wh...\", 'EASY VULC 2.0 Sneakers For Men', \"casual , Partywear Sneakers Shoes For Men's and Boys bl...\", 'shoes for boys | sports shoes for men | Latest Stylish ...', '170 Smart Grey Lace-Ups Casuals for Men Sneakers For Me...', 'Sneakers for men(black_7) Sneakers For Men', 'Combo Pack Of 2 Sneakers For Men', 'Casual Loafers, Sneakers Shoes for Men Pack of 5 Combo(...', 'Synthetic Leather Casual Partywear Wedding Sneakers Sho...', 'Sneakers For Men', 'Smart Casuals Canvas Shoes Combo pack of 2 Sneakers For...', 'SM-322 Sneakers For Men', 'SM-162 Sneakers For Men', '168 Smart Red Lace-Ups Casuals for Men Sneakers For Men', 'White Sneaker for Men Sneakers For Men', 'Combo Pack of 2 Casual Shoes Sneakers For Men', 'Combo Pack of 4 Casual Sneakers With Sneakers For Men', 'Combo Pack of 4 Latest Collection Stylish Casual Loafer...', 'Combo pack of 2 casual sneaker shoes for men Sneakers F...', \"White Sneaker For Men's/Boy's Sneakers For Men\", '171 Smart Tan Lace-Ups Casuals for Men Sneakers For Men', 'Chevit Trendy Fashion Sports Combo Pack of 3 Pairs Outd...', 'Sneakers For Men', 'White Sneakers Sneakers For Men', 'Trendy and Stylish Combo Pack of 3 Casual Shoes Sneaker...', 'Lightweight Combo Pack of 02 Trendy Sneakers Casuals Fo...', 'Smart Casuals Canvas Shoes Combo pack of 2 Sneakers For...', 'Combo Pack of 2 Latest Collection Stylish Casual Loafer...', 'Sneakers For Men', \"Casual shoes,Sneakers for men's,shoes for men's Sneaker...\", 'Combo Pack Of 4 Canvas Sneakers For Men', '5011-Latest Collection Stylish Casual Loafer Sneakers S...', 'Speed Set of 5 Pairs Sneakers Outdoors Casuals for Men ...', \"Casual , Partywear Sneakers Shoes For Men's And Boys Wh...\", 'EASY VULC 2.0 Sneakers For Men', \"casual , Partywear Sneakers Shoes For Men's and Boys bl...\", 'shoes for boys | sports shoes for men | Latest Stylish ...', '170 Smart Grey Lace-Ups Casuals for Men Sneakers For Me...', 'Sneakers for men(black_7) Sneakers For Men', 'Combo Pack Of 2 Sneakers For Men', 'Casual Loafers, Sneakers Shoes for Men Pack of 5 Combo(...', 'Synthetic Leather Casual Partywear Wedding Sneakers Sho...', 'Sneakers For Men', 'Smart Casuals Canvas Shoes Combo pack of 2 Sneakers For...', 'SM-322 Sneakers For Men', 'SM-162 Sneakers For Men', '168 Smart Red Lace-Ups Casuals for Men Sneakers For Men', 'White Sneaker for Men Sneakers For Men', 'Combo Pack of 2 Casual Shoes Sneakers For Men', 'Combo Pack of 4 Casual Sneakers With Sneakers For Men', 'Combo Pack of 4 Latest Collection Stylish Casual Loafer...', 'Combo pack of 2 casual sneaker shoes for men Sneakers F...', \"White Sneaker For Men's/Boy's Sneakers For Men\", '171 Smart Tan Lace-Ups Casuals for Men Sneakers For Men', 'Chevit Trendy Fashion Sports Combo Pack of 3 Pairs Outd...', 'Sneakers For Men', 'White Sneakers Sneakers For Men', 'Trendy and Stylish Combo Pack of 3 Casual Shoes Sneaker...', 'Lightweight Combo Pack of 02 Trendy Sneakers Casuals Fo...', 'Smart Casuals Canvas Shoes Combo pack of 2 Sneakers For...', 'Combo Pack of 2 Latest Collection Stylish Casual Loafer...', 'Sneakers For Men', \"Casual shoes,Sneakers for men's,shoes for men's Sneaker...\", 'Combo Pack Of 4 Canvas Sneakers For Men', '5011-Latest Collection Stylish Casual Loafer Sneakers S...', 'Speed Set of 5 Pairs Sneakers Outdoors Casuals for Men ...', \"Casual , Partywear Sneakers Shoes For Men's And Boys Wh...\", 'EASY VULC 2.0 Sneakers For Men', \"casual , Partywear Sneakers Shoes For Men's and Boys bl...\", 'shoes for boys | sports shoes for men | Latest Stylish ...', '170 Smart Grey Lace-Ups Casuals for Men Sneakers For Me...', 'Sneakers for men(black_7) Sneakers For Men', 'Combo Pack Of 2 Sneakers For Men', 'Casual Loafers, Sneakers Shoes for Men Pack of 5 Combo(...', 'Synthetic Leather Casual Partywear Wedding Sneakers Sho...', 'Sneakers For Men', 'Smart Casuals Canvas Shoes Combo pack of 2 Sneakers For...', 'SM-322 Sneakers For Men', 'SM-162 Sneakers For Men', '168 Smart Red Lace-Ups Casuals for Men Sneakers For Men', 'White Sneaker for Men Sneakers For Men', 'Combo Pack of 2 Casual Shoes Sneakers For Men', 'Combo Pack of 4 Casual Sneakers With Sneakers For Men', 'Combo Pack of 4 Latest Collection Stylish Casual Loafer...', 'Combo pack of 2 casual sneaker shoes for men Sneakers F...', \"White Sneaker For Men's/Boy's Sneakers For Men\", '171 Smart Tan Lace-Ups Casuals for Men Sneakers For Men', 'Chevit Trendy Fashion Sports Combo Pack of 3 Pairs Outd...', 'Sneakers For Men', 'White Sneakers Sneakers For Men', 'Trendy and Stylish Combo Pack of 3 Casual Shoes Sneaker...', 'Lightweight Combo Pack of 02 Trendy Sneakers Casuals Fo...', 'Smart Casuals Canvas Shoes Combo pack of 2 Sneakers For...', 'Combo Pack of 2 Latest Collection Stylish Casual Loafer...', 'Sneakers For Men', \"Casual shoes,Sneakers for men's,shoes for men's Sneaker...\", 'Combo Pack Of 4 Canvas Sneakers For Men', '5011-Latest Collection Stylish Casual Loafer Sneakers S...', 'Speed Set of 5 Pairs Sneakers Outdoors Casuals for Men ...', \"Casual , Partywear Sneakers Shoes For Men's And Boys Wh...\", 'EASY VULC 2.0 Sneakers For Men', \"casual , Partywear Sneakers Shoes For Men's and Boys bl...\", 'shoes for boys | sports shoes for men | Latest Stylish ...', '170 Smart Grey Lace-Ups Casuals for Men Sneakers For Me...', 'Sneakers for men(black_7) Sneakers For Men', 'Combo Pack Of 2 Sneakers For Men', 'Casual Loafers, Sneakers Shoes for Men Pack of 5 Combo(...', 'Synthetic Leather Casual Partywear Wedding Sneakers Sho...', 'Sneakers For Men', 'Smart Casuals Canvas Shoes Combo pack of 2 Sneakers For...', 'SM-322 Sneakers For Men', 'SM-162 Sneakers For Men', '168 Smart Red Lace-Ups Casuals for Men Sneakers For Men', 'White Sneaker for Men Sneakers For Men', 'Combo Pack of 2 Casual Shoes Sneakers For Men', 'Combo Pack of 4 Casual Sneakers With Sneakers For Men', 'Combo Pack of 4 Latest Collection Stylish Casual Loafer...', 'Combo pack of 2 casual sneaker shoes for men Sneakers F...', \"White Sneaker For Men's/Boy's Sneakers For Men\", '171 Smart Tan Lace-Ups Casuals for Men Sneakers For Men', 'Chevit Trendy Fashion Sports Combo Pack of 3 Pairs Outd...', 'Sneakers For Men', 'White Sneakers Sneakers For Men', 'Trendy and Stylish Combo Pack of 3 Casual Shoes Sneaker...', 'Lightweight Combo Pack of 02 Trendy Sneakers Casuals Fo...', 'Smart Casuals Canvas Shoes Combo pack of 2 Sneakers For...', 'Combo Pack of 2 Latest Collection Stylish Casual Loafer...', 'Sneakers For Men', \"Casual shoes,Sneakers for men's,shoes for men's Sneaker...\", 'Combo Pack Of 4 Canvas Sneakers For Men', '5011-Latest Collection Stylish Casual Loafer Sneakers S...', 'Speed Set of 5 Pairs Sneakers Outdoors Casuals for Men ...', \"Casual , Partywear Sneakers Shoes For Men's And Boys Wh...\", 'EASY VULC 2.0 Sneakers For Men', \"casual , Partywear Sneakers Shoes For Men's and Boys bl...\", 'shoes for boys | sports shoes for men | Latest Stylish ...', '170 Smart Grey Lace-Ups Casuals for Men Sneakers For Me...', 'Sneakers for men(black_7) Sneakers For Men', 'Combo Pack Of 2 Sneakers For Men', 'Casual Loafers, Sneakers Shoes for Men Pack of 5 Combo(...', 'Synthetic Leather Casual Partywear Wedding Sneakers Sho...', 'Sneakers For Men', 'Smart Casuals Canvas Shoes Combo pack of 2 Sneakers For...', 'SM-322 Sneakers For Men', 'SM-162 Sneakers For Men', '168 Smart Red Lace-Ups Casuals for Men Sneakers For Men', 'White Sneaker for Men Sneakers For Men', 'Combo Pack of 2 Casual Shoes Sneakers For Men', 'Combo Pack of 4 Casual Sneakers With Sneakers For Men', 'Combo Pack of 4 Latest Collection Stylish Casual Loafer...', 'Combo pack of 2 casual sneaker shoes for men Sneakers F...', \"White Sneaker For Men's/Boy's Sneakers For Men\", '171 Smart Tan Lace-Ups Casuals for Men Sneakers For Men', 'Chevit Trendy Fashion Sports Combo Pack of 3 Pairs Outd...', 'Sneakers For Men', 'White Sneakers Sneakers For Men', 'Trendy and Stylish Combo Pack of 3 Casual Shoes Sneaker...', 'Lightweight Combo Pack of 02 Trendy Sneakers Casuals Fo...', 'Smart Casuals Canvas Shoes Combo pack of 2 Sneakers For...', 'Combo Pack of 2 Latest Collection Stylish Casual Loafer...', 'Sneakers For Men', \"Casual shoes,Sneakers for men's,shoes for men's Sneaker...\", 'Combo Pack Of 4 Canvas Sneakers For Men', '5011-Latest Collection Stylish Casual Loafer Sneakers S...', 'Speed Set of 5 Pairs Sneakers Outdoors Casuals for Men ...', \"Casual , Partywear Sneakers Shoes For Men's And Boys Wh...\", 'EASY VULC 2.0 Sneakers For Men', \"casual , Partywear Sneakers Shoes For Men's and Boys bl...\", 'shoes for boys | sports shoes for men | Latest Stylish ...', '170 Smart Grey Lace-Ups Casuals for Men Sneakers For Me...', 'Sneakers for men(black_7) Sneakers For Men', 'Combo Pack Of 2 Sneakers For Men', 'Casual Loafers, Sneakers Shoes for Men Pack of 5 Combo(...', 'Synthetic Leather Casual Partywear Wedding Sneakers Sho...', 'Sneakers For Men', 'Smart Casuals Canvas Shoes Combo pack of 2 Sneakers For...', 'SM-322 Sneakers For Men', 'SM-162 Sneakers For Men', '168 Smart Red Lace-Ups Casuals for Men Sneakers For Men', 'White Sneaker for Men Sneakers For Men', 'Combo Pack of 2 Casual Shoes Sneakers For Men', 'Combo Pack of 4 Casual Sneakers With Sneakers For Men', 'Combo Pack of 4 Latest Collection Stylish Casual Loafer...', 'Combo pack of 2 casual sneaker shoes for men Sneakers F...', \"White Sneaker For Men's/Boy's Sneakers For Men\", '171 Smart Tan Lace-Ups Casuals for Men Sneakers For Men', 'Chevit Trendy Fashion Sports Combo Pack of 3 Pairs Outd...', 'Sneakers For Men', 'White Sneakers Sneakers For Men', 'Trendy and Stylish Combo Pack of 3 Casual Shoes Sneaker...', 'Lightweight Combo Pack of 02 Trendy Sneakers Casuals Fo...', 'Smart Casuals Canvas Shoes Combo pack of 2 Sneakers For...', 'Combo Pack of 2 Latest Collection Stylish Casual Loafer...', 'Sneakers For Men', \"Casual shoes,Sneakers for men's,shoes for men's Sneaker...\", 'Combo Pack Of 4 Canvas Sneakers For Men', '5011-Latest Collection Stylish Casual Loafer Sneakers S...', 'Speed Set of 5 Pairs Sneakers Outdoors Casuals for Men ...', \"Casual , Partywear Sneakers Shoes For Men's And Boys Wh...\", 'EASY VULC 2.0 Sneakers For Men', \"casual , Partywear Sneakers Shoes For Men's and Boys bl...\", 'shoes for boys | sports shoes for men | Latest Stylish ...', '170 Smart Grey Lace-Ups Casuals for Men Sneakers For Me...', 'Sneakers for men(black_7) Sneakers For Men', 'Combo Pack Of 2 Sneakers For Men', 'Casual Loafers, Sneakers Shoes for Men Pack of 5 Combo(...', 'Synthetic Leather Casual Partywear Wedding Sneakers Sho...', 'Sneakers For Men', 'Smart Casuals Canvas Shoes Combo pack of 2 Sneakers For...', 'SM-322 Sneakers For Men', 'SM-162 Sneakers For Men', '168 Smart Red Lace-Ups Casuals for Men Sneakers For Men', 'White Sneaker for Men Sneakers For Men', '₹498₹99950% off', '₹1,318₹4,39570% off', '₹474₹1,99676% off', '₹399₹99960% off', '₹474₹1,99676% off', '₹398₹99860% off', '₹349₹99965% off', '₹236₹49952% off', '₹630₹1,79864% off', '₹242₹69965% off', '₹379₹99962% off', '₹348₹99965% off', '₹699₹1,49953% off', '₹499₹99850% off', '₹299₹99870% off', '₹299₹99870% off', '₹299₹99970% off', '₹369₹99963% off', '₹499₹3,49985% off', '₹479₹99952% off', '₹228₹49954% off', '₹799₹2,49567% off', '₹368₹65944% off', '₹1,717₹3,79954% off', '₹399₹99960% off', '₹199₹49960% off', '₹601₹99939% off', '₹236₹49952% off', '₹446₹99955% off', '₹399₹99860% off', '₹759₹2,49569% off', '₹379₹99962% off', '₹420₹99957% off', '₹424₹99957% off', '₹299₹99870% off', '₹819₹99918% off', '₹779₹94917% off', '₹499₹99950% off', '₹236₹49952% off', '₹398₹1,29969% off', '₹36963% off', '₹77917% off', '₹49985% off', '₹69982% off', '₹19960% off', '₹498₹99950% off', '₹1,318₹4,39570% off', '₹474₹1,99676% off', '₹399₹99960% off', '₹474₹1,99676% off', '₹398₹99860% off', '₹349₹99965% off', '₹236₹49952% off', '₹630₹1,79864% off', '₹242₹69965% off', '₹379₹99962% off', '₹348₹99965% off', '₹699₹1,49953% off', '₹499₹99850% off', '₹299₹99870% off', '₹299₹99870% off', '₹299₹99970% off', '₹369₹99963% off', '₹499₹3,49985% off', '₹479₹99952% off', '₹228₹49954% off', '₹799₹2,49567% off', '₹368₹65944% off', '₹1,717₹3,79954% off', '₹399₹99960% off', '₹199₹49960% off', '₹601₹99939% off', '₹236₹49952% off', '₹446₹99955% off', '₹399₹99860% off', '₹759₹2,49569% off', '₹379₹99962% off', '₹420₹99957% off', '₹424₹99957% off', '₹299₹99870% off', '₹819₹99918% off', '₹779₹94917% off', '₹499₹99950% off', '₹236₹49952% off', '₹398₹1,29969% off', '₹36963% off', '₹77917% off', '₹49985% off', '₹69982% off', '₹19960% off', '₹498₹99950% off', '₹1,318₹4,39570% off', '₹474₹1,99676% off', '₹399₹99960% off', '₹474₹1,99676% off', '₹398₹99860% off', '₹349₹99965% off', '₹236₹49952% off', '₹630₹1,79864% off', '₹242₹69965% off', '₹379₹99962% off', '₹348₹99965% off', '₹699₹1,49953% off', '₹499₹99850% off', '₹299₹99870% off', '₹299₹99870% off', '₹299₹99970% off', '₹369₹99963% off', '₹499₹3,49985% off', '₹479₹99952% off', '₹228₹49954% off', '₹799₹2,49567% off', '₹368₹65944% off', '₹1,717₹3,79954% off', '₹399₹99960% off', '₹199₹49960% off', '₹601₹99939% off', '₹236₹49952% off', '₹446₹99955% off', '₹399₹99860% off', '₹759₹2,49569% off', '₹379₹99962% off', '₹420₹99957% off', '₹424₹99957% off', '₹299₹99870% off', '₹819₹99918% off', '₹779₹94917% off', '₹499₹99950% off', '₹236₹49952% off', '₹398₹1,29969% off', '₹36963% off', '₹77917% off', '₹49985% off', '₹69982% off', '₹19960% off', '₹498₹99950% off', '₹1,318₹4,39570% off', '₹474₹1,99676% off', '₹399₹99960% off', '₹474₹1,99676% off', '₹398₹99860% off', '₹349₹99965% off', '₹236₹49952% off', '₹630₹1,79864% off', '₹242₹69965% off', '₹379₹99962% off', '₹348₹99965% off', '₹699₹1,49953% off', '₹499₹99850% off', '₹299₹99870% off', '₹299₹99870% off', '₹299₹99970% off', '₹369₹99963% off', '₹499₹3,49985% off', '₹479₹99952% off', '₹228₹49954% off', '₹799₹2,49567% off', '₹368₹65944% off', '₹1,717₹3,79954% off', '₹399₹99960% off', '₹199₹49960% off', '₹601₹99939% off', '₹236₹49952% off', '₹446₹99955% off', '₹399₹99860% off', '₹759₹2,49569% off', '₹379₹99962% off', '₹420₹99957% off', '₹424₹99957% off', '₹299₹99870% off', '₹819₹99918% off', '₹779₹94917% off', '₹499₹99950% off', '₹236₹49952% off', '₹398₹1,29969% off', '₹36963% off', '₹77917% off', '₹49985% off', '₹69982% off', '₹19960% off', '₹498₹99950% off', '₹1,318₹4,39570% off', '₹474₹1,99676% off', '₹399₹99960% off', '₹474₹1,99676% off', '₹398₹99860% off', '₹349₹99965% off', '₹236₹49952% off', '₹630₹1,79864% off', '₹242₹69965% off', '₹379₹99962% off', '₹348₹99965% off', '₹699₹1,49953% off', '₹499₹99850% off', '₹299₹99870% off', '₹299₹99870% off', '₹299₹99970% off', '₹369₹99963% off', '₹499₹3,49985% off', '₹479₹99952% off', '₹228₹49954% off', '₹799₹2,49567% off', '₹368₹65944% off', '₹1,717₹3,79954% off', '₹399₹99960% off', '₹199₹49960% off', '₹601₹99939% off', '₹236₹49952% off', '₹446₹99955% off', '₹399₹99860% off', '₹759₹2,49569% off', '₹379₹99962% off', '₹420₹99957% off', '₹424₹99957% off', '₹299₹99870% off', '₹819₹99918% off', '₹779₹94917% off', '₹499₹99950% off', '₹236₹49952% off', '₹398₹1,29969% off', '₹36963% off', '₹77917% off', '₹49985% off', '₹69982% off', '₹19960% off', '₹498₹99950% off', '₹1,318₹4,39570% off', '₹474₹1,99676% off', '₹399₹99960% off', '₹474₹1,99676% off', '₹398₹99860% off', '₹349₹99965% off', '₹236₹49952% off', '₹630₹1,79864% off', '₹242₹69965% off', '₹379₹99962% off', '₹348₹99965% off', '₹699₹1,49953% off', '₹499₹99850% off', '₹299₹99870% off', '₹299₹99870% off', '₹299₹99970% off', '₹369₹99963% off', '₹499₹3,49985% off', '₹479₹99952% off', '₹228₹49954% off', '₹799₹2,49567% off', '₹368₹65944% off', '₹1,717₹3,79954% off', '₹399₹99960% off', '₹199₹49960% off', '₹601₹99939% off', '₹236₹49952% off', '₹446₹99955% off', '₹399₹99860% off', '₹759₹2,49569% off', '₹379₹99962% off', '₹420₹99957% off', '₹424₹99957% off', '₹299₹99870% off', '₹819₹99918% off', '₹779₹94917% off', '₹499₹99950% off', '₹236₹49952% off', '₹398₹1,29969% off', '₹36963% off', '₹77917% off', '₹49985% off', '₹69982% off', '₹19960% off', '₹498₹99950% off', '₹1,318₹4,39570% off', '₹474₹1,99676% off', '₹399₹99960% off', '₹474₹1,99676% off', '₹398₹99860% off', '₹349₹99965% off', '₹236₹49952% off', '₹630₹1,79864% off', '₹242₹69965% off', '₹379₹99962% off', '₹348₹99965% off', '₹699₹1,49953% off', '₹499₹99850% off', '₹299₹99870% off', '₹299₹99870% off', '₹299₹99970% off', '₹369₹99963% off', '₹499₹3,49985% off', '₹479₹99952% off', '₹228₹49954% off', '₹799₹2,49567% off', '₹368₹65944% off', '₹1,717₹3,79954% off', '₹399₹99960% off', '₹199₹49960% off', '₹601₹99939% off', '₹236₹49952% off', '₹446₹99955% off', '₹399₹99860% off', '₹759₹2,49569% off', '₹379₹99962% off', '₹420₹99957% off', '₹424₹99957% off', '₹299₹99870% off', '₹819₹99918% off', '₹779₹94917% off', '₹499₹99950% off', '₹236₹49952% off', '₹398₹1,29969% off', '₹36963% off', '₹77917% off', '₹49985% off', '₹69982% off', '₹19960% off', '₹498₹99950% off', '₹1,318₹4,39570% off', '₹474₹1,99676% off', '₹399₹99960% off', '₹474₹1,99676% off', '₹398₹99860% off', '₹349₹99965% off', '₹236₹49952% off', '₹630₹1,79864% off', '₹242₹69965% off', '₹379₹99962% off', '₹348₹99965% off', '₹699₹1,49953% off', '₹499₹99850% off', '₹299₹99870% off', '₹299₹99870% off', '₹299₹99970% off', '₹369₹99963% off', '₹499₹3,49985% off', '₹479₹99952% off', '₹228₹49954% off', '₹799₹2,49567% off', '₹368₹65944% off', '₹1,717₹3,79954% off', '₹399₹99960% off', '₹199₹49960% off', '₹601₹99939% off', '₹236₹49952% off', '₹446₹99955% off', '₹399₹99860% off', '₹759₹2,49569% off', '₹379₹99962% off', '₹420₹99957% off', '₹424₹99957% off', '₹299₹99870% off', '₹819₹99918% off', '₹779₹94917% off', '₹499₹99950% off', '₹236₹49952% off', '₹398₹1,29969% off', '₹36963% off', '₹77917% off', '₹49985% off', '₹69982% off', '₹19960% off', '₹498₹99950% off', '₹1,318₹4,39570% off', '₹474₹1,99676% off', '₹399₹99960% off', '₹474₹1,99676% off', '₹398₹99860% off', '₹349₹99965% off', '₹236₹49952% off', '₹630₹1,79864% off', '₹242₹69965% off', '₹379₹99962% off', '₹348₹99965% off', '₹699₹1,49953% off', '₹499₹99850% off', '₹299₹99870% off', '₹299₹99870% off', '₹299₹99970% off', '₹369₹99963% off', '₹499₹3,49985% off', '₹479₹99952% off', '₹228₹49954% off', '₹799₹2,49567% off', '₹368₹65944% off', '₹1,717₹3,79954% off', '₹399₹99960% off', '₹199₹49960% off', '₹601₹99939% off', '₹236₹49952% off', '₹446₹99955% off', '₹399₹99860% off', '₹759₹2,49569% off', '₹379₹99962% off', '₹420₹99957% off', '₹424₹99957% off', '₹299₹99870% off', '₹819₹99918% off', '₹779₹94917% off', '₹499₹99950% off', '₹236₹49952% off', '₹398₹1,29969% off', '₹36963% off', '₹77917% off', '₹49985% off', '₹69982% off', '₹19960% off', '₹498₹99950% off', '₹1,318₹4,39570% off', '₹474₹1,99676% off', '₹399₹99960% off', '₹474₹1,99676% off', '₹398₹99860% off', '₹349₹99965% off', '₹236₹49952% off', '₹630₹1,79864% off', '₹242₹69965% off', '₹379₹99962% off', '₹348₹99965% off', '₹699₹1,49953% off', '₹499₹99850% off', '₹299₹99870% off', '₹299₹99870% off', '₹299₹99970% off', '₹369₹99963% off', '₹499₹3,49985% off', '₹479₹99952% off', '₹228₹49954% off', '₹799₹2,49567% off', '₹368₹65944% off', '₹1,717₹3,79954% off', '₹399₹99960% off', '₹199₹49960% off', '₹601₹99939% off', '₹236₹49952% off', '₹446₹99955% off', '₹399₹99860% off', '₹759₹2,49569% off', '₹379₹99962% off', '₹420₹99957% off', '₹424₹99957% off', '₹299₹99870% off', '₹819₹99918% off', '₹779₹94917% off', '₹499₹99950% off', '₹236₹49952% off', '₹398₹1,29969% off', '₹36963% off', '₹77917% off', '₹49985% off', '₹69982% off', '₹19960% off', 'Combo Pack of 2 Casual Shoes Sneakers For Men', 'Combo Pack of 4 Casual Sneakers With Sneakers For Men', 'Combo Pack of 4 Latest Collection Stylish Casual Loafer...', 'Combo pack of 2 casual sneaker shoes for men Sneakers F...', \"White Sneaker For Men's/Boy's Sneakers For Men\", '171 Smart Tan Lace-Ups Casuals for Men Sneakers For Men', 'Chevit Trendy Fashion Sports Combo Pack of 3 Pairs Outd...', 'Sneakers For Men', 'White Sneakers Sneakers For Men', 'Trendy and Stylish Combo Pack of 3 Casual Shoes Sneaker...', 'Lightweight Combo Pack of 02 Trendy Sneakers Casuals Fo...', 'Smart Casuals Canvas Shoes Combo pack of 2 Sneakers For...', 'Combo Pack of 2 Latest Collection Stylish Casual Loafer...', 'Sneakers For Men', \"Casual shoes,Sneakers for men's,shoes for men's Sneaker...\", 'Combo Pack Of 4 Canvas Sneakers For Men', '5011-Latest Collection Stylish Casual Loafer Sneakers S...', 'Speed Set of 5 Pairs Sneakers Outdoors Casuals for Men ...', \"Casual , Partywear Sneakers Shoes For Men's And Boys Wh...\", 'EASY VULC 2.0 Sneakers For Men', \"casual , Partywear Sneakers Shoes For Men's and Boys bl...\", 'shoes for boys | sports shoes for men | Latest Stylish ...', '170 Smart Grey Lace-Ups Casuals for Men Sneakers For Me...', 'Sneakers for men(black_7) Sneakers For Men', 'Combo Pack Of 2 Sneakers For Men', 'Casual Loafers, Sneakers Shoes for Men Pack of 5 Combo(...', 'Synthetic Leather Casual Partywear Wedding Sneakers Sho...', 'Sneakers For Men', 'Smart Casuals Canvas Shoes Combo pack of 2 Sneakers For...', 'SM-322 Sneakers For Men', 'SM-162 Sneakers For Men', '168 Smart Red Lace-Ups Casuals for Men Sneakers For Men', 'White Sneaker for Men Sneakers For Men', 'Combo Pack of 2 Casual Shoes Sneakers For Men', 'Combo Pack of 4 Casual Sneakers With Sneakers For Men', 'Combo Pack of 4 Latest Collection Stylish Casual Loafer...', 'Combo pack of 2 casual sneaker shoes for men Sneakers F...', \"White Sneaker For Men's/Boy's Sneakers For Men\", '171 Smart Tan Lace-Ups Casuals for Men Sneakers For Men', 'Chevit Trendy Fashion Sports Combo Pack of 3 Pairs Outd...', 'Sneakers For Men', 'White Sneakers Sneakers For Men', 'Trendy and Stylish Combo Pack of 3 Casual Shoes Sneaker...', 'Lightweight Combo Pack of 02 Trendy Sneakers Casuals Fo...', 'Smart Casuals Canvas Shoes Combo pack of 2 Sneakers For...', 'Combo Pack of 2 Latest Collection Stylish Casual Loafer...', 'Sneakers For Men', \"Casual shoes,Sneakers for men's,shoes for men's Sneaker...\", 'Combo Pack Of 4 Canvas Sneakers For Men', '5011-Latest Collection Stylish Casual Loafer Sneakers S...', 'Speed Set of 5 Pairs Sneakers Outdoors Casuals for Men ...', \"Casual , Partywear Sneakers Shoes For Men's And Boys Wh...\", 'EASY VULC 2.0 Sneakers For Men', \"casual , Partywear Sneakers Shoes For Men's and Boys bl...\", 'shoes for boys | sports shoes for men | Latest Stylish ...', '170 Smart Grey Lace-Ups Casuals for Men Sneakers For Me...', 'Sneakers for men(black_7) Sneakers For Men', 'Combo Pack Of 2 Sneakers For Men', 'Casual Loafers, Sneakers Shoes for Men Pack of 5 Combo(...', 'Synthetic Leather Casual Partywear Wedding Sneakers Sho...', 'Sneakers For Men', 'Smart Casuals Canvas Shoes Combo pack of 2 Sneakers For...', 'SM-322 Sneakers For Men', 'SM-162 Sneakers For Men', '168 Smart Red Lace-Ups Casuals for Men Sneakers For Men', 'White Sneaker for Men Sneakers For Men', 'Combo Pack of 2 Casual Shoes Sneakers For Men', 'Combo Pack of 4 Casual Sneakers With Sneakers For Men', 'Combo Pack of 4 Latest Collection Stylish Casual Loafer...', 'Combo pack of 2 casual sneaker shoes for men Sneakers F...', \"White Sneaker For Men's/Boy's Sneakers For Men\", '171 Smart Tan Lace-Ups Casuals for Men Sneakers For Men', 'Chevit Trendy Fashion Sports Combo Pack of 3 Pairs Outd...', 'Sneakers For Men', 'White Sneakers Sneakers For Men', 'Trendy and Stylish Combo Pack of 3 Casual Shoes Sneaker...', 'Lightweight Combo Pack of 02 Trendy Sneakers Casuals Fo...', 'Smart Casuals Canvas Shoes Combo pack of 2 Sneakers For...', 'Combo Pack of 2 Latest Collection Stylish Casual Loafer...', 'Sneakers For Men', \"Casual shoes,Sneakers for men's,shoes for men's Sneaker...\", 'Combo Pack Of 4 Canvas Sneakers For Men', '5011-Latest Collection Stylish Casual Loafer Sneakers S...', 'Speed Set of 5 Pairs Sneakers Outdoors Casuals for Men ...', \"Casual , Partywear Sneakers Shoes For Men's And Boys Wh...\", 'EASY VULC 2.0 Sneakers For Men', \"casual , Partywear Sneakers Shoes For Men's and Boys bl...\", 'shoes for boys | sports shoes for men | Latest Stylish ...', '170 Smart Grey Lace-Ups Casuals for Men Sneakers For Me...', 'Sneakers for men(black_7) Sneakers For Men', 'Combo Pack Of 2 Sneakers For Men', 'Casual Loafers, Sneakers Shoes for Men Pack of 5 Combo(...', 'Synthetic Leather Casual Partywear Wedding Sneakers Sho...', 'Sneakers For Men', 'Smart Casuals Canvas Shoes Combo pack of 2 Sneakers For...', 'SM-322 Sneakers For Men', 'SM-162 Sneakers For Men', '168 Smart Red Lace-Ups Casuals for Men Sneakers For Men', 'White Sneaker for Men Sneakers For Men', 'Combo Pack of 2 Casual Shoes Sneakers For Men', 'Combo Pack of 4 Casual Sneakers With Sneakers For Men', 'Combo Pack of 4 Latest Collection Stylish Casual Loafer...', 'Combo pack of 2 casual sneaker shoes for men Sneakers F...', \"White Sneaker For Men's/Boy's Sneakers For Men\", '171 Smart Tan Lace-Ups Casuals for Men Sneakers For Men', 'Chevit Trendy Fashion Sports Combo Pack of 3 Pairs Outd...', 'Sneakers For Men', 'White Sneakers Sneakers For Men', 'Trendy and Stylish Combo Pack of 3 Casual Shoes Sneaker...', 'Lightweight Combo Pack of 02 Trendy Sneakers Casuals Fo...', 'Smart Casuals Canvas Shoes Combo pack of 2 Sneakers For...', 'Combo Pack of 2 Latest Collection Stylish Casual Loafer...', 'Sneakers For Men', \"Casual shoes,Sneakers for men's,shoes for men's Sneaker...\", 'Combo Pack Of 4 Canvas Sneakers For Men', '5011-Latest Collection Stylish Casual Loafer Sneakers S...', 'Speed Set of 5 Pairs Sneakers Outdoors Casuals for Men ...', \"Casual , Partywear Sneakers Shoes For Men's And Boys Wh...\", 'EASY VULC 2.0 Sneakers For Men', \"casual , Partywear Sneakers Shoes For Men's and Boys bl...\", 'shoes for boys | sports shoes for men | Latest Stylish ...', '170 Smart Grey Lace-Ups Casuals for Men Sneakers For Me...', 'Sneakers for men(black_7) Sneakers For Men', 'Combo Pack Of 2 Sneakers For Men', 'Casual Loafers, Sneakers Shoes for Men Pack of 5 Combo(...', 'Synthetic Leather Casual Partywear Wedding Sneakers Sho...', 'Sneakers For Men', 'Smart Casuals Canvas Shoes Combo pack of 2 Sneakers For...', 'SM-322 Sneakers For Men', 'SM-162 Sneakers For Men', '168 Smart Red Lace-Ups Casuals for Men Sneakers For Men', 'White Sneaker for Men Sneakers For Men', 'Combo Pack of 2 Casual Shoes Sneakers For Men', 'Combo Pack of 4 Casual Sneakers With Sneakers For Men', 'Combo Pack of 4 Latest Collection Stylish Casual Loafer...', 'Combo pack of 2 casual sneaker shoes for men Sneakers F...', \"White Sneaker For Men's/Boy's Sneakers For Men\", '171 Smart Tan Lace-Ups Casuals for Men Sneakers For Men', 'Chevit Trendy Fashion Sports Combo Pack of 3 Pairs Outd...', 'Sneakers For Men', 'White Sneakers Sneakers For Men', 'Trendy and Stylish Combo Pack of 3 Casual Shoes Sneaker...', 'Lightweight Combo Pack of 02 Trendy Sneakers Casuals Fo...', 'Smart Casuals Canvas Shoes Combo pack of 2 Sneakers For...', 'Combo Pack of 2 Latest Collection Stylish Casual Loafer...', 'Sneakers For Men', \"Casual shoes,Sneakers for men's,shoes for men's Sneaker...\", 'Combo Pack Of 4 Canvas Sneakers For Men', '5011-Latest Collection Stylish Casual Loafer Sneakers S...', 'Speed Set of 5 Pairs Sneakers Outdoors Casuals for Men ...', \"Casual , Partywear Sneakers Shoes For Men's And Boys Wh...\", 'EASY VULC 2.0 Sneakers For Men', \"casual , Partywear Sneakers Shoes For Men's and Boys bl...\", 'shoes for boys | sports shoes for men | Latest Stylish ...', '170 Smart Grey Lace-Ups Casuals for Men Sneakers For Me...', 'Sneakers for men(black_7) Sneakers For Men', 'Combo Pack Of 2 Sneakers For Men', 'Casual Loafers, Sneakers Shoes for Men Pack of 5 Combo(...', 'Synthetic Leather Casual Partywear Wedding Sneakers Sho...', 'Sneakers For Men', 'Smart Casuals Canvas Shoes Combo pack of 2 Sneakers For...', 'SM-322 Sneakers For Men', 'SM-162 Sneakers For Men', '168 Smart Red Lace-Ups Casuals for Men Sneakers For Men', 'White Sneaker for Men Sneakers For Men', 'Combo Pack of 2 Casual Shoes Sneakers For Men', 'Combo Pack of 4 Casual Sneakers With Sneakers For Men', 'Combo Pack of 4 Latest Collection Stylish Casual Loafer...', 'Combo pack of 2 casual sneaker shoes for men Sneakers F...', \"White Sneaker For Men's/Boy's Sneakers For Men\", '171 Smart Tan Lace-Ups Casuals for Men Sneakers For Men', 'Chevit Trendy Fashion Sports Combo Pack of 3 Pairs Outd...', 'Sneakers For Men', 'White Sneakers Sneakers For Men', 'Trendy and Stylish Combo Pack of 3 Casual Shoes Sneaker...', 'Lightweight Combo Pack of 02 Trendy Sneakers Casuals Fo...', 'Smart Casuals Canvas Shoes Combo pack of 2 Sneakers For...', 'Combo Pack of 2 Latest Collection Stylish Casual Loafer...', 'Sneakers For Men', \"Casual shoes,Sneakers for men's,shoes for men's Sneaker...\", 'Combo Pack Of 4 Canvas Sneakers For Men', '5011-Latest Collection Stylish Casual Loafer Sneakers S...', 'Speed Set of 5 Pairs Sneakers Outdoors Casuals for Men ...', \"Casual , Partywear Sneakers Shoes For Men's And Boys Wh...\", 'EASY VULC 2.0 Sneakers For Men', \"casual , Partywear Sneakers Shoes For Men's and Boys bl...\", 'shoes for boys | sports shoes for men | Latest Stylish ...', '170 Smart Grey Lace-Ups Casuals for Men Sneakers For Me...', 'Sneakers for men(black_7) Sneakers For Men', 'Combo Pack Of 2 Sneakers For Men', 'Casual Loafers, Sneakers Shoes for Men Pack of 5 Combo(...', 'Synthetic Leather Casual Partywear Wedding Sneakers Sho...', 'Sneakers For Men', 'Smart Casuals Canvas Shoes Combo pack of 2 Sneakers For...', 'SM-322 Sneakers For Men', 'SM-162 Sneakers For Men', '168 Smart Red Lace-Ups Casuals for Men Sneakers For Men', 'White Sneaker for Men Sneakers For Men', 'Combo Pack of 2 Casual Shoes Sneakers For Men', 'Combo Pack of 4 Casual Sneakers With Sneakers For Men', 'Combo Pack of 4 Latest Collection Stylish Casual Loafer...', 'Combo pack of 2 casual sneaker shoes for men Sneakers F...', \"White Sneaker For Men's/Boy's Sneakers For Men\", '171 Smart Tan Lace-Ups Casuals for Men Sneakers For Men', 'Chevit Trendy Fashion Sports Combo Pack of 3 Pairs Outd...', 'Sneakers For Men', 'White Sneakers Sneakers For Men', 'Trendy and Stylish Combo Pack of 3 Casual Shoes Sneaker...', 'Lightweight Combo Pack of 02 Trendy Sneakers Casuals Fo...', 'Smart Casuals Canvas Shoes Combo pack of 2 Sneakers For...', 'Combo Pack of 2 Latest Collection Stylish Casual Loafer...', 'Sneakers For Men', \"Casual shoes,Sneakers for men's,shoes for men's Sneaker...\", 'Combo Pack Of 4 Canvas Sneakers For Men', '5011-Latest Collection Stylish Casual Loafer Sneakers S...', 'Speed Set of 5 Pairs Sneakers Outdoors Casuals for Men ...', \"Casual , Partywear Sneakers Shoes For Men's And Boys Wh...\", 'EASY VULC 2.0 Sneakers For Men', \"casual , Partywear Sneakers Shoes For Men's and Boys bl...\", 'shoes for boys | sports shoes for men | Latest Stylish ...', '170 Smart Grey Lace-Ups Casuals for Men Sneakers For Me...', 'Sneakers for men(black_7) Sneakers For Men', 'Combo Pack Of 2 Sneakers For Men', 'Casual Loafers, Sneakers Shoes for Men Pack of 5 Combo(...', 'Synthetic Leather Casual Partywear Wedding Sneakers Sho...', 'Sneakers For Men', 'Smart Casuals Canvas Shoes Combo pack of 2 Sneakers For...', 'SM-322 Sneakers For Men', 'SM-162 Sneakers For Men', '168 Smart Red Lace-Ups Casuals for Men Sneakers For Men', 'White Sneaker for Men Sneakers For Men', 'Combo Pack of 2 Casual Shoes Sneakers For Men', 'Combo Pack of 4 Casual Sneakers With Sneakers For Men', 'Combo Pack of 4 Latest Collection Stylish Casual Loafer...', 'Combo pack of 2 casual sneaker shoes for men Sneakers F...', \"White Sneaker For Men's/Boy's Sneakers For Men\", '171 Smart Tan Lace-Ups Casuals for Men Sneakers For Men', 'Chevit Trendy Fashion Sports Combo Pack of 3 Pairs Outd...', 'Sneakers For Men', 'White Sneakers Sneakers For Men', 'Trendy and Stylish Combo Pack of 3 Casual Shoes Sneaker...', 'Lightweight Combo Pack of 02 Trendy Sneakers Casuals Fo...', 'Smart Casuals Canvas Shoes Combo pack of 2 Sneakers For...', 'Combo Pack of 2 Latest Collection Stylish Casual Loafer...', 'Sneakers For Men', \"Casual shoes,Sneakers for men's,shoes for men's Sneaker...\", 'Combo Pack Of 4 Canvas Sneakers For Men', '5011-Latest Collection Stylish Casual Loafer Sneakers S...', 'Speed Set of 5 Pairs Sneakers Outdoors Casuals for Men ...', \"Casual , Partywear Sneakers Shoes For Men's And Boys Wh...\", 'EASY VULC 2.0 Sneakers For Men', \"casual , Partywear Sneakers Shoes For Men's and Boys bl...\", 'shoes for boys | sports shoes for men | Latest Stylish ...', '170 Smart Grey Lace-Ups Casuals for Men Sneakers For Me...', 'Sneakers for men(black_7) Sneakers For Men', 'Combo Pack Of 2 Sneakers For Men', 'Casual Loafers, Sneakers Shoes for Men Pack of 5 Combo(...', 'Synthetic Leather Casual Partywear Wedding Sneakers Sho...', 'Sneakers For Men', 'Smart Casuals Canvas Shoes Combo pack of 2 Sneakers For...', 'SM-322 Sneakers For Men', 'SM-162 Sneakers For Men', '168 Smart Red Lace-Ups Casuals for Men Sneakers For Men', 'White Sneaker for Men Sneakers For Men', 'Combo Pack of 2 Casual Shoes Sneakers For Men', 'Combo Pack of 4 Casual Sneakers With Sneakers For Men', 'Combo Pack of 4 Latest Collection Stylish Casual Loafer...', 'Combo pack of 2 casual sneaker shoes for men Sneakers F...', \"White Sneaker For Men's/Boy's Sneakers For Men\", '171 Smart Tan Lace-Ups Casuals for Men Sneakers For Men', 'Chevit Trendy Fashion Sports Combo Pack of 3 Pairs Outd...', 'Sneakers For Men', 'White Sneakers Sneakers For Men', 'Trendy and Stylish Combo Pack of 3 Casual Shoes Sneaker...', 'Lightweight Combo Pack of 02 Trendy Sneakers Casuals Fo...', 'Smart Casuals Canvas Shoes Combo pack of 2 Sneakers For...', 'Combo Pack of 2 Latest Collection Stylish Casual Loafer...', 'Sneakers For Men', \"Casual shoes,Sneakers for men's,shoes for men's Sneaker...\", 'Combo Pack Of 4 Canvas Sneakers For Men', '5011-Latest Collection Stylish Casual Loafer Sneakers S...', 'Speed Set of 5 Pairs Sneakers Outdoors Casuals for Men ...', \"Casual , Partywear Sneakers Shoes For Men's And Boys Wh...\", 'EASY VULC 2.0 Sneakers For Men', \"casual , Partywear Sneakers Shoes For Men's and Boys bl...\", 'shoes for boys | sports shoes for men | Latest Stylish ...', '170 Smart Grey Lace-Ups Casuals for Men Sneakers For Me...', 'Sneakers for men(black_7) Sneakers For Men', 'Combo Pack Of 2 Sneakers For Men', 'Casual Loafers, Sneakers Shoes for Men Pack of 5 Combo(...', 'Synthetic Leather Casual Partywear Wedding Sneakers Sho...', 'Sneakers For Men', 'Smart Casuals Canvas Shoes Combo pack of 2 Sneakers For...', 'SM-322 Sneakers For Men', 'SM-162 Sneakers For Men', '168 Smart Red Lace-Ups Casuals for Men Sneakers For Men', 'White Sneaker for Men Sneakers For Men', 'Combo Pack of 2 Casual Shoes Sneakers For Men', 'Combo Pack of 4 Casual Sneakers With Sneakers For Men', 'Combo Pack of 4 Latest Collection Stylish Casual Loafer...', 'Combo pack of 2 casual sneaker shoes for men Sneakers F...', \"White Sneaker For Men's/Boy's Sneakers For Men\", '171 Smart Tan Lace-Ups Casuals for Men Sneakers For Men', 'Chevit Trendy Fashion Sports Combo Pack of 3 Pairs Outd...', 'Sneakers For Men', 'White Sneakers Sneakers For Men', 'Trendy and Stylish Combo Pack of 3 Casual Shoes Sneaker...', 'Lightweight Combo Pack of 02 Trendy Sneakers Casuals Fo...', 'Smart Casuals Canvas Shoes Combo pack of 2 Sneakers For...', 'Combo Pack of 2 Latest Collection Stylish Casual Loafer...', 'Sneakers For Men', \"Casual shoes,Sneakers for men's,shoes for men's Sneaker...\", 'Combo Pack Of 4 Canvas Sneakers For Men', '5011-Latest Collection Stylish Casual Loafer Sneakers S...', 'Speed Set of 5 Pairs Sneakers Outdoors Casuals for Men ...', \"Casual , Partywear Sneakers Shoes For Men's And Boys Wh...\", 'EASY VULC 2.0 Sneakers For Men', \"casual , Partywear Sneakers Shoes For Men's and Boys bl...\", 'shoes for boys | sports shoes for men | Latest Stylish ...', '170 Smart Grey Lace-Ups Casuals for Men Sneakers For Me...', 'Sneakers for men(black_7) Sneakers For Men', 'Combo Pack Of 2 Sneakers For Men', 'Casual Loafers, Sneakers Shoes for Men Pack of 5 Combo(...', 'Synthetic Leather Casual Partywear Wedding Sneakers Sho...', 'Sneakers For Men', 'Smart Casuals Canvas Shoes Combo pack of 2 Sneakers For...', 'SM-322 Sneakers For Men', 'SM-162 Sneakers For Men', '168 Smart Red Lace-Ups Casuals for Men Sneakers For Men', 'White Sneaker for Men Sneakers For Men', '₹498', '₹1,318', '₹474', '₹399', '₹474', '₹398', '₹349', '₹236', '₹630', '₹242', '₹379', '₹348', '₹699', '₹499', '₹299', '₹299', '₹299', '₹369', '₹499', '₹479', '₹228', '₹799', '₹368', '₹1,717', '₹399', '₹199', '₹601', '₹236', '₹446', '₹399', '₹759', '₹379', '₹420', '₹424', '₹299', '₹819', '₹779', '₹499', '₹236', '₹398', '₹498', '₹1,318', '₹474', '₹399', '₹474', '₹398', '₹349', '₹236', '₹630', '₹242', '₹379', '₹348', '₹699', '₹499', '₹299', '₹299', '₹299', '₹369', '₹499', '₹479', '₹228', '₹799', '₹368', '₹1,717', '₹399', '₹199', '₹601', '₹236', '₹446', '₹399', '₹759', '₹379', '₹420', '₹424', '₹299', '₹819', '₹779', '₹499', '₹236', '₹398', '₹498', '₹1,318', '₹474', '₹399', '₹474', '₹398', '₹349', '₹236', '₹630', '₹242', '₹379', '₹348', '₹699', '₹499', '₹299', '₹299', '₹299', '₹369', '₹499', '₹479', '₹228', '₹799', '₹368', '₹1,717', '₹399', '₹199', '₹601', '₹236', '₹446', '₹399', '₹759', '₹379', '₹420', '₹424', '₹299', '₹819', '₹779', '₹499', '₹236', '₹398', '₹498', '₹1,318', '₹474', '₹399', '₹474', '₹398', '₹349', '₹236', '₹630', '₹242', '₹379', '₹348', '₹699', '₹499', '₹299', '₹299', '₹299', '₹369', '₹499', '₹479', '₹228', '₹799', '₹368', '₹1,717', '₹399', '₹199', '₹601', '₹236', '₹446', '₹399', '₹759', '₹379', '₹420', '₹424', '₹299', '₹819', '₹779', '₹499', '₹236', '₹398', '₹498', '₹1,318', '₹474', '₹399', '₹474', '₹398', '₹349', '₹236', '₹630', '₹242', '₹379', '₹348', '₹699', '₹499', '₹299', '₹299', '₹299', '₹369', '₹499', '₹479', '₹228', '₹799', '₹368', '₹1,717', '₹399', '₹199', '₹601', '₹236', '₹446', '₹399', '₹759', '₹379', '₹420', '₹424', '₹299', '₹819', '₹779', '₹499', '₹236', '₹398', '₹498', '₹1,318', '₹474', '₹399', '₹474', '₹398', '₹349', '₹236', '₹630', '₹242', '₹379', '₹348', '₹699', '₹499', '₹299', '₹299', '₹299', '₹369', '₹499', '₹479', '₹228', '₹799', '₹368', '₹1,717', '₹399', '₹199', '₹601', '₹236', '₹446', '₹399', '₹759', '₹379', '₹420', '₹424', '₹299', '₹819', '₹779', '₹499', '₹236', '₹398', '₹498', '₹1,318', '₹474', '₹399', '₹474', '₹398', '₹349', '₹236', '₹630', '₹242', '₹379', '₹348', '₹699', '₹499', '₹299', '₹299', '₹299', '₹369', '₹499', '₹479', '₹228', '₹799', '₹368', '₹1,717', '₹399', '₹199', '₹601', '₹236', '₹446', '₹399', '₹759', '₹379', '₹420', '₹424', '₹299', '₹819', '₹779', '₹499', '₹236', '₹398', '₹498', '₹1,318', '₹474', '₹399', '₹474', '₹398', '₹349', '₹236', '₹630', '₹242', '₹379', '₹348', '₹699', '₹499', '₹299', '₹299', '₹299', '₹369', '₹499', '₹479', '₹228', '₹799', '₹368', '₹1,717', '₹399', '₹199', '₹601', '₹236', '₹446', '₹399', '₹759', '₹379', '₹420', '₹424', '₹299', '₹819', '₹779', '₹499', '₹236', '₹398', '₹498', '₹1,318', '₹474', '₹399', '₹474', '₹398', '₹349', '₹236', '₹630', '₹242', '₹379', '₹348', '₹699', '₹499', '₹299', '₹299', '₹299', '₹369', '₹499', '₹479', '₹228', '₹799', '₹368', '₹1,717', '₹399', '₹199', '₹601', '₹236', '₹446', '₹399', '₹759', '₹379', '₹420', '₹424', '₹299', '₹819', '₹779', '₹499', '₹236', '₹398', '₹498', '₹1,318', '₹474', '₹399', '₹474', '₹398', '₹349', '₹236', '₹630', '₹242', '₹379', '₹348', '₹699', '₹499', '₹299', '₹299', '₹299', '₹369', '₹499', '₹479', '₹228', '₹799', '₹368', '₹1,717', '₹399', '₹199', '₹601', '₹236', '₹446', '₹399', '₹759', '₹379', '₹420', '₹424', '₹299', '₹819', '₹779', '₹499', '₹236', '₹398', '₹498₹99950% off', '₹1,318₹4,39570% off', '₹474₹1,99676% off', '₹399₹99960% off', '₹474₹1,99676% off', '₹398₹99860% off', '₹349₹99965% off', '₹236₹49952% off', '₹630₹1,79864% off', '₹242₹69965% off', '₹379₹99962% off', '₹348₹99965% off', '₹699₹1,49953% off', '₹499₹99850% off', '₹299₹99870% off', '₹299₹99870% off', '₹299₹99970% off', '₹369₹99963% off', '₹499₹3,49985% off', '₹479₹99952% off', '₹228₹49954% off', '₹799₹2,49567% off', '₹368₹65944% off', '₹1,717₹3,79954% off', '₹399₹99960% off', '₹199₹49960% off', '₹601₹99939% off', '₹236₹49952% off', '₹446₹99955% off', '₹399₹99860% off', '₹759₹2,49569% off', '₹379₹99962% off', '₹420₹99957% off', '₹424₹99957% off', '₹299₹99870% off', '₹819₹99918% off', '₹779₹94917% off', '₹499₹99950% off', '₹236₹49952% off', '₹398₹1,29969% off', '₹36963% off', '₹77917% off', '₹49985% off', '₹69982% off', '₹19960% off', '₹498₹99950% off', '₹1,318₹4,39570% off', '₹474₹1,99676% off', '₹399₹99960% off', '₹474₹1,99676% off', '₹398₹99860% off', '₹349₹99965% off', '₹236₹49952% off', '₹630₹1,79864% off', '₹242₹69965% off', '₹379₹99962% off', '₹348₹99965% off', '₹699₹1,49953% off', '₹499₹99850% off', '₹299₹99870% off', '₹299₹99870% off', '₹299₹99970% off', '₹369₹99963% off', '₹499₹3,49985% off', '₹479₹99952% off', '₹228₹49954% off', '₹799₹2,49567% off', '₹368₹65944% off', '₹1,717₹3,79954% off', '₹399₹99960% off', '₹199₹49960% off', '₹601₹99939% off', '₹236₹49952% off', '₹446₹99955% off', '₹399₹99860% off', '₹759₹2,49569% off', '₹379₹99962% off', '₹420₹99957% off', '₹424₹99957% off', '₹299₹99870% off', '₹819₹99918% off', '₹779₹94917% off', '₹499₹99950% off', '₹236₹49952% off', '₹398₹1,29969% off', '₹36963% off', '₹77917% off', '₹49985% off', '₹69982% off', '₹19960% off', '₹498₹99950% off', '₹1,318₹4,39570% off', '₹474₹1,99676% off', '₹399₹99960% off', '₹474₹1,99676% off', '₹398₹99860% off', '₹349₹99965% off', '₹236₹49952% off', '₹630₹1,79864% off', '₹242₹69965% off', '₹379₹99962% off', '₹348₹99965% off', '₹699₹1,49953% off', '₹499₹99850% off', '₹299₹99870% off', '₹299₹99870% off', '₹299₹99970% off', '₹369₹99963% off', '₹499₹3,49985% off', '₹479₹99952% off', '₹228₹49954% off', '₹799₹2,49567% off', '₹368₹65944% off', '₹1,717₹3,79954% off', '₹399₹99960% off', '₹199₹49960% off', '₹601₹99939% off', '₹236₹49952% off', '₹446₹99955% off', '₹399₹99860% off', '₹759₹2,49569% off', '₹379₹99962% off', '₹420₹99957% off', '₹424₹99957% off', '₹299₹99870% off', '₹819₹99918% off', '₹779₹94917% off', '₹499₹99950% off', '₹236₹49952% off', '₹398₹1,29969% off', '₹36963% off', '₹77917% off', '₹49985% off', '₹69982% off', '₹19960% off', '₹498₹99950% off', '₹1,318₹4,39570% off', '₹474₹1,99676% off', '₹399₹99960% off', '₹474₹1,99676% off', '₹398₹99860% off', '₹349₹99965% off', '₹236₹49952% off', '₹630₹1,79864% off', '₹242₹69965% off', '₹379₹99962% off', '₹348₹99965% off', '₹699₹1,49953% off', '₹499₹99850% off', '₹299₹99870% off', '₹299₹99870% off', '₹299₹99970% off', '₹369₹99963% off', '₹499₹3,49985% off', '₹479₹99952% off', '₹228₹49954% off', '₹799₹2,49567% off', '₹368₹65944% off', '₹1,717₹3,79954% off', '₹399₹99960% off', '₹199₹49960% off', '₹601₹99939% off', '₹236₹49952% off', '₹446₹99955% off', '₹399₹99860% off', '₹759₹2,49569% off', '₹379₹99962% off', '₹420₹99957% off', '₹424₹99957% off', '₹299₹99870% off', '₹819₹99918% off', '₹779₹94917% off', '₹499₹99950% off', '₹236₹49952% off', '₹398₹1,29969% off', '₹36963% off', '₹77917% off', '₹49985% off', '₹69982% off', '₹19960% off', '₹498₹99950% off', '₹1,318₹4,39570% off', '₹474₹1,99676% off', '₹399₹99960% off', '₹474₹1,99676% off', '₹398₹99860% off', '₹349₹99965% off', '₹236₹49952% off', '₹630₹1,79864% off', '₹242₹69965% off', '₹379₹99962% off', '₹348₹99965% off', '₹699₹1,49953% off', '₹499₹99850% off', '₹299₹99870% off', '₹299₹99870% off', '₹299₹99970% off', '₹369₹99963% off', '₹499₹3,49985% off', '₹479₹99952% off', '₹228₹49954% off', '₹799₹2,49567% off', '₹368₹65944% off', '₹1,717₹3,79954% off', '₹399₹99960% off', '₹199₹49960% off', '₹601₹99939% off', '₹236₹49952% off', '₹446₹99955% off', '₹399₹99860% off', '₹759₹2,49569% off', '₹379₹99962% off', '₹420₹99957% off', '₹424₹99957% off', '₹299₹99870% off', '₹819₹99918% off', '₹779₹94917% off', '₹499₹99950% off', '₹236₹49952% off', '₹398₹1,29969% off', '₹36963% off', '₹77917% off', '₹49985% off', '₹69982% off', '₹19960% off', '₹498₹99950% off', '₹1,318₹4,39570% off', '₹474₹1,99676% off', '₹399₹99960% off', '₹474₹1,99676% off', '₹398₹99860% off', '₹349₹99965% off', '₹236₹49952% off', '₹630₹1,79864% off', '₹242₹69965% off', '₹379₹99962% off', '₹348₹99965% off', '₹699₹1,49953% off', '₹499₹99850% off', '₹299₹99870% off', '₹299₹99870% off', '₹299₹99970% off', '₹369₹99963% off', '₹499₹3,49985% off', '₹479₹99952% off', '₹228₹49954% off', '₹799₹2,49567% off', '₹368₹65944% off', '₹1,717₹3,79954% off', '₹399₹99960% off', '₹199₹49960% off', '₹601₹99939% off', '₹236₹49952% off', '₹446₹99955% off', '₹399₹99860% off', '₹759₹2,49569% off', '₹379₹99962% off', '₹420₹99957% off', '₹424₹99957% off', '₹299₹99870% off', '₹819₹99918% off', '₹779₹94917% off', '₹499₹99950% off', '₹236₹49952% off', '₹398₹1,29969% off', '₹36963% off', '₹77917% off', '₹49985% off', '₹69982% off', '₹19960% off', '₹498₹99950% off', '₹1,318₹4,39570% off', '₹474₹1,99676% off', '₹399₹99960% off', '₹474₹1,99676% off', '₹398₹99860% off', '₹349₹99965% off', '₹236₹49952% off', '₹630₹1,79864% off', '₹242₹69965% off', '₹379₹99962% off', '₹348₹99965% off', '₹699₹1,49953% off', '₹499₹99850% off', '₹299₹99870% off', '₹299₹99870% off', '₹299₹99970% off', '₹369₹99963% off', '₹499₹3,49985% off', '₹479₹99952% off', '₹228₹49954% off', '₹799₹2,49567% off', '₹368₹65944% off', '₹1,717₹3,79954% off', '₹399₹99960% off', '₹199₹49960% off', '₹601₹99939% off', '₹236₹49952% off', '₹446₹99955% off', '₹399₹99860% off', '₹759₹2,49569% off', '₹379₹99962% off', '₹420₹99957% off', '₹424₹99957% off', '₹299₹99870% off', '₹819₹99918% off', '₹779₹94917% off', '₹499₹99950% off', '₹236₹49952% off', '₹398₹1,29969% off', '₹36963% off', '₹77917% off', '₹49985% off', '₹69982% off', '₹19960% off', '₹498₹99950% off', '₹1,318₹4,39570% off', '₹474₹1,99676% off', '₹399₹99960% off', '₹474₹1,99676% off', '₹398₹99860% off', '₹349₹99965% off', '₹236₹49952% off', '₹630₹1,79864% off', '₹242₹69965% off', '₹379₹99962% off', '₹348₹99965% off', '₹699₹1,49953% off', '₹499₹99850% off', '₹299₹99870% off', '₹299₹99870% off', '₹299₹99970% off', '₹369₹99963% off', '₹499₹3,49985% off', '₹479₹99952% off', '₹228₹49954% off', '₹799₹2,49567% off', '₹368₹65944% off', '₹1,717₹3,79954% off', '₹399₹99960% off', '₹199₹49960% off', '₹601₹99939% off', '₹236₹49952% off', '₹446₹99955% off', '₹399₹99860% off', '₹759₹2,49569% off', '₹379₹99962% off', '₹420₹99957% off', '₹424₹99957% off', '₹299₹99870% off', '₹819₹99918% off', '₹779₹94917% off', '₹499₹99950% off', '₹236₹49952% off', '₹398₹1,29969% off', '₹36963% off', '₹77917% off', '₹49985% off', '₹69982% off', '₹19960% off', '₹498₹99950% off', '₹1,318₹4,39570% off', '₹474₹1,99676% off', '₹399₹99960% off', '₹474₹1,99676% off', '₹398₹99860% off', '₹349₹99965% off', '₹236₹49952% off', '₹630₹1,79864% off', '₹242₹69965% off', '₹379₹99962% off', '₹348₹99965% off', '₹699₹1,49953% off', '₹499₹99850% off', '₹299₹99870% off', '₹299₹99870% off', '₹299₹99970% off', '₹369₹99963% off', '₹499₹3,49985% off', '₹479₹99952% off', '₹228₹49954% off', '₹799₹2,49567% off', '₹368₹65944% off', '₹1,717₹3,79954% off', '₹399₹99960% off', '₹199₹49960% off', '₹601₹99939% off', '₹236₹49952% off', '₹446₹99955% off', '₹399₹99860% off', '₹759₹2,49569% off', '₹379₹99962% off', '₹420₹99957% off', '₹424₹99957% off', '₹299₹99870% off', '₹819₹99918% off', '₹779₹94917% off', '₹499₹99950% off', '₹236₹49952% off', '₹398₹1,29969% off', '₹36963% off', '₹77917% off', '₹49985% off', '₹69982% off', '₹19960% off', '₹498₹99950% off', '₹1,318₹4,39570% off', '₹474₹1,99676% off', '₹399₹99960% off', '₹474₹1,99676% off', '₹398₹99860% off', '₹349₹99965% off', '₹236₹49952% off', '₹630₹1,79864% off', '₹242₹69965% off', '₹379₹99962% off', '₹348₹99965% off', '₹699₹1,49953% off', '₹499₹99850% off', '₹299₹99870% off', '₹299₹99870% off', '₹299₹99970% off', '₹369₹99963% off', '₹499₹3,49985% off', '₹479₹99952% off', '₹228₹49954% off', '₹799₹2,49567% off', '₹368₹65944% off', '₹1,717₹3,79954% off', '₹399₹99960% off', '₹199₹49960% off', '₹601₹99939% off', '₹236₹49952% off', '₹446₹99955% off', '₹399₹99860% off', '₹759₹2,49569% off', '₹379₹99962% off', '₹420₹99957% off', '₹424₹99957% off', '₹299₹99870% off', '₹819₹99918% off', '₹779₹94917% off', '₹499₹99950% off', '₹236₹49952% off', '₹398₹1,29969% off', '₹36963% off', '₹77917% off', '₹49985% off', '₹69982% off', '₹19960% off', '₹498₹99950% off', '₹1,318₹4,39570% off', '₹474₹1,99676% off', '₹399₹99960% off', '₹474₹1,99676% off', '₹398₹99860% off', '₹349₹99965% off', '₹236₹49952% off', '₹630₹1,79864% off', '₹242₹69965% off', '₹379₹99962% off', '₹348₹99965% off', '₹699₹1,49953% off', '₹499₹99850% off', '₹299₹99870% off', '₹299₹99870% off', '₹299₹99970% off', '₹369₹99963% off', '₹499₹3,49985% off', '₹479₹99952% off', '₹228₹49954% off', '₹799₹2,49567% off', '₹368₹65944% off', '₹1,717₹3,79954% off', '₹399₹99960% off', '₹199₹49960% off', '₹601₹99939% off', '₹236₹49952% off', '₹446₹99955% off', '₹399₹99860% off', '₹759₹2,49569% off', '₹379₹99962% off', '₹420₹99957% off', '₹424₹99957% off', '₹299₹99870% off', '₹819₹99918% off', '₹779₹94917% off', '₹499₹99950% off', '₹236₹49952% off', '₹398₹1,29969% off', '₹36963% off', '₹77917% off', '₹49985% off', '₹69982% off', '₹19960% off', '₹498₹99950% off', '₹1,318₹4,39570% off', '₹474₹1,99676% off', '₹399₹99960% off', '₹474₹1,99676% off', '₹398₹99860% off', '₹349₹99965% off', '₹236₹49952% off', '₹630₹1,79864% off', '₹242₹69965% off', '₹379₹99962% off', '₹348₹99965% off', '₹699₹1,49953% off', '₹499₹99850% off', '₹299₹99870% off', '₹299₹99870% off', '₹299₹99970% off', '₹369₹99963% off', '₹499₹3,49985% off', '₹479₹99952% off', '₹228₹49954% off', '₹799₹2,49567% off', '₹368₹65944% off', '₹1,717₹3,79954% off', '₹399₹99960% off', '₹199₹49960% off', '₹601₹99939% off', '₹236₹49952% off', '₹446₹99955% off', '₹399₹99860% off', '₹759₹2,49569% off', '₹379₹99962% off', '₹420₹99957% off', '₹424₹99957% off', '₹299₹99870% off', '₹819₹99918% off', '₹779₹94917% off', '₹499₹99950% off', '₹236₹49952% off', '₹398₹1,29969% off', '₹36963% off', '₹77917% off', '₹49985% off', '₹69982% off', '₹19960% off', '₹498₹99950% off', '₹1,318₹4,39570% off', '₹474₹1,99676% off', '₹399₹99960% off', '₹474₹1,99676% off', '₹398₹99860% off', '₹349₹99965% off', '₹236₹49952% off', '₹630₹1,79864% off', '₹242₹69965% off', '₹379₹99962% off', '₹348₹99965% off', '₹699₹1,49953% off', '₹499₹99850% off', '₹299₹99870% off', '₹299₹99870% off', '₹299₹99970% off', '₹369₹99963% off', '₹499₹3,49985% off', '₹479₹99952% off', '₹228₹49954% off', '₹799₹2,49567% off', '₹368₹65944% off', '₹1,717₹3,79954% off', '₹399₹99960% off', '₹199₹49960% off', '₹601₹99939% off', '₹236₹49952% off', '₹446₹99955% off', '₹399₹99860% off', '₹759₹2,49569% off', '₹379₹99962% off', '₹420₹99957% off', '₹424₹99957% off', '₹299₹99870% off', '₹819₹99918% off', '₹779₹94917% off', '₹499₹99950% off', '₹236₹49952% off', '₹398₹1,29969% off', '₹36963% off', '₹77917% off', '₹49985% off', '₹69982% off', '₹19960% off', '₹498₹99950% off', '₹1,318₹4,39570% off', '₹474₹1,99676% off', '₹399₹99960% off', '₹474₹1,99676% off', '₹398₹99860% off', '₹349₹99965% off', '₹236₹49952% off', '₹630₹1,79864% off', '₹242₹69965% off', '₹379₹99962% off', '₹348₹99965% off', '₹699₹1,49953% off', '₹499₹99850% off', '₹299₹99870% off', '₹299₹99870% off', '₹299₹99970% off', '₹369₹99963% off', '₹499₹3,49985% off', '₹479₹99952% off', '₹228₹49954% off', '₹799₹2,49567% off', '₹368₹65944% off', '₹1,717₹3,79954% off', '₹399₹99960% off', '₹199₹49960% off', '₹601₹99939% off', '₹236₹49952% off', '₹446₹99955% off', '₹399₹99860% off', '₹759₹2,49569% off', '₹379₹99962% off', '₹420₹99957% off', '₹424₹99957% off', '₹299₹99870% off', '₹819₹99918% off', '₹779₹94917% off', '₹499₹99950% off', '₹236₹49952% off', '₹398₹1,29969% off', '₹36963% off', '₹77917% off', '₹49985% off', '₹69982% off', '₹19960% off', '₹498₹99950% off', '₹1,318₹4,39570% off', '₹474₹1,99676% off', '₹399₹99960% off', '₹474₹1,99676% off', '₹398₹99860% off', '₹349₹99965% off', '₹236₹49952% off', '₹630₹1,79864% off', '₹242₹69965% off', '₹379₹99962% off', '₹348₹99965% off', '₹699₹1,49953% off', '₹499₹99850% off', '₹299₹99870% off', '₹299₹99870% off', '₹299₹99970% off', '₹369₹99963% off', '₹499₹3,49985% off', '₹479₹99952% off', '₹228₹49954% off', '₹799₹2,49567% off', '₹368₹65944% off', '₹1,717₹3,79954% off', '₹399₹99960% off', '₹199₹49960% off', '₹601₹99939% off', '₹236₹49952% off', '₹446₹99955% off', '₹399₹99860% off', '₹759₹2,49569% off', '₹379₹99962% off', '₹420₹99957% off', '₹424₹99957% off', '₹299₹99870% off', '₹819₹99918% off', '₹779₹94917% off', '₹499₹99950% off', '₹236₹49952% off', '₹398₹1,29969% off', '₹36963% off', '₹77917% off', '₹49985% off', '₹69982% off', '₹19960% off', '₹498₹99950% off', '₹1,318₹4,39570% off', '₹474₹1,99676% off', '₹399₹99960% off', '₹474₹1,99676% off', '₹398₹99860% off', '₹349₹99965% off', '₹236₹49952% off', '₹630₹1,79864% off', '₹242₹69965% off', '₹379₹99962% off', '₹348₹99965% off', '₹699₹1,49953% off', '₹499₹99850% off', '₹299₹99870% off', '₹299₹99870% off', '₹299₹99970% off', '₹369₹99963% off', '₹499₹3,49985% off', '₹479₹99952% off', '₹228₹49954% off', '₹799₹2,49567% off', '₹368₹65944% off', '₹1,717₹3,79954% off', '₹399₹99960% off', '₹199₹49960% off', '₹601₹99939% off', '₹236₹49952% off', '₹446₹99955% off', '₹399₹99860% off', '₹759₹2,49569% off', '₹379₹99962% off', '₹420₹99957% off', '₹424₹99957% off', '₹299₹99870% off', '₹819₹99918% off', '₹779₹94917% off', '₹499₹99950% off', '₹236₹49952% off', '₹398₹1,29969% off', '₹36963% off', '₹77917% off', '₹49985% off', '₹69982% off', '₹19960% off', '₹498₹99950% off', '₹1,318₹4,39570% off', '₹474₹1,99676% off', '₹399₹99960% off', '₹474₹1,99676% off', '₹398₹99860% off', '₹349₹99965% off', '₹236₹49952% off', '₹630₹1,79864% off', '₹242₹69965% off', '₹379₹99962% off', '₹348₹99965% off', '₹699₹1,49953% off', '₹499₹99850% off', '₹299₹99870% off', '₹299₹99870% off', '₹299₹99970% off', '₹369₹99963% off', '₹499₹3,49985% off', '₹479₹99952% off', '₹228₹49954% off', '₹799₹2,49567% off', '₹368₹65944% off', '₹1,717₹3,79954% off', '₹399₹99960% off', '₹199₹49960% off', '₹601₹99939% off', '₹236₹49952% off', '₹446₹99955% off', '₹399₹99860% off', '₹759₹2,49569% off', '₹379₹99962% off', '₹420₹99957% off', '₹424₹99957% off', '₹299₹99870% off', '₹819₹99918% off', '₹779₹94917% off', '₹499₹99950% off', '₹236₹49952% off', '₹398₹1,29969% off', '₹36963% off', '₹77917% off', '₹49985% off', '₹69982% off', '₹19960% off', '₹498₹99950% off', '₹1,318₹4,39570% off', '₹474₹1,99676% off', '₹399₹99960% off', '₹474₹1,99676% off', '₹398₹99860% off', '₹349₹99965% off', '₹236₹49952% off', '₹630₹1,79864% off', '₹242₹69965% off', '₹379₹99962% off', '₹348₹99965% off', '₹699₹1,49953% off', '₹499₹99850% off', '₹299₹99870% off', '₹299₹99870% off', '₹299₹99970% off', '₹369₹99963% off', '₹499₹3,49985% off', '₹479₹99952% off', '₹228₹49954% off', '₹799₹2,49567% off', '₹368₹65944% off', '₹1,717₹3,79954% off', '₹399₹99960% off', '₹199₹49960% off', '₹601₹99939% off', '₹236₹49952% off', '₹446₹99955% off', '₹399₹99860% off', '₹759₹2,49569% off', '₹379₹99962% off', '₹420₹99957% off', '₹424₹99957% off', '₹299₹99870% off', '₹819₹99918% off', '₹779₹94917% off', '₹499₹99950% off', '₹236₹49952% off', '₹398₹1,29969% off', '₹36963% off', '₹77917% off', '₹49985% off', '₹69982% off', '₹19960% off', '₹498₹99950% off', '₹1,318₹4,39570% off', '₹474₹1,99676% off', '₹399₹99960% off', '₹474₹1,99676% off', '₹398₹99860% off', '₹349₹99965% off', '₹236₹49952% off', '₹630₹1,79864% off', '₹242₹69965% off', '₹379₹99962% off', '₹348₹99965% off', '₹699₹1,49953% off', '₹499₹99850% off', '₹299₹99870% off', '₹299₹99870% off', '₹299₹99970% off', '₹369₹99963% off', '₹499₹3,49985% off', '₹479₹99952% off', '₹228₹49954% off', '₹799₹2,49567% off', '₹368₹65944% off', '₹1,717₹3,79954% off', '₹399₹99960% off', '₹199₹49960% off', '₹601₹99939% off', '₹236₹49952% off', '₹446₹99955% off', '₹399₹99860% off', '₹759₹2,49569% off', '₹379₹99962% off', '₹420₹99957% off', '₹424₹99957% off', '₹299₹99870% off', '₹819₹99918% off', '₹779₹94917% off', '₹499₹99950% off', '₹236₹49952% off', '₹398₹1,29969% off', '₹36963% off', '₹77917% off', '₹49985% off', '₹69982% off', '₹19960% off', '₹498₹99950% off', '₹1,318₹4,39570% off', '₹474₹1,99676% off', '₹399₹99960% off', '₹474₹1,99676% off', '₹398₹99860% off', '₹349₹99965% off', '₹236₹49952% off', '₹630₹1,79864% off', '₹242₹69965% off', '₹379₹99962% off', '₹348₹99965% off', '₹699₹1,49953% off', '₹499₹99850% off', '₹299₹99870% off', '₹299₹99870% off', '₹299₹99970% off', '₹369₹99963% off', '₹499₹3,49985% off', '₹479₹99952% off', '₹228₹49954% off', '₹799₹2,49567% off', '₹368₹65944% off', '₹1,717₹3,79954% off', '₹399₹99960% off', '₹199₹49960% off', '₹601₹99939% off', '₹236₹49952% off', '₹446₹99955% off', '₹399₹99860% off', '₹759₹2,49569% off', '₹379₹99962% off', '₹420₹99957% off', '₹424₹99957% off', '₹299₹99870% off', '₹819₹99918% off', '₹779₹94917% off', '₹499₹99950% off', '₹236₹49952% off', '₹398₹1,29969% off', '₹36963% off', '₹77917% off', '₹49985% off', '₹69982% off', '₹19960% off', '₹498₹99950% off', '₹1,318₹4,39570% off', '₹474₹1,99676% off', '₹399₹99960% off', '₹474₹1,99676% off', '₹398₹99860% off', '₹349₹99965% off', '₹236₹49952% off', '₹630₹1,79864% off', '₹242₹69965% off', '₹379₹99962% off', '₹348₹99965% off', '₹699₹1,49953% off', '₹499₹99850% off', '₹299₹99870% off', '₹299₹99870% off', '₹299₹99970% off', '₹369₹99963% off', '₹499₹3,49985% off', '₹479₹99952% off', '₹228₹49954% off', '₹799₹2,49567% off', '₹368₹65944% off', '₹1,717₹3,79954% off', '₹399₹99960% off', '₹199₹49960% off', '₹601₹99939% off', '₹236₹49952% off', '₹446₹99955% off', '₹399₹99860% off', '₹759₹2,49569% off', '₹379₹99962% off', '₹420₹99957% off', '₹424₹99957% off', '₹299₹99870% off', '₹819₹99918% off', '₹779₹94917% off', '₹499₹99950% off', '₹236₹49952% off', '₹398₹1,29969% off', '₹36963% off', '₹77917% off', '₹49985% off', '₹69982% off', '₹19960% off', '₹498₹99950% off', '₹1,318₹4,39570% off', '₹474₹1,99676% off', '₹399₹99960% off', '₹474₹1,99676% off', '₹398₹99860% off', '₹349₹99965% off', '₹236₹49952% off', '₹630₹1,79864% off', '₹242₹69965% off', '₹379₹99962% off', '₹348₹99965% off', '₹699₹1,49953% off', '₹499₹99850% off', '₹299₹99870% off', '₹299₹99870% off', '₹299₹99970% off', '₹369₹99963% off', '₹499₹3,49985% off', '₹479₹99952% off', '₹228₹49954% off', '₹799₹2,49567% off', '₹368₹65944% off', '₹1,717₹3,79954% off', '₹399₹99960% off', '₹199₹49960% off', '₹601₹99939% off', '₹236₹49952% off', '₹446₹99955% off', '₹399₹99860% off', '₹759₹2,49569% off', '₹379₹99962% off', '₹420₹99957% off', '₹424₹99957% off', '₹299₹99870% off', '₹819₹99918% off', '₹779₹94917% off', '₹499₹99950% off', '₹236₹49952% off', '₹398₹1,29969% off', '₹36963% off', '₹77917% off', '₹49985% off', '₹69982% off', '₹19960% off', '₹498₹99950% off', '₹1,318₹4,39570% off', '₹474₹1,99676% off', '₹399₹99960% off', '₹474₹1,99676% off', '₹398₹99860% off', '₹349₹99965% off', '₹236₹49952% off', '₹630₹1,79864% off', '₹242₹69965% off', '₹379₹99962% off', '₹348₹99965% off', '₹699₹1,49953% off', '₹499₹99850% off', '₹299₹99870% off', '₹299₹99870% off', '₹299₹99970% off', '₹369₹99963% off', '₹499₹3,49985% off', '₹479₹99952% off', '₹228₹49954% off', '₹799₹2,49567% off', '₹368₹65944% off', '₹1,717₹3,79954% off', '₹399₹99960% off', '₹199₹49960% off', '₹601₹99939% off', '₹236₹49952% off', '₹446₹99955% off', '₹399₹99860% off', '₹759₹2,49569% off', '₹379₹99962% off', '₹420₹99957% off', '₹424₹99957% off', '₹299₹99870% off', '₹819₹99918% off', '₹779₹94917% off', '₹499₹99950% off', '₹236₹49952% off', '₹398₹1,29969% off', '₹36963% off', '₹77917% off', '₹49985% off', '₹69982% off', '₹19960% off', '₹498₹99950% off', '₹1,318₹4,39570% off', '₹474₹1,99676% off', '₹399₹99960% off', '₹474₹1,99676% off', '₹398₹99860% off', '₹349₹99965% off', '₹236₹49952% off', '₹630₹1,79864% off', '₹242₹69965% off', '₹379₹99962% off', '₹348₹99965% off', '₹699₹1,49953% off', '₹499₹99850% off', '₹299₹99870% off', '₹299₹99870% off', '₹299₹99970% off', '₹369₹99963% off', '₹499₹3,49985% off', '₹479₹99952% off', '₹228₹49954% off', '₹799₹2,49567% off', '₹368₹65944% off', '₹1,717₹3,79954% off', '₹399₹99960% off', '₹199₹49960% off', '₹601₹99939% off', '₹236₹49952% off', '₹446₹99955% off', '₹399₹99860% off', '₹759₹2,49569% off', '₹379₹99962% off', '₹420₹99957% off', '₹424₹99957% off', '₹299₹99870% off', '₹819₹99918% off', '₹779₹94917% off', '₹499₹99950% off', '₹236₹49952% off', '₹398₹1,29969% off', '₹36963% off', '₹77917% off', '₹49985% off', '₹69982% off', '₹19960% off', '₹498₹99950% off', '₹1,318₹4,39570% off', '₹474₹1,99676% off', '₹399₹99960% off', '₹474₹1,99676% off', '₹398₹99860% off', '₹349₹99965% off', '₹236₹49952% off', '₹630₹1,79864% off', '₹242₹69965% off', '₹379₹99962% off', '₹348₹99965% off', '₹699₹1,49953% off', '₹499₹99850% off', '₹299₹99870% off', '₹299₹99870% off', '₹299₹99970% off', '₹369₹99963% off', '₹499₹3,49985% off', '₹479₹99952% off', '₹228₹49954% off', '₹799₹2,49567% off', '₹368₹65944% off', '₹1,717₹3,79954% off', '₹399₹99960% off', '₹199₹49960% off', '₹601₹99939% off', '₹236₹49952% off', '₹446₹99955% off', '₹399₹99860% off', '₹759₹2,49569% off', '₹379₹99962% off', '₹420₹99957% off', '₹424₹99957% off', '₹299₹99870% off', '₹819₹99918% off', '₹779₹94917% off', '₹499₹99950% off', '₹236₹49952% off', '₹398₹1,29969% off', '₹36963% off', '₹77917% off', '₹49985% off', '₹69982% off', '₹19960% off', '₹498₹99950% off', '₹1,318₹4,39570% off', '₹474₹1,99676% off', '₹399₹99960% off', '₹474₹1,99676% off', '₹398₹99860% off', '₹349₹99965% off', '₹236₹49952% off', '₹630₹1,79864% off', '₹242₹69965% off', '₹379₹99962% off', '₹348₹99965% off', '₹699₹1,49953% off', '₹499₹99850% off', '₹299₹99870% off', '₹299₹99870% off', '₹299₹99970% off', '₹369₹99963% off', '₹499₹3,49985% off', '₹479₹99952% off', '₹228₹49954% off', '₹799₹2,49567% off', '₹368₹65944% off', '₹1,717₹3,79954% off', '₹399₹99960% off', '₹199₹49960% off', '₹601₹99939% off', '₹236₹49952% off', '₹446₹99955% off', '₹399₹99860% off', '₹759₹2,49569% off', '₹379₹99962% off', '₹420₹99957% off', '₹424₹99957% off', '₹299₹99870% off', '₹819₹99918% off', '₹779₹94917% off', '₹499₹99950% off', '₹236₹49952% off', '₹398₹1,29969% off', '₹36963% off', '₹77917% off', '₹49985% off', '₹69982% off', '₹19960% off', '₹498₹99950% off', '₹1,318₹4,39570% off', '₹474₹1,99676% off', '₹399₹99960% off', '₹474₹1,99676% off', '₹398₹99860% off', '₹349₹99965% off', '₹236₹49952% off', '₹630₹1,79864% off', '₹242₹69965% off', '₹379₹99962% off', '₹348₹99965% off', '₹699₹1,49953% off', '₹499₹99850% off', '₹299₹99870% off', '₹299₹99870% off', '₹299₹99970% off', '₹369₹99963% off', '₹499₹3,49985% off', '₹479₹99952% off', '₹228₹49954% off', '₹799₹2,49567% off', '₹368₹65944% off', '₹1,717₹3,79954% off', '₹399₹99960% off', '₹199₹49960% off', '₹601₹99939% off', '₹236₹49952% off', '₹446₹99955% off', '₹399₹99860% off', '₹759₹2,49569% off', '₹379₹99962% off', '₹420₹99957% off', '₹424₹99957% off', '₹299₹99870% off', '₹819₹99918% off', '₹779₹94917% off', '₹499₹99950% off', '₹236₹49952% off', '₹398₹1,29969% off', '₹36963% off', '₹77917% off', '₹49985% off', '₹69982% off', '₹19960% off', '₹498₹99950% off', '₹1,318₹4,39570% off', '₹474₹1,99676% off', '₹399₹99960% off', '₹474₹1,99676% off', '₹398₹99860% off', '₹349₹99965% off', '₹236₹49952% off', '₹630₹1,79864% off', '₹242₹69965% off', '₹379₹99962% off', '₹348₹99965% off', '₹699₹1,49953% off', '₹499₹99850% off', '₹299₹99870% off', '₹299₹99870% off', '₹299₹99970% off', '₹369₹99963% off', '₹499₹3,49985% off', '₹479₹99952% off', '₹228₹49954% off', '₹799₹2,49567% off', '₹368₹65944% off', '₹1,717₹3,79954% off', '₹399₹99960% off', '₹199₹49960% off', '₹601₹99939% off', '₹236₹49952% off', '₹446₹99955% off', '₹399₹99860% off', '₹759₹2,49569% off', '₹379₹99962% off', '₹420₹99957% off', '₹424₹99957% off', '₹299₹99870% off', '₹819₹99918% off', '₹779₹94917% off', '₹499₹99950% off', '₹236₹49952% off', '₹398₹1,29969% off', '₹36963% off', '₹77917% off', '₹49985% off', '₹69982% off', '₹19960% off', '₹498₹99950% off', '₹1,318₹4,39570% off', '₹474₹1,99676% off', '₹399₹99960% off', '₹474₹1,99676% off', '₹398₹99860% off', '₹349₹99965% off', '₹236₹49952% off', '₹630₹1,79864% off', '₹242₹69965% off', '₹379₹99962% off', '₹348₹99965% off', '₹699₹1,49953% off', '₹499₹99850% off', '₹299₹99870% off', '₹299₹99870% off', '₹299₹99970% off', '₹369₹99963% off', '₹499₹3,49985% off', '₹479₹99952% off', '₹228₹49954% off', '₹799₹2,49567% off', '₹368₹65944% off', '₹1,717₹3,79954% off', '₹399₹99960% off', '₹199₹49960% off', '₹601₹99939% off', '₹236₹49952% off', '₹446₹99955% off', '₹399₹99860% off', '₹759₹2,49569% off', '₹379₹99962% off', '₹420₹99957% off', '₹424₹99957% off', '₹299₹99870% off', '₹819₹99918% off', '₹779₹94917% off', '₹499₹99950% off', '₹236₹49952% off', '₹398₹1,29969% off', '₹36963% off', '₹77917% off', '₹49985% off', '₹69982% off', '₹19960% off', '₹498₹99950% off', '₹1,318₹4,39570% off', '₹474₹1,99676% off', '₹399₹99960% off', '₹474₹1,99676% off', '₹398₹99860% off', '₹349₹99965% off', '₹236₹49952% off', '₹630₹1,79864% off', '₹242₹69965% off', '₹379₹99962% off', '₹348₹99965% off', '₹699₹1,49953% off', '₹499₹99850% off', '₹299₹99870% off', '₹299₹99870% off', '₹299₹99970% off', '₹369₹99963% off', '₹499₹3,49985% off', '₹479₹99952% off', '₹228₹49954% off', '₹799₹2,49567% off', '₹368₹65944% off', '₹1,717₹3,79954% off', '₹399₹99960% off', '₹199₹49960% off', '₹601₹99939% off', '₹236₹49952% off', '₹446₹99955% off', '₹399₹99860% off', '₹759₹2,49569% off', '₹379₹99962% off', '₹420₹99957% off', '₹424₹99957% off', '₹299₹99870% off', '₹819₹99918% off', '₹779₹94917% off', '₹499₹99950% off', '₹236₹49952% off', '₹398₹1,29969% off', '₹36963% off', '₹77917% off', '₹49985% off', '₹69982% off', '₹19960% off', '₹498', '₹999', '50% off', '₹1,318', '₹4,395', '70% off', '₹474', '₹1,996', '76% off', '₹399', '₹999', '60% off', '₹474', '₹1,996', '76% off', '₹398', '₹998', '60% off', '₹349', '₹999', '65% off', '₹236', '₹499', '52% off', '₹630', '₹1,798', '64% off', '₹242', '₹699', '65% off', '₹379', '₹999', '62% off', '₹348', '₹999', '65% off', '₹699', '₹1,499', '53% off', '₹499', '₹998', '50% off', '₹299', '₹998', '70% off', '₹299', '₹998', '70% off', '₹299', '₹999', '70% off', '₹369', '₹999', '63% off', '₹499', '₹3,499', '85% off', '₹479', '₹999', '52% off', '₹228', '₹499', '54% off', '₹799', '₹2,495', '67% off', '₹368', '₹659', '44% off', '₹1,717', '₹3,799', '54% off', '₹399', '₹999', '60% off', '₹199', '₹499', '60% off', '₹601', '₹999', '39% off', '₹236', '₹499', '52% off', '₹446', '₹999', '55% off', '₹399', '₹998', '60% off', '₹759', '₹2,495', '69% off', '₹379', '₹999', '62% off', '₹420', '₹999', '57% off', '₹424', '₹999', '57% off', '₹299', '₹998', '70% off', '₹819', '₹999', '18% off', '₹779', '₹949', '17% off', '₹499', '₹999', '50% off', '₹236', '₹499', '52% off', '₹398', '₹1,299', '69% off', '₹369', '63% off', '₹779', '17% off', '₹499', '85% off', '₹699', '82% off', '₹199', '60% off', '₹498', '₹999', '50% off', '₹1,318', '₹4,395', '70% off', '₹474', '₹1,996', '76% off', '₹399', '₹999', '60% off', '₹474', '₹1,996', '76% off', '₹398', '₹998', '60% off', '₹349', '₹999', '65% off', '₹236', '₹499', '52% off', '₹630', '₹1,798', '64% off', '₹242', '₹699', '65% off', '₹379', '₹999', '62% off', '₹348', '₹999', '65% off', '₹699', '₹1,499', '53% off', '₹499', '₹998', '50% off', '₹299', '₹998', '70% off', '₹299', '₹998', '70% off', '₹299', '₹999', '70% off', '₹369', '₹999', '63% off', '₹499', '₹3,499', '85% off', '₹479', '₹999', '52% off', '₹228', '₹499', '54% off', '₹799', '₹2,495', '67% off', '₹368', '₹659', '44% off', '₹1,717', '₹3,799', '54% off', '₹399', '₹999', '60% off', '₹199', '₹499', '60% off', '₹601', '₹999', '39% off', '₹236', '₹499', '52% off', '₹446', '₹999', '55% off', '₹399', '₹998', '60% off', '₹759', '₹2,495', '69% off', '₹379', '₹999', '62% off', '₹420', '₹999', '57% off', '₹424', '₹999', '57% off', '₹299', '₹998', '70% off', '₹819', '₹999', '18% off', '₹779', '₹949', '17% off', '₹499', '₹999', '50% off', '₹236', '₹499', '52% off', '₹398', '₹1,299', '69% off', '₹369', '63% off', '₹779', '17% off', '₹499', '85% off', '₹699', '82% off', '₹199', '60% off', '₹498', '₹999', '50% off', '₹1,318', '₹4,395', '70% off', '₹474', '₹1,996', '76% off', '₹399', '₹999', '60% off', '₹474', '₹1,996', '76% off', '₹398', '₹998', '60% off', '₹349', '₹999', '65% off', '₹236', '₹499', '52% off', '₹630', '₹1,798', '64% off', '₹242', '₹699', '65% off', '₹379', '₹999', '62% off', '₹348', '₹999', '65% off', '₹699', '₹1,499', '53% off', '₹499', '₹998', '50% off', '₹299', '₹998', '70% off', '₹299', '₹998', '70% off', '₹299', '₹999', '70% off', '₹369', '₹999', '63% off', '₹499', '₹3,499', '85% off', '₹479', '₹999', '52% off', '₹228', '₹499', '54% off', '₹799', '₹2,495', '67% off', '₹368', '₹659', '44% off', '₹1,717', '₹3,799', '54% off', '₹399', '₹999', '60% off', '₹199', '₹499', '60% off', '₹601', '₹999', '39% off', '₹236', '₹499', '52% off', '₹446', '₹999', '55% off', '₹399', '₹998', '60% off', '₹759', '₹2,495', '69% off', '₹379', '₹999', '62% off', '₹420', '₹999', '57% off', '₹424', '₹999', '57% off', '₹299', '₹998', '70% off', '₹819', '₹999', '18% off', '₹779', '₹949', '17% off', '₹499', '₹999', '50% off', '₹236', '₹499', '52% off', '₹398', '₹1,299', '69% off', '₹369', '63% off', '₹779', '17% off', '₹499', '85% off', '₹699', '82% off', '₹199', '60% off', '₹498', '₹999', '50% off', '₹1,318', '₹4,395', '70% off', '₹474', '₹1,996', '76% off', '₹399', '₹999', '60% off', '₹474', '₹1,996', '76% off', '₹398', '₹998', '60% off', '₹349', '₹999', '65% off', '₹236', '₹499', '52% off', '₹630', '₹1,798', '64% off', '₹242', '₹699', '65% off', '₹379', '₹999', '62% off', '₹348', '₹999', '65% off', '₹699', '₹1,499', '53% off', '₹499', '₹998', '50% off', '₹299', '₹998', '70% off', '₹299', '₹998', '70% off', '₹299', '₹999', '70% off', '₹369', '₹999', '63% off', '₹499', '₹3,499', '85% off', '₹479', '₹999', '52% off', '₹228', '₹499', '54% off', '₹799', '₹2,495', '67% off', '₹368', '₹659', '44% off', '₹1,717', '₹3,799', '54% off', '₹399', '₹999', '60% off', '₹199', '₹499', '60% off', '₹601', '₹999', '39% off', '₹236', '₹499', '52% off', '₹446', '₹999', '55% off', '₹399', '₹998', '60% off', '₹759', '₹2,495', '69% off', '₹379', '₹999', '62% off', '₹420', '₹999', '57% off', '₹424', '₹999', '57% off', '₹299', '₹998', '70% off', '₹819', '₹999', '18% off', '₹779', '₹949', '17% off', '₹499', '₹999', '50% off', '₹236', '₹499', '52% off', '₹398', '₹1,299', '69% off', '₹369', '63% off', '₹779', '17% off', '₹499', '85% off', '₹699', '82% off', '₹199', '60% off', '₹498', '₹999', '50% off', '₹1,318', '₹4,395', '70% off', '₹474', '₹1,996', '76% off', '₹399', '₹999', '60% off', '₹474', '₹1,996', '76% off', '₹398', '₹998', '60% off', '₹349', '₹999', '65% off', '₹236', '₹499', '52% off', '₹630', '₹1,798', '64% off', '₹242', '₹699', '65% off', '₹379', '₹999', '62% off', '₹348', '₹999', '65% off', '₹699', '₹1,499', '53% off', '₹499', '₹998', '50% off', '₹299', '₹998', '70% off', '₹299', '₹998', '70% off', '₹299', '₹999', '70% off', '₹369', '₹999', '63% off', '₹499', '₹3,499', '85% off', '₹479', '₹999', '52% off', '₹228', '₹499', '54% off', '₹799', '₹2,495', '67% off', '₹368', '₹659', '44% off', '₹1,717', '₹3,799', '54% off', '₹399', '₹999', '60% off', '₹199', '₹499', '60% off', '₹601', '₹999', '39% off', '₹236', '₹499', '52% off', '₹446', '₹999', '55% off', '₹399', '₹998', '60% off', '₹759', '₹2,495', '69% off', '₹379', '₹999', '62% off', '₹420', '₹999', '57% off', '₹424', '₹999', '57% off', '₹299', '₹998', '70% off', '₹819', '₹999', '18% off', '₹779', '₹949', '17% off', '₹499', '₹999', '50% off', '₹236', '₹499', '52% off', '₹398', '₹1,299', '69% off', '₹369', '63% off', '₹779', '17% off', '₹499', '85% off', '₹699', '82% off', '₹199', '60% off', '₹498', '₹999', '50% off', '₹1,318', '₹4,395', '70% off', '₹474', '₹1,996', '76% off', '₹399', '₹999', '60% off', '₹474', '₹1,996', '76% off', '₹398', '₹998', '60% off', '₹349', '₹999', '65% off', '₹236', '₹499', '52% off', '₹630', '₹1,798', '64% off', '₹242', '₹699', '65% off', '₹379', '₹999', '62% off', '₹348', '₹999', '65% off', '₹699', '₹1,499', '53% off', '₹499', '₹998', '50% off', '₹299', '₹998', '70% off', '₹299', '₹998', '70% off', '₹299', '₹999', '70% off', '₹369', '₹999', '63% off', '₹499', '₹3,499', '85% off', '₹479', '₹999', '52% off', '₹228', '₹499', '54% off', '₹799', '₹2,495', '67% off', '₹368', '₹659', '44% off', '₹1,717', '₹3,799', '54% off', '₹399', '₹999', '60% off', '₹199', '₹499', '60% off', '₹601', '₹999', '39% off', '₹236', '₹499', '52% off', '₹446', '₹999', '55% off', '₹399', '₹998', '60% off', '₹759', '₹2,495', '69% off', '₹379', '₹999', '62% off', '₹420', '₹999', '57% off', '₹424', '₹999', '57% off', '₹299', '₹998', '70% off', '₹819', '₹999', '18% off', '₹779', '₹949', '17% off', '₹499', '₹999', '50% off', '₹236', '₹499', '52% off', '₹398', '₹1,299', '69% off', '₹369', '63% off', '₹779', '17% off', '₹499', '85% off', '₹699', '82% off', '₹199', '60% off', '₹498', '₹999', '50% off', '₹1,318', '₹4,395', '70% off', '₹474', '₹1,996', '76% off', '₹399', '₹999', '60% off', '₹474', '₹1,996', '76% off', '₹398', '₹998', '60% off', '₹349', '₹999', '65% off', '₹236', '₹499', '52% off', '₹630', '₹1,798', '64% off', '₹242', '₹699', '65% off', '₹379', '₹999', '62% off', '₹348', '₹999', '65% off', '₹699', '₹1,499', '53% off', '₹499', '₹998', '50% off', '₹299', '₹998', '70% off', '₹299', '₹998', '70% off', '₹299', '₹999', '70% off', '₹369', '₹999', '63% off', '₹499', '₹3,499', '85% off', '₹479', '₹999', '52% off', '₹228', '₹499', '54% off', '₹799', '₹2,495', '67% off', '₹368', '₹659', '44% off', '₹1,717', '₹3,799', '54% off', '₹399', '₹999', '60% off', '₹199', '₹499', '60% off', '₹601', '₹999', '39% off', '₹236', '₹499', '52% off', '₹446', '₹999', '55% off', '₹399', '₹998', '60% off', '₹759', '₹2,495', '69% off', '₹379', '₹999', '62% off', '₹420', '₹999', '57% off', '₹424', '₹999', '57% off', '₹299', '₹998', '70% off', '₹819', '₹999', '18% off', '₹779', '₹949', '17% off', '₹499', '₹999', '50% off', '₹236', '₹499', '52% off', '₹398', '₹1,299', '69% off', '₹369', '63% off', '₹779', '17% off', '₹499', '85% off', '₹699', '82% off', '₹199', '60% off', '₹498', '₹999', '50% off', '₹1,318', '₹4,395', '70% off', '₹474', '₹1,996', '76% off', '₹399', '₹999', '60% off', '₹474', '₹1,996', '76% off', '₹398', '₹998', '60% off', '₹349', '₹999', '65% off', '₹236', '₹499', '52% off', '₹630', '₹1,798', '64% off', '₹242', '₹699', '65% off', '₹379', '₹999', '62% off', '₹348', '₹999', '65% off', '₹699', '₹1,499', '53% off', '₹499', '₹998', '50% off', '₹299', '₹998', '70% off', '₹299', '₹998', '70% off', '₹299', '₹999', '70% off', '₹369', '₹999', '63% off', '₹499', '₹3,499', '85% off', '₹479', '₹999', '52% off', '₹228', '₹499', '54% off', '₹799', '₹2,495', '67% off', '₹368', '₹659', '44% off', '₹1,717', '₹3,799', '54% off', '₹399', '₹999', '60% off', '₹199', '₹499', '60% off', '₹601', '₹999', '39% off', '₹236', '₹499', '52% off', '₹446', '₹999', '55% off', '₹399', '₹998', '60% off', '₹759', '₹2,495', '69% off', '₹379', '₹999', '62% off', '₹420', '₹999', '57% off', '₹424', '₹999', '57% off', '₹299', '₹998', '70% off', '₹819', '₹999', '18% off', '₹779', '₹949', '17% off', '₹499', '₹999', '50% off', '₹236', '₹499', '52% off', '₹398', '₹1,299', '69% off', '₹369', '63% off', '₹779', '17% off', '₹499', '85% off', '₹699', '82% off', '₹199', '60% off', '₹498', '₹999', '50% off', '₹1,318', '₹4,395', '70% off', '₹474', '₹1,996', '76% off', '₹399', '₹999', '60% off', '₹474', '₹1,996', '76% off', '₹398', '₹998', '60% off', '₹349', '₹999', '65% off', '₹236', '₹499', '52% off', '₹630', '₹1,798', '64% off', '₹242', '₹699', '65% off', '₹379', '₹999', '62% off', '₹348', '₹999', '65% off', '₹699', '₹1,499', '53% off', '₹499', '₹998', '50% off', '₹299', '₹998', '70% off', '₹299', '₹998', '70% off', '₹299', '₹999', '70% off', '₹369', '₹999', '63% off', '₹499', '₹3,499', '85% off', '₹479', '₹999', '52% off', '₹228', '₹499', '54% off', '₹799', '₹2,495', '67% off', '₹368', '₹659', '44% off', '₹1,717', '₹3,799', '54% off', '₹399', '₹999', '60% off', '₹199', '₹499', '60% off', '₹601', '₹999', '39% off', '₹236', '₹499', '52% off', '₹446', '₹999', '55% off', '₹399', '₹998', '60% off', '₹759', '₹2,495', '69% off', '₹379', '₹999', '62% off', '₹420', '₹999', '57% off', '₹424', '₹999', '57% off', '₹299', '₹998', '70% off', '₹819', '₹999', '18% off', '₹779', '₹949', '17% off', '₹499', '₹999', '50% off', '₹236', '₹499', '52% off', '₹398', '₹1,299', '69% off', '₹369', '63% off', '₹779', '17% off', '₹499', '85% off', '₹699', '82% off', '₹199', '60% off', '₹498', '₹999', '50% off', '₹1,318', '₹4,395', '70% off', '₹474', '₹1,996', '76% off', '₹399', '₹999', '60% off', '₹474', '₹1,996', '76% off', '₹398', '₹998', '60% off', '₹349', '₹999', '65% off', '₹236', '₹499', '52% off', '₹630', '₹1,798', '64% off', '₹242', '₹699', '65% off', '₹379', '₹999', '62% off', '₹348', '₹999', '65% off', '₹699', '₹1,499', '53% off', '₹499', '₹998', '50% off', '₹299', '₹998', '70% off', '₹299', '₹998', '70% off', '₹299', '₹999', '70% off', '₹369', '₹999', '63% off', '₹499', '₹3,499', '85% off', '₹479', '₹999', '52% off', '₹228', '₹499', '54% off', '₹799', '₹2,495', '67% off', '₹368', '₹659', '44% off', '₹1,717', '₹3,799', '54% off', '₹399', '₹999', '60% off', '₹199', '₹499', '60% off', '₹601', '₹999', '39% off', '₹236', '₹499', '52% off', '₹446', '₹999', '55% off', '₹399', '₹998', '60% off', '₹759', '₹2,495', '69% off', '₹379', '₹999', '62% off', '₹420', '₹999', '57% off', '₹424', '₹999', '57% off', '₹299', '₹998', '70% off', '₹819', '₹999', '18% off', '₹779', '₹949', '17% off', '₹499', '₹999', '50% off', '₹236', '₹499', '52% off', '₹398', '₹1,299', '69% off', '₹369', '63% off', '₹779', '17% off', '₹499', '85% off', '₹699', '82% off', '₹199', '60% off']\n"
     ]
    }
   ],
   "source": [
    "for pages in range(0,10):\n",
    "    \n",
    "    tags=driver.find_elements_by_xpath(\"//div[@class='_25b18c']/div\")\n",
    "    \n",
    "    \n",
    "    for i in tags:\n",
    "        Price.append(i.text)\n",
    "        \n",
    "    driver.find_elements_by_xpath(\"//a[@class='ge-49M']\")\n",
    "        \n",
    "    \n",
    "    \n",
    "print(Price)"
   ]
  },
  {
   "cell_type": "code",
   "execution_count": 68,
   "metadata": {},
   "outputs": [],
   "source": [
    "lst=[]\n",
    "lst=Price[1110:1250]"
   ]
  },
  {
   "cell_type": "code",
   "execution_count": 70,
   "metadata": {},
   "outputs": [
    {
     "data": {
      "text/html": [
       "<div>\n",
       "<style scoped>\n",
       "    .dataframe tbody tr th:only-of-type {\n",
       "        vertical-align: middle;\n",
       "    }\n",
       "\n",
       "    .dataframe tbody tr th {\n",
       "        vertical-align: top;\n",
       "    }\n",
       "\n",
       "    .dataframe thead th {\n",
       "        text-align: right;\n",
       "    }\n",
       "</style>\n",
       "<table border=\"1\" class=\"dataframe\">\n",
       "  <thead>\n",
       "    <tr style=\"text-align: right;\">\n",
       "      <th></th>\n",
       "      <th>Brand</th>\n",
       "      <th>Description</th>\n",
       "      <th>Price</th>\n",
       "      <th>Discount</th>\n",
       "    </tr>\n",
       "  </thead>\n",
       "  <tbody>\n",
       "    <tr>\n",
       "      <th>0</th>\n",
       "      <td>Birde</td>\n",
       "      <td>Combo Pack of 2 Casual Shoes Sneakers For Men</td>\n",
       "      <td>₹498</td>\n",
       "      <td>50% off</td>\n",
       "    </tr>\n",
       "    <tr>\n",
       "      <th>1</th>\n",
       "      <td>Red Tape</td>\n",
       "      <td>Combo Pack of 4 Casual Sneakers With Sneakers ...</td>\n",
       "      <td>₹1,318</td>\n",
       "      <td>70% off</td>\n",
       "    </tr>\n",
       "    <tr>\n",
       "      <th>2</th>\n",
       "      <td>Chevit</td>\n",
       "      <td>Combo Pack of 4 Latest Collection Stylish Casu...</td>\n",
       "      <td>₹474</td>\n",
       "      <td>76% off</td>\n",
       "    </tr>\n",
       "    <tr>\n",
       "      <th>3</th>\n",
       "      <td>Robbie jones</td>\n",
       "      <td>Combo pack of 2 casual sneaker shoes for men S...</td>\n",
       "      <td>₹399</td>\n",
       "      <td>60% off</td>\n",
       "    </tr>\n",
       "    <tr>\n",
       "      <th>4</th>\n",
       "      <td>World Wear Footwear</td>\n",
       "      <td>White Sneaker For Men's/Boy's Sneakers For Men</td>\n",
       "      <td>₹474</td>\n",
       "      <td>76% off</td>\n",
       "    </tr>\n",
       "    <tr>\n",
       "      <th>...</th>\n",
       "      <td>...</td>\n",
       "      <td>...</td>\n",
       "      <td>...</td>\n",
       "      <td>...</td>\n",
       "    </tr>\n",
       "    <tr>\n",
       "      <th>95</th>\n",
       "      <td>Axter</td>\n",
       "      <td>SM-322 Sneakers For Men</td>\n",
       "      <td>₹299</td>\n",
       "      <td>70% off</td>\n",
       "    </tr>\n",
       "    <tr>\n",
       "      <th>96</th>\n",
       "      <td>LeatherKraft</td>\n",
       "      <td>SM-162 Sneakers For Men</td>\n",
       "      <td>₹299</td>\n",
       "      <td>70% off</td>\n",
       "    </tr>\n",
       "    <tr>\n",
       "      <th>97</th>\n",
       "      <td>Restinfoot</td>\n",
       "      <td>168 Smart Red Lace-Ups Casuals for Men Sneaker...</td>\n",
       "      <td>₹369</td>\n",
       "      <td>63% off</td>\n",
       "    </tr>\n",
       "    <tr>\n",
       "      <th>98</th>\n",
       "      <td>BRUTON</td>\n",
       "      <td>White Sneaker for Men Sneakers For Men</td>\n",
       "      <td>₹499</td>\n",
       "      <td>85% off</td>\n",
       "    </tr>\n",
       "    <tr>\n",
       "      <th>99</th>\n",
       "      <td>RICHERSON</td>\n",
       "      <td>Combo Pack of 2 Casual Shoes Sneakers For Men</td>\n",
       "      <td>₹479</td>\n",
       "      <td>52% off</td>\n",
       "    </tr>\n",
       "  </tbody>\n",
       "</table>\n",
       "<p>100 rows × 4 columns</p>\n",
       "</div>"
      ],
      "text/plain": [
       "                  Brand                                        Description  \\\n",
       "0                 Birde      Combo Pack of 2 Casual Shoes Sneakers For Men   \n",
       "1              Red Tape  Combo Pack of 4 Casual Sneakers With Sneakers ...   \n",
       "2                Chevit  Combo Pack of 4 Latest Collection Stylish Casu...   \n",
       "3          Robbie jones  Combo pack of 2 casual sneaker shoes for men S...   \n",
       "4   World Wear Footwear     White Sneaker For Men's/Boy's Sneakers For Men   \n",
       "..                  ...                                                ...   \n",
       "95                Axter                            SM-322 Sneakers For Men   \n",
       "96         LeatherKraft                            SM-162 Sneakers For Men   \n",
       "97           Restinfoot  168 Smart Red Lace-Ups Casuals for Men Sneaker...   \n",
       "98               BRUTON             White Sneaker for Men Sneakers For Men   \n",
       "99            RICHERSON      Combo Pack of 2 Casual Shoes Sneakers For Men   \n",
       "\n",
       "     Price Discount  \n",
       "0     ₹498  50% off  \n",
       "1   ₹1,318  70% off  \n",
       "2     ₹474  76% off  \n",
       "3     ₹399  60% off  \n",
       "4     ₹474  76% off  \n",
       "..     ...      ...  \n",
       "95    ₹299  70% off  \n",
       "96    ₹299  70% off  \n",
       "97    ₹369  63% off  \n",
       "98    ₹499  85% off  \n",
       "99    ₹479  52% off  \n",
       "\n",
       "[100 rows x 4 columns]"
      ]
     },
     "execution_count": 70,
     "metadata": {},
     "output_type": "execute_result"
    }
   ],
   "source": [
    "#Creating and printing dataframe\n",
    "import pandas as pd\n",
    "Flipkart_Data=pd.DataFrame({})\n",
    "Flipkart_Data['Brand']=Brand[:100]\n",
    "Flipkart_Data['Description']=Desc[:100]\n",
    "Flipkart_Data['Price']=lst[:100]\n",
    "Flipkart_Data['Discount']=Discount[:100]\n",
    "Flipkart_Data"
   ]
  },
  {
   "cell_type": "markdown",
   "metadata": {},
   "source": [
    "Q10.Go to webpage https://www.amazon.in/\n",
    " Enter “Laptop” in the search field and then click the search icon.\n",
    " Then set CPU Type filter to “Intel Core i7” and “Intel Core i9” as shown in the\n",
    "below image:"
   ]
  },
  {
   "cell_type": "code",
   "execution_count": 3,
   "metadata": {},
   "outputs": [],
   "source": [
    "#Path of web driver\n",
    "driver=webdriver.Chrome('D:\\DataTrained\\chromedriver_win32\\chromedriver.exe')"
   ]
  },
  {
   "cell_type": "code",
   "execution_count": 4,
   "metadata": {},
   "outputs": [],
   "source": [
    "driver.get(' https://www.amazon.in/')"
   ]
  },
  {
   "cell_type": "code",
   "execution_count": 32,
   "metadata": {},
   "outputs": [],
   "source": [
    "Title=[]\n",
    "Ratings=[]\n",
    "Price=[]"
   ]
  },
  {
   "cell_type": "code",
   "execution_count": 33,
   "metadata": {},
   "outputs": [
    {
     "name": "stdout",
     "output_type": "stream",
     "text": [
      "['Mi Notebook Horizon Edition 14 Intel Core i7-10510U 10th Gen Thin and Light Laptop(8GB/512GB SSD/Windows 10/Nvidia MX350 2GB Graphics/Grey/1.35Kg), XMA1904-AF+Webcam', 'Mi Notebook Horizon Edition 14 Intel Core i5-10210U 10th Gen Thin and Light Laptop(8GB/512GB SSD/Windows 10/Nvidia MX350 2GB Graphics/Grey/1.35Kg), XMA1904-AR+Webcam', 'Lenovo Legion 5i 10th Gen Intel Core i7 15.6 inch Full HD IPS Gaming Laptop (16GB/1TB HDD + 256GB SSD/Windows 10/120 Hz/NVIDIA GTX 1650 4GB GDDR6 Graphics/Phantom Black/2.3Kg), 82AU00KKIN', 'HP Pavilion x360 Touchscreen 2-in-1 FHD 14-inch Laptop (10th Gen Core i7-10510U/8GB/512GB SSD/Windows 10 Home/MS Office/Mineral Silver/1.58 kg), 14-dh1180tu', 'Dell Alienware m15(R3) 15.6-inch FHD Gaming Laptop (10th Gen Core i7-10750H/16GB/512GB SSD/Windows 10 Home & MS Office/6GB NVIDIA GTX 1660 Ti Graphics), Lunar Light', 'HP 14 Thin & Light 14-inch FHD Laptop (11th Gen Intel i7-1165G7/8GB/512GB SSD/Windows 10/MS Office 2019/Alexa Built-in/Pale Gold/1.47 kg), 14s-dr2007TU', 'Lenovo IdeaPad Gaming 3i 10th Gen Intel Core i7 15.6-inch FHD IPS Gaming Laptop (8GB/1TB HDD + 256 GB SSD/Windows 10/NVIDIA GTX 1650 4GB GDDR6/with M100 RGB Gaming Mouse/Onyx Black/2.2Kg), 81Y400VAIN', 'ASUS ZenBook 14 (2020) Intel Core i7-1165G7 11th Gen 14-inch FHD Thin and Light Laptop (16GB RAM/512GB NVMe SSD/Windows 10/MS Office 2019/Intel Iris Xᵉ Graphics/Pine Grey/1.17 kg), UX425EA-BM701TS', 'Lenovo Yoga S740 Intel Core i7 10th Gen 14 inch UHD Ultra Thin and Light Laptop (16GB/1TB SSD/Windows/Office/NVIDIA MX250 2GB/Iron Grey/1.4Kg), 81RS00B0IN', 'i7 Laptop FeedMe15.6 Inch 4500U Laptop 16GB RAM 3.0Ghz', 'ASUS ROG Zephyrus M15 (2020), 15.6\" 4K UHD, Intel Core i7-10750H 10th Gen, RTX 2060 GDDR6 6GB Graphics, Gaming Laptop (16GB RAM/1TB NVMe SSD/Windows 10/Prism Black/1.9 Kg), GU502LV-HC140T', '(Renewed) Lenovo ThinkPad X1 Carbon 14-inch Laptop Thin,Powerful and Lightweight Core i7 6th Gen/8GB /256 GB SSD/Windows 10 Pro/MS Office 2019/More than 4 GB Intel HD Graphics,Backlit Keyboard),Black', '(Renewed) Dell Latitude E7240 12.5-inch Laptop (4th Gen Intel Core i5/8GB/512GB SSD/Windows 10/Integrated Graphics), Black', '(Renewed) Lenovo ThinkPad X1 Carbon 14-inch Laptop Thin,Powerful and Lightweight(Core i7 6th Gen/8GB /128GB SSD/Windows 10 Pro/MS Office 2019/More than 4 GB Intel HD Graphics,Backlit Keyboard),Black', '(Renewed) Lenovo ThinkPad X1 Carbon 14-inch Laptop Thin,Powerful and Lightweight(Core i7 6th Gen/8GB /512 GB SSD/Windows 10 Pro/MS Office 2019/More than 4 GB Intel HD Graphics,Backlit Keyboard), Black', 'Microsoft Laptop 2 1769 13.5-inch Laptop (Intel Core i7/8GB/256GB SSD/Windows 10 Home/Integrated Graphics), Platinum', '(Renewed) Dell Latitude E6420 14 Inch Laptop (Core I7 2460M/4GB/320GB/Nvidia Dedicated Graphics/Windows Professional/MS Office), Dark Grey', '(Renewed) Dell Latitude E6420 14 Inch Laptop (Core I7 2460M/8GB/256GB SSD/Nvidia Dedicated Graphics/Windows Professional/MS Office), Dark Grey', '(Renewed) Lenovo ThinkPad Yoga12 12.5-inch Thin & Light Laptop (Core i7 5th Gen/8 GB/512 GB SSD/Windows 10/MS Office Pro 2019/Integrated Graphics/Dragontrail Glass Display), Black', '(Renewed) Dell Latitude E6420 14 Inch Laptop (Core I7 2460M/8GB/320GB/Nvidia Dedicated Graphics/Windows Professional/MS Office), Dark Grey', 'HP Pavilion x360 Core i7 8th Gen 14-inch Touchscreen 2-in-1 FHD Thin and Light Laptop (16GB/512GB SSD/Windows 10/MS Office/2GB Graphics/Mineral Silver/1.59 kg), 14- dh0045TX', 'ASUS VivoBook Ultra 15 (2020) Intel Core i7-1165G7 11th Gen 15.6-inch FHD Thin and Light Laptop (8GB/512GB NVMe SSD/Integrated Graphics/Windows 10/MS Office 2019/Cobalt Blue/1.8 kg), X513EA-EJ731TS', 'MSI GF63 Thin Core i7 9th Gen - (8 GB/512 GB SSD/Windows 10 Home/4 GB Graphics/NVIDIA Geforce GTX 1650 Ti with Max-Q) GF63 Thin 9SCSR-1039IN Gaming Laptop (15.6 inch, Black, 1.86 kg)', '(Renewed) Dell Latitude E6420 14 Inch Laptop (Core I7 2460M/16GB/512GB SSD/Nvidia Dedicated Graphics/Windows Professional/MS Office), Dark Grey', 'Dell G3 3500 Gaming 15.6inch 120hz FHD Display Laptop (10th Gen i7-10750H / 8 GB / 512 SSD / GTX 1650 4GB / 1Yr Premium Warranty/ Win 10 + MS Office H&S 2019) D560250WIN9BE']\n"
     ]
    }
   ],
   "source": [
    "#Extracting Company name\n",
    "title_tag=driver.find_elements_by_xpath(\"//span[@class='a-size-medium a-color-base a-text-normal']\")\n",
    "for i in title_tag:\n",
    "    Title.append(i.text)\n",
    "print(Title)  "
   ]
  },
  {
   "cell_type": "code",
   "execution_count": 45,
   "metadata": {},
   "outputs": [
    {
     "name": "stdout",
     "output_type": "stream",
     "text": [
      "['409', '409', '85', '62', '14', '1', '8', '97', '9', '3', '12', '315', '79', '1', '24', '', '', '', '', '', '', '', '', '', '']\n"
     ]
    }
   ],
   "source": [
    "#Extracting Company name\n",
    "title_tag=driver.find_elements_by_xpath(\"//span[@class='a-size-base']\")\n",
    "for i in title_tag:\n",
    "    Ratings.append(i.text)\n",
    "print(Ratings)  "
   ]
  },
  {
   "cell_type": "code",
   "execution_count": 46,
   "metadata": {},
   "outputs": [
    {
     "name": "stdout",
     "output_type": "stream",
     "text": [
      "['57,999', '50,999', '88,990', '74,990', '1,97,200', '75,482', '76,990', '95,290', '1,09,990', '54,410', '1,49,099', '50,999', '39,889', '49,999', '52,999', '1,05,471', '50,000', '50,000', '48,999', '51,000', '85,990', '72,990', '70,990', '82,490']\n"
     ]
    }
   ],
   "source": [
    "#Extracting Company name\n",
    "title_ag=driver.find_elements_by_xpath(\"//span[@class='a-price-whole']\")\n",
    "for i in title_ag:\n",
    "    Price.append(i.text)\n",
    "print(Price) "
   ]
  },
  {
   "cell_type": "code",
   "execution_count": 48,
   "metadata": {},
   "outputs": [
    {
     "data": {
      "text/html": [
       "<div>\n",
       "<style scoped>\n",
       "    .dataframe tbody tr th:only-of-type {\n",
       "        vertical-align: middle;\n",
       "    }\n",
       "\n",
       "    .dataframe tbody tr th {\n",
       "        vertical-align: top;\n",
       "    }\n",
       "\n",
       "    .dataframe thead th {\n",
       "        text-align: right;\n",
       "    }\n",
       "</style>\n",
       "<table border=\"1\" class=\"dataframe\">\n",
       "  <thead>\n",
       "    <tr style=\"text-align: right;\">\n",
       "      <th></th>\n",
       "      <th>Title</th>\n",
       "      <th>Ratings</th>\n",
       "      <th>Price</th>\n",
       "    </tr>\n",
       "  </thead>\n",
       "  <tbody>\n",
       "    <tr>\n",
       "      <th>0</th>\n",
       "      <td>Mi Notebook Horizon Edition 14 Intel Core i7-1...</td>\n",
       "      <td>409</td>\n",
       "      <td>57,999</td>\n",
       "    </tr>\n",
       "    <tr>\n",
       "      <th>1</th>\n",
       "      <td>Mi Notebook Horizon Edition 14 Intel Core i5-1...</td>\n",
       "      <td>409</td>\n",
       "      <td>50,999</td>\n",
       "    </tr>\n",
       "    <tr>\n",
       "      <th>2</th>\n",
       "      <td>Lenovo Legion 5i 10th Gen Intel Core i7 15.6 i...</td>\n",
       "      <td>85</td>\n",
       "      <td>88,990</td>\n",
       "    </tr>\n",
       "    <tr>\n",
       "      <th>3</th>\n",
       "      <td>HP Pavilion x360 Touchscreen 2-in-1 FHD 14-inc...</td>\n",
       "      <td>62</td>\n",
       "      <td>74,990</td>\n",
       "    </tr>\n",
       "    <tr>\n",
       "      <th>4</th>\n",
       "      <td>Dell Alienware m15(R3) 15.6-inch FHD Gaming La...</td>\n",
       "      <td>14</td>\n",
       "      <td>1,97,200</td>\n",
       "    </tr>\n",
       "    <tr>\n",
       "      <th>5</th>\n",
       "      <td>HP 14 Thin &amp; Light 14-inch FHD Laptop (11th Ge...</td>\n",
       "      <td>1</td>\n",
       "      <td>75,482</td>\n",
       "    </tr>\n",
       "    <tr>\n",
       "      <th>6</th>\n",
       "      <td>Lenovo IdeaPad Gaming 3i 10th Gen Intel Core i...</td>\n",
       "      <td>8</td>\n",
       "      <td>76,990</td>\n",
       "    </tr>\n",
       "    <tr>\n",
       "      <th>7</th>\n",
       "      <td>ASUS ZenBook 14 (2020) Intel Core i7-1165G7 11...</td>\n",
       "      <td>97</td>\n",
       "      <td>95,290</td>\n",
       "    </tr>\n",
       "    <tr>\n",
       "      <th>8</th>\n",
       "      <td>Lenovo Yoga S740 Intel Core i7 10th Gen 14 inc...</td>\n",
       "      <td>9</td>\n",
       "      <td>1,09,990</td>\n",
       "    </tr>\n",
       "    <tr>\n",
       "      <th>9</th>\n",
       "      <td>i7 Laptop FeedMe15.6 Inch 4500U Laptop 16GB RA...</td>\n",
       "      <td>3</td>\n",
       "      <td>54,410</td>\n",
       "    </tr>\n",
       "  </tbody>\n",
       "</table>\n",
       "</div>"
      ],
      "text/plain": [
       "                                               Title Ratings     Price\n",
       "0  Mi Notebook Horizon Edition 14 Intel Core i7-1...     409    57,999\n",
       "1  Mi Notebook Horizon Edition 14 Intel Core i5-1...     409    50,999\n",
       "2  Lenovo Legion 5i 10th Gen Intel Core i7 15.6 i...      85    88,990\n",
       "3  HP Pavilion x360 Touchscreen 2-in-1 FHD 14-inc...      62    74,990\n",
       "4  Dell Alienware m15(R3) 15.6-inch FHD Gaming La...      14  1,97,200\n",
       "5  HP 14 Thin & Light 14-inch FHD Laptop (11th Ge...       1    75,482\n",
       "6  Lenovo IdeaPad Gaming 3i 10th Gen Intel Core i...       8    76,990\n",
       "7  ASUS ZenBook 14 (2020) Intel Core i7-1165G7 11...      97    95,290\n",
       "8  Lenovo Yoga S740 Intel Core i7 10th Gen 14 inc...       9  1,09,990\n",
       "9  i7 Laptop FeedMe15.6 Inch 4500U Laptop 16GB RA...       3    54,410"
      ]
     },
     "execution_count": 48,
     "metadata": {},
     "output_type": "execute_result"
    }
   ],
   "source": [
    "#Creating and printing dataframe\n",
    "import pandas as pd\n",
    "Amazon=pd.DataFrame({})\n",
    "Amazon['Title']=Title[:10]\n",
    "Amazon['Ratings']=Ratings[:10]\n",
    "Amazon['Price']=Price[:10]\n",
    "Amazon"
   ]
  }
 ],
 "metadata": {
  "kernelspec": {
   "display_name": "Python 3",
   "language": "python",
   "name": "python3"
  },
  "language_info": {
   "codemirror_mode": {
    "name": "ipython",
    "version": 3
   },
   "file_extension": ".py",
   "mimetype": "text/x-python",
   "name": "python",
   "nbconvert_exporter": "python",
   "pygments_lexer": "ipython3",
   "version": "3.7.6"
  }
 },
 "nbformat": 4,
 "nbformat_minor": 4
}
